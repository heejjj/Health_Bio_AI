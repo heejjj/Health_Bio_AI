{
  "cells": [
    {
      "cell_type": "markdown",
      "metadata": {
        "id": "view-in-github",
        "colab_type": "text"
      },
      "source": [
        "<a href=\"https://colab.research.google.com/github/heejjj/Health_Bio_AI/blob/bio_colab/tensor_practice_ipynb%EC%9D%98_%EC%82%AC%EB%B3%B8.ipynb\" target=\"_parent\"><img src=\"https://colab.research.google.com/assets/colab-badge.svg\" alt=\"Open In Colab\"/></a>"
      ]
    },
    {
      "cell_type": "markdown",
      "id": "1fa771e3",
      "metadata": {
        "id": "1fa771e3"
      },
      "source": [
        "### Tensor\n",
        "\n",
        "Tensor는 multi-dimensional array를 나타내는 말로, TensorFlow의 기본 data type입니다"
      ]
    },
    {
      "cell_type": "code",
      "execution_count": null,
      "id": "6f6c865c",
      "metadata": {
        "id": "6f6c865c",
        "outputId": "a1fd4f52-49aa-424b-c1fa-03ccd84c8e0f",
        "colab": {
          "base_uri": "https://localhost:8080/"
        }
      },
      "outputs": [
        {
          "output_type": "stream",
          "name": "stdout",
          "text": [
            "tf.Tensor([3. 3.], shape=(2,), dtype=float32)\n"
          ]
        }
      ],
      "source": [
        "import numpy as np\n",
        "import tensorflow as tf\n",
        "# Hello World\n",
        "hello = tf.constant([3,3], dtype=tf.float32)\n",
        "print(hello)"
      ]
    },
    {
      "cell_type": "code",
      "execution_count": null,
      "id": "daa35413",
      "metadata": {
        "id": "daa35413",
        "colab": {
          "base_uri": "https://localhost:8080/"
        },
        "outputId": "c3dfab1d-5a9b-44de-ee94-efdacc26742c"
      },
      "outputs": [
        {
          "output_type": "stream",
          "name": "stdout",
          "text": [
            "tf.Tensor(\n",
            "[[1. 2.]\n",
            " [3. 4.]], shape=(2, 2), dtype=float32)\n",
            "<class 'tensorflow.python.framework.ops.EagerTensor'>\n"
          ]
        }
      ],
      "source": [
        "# 상수형 tensor는 아래와 같이 만들 수 있습니다\n",
        "# 출력해보면 tensor의 값과 함께, shape과 내부의 data type을 함께 볼 수 있습니다\n",
        "x = tf.constant([[1.0, 2.0],\n",
        "                 [3.0, 4.0]])\n",
        "\n",
        "#x= tensor \n",
        "print(x)\n",
        "print(type(x))"
      ]
    },
    {
      "cell_type": "code",
      "execution_count": null,
      "id": "f94c9eb4",
      "metadata": {
        "id": "f94c9eb4",
        "colab": {
          "base_uri": "https://localhost:8080/"
        },
        "outputId": "5642bbd1-d265-482b-85d6-bb04130f21f0"
      },
      "outputs": [
        {
          "output_type": "stream",
          "name": "stdout",
          "text": [
            "<class 'numpy.ndarray'>\n",
            "<class 'list'>\n"
          ]
        }
      ],
      "source": [
        "# 아래와 같이 numpy ndarray나 python의 list도 tensor로 바꿀 수 있습니다\n",
        "x_np = np.array([[1.0, 2.0],\n",
        "                [3.0, 4.0]])\n",
        "x_list = [[1.0, 2.0], \n",
        "         [3.0, 4.0]]\n",
        "\n",
        "print(type(x_np))\n",
        "print(type(x_list))"
      ]
    },
    {
      "cell_type": "code",
      "execution_count": null,
      "id": "6fe6d403",
      "metadata": {
        "id": "6fe6d403",
        "colab": {
          "base_uri": "https://localhost:8080/"
        },
        "outputId": "77d72c43-1e10-4796-a615-5e4125c8e6e5"
      },
      "outputs": [
        {
          "output_type": "stream",
          "name": "stdout",
          "text": [
            "<class 'tensorflow.python.framework.ops.EagerTensor'>\n",
            "<class 'tensorflow.python.framework.ops.EagerTensor'>\n"
          ]
        }
      ],
      "source": [
        "#array와 \n",
        "\n",
        "x_np = tf.convert_to_tensor(x_np)\n",
        "x_list = tf.convert_to_tensor(x_list)\n",
        "\n",
        "print(type(x_np))\n",
        "print(type(x_list))"
      ]
    },
    {
      "cell_type": "code",
      "execution_count": null,
      "id": "d26b651c",
      "metadata": {
        "id": "d26b651c",
        "colab": {
          "base_uri": "https://localhost:8080/"
        },
        "outputId": "3932200f-443f-4f57-d1e5-311332d2e87e"
      },
      "outputs": [
        {
          "output_type": "execute_result",
          "data": {
            "text/plain": [
              "array([[1., 2.],\n",
              "       [3., 4.]], dtype=float32)"
            ]
          },
          "metadata": {},
          "execution_count": 5
        }
      ],
      "source": [
        "# 반대로 tensor를 다음과 같이 numpy ndarray로 바꿀 수도 있습니다\n",
        "x.numpy()"
      ]
    },
    {
      "cell_type": "code",
      "execution_count": null,
      "id": "cdb860eb",
      "metadata": {
        "id": "cdb860eb",
        "colab": {
          "base_uri": "https://localhost:8080/"
        },
        "outputId": "e01e8bcb-3ffa-494c-f6fa-1cc93f313b16"
      },
      "outputs": [
        {
          "output_type": "stream",
          "name": "stdout",
          "text": [
            "<class 'numpy.ndarray'>\n"
          ]
        }
      ],
      "source": [
        "print(type(x.numpy()))"
      ]
    },
    {
      "cell_type": "code",
      "execution_count": null,
      "id": "6078816e",
      "metadata": {
        "id": "6078816e",
        "colab": {
          "base_uri": "https://localhost:8080/"
        },
        "outputId": "06f67ef8-5d7d-48ac-ce89-ef62de1d4b33"
      },
      "outputs": [
        {
          "output_type": "stream",
          "name": "stdout",
          "text": [
            "tf.Tensor(\n",
            "[[1. 1. 1.]\n",
            " [1. 1. 1.]], shape=(2, 3), dtype=float32)\n",
            "tf.Tensor(\n",
            "[[0. 0. 0.]\n",
            " [0. 0. 0.]], shape=(2, 3), dtype=float32)\n",
            "tf.Tensor(\n",
            "[[2 2]\n",
            " [2 2]], shape=(2, 2), dtype=int32)\n"
          ]
        }
      ],
      "source": [
        "a = tf.ones((2,3)) #2x3 matrix \n",
        "b = tf.zeros((2,3))\n",
        "c = tf.fill((2,2), 2)\n",
        "print(a)\n",
        "print(b)\n",
        "print(c)"
      ]
    },
    {
      "cell_type": "code",
      "execution_count": null,
      "id": "3d21735e",
      "metadata": {
        "id": "3d21735e",
        "colab": {
          "base_uri": "https://localhost:8080/"
        },
        "outputId": "d486b58d-c34f-41c4-c4fd-cf697ab71848"
      },
      "outputs": [
        {
          "output_type": "stream",
          "name": "stdout",
          "text": [
            "tf.Tensor(\n",
            "[[0 0]\n",
            " [0 0]], shape=(2, 2), dtype=int32)\n",
            "tf.Tensor(\n",
            "[[1 1]\n",
            " [1 1]], shape=(2, 2), dtype=int32)\n"
          ]
        }
      ],
      "source": [
        "d = tf.zeros_like(c)\n",
        "e = tf.ones_like(c)\n",
        "print(d)\n",
        "print(e)"
      ]
    },
    {
      "cell_type": "code",
      "execution_count": null,
      "id": "594f6f1a",
      "metadata": {
        "id": "594f6f1a",
        "colab": {
          "base_uri": "https://localhost:8080/"
        },
        "outputId": "76518e9b-059e-4db2-b738-294e95856e55"
      },
      "outputs": [
        {
          "output_type": "stream",
          "name": "stdout",
          "text": [
            "tf.Tensor(\n",
            "[[1. 0. 0.]\n",
            " [0. 1. 0.]\n",
            " [0. 0. 1.]], shape=(3, 3), dtype=float32)\n"
          ]
        }
      ],
      "source": [
        "f = tf.eye(3)\n",
        "print(f)\n",
        "\n",
        "\n",
        "#eye = Imaxtircs"
      ]
    },
    {
      "cell_type": "code",
      "execution_count": null,
      "id": "dea8cb8e",
      "metadata": {
        "id": "dea8cb8e",
        "colab": {
          "base_uri": "https://localhost:8080/"
        },
        "outputId": "f13085c0-33b4-4ea4-9935-5e945ce3e975"
      },
      "outputs": [
        {
          "output_type": "stream",
          "name": "stdout",
          "text": [
            "tf.Tensor([0 1 2 3 4 5 6 7 8 9], shape=(10,), dtype=int32)\n"
          ]
        }
      ],
      "source": [
        "g  = tf.range(10)\n",
        "print(g)\n",
        "\n",
        "#range(n) : 0~ n-1 \n",
        "#range(a,b) : a~ b-1\n"
      ]
    },
    {
      "cell_type": "code",
      "execution_count": null,
      "id": "9e645396",
      "metadata": {
        "id": "9e645396",
        "colab": {
          "base_uri": "https://localhost:8080/"
        },
        "outputId": "b45f94a7-e969-49ec-a972-5e709d442250"
      },
      "outputs": [
        {
          "output_type": "stream",
          "name": "stdout",
          "text": [
            "tf.Tensor(\n",
            "[[0.95396125 0.04452229]\n",
            " [0.13352883 0.65095925]], shape=(2, 2), dtype=float32)\n",
            "tf.Tensor(\n",
            "[[-0.84587514  0.09610429]\n",
            " [-1.4401312  -0.1287323 ]], shape=(2, 2), dtype=float32)\n"
          ]
        }
      ],
      "source": [
        "h = tf.random.uniform((2,2)) # np.rand\n",
        "i = tf.random.normal((2,2))  # np.randn\n",
        "print(h)\n",
        "print(i)\n",
        "\n",
        "#random -> 임의의 난수\n",
        "#1. uniform 0~1사이의 수\n",
        "#2. normal (표준정규분포; 중간값: 평균0, deviation ): -무한대~ +무한대까지 가능하나 \n",
        "#대부분 0에 가까운 값의 확률이 높음 "
      ]
    },
    {
      "cell_type": "markdown",
      "id": "d2d4f6ef",
      "metadata": {
        "id": "d2d4f6ef"
      },
      "source": [
        "#### Tensor의 속성"
      ]
    },
    {
      "cell_type": "code",
      "execution_count": null,
      "id": "2330f97f",
      "metadata": {
        "id": "2330f97f",
        "colab": {
          "base_uri": "https://localhost:8080/"
        },
        "outputId": "05680deb-6391-4104-a669-05a6a74e48ab"
      },
      "outputs": [
        {
          "output_type": "stream",
          "name": "stdout",
          "text": [
            "Shape of tensor: (3, 4)\n",
            "Datatype of tensor: <dtype: 'float32'>\n"
          ]
        }
      ],
      "source": [
        "tensor = tf.random.normal((3,4))\n",
        "\n",
        "print(f\"Shape of tensor: {tensor.shape}\")\n",
        "print(f\"Datatype of tensor: {tensor.dtype}\")"
      ]
    },
    {
      "cell_type": "code",
      "execution_count": null,
      "id": "23ed6419",
      "metadata": {
        "id": "23ed6419"
      },
      "outputs": [],
      "source": [
        "# 속성 변경\n",
        "tensor = tf.reshape(tensor, (4, 3))\n",
        "tensor = tf.cast(tensor, tf.int32)\n",
        "#cast 데이터 타입이 바뀜\n",
        "\n",
        "print(f\"Shape of tensor: {tensor.shape}\")\n",
        "print(f\"Datatype of tensor: {tensor.dtype}\")"
      ]
    },
    {
      "cell_type": "markdown",
      "id": "41406299",
      "metadata": {
        "id": "41406299"
      },
      "source": [
        "### Variable\n",
        "\n",
        "Variable은 변할 수 있는 상태를 저장하는데 사용되는 특별한 텐서입니다.\n",
        "딥러닝에서는 학습해야하는 가중치(weight, bias)들을 variable로 생성합니다."
      ]
    },
    {
      "cell_type": "code",
      "execution_count": null,
      "id": "d703abab",
      "metadata": {
        "id": "d703abab"
      },
      "outputs": [],
      "source": [
        "# tensor의 값 변경 - 변경 불가능\n",
        "tensor = tf.ones((3,4))\n",
        "print(tensor)\n",
        "\n",
        "tensor[0,0] = 2."
      ]
    },
    {
      "cell_type": "code",
      "execution_count": null,
      "id": "3736a709",
      "metadata": {
        "id": "3736a709"
      },
      "outputs": [],
      "source": [
        "# variable 만들기, 값 변경\n",
        "variable = tf.Variable(tensor)\n",
        "print(variable)\n",
        "\n",
        "variable[0,0].assign(2)\n",
        "print(variable)"
      ]
    },
    {
      "cell_type": "code",
      "execution_count": null,
      "id": "f2707d5f",
      "metadata": {
        "id": "f2707d5f",
        "colab": {
          "base_uri": "https://localhost:8080/"
        },
        "outputId": "91c316f8-a3d1-423e-c213-aed1f0f7f117"
      },
      "outputs": [
        {
          "output_type": "stream",
          "name": "stdout",
          "text": [
            "<tf.Variable 'Variable:0' shape=(2, 2) dtype=float32, numpy=\n",
            "array([[-0.9821699 ,  0.13059866],\n",
            "       [ 1.0764698 ,  0.6528772 ]], dtype=float32)>\n"
          ]
        }
      ],
      "source": [
        "#딥러닝 초기값에서 -> 값을 업데이트 하며 진행됨\n",
        "# 초기값을 사용해서 Variable을 생성할 수 있습니다\n",
        "initial_value = tf.random.normal(shape=(2, 2))\n",
        "#초기값이 0부터 시작하면, local minimum에 빠질 수 있어서, random한 weight값으로 시작\n",
        "#초기 값이 달라서, 돌리는 사람마다 결과가 다름\n",
        "#5-10번 해서 평균을 내는게 일반적\n",
        "weight = tf.Variable(initial_value)\n",
        "print(weight)\n",
        "\n",
        "\n",
        "#딥러닝의 성능평가 -> 증명하기 어려움"
      ]
    },
    {
      "cell_type": "code",
      "execution_count": null,
      "id": "21976c92",
      "metadata": {
        "id": "21976c92",
        "colab": {
          "base_uri": "https://localhost:8080/"
        },
        "outputId": "734b2f01-1af9-4c1f-f19e-0c3872f8a057"
      },
      "outputs": [
        {
          "output_type": "stream",
          "name": "stdout",
          "text": [
            "<tf.Variable 'Variable:0' shape=(2, 2) dtype=float32, numpy=\n",
            "array([[-0.11523245, -3.0945446 ],\n",
            "       [ 0.66705936, -0.7939015 ]], dtype=float32)>\n"
          ]
        }
      ],
      "source": [
        "# 아래와 같이 variable을 초기화해주는 initializer들을 사용할 수도 있습니다\n",
        "#standard deviation값을 조절하여, 정규분포의 편차를 조절할 수 있음 \n",
        "weight = tf.Variable(tf.random_normal_initializer(stddev=1.)(shape=(2,2)))\n",
        "print(weight)"
      ]
    },
    {
      "cell_type": "code",
      "execution_count": null,
      "id": "4fddd4bf",
      "metadata": {
        "id": "4fddd4bf",
        "colab": {
          "base_uri": "https://localhost:8080/"
        },
        "outputId": "2e50d29c-67e2-4a67-962f-139050045c28"
      },
      "outputs": [
        {
          "output_type": "stream",
          "name": "stdout",
          "text": [
            "tf.Tensor(\n",
            "[[-0.05195293  2.8822281 ]\n",
            " [-1.0142945   3.3181446 ]], shape=(2, 2), dtype=float32)\n",
            "<tf.Variable 'Variable:0' shape=(2, 2) dtype=float32, numpy=\n",
            "array([[-0.05195293,  2.8822281 ],\n",
            "       [-1.0142945 ,  3.3181446 ]], dtype=float32)>\n"
          ]
        }
      ],
      "source": [
        "# variable은 `.assign(value)`, `.assign_add(increment)`, 또는 `.assign_sub(decrement)`\n",
        "# 와 같은 메소드를 사용해서 Variable의 값을 갱신합니다:'''\n",
        "\n",
        "\n",
        "#wight가 tensor였을때, assign을 통해서, weight를 바꿀 수 있다.\n",
        "new_value = tf.random.normal(shape=(2,2))\n",
        "print(new_value)\n",
        "weight.assign(new_value)\n",
        "print(weight)"
      ]
    },
    {
      "cell_type": "code",
      "execution_count": null,
      "id": "b33602e0",
      "metadata": {
        "id": "b33602e0",
        "colab": {
          "base_uri": "https://localhost:8080/"
        },
        "outputId": "6b7e7f14-1a89-447b-9f66-8ffdac626ca1"
      },
      "outputs": [
        {
          "output_type": "stream",
          "name": "stdout",
          "text": [
            "<tf.Variable 'Variable:0' shape=(2, 2) dtype=float32, numpy=\n",
            "array([[-1.051953 ,  1.8822281],\n",
            "       [-2.0142946,  2.3181446]], dtype=float32)>\n"
          ]
        }
      ],
      "source": [
        "#tf값은 broad casting이 안됨.\n",
        "#1로 채워진 matrix를 만들고 나서 통채로 빼면됨\n",
        "#또는 tf.ones_like(weight)를 쓰면 됨\n",
        "#sub -> subtraction(뺄셈)\n",
        "added_value = tf.ones(shape=(2,2))\n",
        "weight.assign_sub(added_value) #빼기 \n",
        "#weight.assign_ad(added_value) 더하기\n",
        "\n",
        "\n",
        "print(weight)"
      ]
    },
    {
      "cell_type": "code",
      "execution_count": null,
      "id": "1a58b363",
      "metadata": {
        "id": "1a58b363"
      },
      "outputs": [],
      "source": [
        "### Tensor\n",
        "\n",
        "#Tensor는 multi-dimensional array를 나타내는 말로, TensorFlow의 기본 data type입니다\n",
        "\n",
        "# Hello World\n",
        "hello = tf.constant([3,3], dtype=tf.float32)\n",
        "print(hello)\n",
        "\n",
        "# 상수형 tensor는 아래와 같이 만들 수 있습니다\n",
        "# 출력해보면 tensor의 값과 함께, shape과 내부의 data type을 함께 볼 수 있습니다\n",
        "x = tf.constant([[1.0, 2.0],\n",
        "                 [3.0, 4.0]])\n",
        "print(x)\n",
        "print(type(x))\n",
        "\n",
        "# 아래와 같이 numpy ndarray나 python의 list도 tensor로 바꿀 수 있습니다\n",
        "x_np = np.array([[1.0, 2.0],\n",
        "                [3.0, 4.0]])\n",
        "x_list = [[1.0, 2.0], \n",
        "         [3.0, 4.0]]\n",
        "\n",
        "print(type(x_np))\n",
        "print(type(x_list))\n",
        "\n",
        "x_np = tf.convert_to_tensor(x_np)\n",
        "x_list = tf.convert_to_tensor(x_list)\n",
        "\n",
        "print(type(x_np))\n",
        "print(type(x_list))\n",
        "\n",
        "# 반대로 tensor를 다음과 같이 numpy ndarray로 바꿀 수도 있습니다\n",
        "x.numpy()\n",
        "\n",
        "print(type(x.numpy()))\n",
        "\n",
        "a = tf.ones((2,3))\n",
        "b = tf.zeros((2,3))\n",
        "c = tf.fill((2,2), 2)\n",
        "print(a)\n",
        "print(b)\n",
        "print(c)\n",
        "\n",
        "d = tf.zeros_like(c)\n",
        "e = tf.ones_like(c)\n",
        "print(d)\n",
        "print(e)\n",
        "\n",
        "f = tf.eye(3)\n",
        "print(f)\n",
        "\n",
        "g  = tf.range(10)\n",
        "print(g)\n",
        "\n",
        "h = tf.random.uniform((2,2)) # np.rand\n",
        "i = tf.random.normal((2,2))  # np.randn\n",
        "print(h)\n",
        "print(i)\n",
        "\n",
        "#### Tensor의 속성\n",
        "\n",
        "tensor = tf.random.normal((3,4))\n",
        "\n",
        "print(f\"Shape of tensor: {tensor.shape}\")\n",
        "print(f\"Datatype of tensor: {tensor.dtype}\")\n",
        "\n",
        "# 속성 변경\n",
        "tensor = tf.reshape(tensor, (4, 3))\n",
        "tensor = tf.cast(tensor, tf.int32)\n",
        "\n",
        "print(f\"Shape of tensor: {tensor.shape}\")\n",
        "print(f\"Datatype of tensor: {tensor.dtype}\")\n",
        "\n",
        "### Variable\n",
        "\n",
        "\"\"\"Variable은 변할 수 있는 상태를 저장하는데 사용되는 특별한 텐서입니다.\n",
        "딥러닝에서는 학습해야하는 가중치(weight, bias)들을 variable로 생성합니다.\"\"\"\n",
        "\n",
        "# tensor의 값 변경 - 변경 불가능\n",
        "tensor = tf.ones((3,4))\n",
        "print(tensor)\n",
        "\n",
        "tensor[0,0] = 2.\n",
        "\n",
        "# variable 만들기, 값 변경\n",
        "variable = tf.Variable(tensor)\n",
        "print(variable)\n",
        "\n",
        "variable[0,0].assign(2)\n",
        "print(variable)\n",
        "\n",
        "# 초기값을 사용해서 Variable을 생성할 수 있습니다\n",
        "initial_value = tf.random.normal(shape=(2, 2))\n",
        "weight = tf.Variable(initial_value)\n",
        "print(weight)\n",
        "\n",
        "# 아래와 같이 variable을 초기화해주는 initializer들을 사용할 수도 있습니다\n",
        "weight = tf.Variable(tf.random_normal_initializer(stddev=1.)(shape=(2,2)))\n",
        "print(weight)\n",
        "\n",
        "# variable은 `.assign(value)`, `.assign_add(increment)`, 또는 `.assign_sub(decrement)`\n",
        "# 와 같은 메소드를 사용해서 Variable의 값을 갱신합니다:'''\n",
        "\n",
        "new_value = tf.random.normal(shape=(2,2))\n",
        "print(new_value)\n",
        "weight.assign(new_value)\n",
        "print(weight)\n",
        "\n",
        "added_value = tf.ones(shape=(2,2))\n",
        "weight.assign_sub(added_value)\n",
        "print(weight)"
      ]
    },
    {
      "cell_type": "markdown",
      "id": "0c2633fc",
      "metadata": {
        "id": "0c2633fc"
      },
      "source": [
        "### Indexing과 Slicing"
      ]
    },
    {
      "cell_type": "code",
      "execution_count": null,
      "id": "e74be2e6",
      "metadata": {
        "id": "e74be2e6",
        "colab": {
          "base_uri": "https://localhost:8080/"
        },
        "outputId": "a673b67e-2e2c-4c77-c982-b0f614ac849c"
      },
      "outputs": [
        {
          "output_type": "stream",
          "name": "stdout",
          "text": [
            "tf.Tensor(\n",
            "[[ 1  2  3  4]\n",
            " [ 5  6  7  8]\n",
            " [ 9 10 11 12]], shape=(3, 4), dtype=int32)\n"
          ]
        }
      ],
      "source": [
        "a = tf.range(1, 13)\n",
        "a = tf.reshape(a, (3, 4))\n",
        "print(a)\n",
        "\n",
        "#ragne1~12까지 vector를 "
      ]
    },
    {
      "cell_type": "code",
      "execution_count": null,
      "id": "55d8968b",
      "metadata": {
        "id": "55d8968b",
        "colab": {
          "base_uri": "https://localhost:8080/"
        },
        "outputId": "7506c429-3ac1-4def-a284-8a231ce21869"
      },
      "outputs": [
        {
          "output_type": "stream",
          "name": "stdout",
          "text": [
            "tf.Tensor([5 6 7 8], shape=(4,), dtype=int32)\n",
            "tf.Tensor(4, shape=(), dtype=int32)\n"
          ]
        }
      ],
      "source": [
        "# indexing\n",
        "print(a[1])\n",
        "print(a[0,-1])"
      ]
    },
    {
      "cell_type": "code",
      "execution_count": null,
      "id": "e4f50f81",
      "metadata": {
        "id": "e4f50f81"
      },
      "outputs": [],
      "source": [
        "# slicing\n",
        "print(a[1:-1])\n",
        "print(a[:2, 2:])"
      ]
    },
    {
      "cell_type": "markdown",
      "id": "c311bbc8",
      "metadata": {
        "id": "c311bbc8"
      },
      "source": [
        "### Transpose"
      ]
    },
    {
      "cell_type": "code",
      "execution_count": null,
      "id": "98918e2a",
      "metadata": {
        "id": "98918e2a"
      },
      "outputs": [],
      "source": [
        "a = tf.range(16)\n",
        "a = tf.reshape(a, (2, 2, -1))\n",
        "print(a)"
      ]
    },
    {
      "cell_type": "code",
      "execution_count": null,
      "id": "4228b78d",
      "metadata": {
        "id": "4228b78d"
      },
      "outputs": [],
      "source": [
        "b = tf.transpose(a, (2, 0, 1))\n",
        "print(b)"
      ]
    },
    {
      "cell_type": "markdown",
      "id": "3104fe17",
      "metadata": {
        "id": "3104fe17"
      },
      "source": [
        "### Tensor 연산"
      ]
    },
    {
      "cell_type": "code",
      "execution_count": null,
      "id": "396205c4",
      "metadata": {
        "id": "396205c4"
      },
      "outputs": [],
      "source": [
        "x = tf.constant([[1,2], [3,4]], dtype=tf.float32)\n",
        "y = tf.constant([[5,6], [7,8]], dtype=tf.float32)\n",
        "print(x)\n",
        "print(y)"
      ]
    },
    {
      "cell_type": "code",
      "execution_count": null,
      "id": "7e923333",
      "metadata": {
        "id": "7e923333"
      },
      "outputs": [],
      "source": [
        "print(x + y)\n",
        "print(x - y)\n",
        "print(x * y)\n",
        "print(x / y)\n",
        "print(x @ y)\n",
        "print('='*30)\n",
        "print(tf.add(x, y))\n",
        "print(tf.subtract(x, y))\n",
        "print(tf.multiply(x, y))\n",
        "print(tf.divide(x, y))\n",
        "print(tf.matmul(x, y))"
      ]
    },
    {
      "cell_type": "code",
      "execution_count": null,
      "id": "6f369f2c",
      "metadata": {
        "id": "6f369f2c"
      },
      "outputs": [],
      "source": [
        "z = tf.range(1, 11)\n",
        "z = tf.reshape(z, (2, 5))\n",
        "print(z)"
      ]
    },
    {
      "cell_type": "code",
      "execution_count": null,
      "id": "e6d75424",
      "metadata": {
        "id": "e6d75424"
      },
      "outputs": [],
      "source": [
        "print(tf.reduce_sum(z))"
      ]
    },
    {
      "cell_type": "code",
      "execution_count": null,
      "id": "4ef4ef41",
      "metadata": {
        "id": "4ef4ef41"
      },
      "outputs": [],
      "source": [
        "sum1 = tf.reduce_sum(z, axis=0)\n",
        "sum2 = tf.reduce_sum(z, axis=1)\n",
        "sum3 = tf.reduce_sum(z, axis=-1)\n",
        "print(sum1)\n",
        "print(sum2)\n",
        "print(sum3)"
      ]
    },
    {
      "cell_type": "code",
      "execution_count": null,
      "id": "8d9219f9",
      "metadata": {
        "id": "8d9219f9"
      },
      "outputs": [],
      "source": [
        "concat = tf.concat([z, z], axis=0)\n",
        "print(concat)"
      ]
    },
    {
      "cell_type": "code",
      "execution_count": null,
      "id": "843b60e1",
      "metadata": {
        "id": "843b60e1"
      },
      "outputs": [],
      "source": [
        "concat = tf.concat([z, z], axis=-1)\n",
        "print(concat)"
      ]
    },
    {
      "cell_type": "code",
      "execution_count": null,
      "id": "a13ffd53",
      "metadata": {
        "id": "a13ffd53"
      },
      "outputs": [],
      "source": [
        "stack = tf.stack([z, z], axis=0)\n",
        "print(stack)"
      ]
    },
    {
      "cell_type": "code",
      "execution_count": null,
      "id": "4ab40096",
      "metadata": {
        "id": "4ab40096"
      },
      "outputs": [],
      "source": [
        "stack = tf.stack([z, z], axis=-1)\n",
        "print(stack)"
      ]
    },
    {
      "cell_type": "code",
      "execution_count": null,
      "id": "7a190745",
      "metadata": {
        "id": "7a190745"
      },
      "outputs": [],
      "source": [
        "stack = tf.stack([z, z], axis=1)\n",
        "print(stack)"
      ]
    },
    {
      "cell_type": "code",
      "execution_count": null,
      "id": "4060d695",
      "metadata": {
        "id": "4060d695"
      },
      "outputs": [],
      "source": []
    }
  ],
  "metadata": {
    "kernelspec": {
      "display_name": "Python 3 (ipykernel)",
      "language": "python",
      "name": "python3"
    },
    "language_info": {
      "codemirror_mode": {
        "name": "ipython",
        "version": 3
      },
      "file_extension": ".py",
      "mimetype": "text/x-python",
      "name": "python",
      "nbconvert_exporter": "python",
      "pygments_lexer": "ipython3",
      "version": "3.10.9"
    },
    "colab": {
      "provenance": [],
      "include_colab_link": true
    }
  },
  "nbformat": 4,
  "nbformat_minor": 5
}