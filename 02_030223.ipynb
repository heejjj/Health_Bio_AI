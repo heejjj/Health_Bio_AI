{
  "nbformat": 4,
  "nbformat_minor": 0,
  "metadata": {
    "colab": {
      "provenance": [],
      "name": "01_030223.ipynb",
      "authorship_tag": "ABX9TyPrzuLvt/EV341NBn7Uy9hy",
      "include_colab_link": true
    },
    "kernelspec": {
      "name": "python3",
      "display_name": "Python 3"
    },
    "language_info": {
      "name": "python"
    }
  },
  "cells": [
    {
      "cell_type": "markdown",
      "metadata": {
        "id": "view-in-github",
        "colab_type": "text"
      },
      "source": [
        "<a href=\"https://colab.research.google.com/github/heejjj/Health_Bio_AI/blob/main/02_030223.ipynb\" target=\"_parent\"><img src=\"https://colab.research.google.com/assets/colab-badge.svg\" alt=\"Open In Colab\"/></a>"
      ]
    },
    {
      "cell_type": "code",
      "source": [
        "! https://github.com/heejjj/Health_Bio_AI.git"
      ],
      "metadata": {
        "colab": {
          "base_uri": "https://localhost:8080/"
        },
        "id": "dNBjzf4xc0k5",
        "outputId": "8abd72fd-7657-48fb-a1ce-5bfb41f34354"
      },
      "execution_count": 1,
      "outputs": [
        {
          "output_type": "stream",
          "name": "stdout",
          "text": [
            "/bin/bash: https://github.com/heejjj/Health_Bio_AI.git: No such file or directory\n"
          ]
        }
      ]
    },
    {
      "cell_type": "code",
      "execution_count": null,
      "metadata": {
        "colab": {
          "base_uri": "https://localhost:8080/"
        },
        "id": "Wu4Z0spPql1l",
        "outputId": "d09e61b5-f5c5-4b62-f41c-c1e23005c962"
      },
      "outputs": [
        {
          "output_type": "execute_result",
          "data": {
            "text/plain": [
              "100"
            ]
          },
          "metadata": {},
          "execution_count": 4
        }
      ],
      "source": [
        "#10의 제곱 두가지 방법\n",
        "10*10"
      ]
    },
    {
      "cell_type": "code",
      "source": [
        " 10**2\n",
        " #math.pow(10, 2)"
      ],
      "metadata": {
        "colab": {
          "base_uri": "https://localhost:8080/"
        },
        "id": "xt2avNLbqva0",
        "outputId": "2a0da3da-e0bc-4a5f-f010-085490aa70ce"
      },
      "execution_count": null,
      "outputs": [
        {
          "output_type": "execute_result",
          "data": {
            "text/plain": [
              "100"
            ]
          },
          "metadata": {},
          "execution_count": 6
        }
      ]
    },
    {
      "cell_type": "code",
      "source": [
        "! pip install python-math"
      ],
      "metadata": {
        "colab": {
          "base_uri": "https://localhost:8080/"
        },
        "id": "1IptRIwRq87t",
        "outputId": "12f64bf0-3793-4041-9d89-db19ef0fb4d0"
      },
      "execution_count": null,
      "outputs": [
        {
          "output_type": "stream",
          "name": "stdout",
          "text": [
            "Looking in indexes: https://pypi.org/simple, https://us-python.pkg.dev/colab-wheels/public/simple/\n",
            "Collecting python-math\n",
            "  Downloading python_math-0.0.1-py3-none-any.whl (2.4 kB)\n",
            "Installing collected packages: python-math\n",
            "Successfully installed python-math-0.0.1\n"
          ]
        }
      ]
    },
    {
      "cell_type": "code",
      "source": [
        "import math\n",
        "math.pow(10, 2)\n",
        "\n",
        "#math는 무조건 float형식 \n",
        "#https://manniz.tistory.com/entry/Python%ED%8C%8C%EC%9D%B4%EC%8D%AC-%EC%A0%9C%EA%B3%B1-n%EC%A0%9C%EA%B3%B1n%EC%8A%B9-%EA%B5%AC%ED%95%98%EA%B8%B0-%EC%82%AC%EC%9A%A9%EC%9E%90%EC%97%90%EA%B2%8C-%EC%9E%85%EB%A0%A5%EB%B0%9B%EC%95%84-%EC%A0%9C%EA%B3%B1-%EC%B6%9C%EB%A0%A5%ED%95%98%EB%8A%94-%EC%86%8C%EC%8A%A4-%EC%BD%94%EB%93%9C%EC%99%80-%EC%84%A4%EB%AA%85"
      ],
      "metadata": {
        "colab": {
          "base_uri": "https://localhost:8080/"
        },
        "id": "V0pPO8YirQ3L",
        "outputId": "38ed402a-edff-486d-aff2-a85a528208b8"
      },
      "execution_count": null,
      "outputs": [
        {
          "output_type": "execute_result",
          "data": {
            "text/plain": [
              "100.0"
            ]
          },
          "metadata": {},
          "execution_count": 9
        }
      ]
    },
    {
      "cell_type": "code",
      "source": [
        "#국어 100점, 영어 88점, 수학 94점, 평균구하기 \n",
        "import numpy as np\n",
        "\n",
        "a = [100,88,94]\n",
        "\n",
        "avg = numpy.mean(a)\n"
      ],
      "metadata": {
        "colab": {
          "base_uri": "https://localhost:8080/",
          "height": 209
        },
        "id": "I6RPGp-fzI5g",
        "outputId": "c06cbddb-098c-4c6e-e17e-07700ee88ffd"
      },
      "execution_count": null,
      "outputs": [
        {
          "output_type": "error",
          "ename": "NameError",
          "evalue": "ignored",
          "traceback": [
            "\u001b[0;31m---------------------------------------------------------------------------\u001b[0m",
            "\u001b[0;31mNameError\u001b[0m                                 Traceback (most recent call last)",
            "\u001b[0;32m<ipython-input-26-3a81b4f78e25>\u001b[0m in \u001b[0;36m<module>\u001b[0;34m\u001b[0m\n\u001b[1;32m      4\u001b[0m \u001b[0ma\u001b[0m \u001b[0;34m=\u001b[0m \u001b[0;34m[\u001b[0m\u001b[0;36m100\u001b[0m\u001b[0;34m,\u001b[0m\u001b[0;36m88\u001b[0m\u001b[0;34m,\u001b[0m\u001b[0;36m94\u001b[0m\u001b[0;34m]\u001b[0m\u001b[0;34m\u001b[0m\u001b[0;34m\u001b[0m\u001b[0m\n\u001b[1;32m      5\u001b[0m \u001b[0;34m\u001b[0m\u001b[0m\n\u001b[0;32m----> 6\u001b[0;31m \u001b[0mavg\u001b[0m \u001b[0;34m=\u001b[0m \u001b[0mnumpy\u001b[0m\u001b[0;34m.\u001b[0m\u001b[0mmean\u001b[0m\u001b[0;34m(\u001b[0m\u001b[0ma\u001b[0m\u001b[0;34m)\u001b[0m\u001b[0;34m\u001b[0m\u001b[0;34m\u001b[0m\u001b[0m\n\u001b[0m",
            "\u001b[0;31mNameError\u001b[0m: name 'numpy' is not defined"
          ]
        }
      ]
    },
    {
      "cell_type": "code",
      "source": [
        "a =1\n",
        "b =1\n",
        "type(a)"
      ],
      "metadata": {
        "colab": {
          "base_uri": "https://localhost:8080/"
        },
        "id": "dEB0Vyb-ztwf",
        "outputId": "9b95f6fc-0127-4611-a7e4-8ccf6e51bc63"
      },
      "execution_count": null,
      "outputs": [
        {
          "output_type": "execute_result",
          "data": {
            "text/plain": [
              "int"
            ]
          },
          "metadata": {},
          "execution_count": 13
        }
      ]
    },
    {
      "cell_type": "code",
      "source": [
        "c = 3.5\n",
        "e = int(c)\n",
        "print(c)\n",
        "print(e)"
      ],
      "metadata": {
        "colab": {
          "base_uri": "https://localhost:8080/"
        },
        "id": "uuAPiPt80EvL",
        "outputId": "b211f221-7d6c-4850-ad53-218e31accb83"
      },
      "execution_count": null,
      "outputs": [
        {
          "output_type": "stream",
          "name": "stdout",
          "text": [
            "3.5\n",
            "3\n"
          ]
        }
      ]
    },
    {
      "cell_type": "code",
      "source": [
        "c = 3.9\n",
        "e = int(c)\n",
        "print(e)\n",
        "type(e)"
      ],
      "metadata": {
        "colab": {
          "base_uri": "https://localhost:8080/"
        },
        "id": "T55E5Gth0OPs",
        "outputId": "81c1e5be-4c8f-4833-85cd-aa3713d4ca41"
      },
      "execution_count": null,
      "outputs": [
        {
          "output_type": "stream",
          "name": "stdout",
          "text": [
            "3\n"
          ]
        },
        {
          "output_type": "execute_result",
          "data": {
            "text/plain": [
              "int"
            ]
          },
          "metadata": {},
          "execution_count": 19
        }
      ]
    },
    {
      "cell_type": "code",
      "source": [
        "a = 10\n",
        "type(a)"
      ],
      "metadata": {
        "colab": {
          "base_uri": "https://localhost:8080/"
        },
        "id": "6mp6bLSc0Tv6",
        "outputId": "b90cfe0a-e625-4bcb-8614-cca6ceffc5b9"
      },
      "execution_count": null,
      "outputs": [
        {
          "output_type": "execute_result",
          "data": {
            "text/plain": [
              "int"
            ]
          },
          "metadata": {},
          "execution_count": 20
        }
      ]
    },
    {
      "cell_type": "code",
      "source": [
        "float(a)"
      ],
      "metadata": {
        "colab": {
          "base_uri": "https://localhost:8080/"
        },
        "id": "dzTvgPaj0X6M",
        "outputId": "e755fdb4-ed3b-400f-b489-51d6a20ca02e"
      },
      "execution_count": null,
      "outputs": [
        {
          "output_type": "execute_result",
          "data": {
            "text/plain": [
              "10.0"
            ]
          },
          "metadata": {},
          "execution_count": 21
        }
      ]
    },
    {
      "cell_type": "code",
      "source": [
        "type(a)\n",
        "#a =을 할당하지 않아서 여전히 int임\n"
      ],
      "metadata": {
        "colab": {
          "base_uri": "https://localhost:8080/"
        },
        "id": "USwRXAa00ZkG",
        "outputId": "55558737-7a0b-453e-9d55-c2a6630e7d90"
      },
      "execution_count": null,
      "outputs": [
        {
          "output_type": "execute_result",
          "data": {
            "text/plain": [
              "int"
            ]
          },
          "metadata": {},
          "execution_count": 23
        }
      ]
    },
    {
      "cell_type": "code",
      "source": [
        "#형변형\n",
        "a = float(a)\n",
        "type(a)"
      ],
      "metadata": {
        "colab": {
          "base_uri": "https://localhost:8080/"
        },
        "id": "xXy10PzP0l5L",
        "outputId": "7a4a9a34-a97c-434e-9d53-52125ecfc2b9"
      },
      "execution_count": null,
      "outputs": [
        {
          "output_type": "execute_result",
          "data": {
            "text/plain": [
              "float"
            ]
          },
          "metadata": {},
          "execution_count": 25
        }
      ]
    },
    {
      "cell_type": "code",
      "source": [
        "a = int(5.3)\n",
        "b = int(4.7) \n",
        "print(a+b)"
      ],
      "metadata": {
        "colab": {
          "base_uri": "https://localhost:8080/"
        },
        "id": "bqAMVbqJ09VO",
        "outputId": "24371e7a-4bd7-4456-d603-9290e4ebc5f3"
      },
      "execution_count": null,
      "outputs": [
        {
          "output_type": "stream",
          "name": "stdout",
          "text": [
            "9\n"
          ]
        }
      ]
    },
    {
      "cell_type": "code",
      "source": [
        "a = \"5.3\"\n",
        "b = int(a)\n",
        "print(b) #문자형은 숫자형으로 바꿀 수 없음 \n",
        "\n",
        "#문자로 바꾸고 싶을 경우"
      ],
      "metadata": {
        "colab": {
          "base_uri": "https://localhost:8080/",
          "height": 245
        },
        "id": "3b87ejBD1CIm",
        "outputId": "cf6317a1-2c08-47ae-c884-0b87595e500e"
      },
      "execution_count": null,
      "outputs": [
        {
          "output_type": "error",
          "ename": "ValueError",
          "evalue": "ignored",
          "traceback": [
            "\u001b[0;31m---------------------------------------------------------------------------\u001b[0m",
            "\u001b[0;31mValueError\u001b[0m                                Traceback (most recent call last)",
            "\u001b[0;32m<ipython-input-28-624ed1e4d082>\u001b[0m in \u001b[0;36m<module>\u001b[0;34m\u001b[0m\n\u001b[1;32m      1\u001b[0m \u001b[0ma\u001b[0m \u001b[0;34m=\u001b[0m \u001b[0;34m\"5.3\"\u001b[0m\u001b[0;34m\u001b[0m\u001b[0;34m\u001b[0m\u001b[0m\n\u001b[0;32m----> 2\u001b[0;31m \u001b[0mb\u001b[0m \u001b[0;34m=\u001b[0m \u001b[0mint\u001b[0m\u001b[0;34m(\u001b[0m\u001b[0ma\u001b[0m\u001b[0;34m)\u001b[0m\u001b[0;34m\u001b[0m\u001b[0;34m\u001b[0m\u001b[0m\n\u001b[0m\u001b[1;32m      3\u001b[0m \u001b[0mprint\u001b[0m\u001b[0;34m(\u001b[0m\u001b[0mb\u001b[0m\u001b[0;34m)\u001b[0m \u001b[0;31m#문자형은 숫자형으로 바꿀 수 없음\u001b[0m\u001b[0;34m\u001b[0m\u001b[0;34m\u001b[0m\u001b[0m\n\u001b[1;32m      4\u001b[0m \u001b[0;34m\u001b[0m\u001b[0m\n\u001b[1;32m      5\u001b[0m \u001b[0;31m#문자로 바꾸고 싶을 경우\u001b[0m\u001b[0;34m\u001b[0m\u001b[0;34m\u001b[0m\u001b[0;34m\u001b[0m\u001b[0m\n",
            "\u001b[0;31mValueError\u001b[0m: invalid literal for int() with base 10: '5.3'"
          ]
        }
      ]
    },
    {
      "cell_type": "code",
      "source": [
        "c = \"5\"\n",
        "#실수형은 안되고 정수형은 변형이 된다\n",
        "c =\"5\"\n",
        "e = int(c)\n",
        "print(e)"
      ],
      "metadata": {
        "colab": {
          "base_uri": "https://localhost:8080/"
        },
        "id": "qUWTVij83wC9",
        "outputId": "76d09640-ee5f-431d-9316-90259afb860a"
      },
      "execution_count": null,
      "outputs": [
        {
          "output_type": "stream",
          "name": "stdout",
          "text": [
            "5\n"
          ]
        }
      ]
    },
    {
      "cell_type": "code",
      "source": [
        "f = '문자열 예시'\n",
        "print(f)\n",
        "type(f)"
      ],
      "metadata": {
        "colab": {
          "base_uri": "https://localhost:8080/"
        },
        "id": "_MIhQLPz1KLw",
        "outputId": "70d1b1f5-4988-4a5e-ee16-99193b93f8b3"
      },
      "execution_count": null,
      "outputs": [
        {
          "output_type": "stream",
          "name": "stdout",
          "text": [
            "문자열 예시\n"
          ]
        },
        {
          "output_type": "execute_result",
          "data": {
            "text/plain": [
              "str"
            ]
          },
          "metadata": {},
          "execution_count": 27
        }
      ]
    },
    {
      "cell_type": "code",
      "source": [
        "#escape문자 \n",
        "\n",
        "#escape = 'escape 문자인 \\t \"(역슬래시 혹은 원표시)도 사용가능'\n",
        "escape = 'escape 문자인 \\n \"(역슬래시 혹은 원표시)도 사용가능'\n",
        "print(escape)"
      ],
      "metadata": {
        "colab": {
          "base_uri": "https://localhost:8080/"
        },
        "id": "RgIJUdI_2YJK",
        "outputId": "15cc0260-15f2-405a-e52a-b0b2d8019ba2"
      },
      "execution_count": null,
      "outputs": [
        {
          "output_type": "stream",
          "name": "stdout",
          "text": [
            "escape 문자인 \n",
            " \"(역슬래시 혹은 원표시)도 사용가능\n"
          ]
        }
      ]
    },
    {
      "cell_type": "code",
      "source": [
        "str_1 ='문자'\n",
        "str_2 ='의 연산'\n",
        "result = str_1 + str_2\n",
        "print(result)"
      ],
      "metadata": {
        "colab": {
          "base_uri": "https://localhost:8080/"
        },
        "id": "tMEbAa2X4FLN",
        "outputId": "022980f7-9919-4959-8c89-c459e3a3dc28"
      },
      "execution_count": null,
      "outputs": [
        {
          "output_type": "stream",
          "name": "stdout",
          "text": [
            "문자의 연산\n"
          ]
        }
      ]
    },
    {
      "cell_type": "code",
      "source": [
        "str_3 ='더하기'\n",
        "result += str_3\n",
        "result"
      ],
      "metadata": {
        "colab": {
          "base_uri": "https://localhost:8080/",
          "height": 35
        },
        "id": "_FZ_elYi4ZIv",
        "outputId": "9ca5fd64-458f-41d3-eb08-4020c66f2761"
      },
      "execution_count": null,
      "outputs": [
        {
          "output_type": "execute_result",
          "data": {
            "text/plain": [
              "'문자의 연산더하기'"
            ],
            "application/vnd.google.colaboratory.intrinsic+json": {
              "type": "string"
            }
          },
          "metadata": {},
          "execution_count": 38
        }
      ]
    },
    {
      "cell_type": "code",
      "source": [
        "#string의 indexing \n",
        "#순서가 있는 변수의 특정 위치에 접근 할 수 있게 해줌 \n",
        "\n",
        "#R은 1부터 시작 \n",
        "#python 0부터 시작 \n",
        "\n",
        "#변수[시작:끝:간격]\n",
        "\n",
        "str_5 = \"인덱싱을 하기 위한 STRING입니다.\" #가변데이터(스페이스, 공간은 있지만, 할당은 안됨)\n",
        "len(str_5)"
      ],
      "metadata": {
        "colab": {
          "base_uri": "https://localhost:8080/"
        },
        "id": "IFcYrRb28IMK",
        "outputId": "3286cfb0-f9b4-443d-c258-9c0fa7ca9ad9"
      },
      "execution_count": null,
      "outputs": [
        {
          "output_type": "execute_result",
          "data": {
            "text/plain": [
              "21"
            ]
          },
          "metadata": {},
          "execution_count": 40
        }
      ]
    },
    {
      "cell_type": "code",
      "source": [
        "str_5[2]"
      ],
      "metadata": {
        "colab": {
          "base_uri": "https://localhost:8080/",
          "height": 35
        },
        "id": "yqcZPvxj8VqY",
        "outputId": "36da2053-a653-49e5-fbb9-86f50ef1fc80"
      },
      "execution_count": null,
      "outputs": [
        {
          "output_type": "execute_result",
          "data": {
            "text/plain": [
              "'싱'"
            ],
            "application/vnd.google.colaboratory.intrinsic+json": {
              "type": "string"
            }
          },
          "metadata": {},
          "execution_count": 41
        }
      ]
    },
    {
      "cell_type": "code",
      "source": [
        "str_5[2:7]"
      ],
      "metadata": {
        "colab": {
          "base_uri": "https://localhost:8080/",
          "height": 35
        },
        "id": "JxEQTSdV9M5E",
        "outputId": "2999ceff-f499-45d6-960d-eae58496d4ab"
      },
      "execution_count": null,
      "outputs": [
        {
          "output_type": "execute_result",
          "data": {
            "text/plain": [
              "'싱을 하기'"
            ],
            "application/vnd.google.colaboratory.intrinsic+json": {
              "type": "string"
            }
          },
          "metadata": {},
          "execution_count": 42
        }
      ]
    },
    {
      "cell_type": "code",
      "source": [
        "str_6 =\"안녕하세요. 홍길동 고객님!\"\n",
        "len(str_6)"
      ],
      "metadata": {
        "colab": {
          "base_uri": "https://localhost:8080/"
        },
        "id": "sUKxOy7Q9PTX",
        "outputId": "83b7dfab-d5ae-4291-a84f-4145871e7d48"
      },
      "execution_count": null,
      "outputs": [
        {
          "output_type": "execute_result",
          "data": {
            "text/plain": [
              "15"
            ]
          },
          "metadata": {},
          "execution_count": 43
        }
      ]
    },
    {
      "cell_type": "code",
      "source": [
        "str_6[7:10]"
      ],
      "metadata": {
        "colab": {
          "base_uri": "https://localhost:8080/",
          "height": 35
        },
        "id": "hgrc2YOR9P-h",
        "outputId": "36703f66-a1c2-4142-d7a2-da3e66771654"
      },
      "execution_count": null,
      "outputs": [
        {
          "output_type": "execute_result",
          "data": {
            "text/plain": [
              "'홍길동'"
            ],
            "application/vnd.google.colaboratory.intrinsic+json": {
              "type": "string"
            }
          },
          "metadata": {},
          "execution_count": 44
        }
      ]
    },
    {
      "cell_type": "code",
      "source": [
        "#시작점이 없으면\n",
        "str_6[:10]"
      ],
      "metadata": {
        "colab": {
          "base_uri": "https://localhost:8080/",
          "height": 35
        },
        "id": "FuRt8VDj9QBI",
        "outputId": "c92aa72d-a9b7-4b43-b542-444d9335957d"
      },
      "execution_count": null,
      "outputs": [
        {
          "output_type": "execute_result",
          "data": {
            "text/plain": [
              "'안녕하세요. 홍길동'"
            ],
            "application/vnd.google.colaboratory.intrinsic+json": {
              "type": "string"
            }
          },
          "metadata": {},
          "execution_count": 46
        }
      ]
    },
    {
      "cell_type": "code",
      "source": [
        "#끝점이 없으면\n",
        "str_6[10:]"
      ],
      "metadata": {
        "colab": {
          "base_uri": "https://localhost:8080/",
          "height": 35
        },
        "id": "a93uLd6K9QD8",
        "outputId": "d0771542-913b-4482-f4c8-95b038d471a3"
      },
      "execution_count": null,
      "outputs": [
        {
          "output_type": "execute_result",
          "data": {
            "text/plain": [
              "' 고객님!'"
            ],
            "application/vnd.google.colaboratory.intrinsic+json": {
              "type": "string"
            }
          },
          "metadata": {},
          "execution_count": 47
        }
      ]
    },
    {
      "cell_type": "code",
      "source": [
        "str_6[:2]"
      ],
      "metadata": {
        "colab": {
          "base_uri": "https://localhost:8080/",
          "height": 35
        },
        "id": "R9qL6t0A9QGJ",
        "outputId": "54b9ef9a-f5a3-477a-8100-d96a952eee44"
      },
      "execution_count": null,
      "outputs": [
        {
          "output_type": "execute_result",
          "data": {
            "text/plain": [
              "'안녕'"
            ],
            "application/vnd.google.colaboratory.intrinsic+json": {
              "type": "string"
            }
          },
          "metadata": {},
          "execution_count": 48
        }
      ]
    },
    {
      "cell_type": "code",
      "source": [
        "str_6[-2:]"
      ],
      "metadata": {
        "colab": {
          "base_uri": "https://localhost:8080/",
          "height": 35
        },
        "id": "59Cr7tXw9QIR",
        "outputId": "b6b132c7-aad6-4e78-d2bf-b979296e7e1b"
      },
      "execution_count": null,
      "outputs": [
        {
          "output_type": "execute_result",
          "data": {
            "text/plain": [
              "'님!'"
            ],
            "application/vnd.google.colaboratory.intrinsic+json": {
              "type": "string"
            }
          },
          "metadata": {},
          "execution_count": 51
        }
      ]
    },
    {
      "cell_type": "code",
      "source": [
        "# 다 뒤집고 싶은 경우 \n",
        "str_6[::-1]"
      ],
      "metadata": {
        "colab": {
          "base_uri": "https://localhost:8080/",
          "height": 35
        },
        "id": "C7tGSxg9_cn0",
        "outputId": "b9936183-06a9-4147-f8a3-ac603c32b6c4"
      },
      "execution_count": null,
      "outputs": [
        {
          "output_type": "execute_result",
          "data": {
            "text/plain": [
              "'!님객고 동길홍 .요세하녕안'"
            ],
            "application/vnd.google.colaboratory.intrinsic+json": {
              "type": "string"
            }
          },
          "metadata": {},
          "execution_count": 52
        }
      ]
    },
    {
      "cell_type": "code",
      "source": [
        "#대소문자 변형\n",
        "str_7 = 'Alphabet'\n",
        "print(str_7.lower())  #. 속성(attribute) \n",
        "\n",
        "#속성을 열어둬야함 \n",
        "#객체를 호출 시, 값을 안 열어두면 아래처럼됨(함수만 가지고옴 )"
      ],
      "metadata": {
        "colab": {
          "base_uri": "https://localhost:8080/"
        },
        "id": "vbAE-T95_he_",
        "outputId": "a4c2f153-6dee-48b6-e66b-93650b29710f"
      },
      "execution_count": null,
      "outputs": [
        {
          "output_type": "stream",
          "name": "stdout",
          "text": [
            "alphabet\n"
          ]
        }
      ]
    },
    {
      "cell_type": "code",
      "source": [
        "print(str_7.lower) #함수만 가지고옴 "
      ],
      "metadata": {
        "colab": {
          "base_uri": "https://localhost:8080/"
        },
        "id": "NFps_b4-_hqR",
        "outputId": "75905fcc-1d64-46c6-a6d6-2551dc1d8ed2"
      },
      "execution_count": null,
      "outputs": [
        {
          "output_type": "stream",
          "name": "stdout",
          "text": [
            "<built-in method lower of str object at 0x7f8e20912030>\n"
          ]
        }
      ]
    },
    {
      "cell_type": "code",
      "source": [
        "str_7.upper()"
      ],
      "metadata": {
        "colab": {
          "base_uri": "https://localhost:8080/",
          "height": 35
        },
        "id": "qB-47eQN_hzX",
        "outputId": "9179cbd0-c1a0-4be1-93ca-dc7c876cd390"
      },
      "execution_count": null,
      "outputs": [
        {
          "output_type": "execute_result",
          "data": {
            "text/plain": [
              "'ALPHABET'"
            ],
            "application/vnd.google.colaboratory.intrinsic+json": {
              "type": "string"
            }
          },
          "metadata": {},
          "execution_count": 56
        }
      ]
    },
    {
      "cell_type": "code",
      "source": [
        "str_7.lower().count('a') #속성은 두개까지만 가능"
      ],
      "metadata": {
        "colab": {
          "base_uri": "https://localhost:8080/"
        },
        "id": "yy3jvLEK_h8B",
        "outputId": "328a6faf-a30d-4bb0-8aa6-a96ef109c6d6"
      },
      "execution_count": null,
      "outputs": [
        {
          "output_type": "execute_result",
          "data": {
            "text/plain": [
              "2"
            ]
          },
          "metadata": {},
          "execution_count": 58
        }
      ]
    },
    {
      "cell_type": "code",
      "source": [
        "#모든 것을 바꾼 다음에 a문자의 갯수를 세려면? \n",
        "str_7.lower().count('a')"
      ],
      "metadata": {
        "colab": {
          "base_uri": "https://localhost:8080/"
        },
        "id": "4CrRUXf4_iEb",
        "outputId": "8b44bdde-f6a1-4a09-9885-e8d079d95bb9"
      },
      "execution_count": null,
      "outputs": [
        {
          "output_type": "execute_result",
          "data": {
            "text/plain": [
              "2"
            ]
          },
          "metadata": {},
          "execution_count": 59
        }
      ]
    },
    {
      "cell_type": "code",
      "source": [
        "str_7.index('t')"
      ],
      "metadata": {
        "colab": {
          "base_uri": "https://localhost:8080/"
        },
        "id": "NoeD-aWx_iNq",
        "outputId": "f6b6df1d-2957-4336-a507-79d5408681ec"
      },
      "execution_count": null,
      "outputs": [
        {
          "output_type": "execute_result",
          "data": {
            "text/plain": [
              "7"
            ]
          },
          "metadata": {},
          "execution_count": 60
        }
      ]
    },
    {
      "cell_type": "code",
      "source": [
        "str_7.find('t')\n",
        "#둘다 사용할 수 있는데, index를 쓰는게 더 나음 "
      ],
      "metadata": {
        "colab": {
          "base_uri": "https://localhost:8080/"
        },
        "id": "UGMIUuVYDuB-",
        "outputId": "207221b9-a3f2-478d-d734-25f03e2c8fbc"
      },
      "execution_count": null,
      "outputs": [
        {
          "output_type": "execute_result",
          "data": {
            "text/plain": [
              "7"
            ]
          },
          "metadata": {},
          "execution_count": 61
        }
      ]
    },
    {
      "cell_type": "code",
      "source": [
        "str_3 ='안녕하세요'\n",
        "print(str_3.lower())\n",
        "print(str_3.upper())#영문만 가능"
      ],
      "metadata": {
        "colab": {
          "base_uri": "https://localhost:8080/"
        },
        "id": "p4GE1-r-D1hI",
        "outputId": "cee1e251-461e-4f4e-f83c-e1766802570c"
      },
      "execution_count": null,
      "outputs": [
        {
          "output_type": "stream",
          "name": "stdout",
          "text": [
            "안녕하세요\n",
            "안녕하세요\n"
          ]
        }
      ]
    },
    {
      "cell_type": "code",
      "source": [
        "#문자열 바꾸기 replace\n",
        "str_8 = 'Life is C between B and D'\n",
        "str_8.replace('C', 'Chicken')"
      ],
      "metadata": {
        "colab": {
          "base_uri": "https://localhost:8080/",
          "height": 35
        },
        "id": "QwuTeVrzECp5",
        "outputId": "4b5511bb-2c6f-4c36-9f0d-f46396f79d86"
      },
      "execution_count": null,
      "outputs": [
        {
          "output_type": "execute_result",
          "data": {
            "text/plain": [
              "'Life is Chicken between B and D'"
            ],
            "application/vnd.google.colaboratory.intrinsic+json": {
              "type": "string"
            }
          },
          "metadata": {},
          "execution_count": 65
        }
      ]
    },
    {
      "cell_type": "code",
      "source": [
        "str_8 \n",
        "#변수를 할당하지 않아서 그대로임"
      ],
      "metadata": {
        "colab": {
          "base_uri": "https://localhost:8080/",
          "height": 35
        },
        "id": "CVdlh-feEK17",
        "outputId": "12d71e58-b797-45b7-d28d-2b9f7c3440b4"
      },
      "execution_count": null,
      "outputs": [
        {
          "output_type": "execute_result",
          "data": {
            "text/plain": [
              "'Life is C between B and D'"
            ],
            "application/vnd.google.colaboratory.intrinsic+json": {
              "type": "string"
            }
          },
          "metadata": {},
          "execution_count": 67
        }
      ]
    },
    {
      "cell_type": "code",
      "source": [
        "str_8.split(' ') #default 스페이스로 split됨"
      ],
      "metadata": {
        "colab": {
          "base_uri": "https://localhost:8080/"
        },
        "id": "06tT6TfiELGs",
        "outputId": "b2900859-1fdb-4fa3-e0ed-896c10507b66"
      },
      "execution_count": null,
      "outputs": [
        {
          "output_type": "execute_result",
          "data": {
            "text/plain": [
              "['Life', 'is', 'C', 'between', 'B', 'and', 'D']"
            ]
          },
          "metadata": {},
          "execution_count": 69
        }
      ]
    },
    {
      "cell_type": "code",
      "source": [
        "str_9 = str_8.split(' ')"
      ],
      "metadata": {
        "id": "jhhJ5yVtELKS"
      },
      "execution_count": null,
      "outputs": []
    },
    {
      "cell_type": "code",
      "source": [
        "' '.join(str_9)"
      ],
      "metadata": {
        "colab": {
          "base_uri": "https://localhost:8080/",
          "height": 35
        },
        "id": "FfD7D1aDELNg",
        "outputId": "a991ee6e-64a6-48b8-fc9f-cd1e8199b854"
      },
      "execution_count": null,
      "outputs": [
        {
          "output_type": "execute_result",
          "data": {
            "text/plain": [
              "'Life is C between B and D'"
            ],
            "application/vnd.google.colaboratory.intrinsic+json": {
              "type": "string"
            }
          },
          "metadata": {},
          "execution_count": 73
        }
      ]
    },
    {
      "cell_type": "code",
      "source": [
        "print(dir(str_8))"
      ],
      "metadata": {
        "colab": {
          "base_uri": "https://localhost:8080/"
        },
        "id": "GDIDHsDtELRC",
        "outputId": "9f0445e5-c7a2-4197-8034-b73babdc23d6"
      },
      "execution_count": null,
      "outputs": [
        {
          "output_type": "stream",
          "name": "stdout",
          "text": [
            "['__add__', '__class__', '__contains__', '__delattr__', '__dir__', '__doc__', '__eq__', '__format__', '__ge__', '__getattribute__', '__getitem__', '__getnewargs__', '__gt__', '__hash__', '__init__', '__init_subclass__', '__iter__', '__le__', '__len__', '__lt__', '__mod__', '__mul__', '__ne__', '__new__', '__reduce__', '__reduce_ex__', '__repr__', '__rmod__', '__rmul__', '__setattr__', '__sizeof__', '__str__', '__subclasshook__', 'capitalize', 'casefold', 'center', 'count', 'encode', 'endswith', 'expandtabs', 'find', 'format', 'format_map', 'index', 'isalnum', 'isalpha', 'isascii', 'isdecimal', 'isdigit', 'isidentifier', 'islower', 'isnumeric', 'isprintable', 'isspace', 'istitle', 'isupper', 'join', 'ljust', 'lower', 'lstrip', 'maketrans', 'partition', 'replace', 'rfind', 'rindex', 'rjust', 'rpartition', 'rsplit', 'rstrip', 'split', 'splitlines', 'startswith', 'strip', 'swapcase', 'title', 'translate', 'upper', 'zfill']\n"
          ]
        }
      ]
    },
    {
      "cell_type": "code",
      "source": [
        "#list\n",
        "#시퀀스 자료형 , 여러 데이터의 집합\n",
        "#int, float같은 다양한 데이터 타입 포함\n",
        "\n",
        "\n",
        "#모든 자료형을 담을 수 있음\n",
        "#삽입, 수정, 삭제가 자유로움\n",
        "#순서가 있는 자료형 -> 인덱싱과, 슬라이싱이 가능\n",
        "\n",
        "list_3 = [1,2,'문자', ['이중리스트']]\n",
        "\n",
        "#리스트 안의 리스트 = 이중리스트 "
      ],
      "metadata": {
        "id": "7Q5h-434ELUx"
      },
      "execution_count": null,
      "outputs": []
    },
    {
      "cell_type": "code",
      "source": [
        "list_4 = [[1,2,3,4], [2,4,6,8],  [3,6,9,12],  [4,8,12,16],  [5,10,15,20]]\n",
        "list_4"
      ],
      "metadata": {
        "colab": {
          "base_uri": "https://localhost:8080/"
        },
        "id": "34PEZqAQIpzf",
        "outputId": "4c55f0a8-2ac6-4d51-ca91-a616f3ea2c83"
      },
      "execution_count": null,
      "outputs": [
        {
          "output_type": "execute_result",
          "data": {
            "text/plain": [
              "[[1, 2, 3, 4], [2, 4, 6, 8], [3, 6, 9, 12], [4, 8, 12, 16], [5, 10, 15, 20]]"
            ]
          },
          "metadata": {},
          "execution_count": 76
        }
      ]
    },
    {
      "cell_type": "code",
      "source": [
        "list_4[1][3]"
      ],
      "metadata": {
        "colab": {
          "base_uri": "https://localhost:8080/"
        },
        "id": "0FdrIowaELYl",
        "outputId": "d915c4c3-4ce4-4b43-8c9c-e8d54a5159a1"
      },
      "execution_count": null,
      "outputs": [
        {
          "output_type": "execute_result",
          "data": {
            "text/plain": [
              "8"
            ]
          },
          "metadata": {},
          "execution_count": 77
        }
      ]
    },
    {
      "cell_type": "code",
      "source": [
        "list_5 = [[[1,2,3], [4], [5,[6,7,8,9]]], [10,11,[12,13,[14]]]]\n",
        "list_5"
      ],
      "metadata": {
        "colab": {
          "base_uri": "https://localhost:8080/"
        },
        "id": "H3iSys2OELcO",
        "outputId": "f3307fd2-35d9-4864-d08d-2e3f15473aa8"
      },
      "execution_count": null,
      "outputs": [
        {
          "output_type": "execute_result",
          "data": {
            "text/plain": [
              "[[[1, 2, 3], [4], [5, [6, 7, 8, 9]]], [10, 11, [12, 13, [14]]]]"
            ]
          },
          "metadata": {},
          "execution_count": 81
        }
      ]
    },
    {
      "cell_type": "code",
      "source": [
        "list_5[1][2][2]"
      ],
      "metadata": {
        "colab": {
          "base_uri": "https://localhost:8080/"
        },
        "id": "x50dMgy7L0dt",
        "outputId": "2a97a1d4-af6a-4b4d-ab59-32430a3698aa"
      },
      "execution_count": null,
      "outputs": [
        {
          "output_type": "execute_result",
          "data": {
            "text/plain": [
              "[14]"
            ]
          },
          "metadata": {},
          "execution_count": 82
        }
      ]
    },
    {
      "cell_type": "code",
      "source": [
        "list_5[1]"
      ],
      "metadata": {
        "colab": {
          "base_uri": "https://localhost:8080/"
        },
        "id": "kWgWHVEjMI3M",
        "outputId": "3a53e8dd-86f7-4003-c97d-ae955615ff6e"
      },
      "execution_count": null,
      "outputs": [
        {
          "output_type": "execute_result",
          "data": {
            "text/plain": [
              "[10, 11, [12, 13, [14]]]"
            ]
          },
          "metadata": {},
          "execution_count": 83
        }
      ]
    },
    {
      "cell_type": "code",
      "source": [
        "list_5[1][2]"
      ],
      "metadata": {
        "colab": {
          "base_uri": "https://localhost:8080/"
        },
        "id": "d6YAOR51MLDt",
        "outputId": "cbe48f21-e104-465d-ec61-578dc4addbd9"
      },
      "execution_count": null,
      "outputs": [
        {
          "output_type": "execute_result",
          "data": {
            "text/plain": [
              "[12, 13, [14]]"
            ]
          },
          "metadata": {},
          "execution_count": 84
        }
      ]
    },
    {
      "cell_type": "code",
      "source": [],
      "metadata": {
        "id": "MpDFgwkTOPLV"
      },
      "execution_count": null,
      "outputs": []
    },
    {
      "cell_type": "code",
      "source": [
        "list_8 = ['파이썬','C','java']\n",
        "list_8.append('R') #append: 리스트 제일 뒤에 추가"
      ],
      "metadata": {
        "id": "m238aauoOG6m"
      },
      "execution_count": null,
      "outputs": []
    },
    {
      "cell_type": "code",
      "source": [
        "list_8.insert(2, 'C++') #insert: 원하는 위치에 넣기\n",
        "list_8"
      ],
      "metadata": {
        "colab": {
          "base_uri": "https://localhost:8080/"
        },
        "id": "Y3lt73FdOG-Y",
        "outputId": "3b8b6243-ec82-454a-b7f1-6d44882f17a4"
      },
      "execution_count": null,
      "outputs": [
        {
          "output_type": "execute_result",
          "data": {
            "text/plain": [
              "['파이썬', 'C', 'C++', 'java', 'R']"
            ]
          },
          "metadata": {},
          "execution_count": 93
        }
      ]
    },
    {
      "cell_type": "code",
      "source": [
        "list_8[0] ='Python'\n",
        "list_8"
      ],
      "metadata": {
        "colab": {
          "base_uri": "https://localhost:8080/"
        },
        "id": "xPkHUG0LOHDg",
        "outputId": "c017e6b6-5909-4bc7-b28f-10e002bc39a4"
      },
      "execution_count": null,
      "outputs": [
        {
          "output_type": "execute_result",
          "data": {
            "text/plain": [
              "['Python', 'C', 'C++', 'java', 'R']"
            ]
          },
          "metadata": {},
          "execution_count": 95
        }
      ]
    },
    {
      "cell_type": "code",
      "source": [],
      "metadata": {
        "id": "s1FKNN7MPF3E"
      },
      "execution_count": null,
      "outputs": []
    },
    {
      "cell_type": "code",
      "source": [
        "#remove : 지우고자 하는 요소를 명시해야 됨. 가장 앞에 있는 요소 삭제\n",
        "\n",
        "list_8.remove('R')\n",
        "list_8"
      ],
      "metadata": {
        "colab": {
          "base_uri": "https://localhost:8080/"
        },
        "id": "MUTeAeobOHGF",
        "outputId": "f742f658-b639-453d-be3a-f39326c462a8"
      },
      "execution_count": null,
      "outputs": [
        {
          "output_type": "execute_result",
          "data": {
            "text/plain": [
              "['Python', 'C', 'C++', 'java']"
            ]
          },
          "metadata": {},
          "execution_count": 96
        }
      ]
    },
    {
      "cell_type": "code",
      "source": [
        "#remove에 하면 휴지통에 남지만, del하면 메모리에서 아예 삭제됨 \n",
        "\n",
        "del list_8[3]\n",
        "list_8"
      ],
      "metadata": {
        "colab": {
          "base_uri": "https://localhost:8080/"
        },
        "id": "GJ5a8V7lPGf2",
        "outputId": "0bf559cb-9444-47a4-d806-66a122a6ae15"
      },
      "execution_count": null,
      "outputs": [
        {
          "output_type": "execute_result",
          "data": {
            "text/plain": [
              "['Python', 'C', 'C++']"
            ]
          },
          "metadata": {},
          "execution_count": 98
        }
      ]
    },
    {
      "cell_type": "code",
      "source": [
        "#pop 함수 괄호 ()안 인덱스에 해당하는 요소를 반환 \n",
        "# 인덱스를 생략하면 가장 마지막 요소를 꺼내옴\n",
        "list_8.pop()\n",
        "list_8"
      ],
      "metadata": {
        "colab": {
          "base_uri": "https://localhost:8080/"
        },
        "id": "R4_pSAtaPuVM",
        "outputId": "20cc47d9-8064-4412-bfd7-850a827dceba"
      },
      "execution_count": null,
      "outputs": [
        {
          "output_type": "execute_result",
          "data": {
            "text/plain": [
              "['Python', 'C']"
            ]
          },
          "metadata": {},
          "execution_count": 99
        }
      ]
    },
    {
      "cell_type": "code",
      "source": [
        "#정렬 sort(key, reverse)\n",
        "#key: 정렬 기준, \n",
        "#reverse:  True(내림차순), False(오름차순)\n",
        "list_9 = [1,5,2,7,2,8]\n",
        "list_9"
      ],
      "metadata": {
        "colab": {
          "base_uri": "https://localhost:8080/"
        },
        "id": "z2LNCFqHQILF",
        "outputId": "ece5c80a-5999-4ebb-b3c8-fd1d85712476"
      },
      "execution_count": null,
      "outputs": [
        {
          "output_type": "execute_result",
          "data": {
            "text/plain": [
              "[1, 5, 2, 7, 2, 8]"
            ]
          },
          "metadata": {},
          "execution_count": 107
        }
      ]
    },
    {
      "cell_type": "code",
      "source": [
        "list_9.sort(reverse=True)\n",
        "list_9"
      ],
      "metadata": {
        "colab": {
          "base_uri": "https://localhost:8080/"
        },
        "id": "WAWzwpf4QIc1",
        "outputId": "05959b7c-fe48-4668-b0b6-fd66531e507a"
      },
      "execution_count": null,
      "outputs": [
        {
          "output_type": "execute_result",
          "data": {
            "text/plain": [
              "[8, 7, 5, 2, 2, 1]"
            ]
          },
          "metadata": {},
          "execution_count": 108
        }
      ]
    },
    {
      "cell_type": "code",
      "source": [
        "#문자랑 숫자가 섞여있는 경우의 숫서는? \n",
        "list_91 = ['가', 'a', 'A', 1]\n",
        "#list_91.sort()\n",
        "\n",
        "#문자로만 되어있을때는 됨 \n",
        "list_91 = ['가', 'a', 'A', '1']\n",
        "list_91.sort(reverse=False)\n",
        "list_91\n",
        "\n",
        "#복소수는 크기 분할을 할 수 업승ㅁ "
      ],
      "metadata": {
        "colab": {
          "base_uri": "https://localhost:8080/"
        },
        "id": "v15Ri__uQIgD",
        "outputId": "ca34b78e-facd-4586-c6bd-b8b9432154cd"
      },
      "execution_count": null,
      "outputs": [
        {
          "output_type": "execute_result",
          "data": {
            "text/plain": [
              "['1', 'A', 'a', '가']"
            ]
          },
          "metadata": {},
          "execution_count": 106
        }
      ]
    },
    {
      "cell_type": "code",
      "source": [
        "list_9.reverse() #sort(reverse=True)와 같음\n",
        "list_9"
      ],
      "metadata": {
        "colab": {
          "base_uri": "https://localhost:8080/"
        },
        "id": "k7ifpSacQIjl",
        "outputId": "b719ce77-907e-4e06-ace5-34b138fe983e"
      },
      "execution_count": null,
      "outputs": [
        {
          "output_type": "execute_result",
          "data": {
            "text/plain": [
              "[8, 7, 5, 2, 2, 1]"
            ]
          },
          "metadata": {},
          "execution_count": 110
        }
      ]
    },
    {
      "cell_type": "code",
      "source": [
        "a = [10,9,8,7,6]\n",
        "b = [5,7,8,9,10]\n",
        "print(id(a), id(b)) #id cpu주소"
      ],
      "metadata": {
        "colab": {
          "base_uri": "https://localhost:8080/"
        },
        "id": "Gk1N7QKhRZJT",
        "outputId": "ceb8590a-3dea-408d-ab8c-d27e9364965b"
      },
      "execution_count": null,
      "outputs": [
        {
          "output_type": "stream",
          "name": "stdout",
          "text": [
            "9793216 9793184\n"
          ]
        }
      ]
    },
    {
      "cell_type": "code",
      "source": [
        "b = a #a가 b로 할당됨\n",
        "#할당된 주소가 똑같이 변화함 "
      ],
      "metadata": {
        "id": "36-0hvX3RZYM"
      },
      "execution_count": null,
      "outputs": []
    },
    {
      "cell_type": "code",
      "source": [
        "a.sort()"
      ],
      "metadata": {
        "colab": {
          "base_uri": "https://localhost:8080/",
          "height": 172
        },
        "id": "ByKqGZ61RZkv",
        "outputId": "367c229b-1ba4-44c7-ebe8-efcb45032d3e"
      },
      "execution_count": null,
      "outputs": [
        {
          "output_type": "error",
          "ename": "AttributeError",
          "evalue": "ignored",
          "traceback": [
            "\u001b[0;31m---------------------------------------------------------------------------\u001b[0m",
            "\u001b[0;31mAttributeError\u001b[0m                            Traceback (most recent call last)",
            "\u001b[0;32m<ipython-input-116-2ed0d7de6146>\u001b[0m in \u001b[0;36m<module>\u001b[0;34m\u001b[0m\n\u001b[0;32m----> 1\u001b[0;31m \u001b[0ma\u001b[0m\u001b[0;34m.\u001b[0m\u001b[0msort\u001b[0m\u001b[0;34m(\u001b[0m\u001b[0;34m)\u001b[0m\u001b[0;34m\u001b[0m\u001b[0;34m\u001b[0m\u001b[0m\n\u001b[0m",
            "\u001b[0;31mAttributeError\u001b[0m: 'int' object has no attribute 'sort'"
          ]
        }
      ]
    },
    {
      "cell_type": "code",
      "source": [
        "a = [10,9,8,7,6]\n",
        "b = [5,7,8,9,10]\n",
        "print(id(a),id(b))"
      ],
      "metadata": {
        "colab": {
          "base_uri": "https://localhost:8080/"
        },
        "id": "kUOmvJlERZ0n",
        "outputId": "670dc9cc-9b0b-4871-bf34-7f836d87675f"
      },
      "execution_count": null,
      "outputs": [
        {
          "output_type": "stream",
          "name": "stdout",
          "text": [
            "140247928440704 140247928442432\n"
          ]
        }
      ]
    },
    {
      "cell_type": "code",
      "source": [
        "b = a"
      ],
      "metadata": {
        "id": "JnCJ-iw3SkOK"
      },
      "execution_count": null,
      "outputs": []
    },
    {
      "cell_type": "code",
      "source": [
        "a.sort()\n",
        "a"
      ],
      "metadata": {
        "colab": {
          "base_uri": "https://localhost:8080/"
        },
        "id": "uKXkqsvGSmpg",
        "outputId": "a2c5e15b-1a14-4c02-87b8-ac3043a6bf4c"
      },
      "execution_count": null,
      "outputs": [
        {
          "output_type": "execute_result",
          "data": {
            "text/plain": [
              "[6, 7, 8, 9, 10]"
            ]
          },
          "metadata": {},
          "execution_count": 119
        }
      ]
    },
    {
      "cell_type": "code",
      "source": [
        "b\n",
        "#할당 했는데 값이 바뀌는 이유는, cpu 주소가 같이 할당됨(객체가 공유됨)"
      ],
      "metadata": {
        "colab": {
          "base_uri": "https://localhost:8080/"
        },
        "id": "USwSzAGUSwcg",
        "outputId": "8ac99a1a-80cd-4368-f366-63ac2519fc7d"
      },
      "execution_count": null,
      "outputs": [
        {
          "output_type": "execute_result",
          "data": {
            "text/plain": [
              "[6, 7, 8, 9, 10]"
            ]
          },
          "metadata": {},
          "execution_count": 120
        }
      ]
    },
    {
      "cell_type": "code",
      "source": [
        "#얕은 복사(Shallow copy): 주소와 값 둘다 가져옴\n",
        "#깊은 복사(Deep copy): 객체를 공유하지 않음, 값만 가져옴/ 새로운 메모리 공간을 확보해 완전히 복사하는 것을 의미\n"
      ],
      "metadata": {
        "id": "RI-mQ6V2Snsg"
      },
      "execution_count": null,
      "outputs": []
    },
    {
      "cell_type": "code",
      "source": [
        "#sort 리턴함수가 있는것\n",
        "#sorted는 프린트만 됨 \n",
        "a.sort()\n",
        "a"
      ],
      "metadata": {
        "colab": {
          "base_uri": "https://localhost:8080/"
        },
        "id": "1B81V2pXYmUm",
        "outputId": "9b82aacf-a133-4ca8-c2cc-4905c0e53ec2"
      },
      "execution_count": null,
      "outputs": [
        {
          "output_type": "execute_result",
          "data": {
            "text/plain": [
              "[6, 7, 8, 9, 10]"
            ]
          },
          "metadata": {},
          "execution_count": 121
        }
      ]
    },
    {
      "cell_type": "code",
      "source": [
        "print(sorted(a))"
      ],
      "metadata": {
        "colab": {
          "base_uri": "https://localhost:8080/"
        },
        "id": "trxNC5IpYrfJ",
        "outputId": "d03ab34c-8429-4e81-f80c-3f9d5b6b9833"
      },
      "execution_count": null,
      "outputs": [
        {
          "output_type": "stream",
          "name": "stdout",
          "text": [
            "[6, 7, 8, 9, 10]\n"
          ]
        }
      ]
    },
    {
      "cell_type": "code",
      "source": [
        "#tuple ()을 이용하여 튜플을 선언\n",
        "#한 개의 요소만 사용할 때만, 콤마(,)를 반드시 사용해야함\n",
        "\n",
        "#스페이스 가변공간, 허락함, 단 두개는 안되고 하나만 됨 \n",
        "\n",
        "tuple_3 = (1,2)\n",
        "tuple_4 = (3 ,)\n",
        "\n",
        "tuple_5 = tuple_3 + tuple_4 \n",
        "tuple_5 \n",
        "#tuple_4에 가변공간은 생략됨 "
      ],
      "metadata": {
        "colab": {
          "base_uri": "https://localhost:8080/"
        },
        "id": "tsPP7GyMYt-r",
        "outputId": "06696702-ddd3-40fb-cec4-b8a8ce84f35c"
      },
      "execution_count": null,
      "outputs": [
        {
          "output_type": "execute_result",
          "data": {
            "text/plain": [
              "(1, 2, 3)"
            ]
          },
          "metadata": {},
          "execution_count": 124
        }
      ]
    },
    {
      "cell_type": "code",
      "source": [
        "#좋아하는 음식 5개를 food라는 리스트에 담아보자 \n",
        "food = ['바나나', '딸기', '카페인', '파인애플', '레몬']\n",
        "food"
      ],
      "metadata": {
        "colab": {
          "base_uri": "https://localhost:8080/"
        },
        "id": "3JwlIu1HZ8wW",
        "outputId": "82ff63f1-629a-430d-f823-bb40c56eeaed"
      },
      "execution_count": null,
      "outputs": [
        {
          "output_type": "execute_result",
          "data": {
            "text/plain": [
              "['바나나', '딸기', '카페인', '파인애플', '레몬']"
            ]
          },
          "metadata": {},
          "execution_count": 132
        }
      ]
    },
    {
      "cell_type": "code",
      "source": [
        "#리스트 food의 가장 앞에 파이썬이, 가장 뒤에는 집이라는 단어가 오도록 수정\n",
        "food.append('집')"
      ],
      "metadata": {
        "id": "Xmnbo7KEaGbC"
      },
      "execution_count": null,
      "outputs": []
    },
    {
      "cell_type": "code",
      "source": [
        "food"
      ],
      "metadata": {
        "colab": {
          "base_uri": "https://localhost:8080/"
        },
        "id": "jjfI4-OsbMJR",
        "outputId": "c1b0f2d2-b400-4672-cc8d-418a6d90a561"
      },
      "execution_count": null,
      "outputs": [
        {
          "output_type": "execute_result",
          "data": {
            "text/plain": [
              "['바나나', '딸기', '카페인', '파인애플', '레몬', '집', '집']"
            ]
          },
          "metadata": {},
          "execution_count": 135
        }
      ]
    },
    {
      "cell_type": "code",
      "source": [
        "food.insert(0, '파이썬')"
      ],
      "metadata": {
        "id": "aG2qkMjGauIG"
      },
      "execution_count": null,
      "outputs": []
    },
    {
      "cell_type": "code",
      "source": [
        "food"
      ],
      "metadata": {
        "colab": {
          "base_uri": "https://localhost:8080/"
        },
        "id": "LLq2X3eubSi7",
        "outputId": "4c6436d2-d029-4fd8-9265-dc3d709b80f5"
      },
      "execution_count": null,
      "outputs": [
        {
          "output_type": "execute_result",
          "data": {
            "text/plain": [
              "['파이썬', '바나나', '딸기', '카페인', '파인애플', '레몬', '집', '집']"
            ]
          },
          "metadata": {},
          "execution_count": 138
        }
      ]
    },
    {
      "cell_type": "code",
      "source": [
        "food.pop(0)"
      ],
      "metadata": {
        "colab": {
          "base_uri": "https://localhost:8080/",
          "height": 35
        },
        "id": "EKVRgPuVa8n0",
        "outputId": "371b8861-a7fc-4613-f956-c414b456f929"
      },
      "execution_count": null,
      "outputs": [
        {
          "output_type": "execute_result",
          "data": {
            "text/plain": [
              "'파이썬'"
            ],
            "application/vnd.google.colaboratory.intrinsic+json": {
              "type": "string"
            }
          },
          "metadata": {},
          "execution_count": 139
        }
      ]
    },
    {
      "cell_type": "code",
      "source": [
        "food.remove('집')"
      ],
      "metadata": {
        "id": "jDvJD3Gwa_zN"
      },
      "execution_count": null,
      "outputs": []
    },
    {
      "cell_type": "code",
      "source": [
        "food"
      ],
      "metadata": {
        "colab": {
          "base_uri": "https://localhost:8080/"
        },
        "id": "ne2a9FykbWKm",
        "outputId": "fe2dd6de-5cd2-480b-b4a5-9d95a8028d35"
      },
      "execution_count": null,
      "outputs": [
        {
          "output_type": "execute_result",
          "data": {
            "text/plain": [
              "['바나나', '딸기', '카페인', '파인애플', '레몬', '집']"
            ]
          },
          "metadata": {},
          "execution_count": 141
        }
      ]
    },
    {
      "cell_type": "code",
      "source": [
        "tuple_3 =(1,2)\n",
        "tuple_4 = (3,)\n",
        "tuple_3 + tuple_4"
      ],
      "metadata": {
        "id": "ZYbc9-s0bByy"
      },
      "execution_count": null,
      "outputs": []
    },
    {
      "cell_type": "code",
      "source": [
        "tuple_3[0] = 3"
      ],
      "metadata": {
        "colab": {
          "base_uri": "https://localhost:8080/",
          "height": 172
        },
        "id": "6TkUVzO0Z6oH",
        "outputId": "87e899c3-330e-45e5-9a4c-a35797fb6c98"
      },
      "execution_count": null,
      "outputs": [
        {
          "output_type": "error",
          "ename": "TypeError",
          "evalue": "ignored",
          "traceback": [
            "\u001b[0;31m---------------------------------------------------------------------------\u001b[0m",
            "\u001b[0;31mTypeError\u001b[0m                                 Traceback (most recent call last)",
            "\u001b[0;32m<ipython-input-142-03a07311fae7>\u001b[0m in \u001b[0;36m<module>\u001b[0;34m\u001b[0m\n\u001b[0;32m----> 1\u001b[0;31m \u001b[0mtuple_3\u001b[0m\u001b[0;34m[\u001b[0m\u001b[0;36m0\u001b[0m\u001b[0;34m]\u001b[0m \u001b[0;34m=\u001b[0m \u001b[0;36m3\u001b[0m\u001b[0;34m\u001b[0m\u001b[0;34m\u001b[0m\u001b[0m\n\u001b[0m",
            "\u001b[0;31mTypeError\u001b[0m: 'tuple' object does not support item assignment"
          ]
        }
      ]
    },
    {
      "cell_type": "markdown",
      "source": [
        "## 0303 day2"
      ],
      "metadata": {
        "id": "8Jjj_Oa8Buto"
      }
    },
    {
      "cell_type": "markdown",
      "source": [
        "- dictionary"
      ],
      "metadata": {
        "id": "ERTpG7KVDQsR"
      }
    },
    {
      "cell_type": "code",
      "source": [
        "dict_3 = {'홍길동':100,'홍계월':200}\n",
        "dict_3"
      ],
      "metadata": {
        "colab": {
          "base_uri": "https://localhost:8080/"
        },
        "id": "RfMOei-KBKu2",
        "outputId": "09650f20-da06-4130-8a2d-a2ce0773535e"
      },
      "execution_count": 2,
      "outputs": [
        {
          "output_type": "execute_result",
          "data": {
            "text/plain": [
              "{'홍길동': 100, '홍계월': 200}"
            ]
          },
          "metadata": {},
          "execution_count": 2
        }
      ]
    },
    {
      "cell_type": "code",
      "source": [
        "type(dict_3)"
      ],
      "metadata": {
        "colab": {
          "base_uri": "https://localhost:8080/"
        },
        "id": "LilN62ohBRM1",
        "outputId": "d67d4bf3-ae31-4d5f-ca72-cacf25c12fb1"
      },
      "execution_count": 3,
      "outputs": [
        {
          "output_type": "execute_result",
          "data": {
            "text/plain": [
              "dict"
            ]
          },
          "metadata": {},
          "execution_count": 3
        }
      ]
    },
    {
      "cell_type": "code",
      "source": [
        "dict_3['홍길동']"
      ],
      "metadata": {
        "colab": {
          "base_uri": "https://localhost:8080/"
        },
        "id": "44i1VMTKBSw9",
        "outputId": "3a4972a1-aecb-4cc1-fa3f-c7a7148d78ff"
      },
      "execution_count": 4,
      "outputs": [
        {
          "output_type": "execute_result",
          "data": {
            "text/plain": [
              "100"
            ]
          },
          "metadata": {},
          "execution_count": 4
        }
      ]
    },
    {
      "cell_type": "code",
      "source": [
        "dict_3[100]"
      ],
      "metadata": {
        "id": "_BjvtDcaBT32"
      },
      "execution_count": null,
      "outputs": []
    },
    {
      "cell_type": "code",
      "source": [
        "dict_3['슈퍼맨']=300"
      ],
      "metadata": {
        "id": "EvWInGNaBVIZ"
      },
      "execution_count": null,
      "outputs": []
    },
    {
      "cell_type": "code",
      "source": [
        "dict_3 = {'홍길동':100, '홍계월':200,'슈퍼맨':150,'배트맨':250}\n",
        "dict_3"
      ],
      "metadata": {
        "colab": {
          "base_uri": "https://localhost:8080/"
        },
        "id": "poLY5GLVBVpH",
        "outputId": "5d39cfe7-3cf0-4cf8-e98f-3597dd7dd3e4"
      },
      "execution_count": 10,
      "outputs": [
        {
          "output_type": "execute_result",
          "data": {
            "text/plain": [
              "{'홍길동': 100, '홍계월': 200, '슈퍼맨': 150, '배트맨': 250}"
            ]
          },
          "metadata": {},
          "execution_count": 10
        }
      ]
    },
    {
      "cell_type": "code",
      "source": [
        "#key만 접근하고 싶을떈, keys 사용\n",
        "print(dict_3.keys)\n",
        "\n",
        "#헥스 코드 Hexadecimical?"
      ],
      "metadata": {
        "colab": {
          "base_uri": "https://localhost:8080/"
        },
        "id": "UgBaaqC4BWBC",
        "outputId": "ec8af9b6-17ec-4f44-a931-83a42d5274b1"
      },
      "execution_count": 6,
      "outputs": [
        {
          "output_type": "stream",
          "name": "stdout",
          "text": [
            "<built-in method keys of dict object at 0x7f0283015100>\n"
          ]
        }
      ]
    },
    {
      "cell_type": "code",
      "source": [
        "print(dict_3.keys())"
      ],
      "metadata": {
        "colab": {
          "base_uri": "https://localhost:8080/"
        },
        "id": "UKqZysqvBg3B",
        "outputId": "e3cf80b8-78ae-427e-be15-012eefd075e7"
      },
      "execution_count": 7,
      "outputs": [
        {
          "output_type": "stream",
          "name": "stdout",
          "text": [
            "dict_keys(['홍길동', '홍계월'])\n"
          ]
        }
      ]
    },
    {
      "cell_type": "code",
      "source": [
        "print(dict_3.keys)"
      ],
      "metadata": {
        "id": "mzOJziqKBWD7"
      },
      "execution_count": null,
      "outputs": []
    },
    {
      "cell_type": "code",
      "source": [
        "#value만 접근하고 싶을 댸 "
      ],
      "metadata": {
        "id": "4ETJoVf6COUv"
      },
      "execution_count": null,
      "outputs": []
    },
    {
      "cell_type": "code",
      "source": [
        "print(dict_3.values())\n",
        "print(type(dict_3.values()))"
      ],
      "metadata": {
        "colab": {
          "base_uri": "https://localhost:8080/"
        },
        "id": "7ROH7OGNCQ5L",
        "outputId": "eabb15f5-49ad-44f7-819a-73da7f08026c"
      },
      "execution_count": 8,
      "outputs": [
        {
          "output_type": "stream",
          "name": "stdout",
          "text": [
            "dict_values([100, 200])\n",
            "<class 'dict_values'>\n"
          ]
        }
      ]
    },
    {
      "cell_type": "code",
      "source": [
        "#key와 value 동시에 접근하고 싶을 떄 "
      ],
      "metadata": {
        "id": "WC2xIsoGCp2m"
      },
      "execution_count": null,
      "outputs": []
    },
    {
      "cell_type": "code",
      "source": [
        "print(dict_3.items())\n",
        "print(type(dict_3.items()))"
      ],
      "metadata": {
        "colab": {
          "base_uri": "https://localhost:8080/"
        },
        "id": "TdOQoEVOCtDa",
        "outputId": "704fed45-d5c5-4194-fae1-ff140ca8fc8a"
      },
      "execution_count": 11,
      "outputs": [
        {
          "output_type": "stream",
          "name": "stdout",
          "text": [
            "dict_items([('홍길동', 100), ('홍계월', 200), ('슈퍼맨', 150), ('배트맨', 250)])\n",
            "<class 'dict_items'>\n"
          ]
        }
      ]
    },
    {
      "cell_type": "code",
      "source": [
        "dict_3.items()[0]  #에러가 나옴\n",
        "\n",
        "#TypeError: 'dict_items' object is not subscriptable\n",
        "\n",
        "#딕셔너리는 순서가 없음, 접근하거나 따로 떼어 올때 형변환(list)을 시켜야함\n",
        "#리스트로 바꿔 줘야함 "
      ],
      "metadata": {
        "colab": {
          "base_uri": "https://localhost:8080/",
          "height": 173
        },
        "id": "G_FLAN1TCzwh",
        "outputId": "52cee698-b63a-4f07-b23b-4632917948e4"
      },
      "execution_count": 12,
      "outputs": [
        {
          "output_type": "error",
          "ename": "TypeError",
          "evalue": "ignored",
          "traceback": [
            "\u001b[0;31m---------------------------------------------------------------------------\u001b[0m",
            "\u001b[0;31mTypeError\u001b[0m                                 Traceback (most recent call last)",
            "\u001b[0;32m<ipython-input-12-90ada6dcc166>\u001b[0m in \u001b[0;36m<module>\u001b[0;34m\u001b[0m\n\u001b[0;32m----> 1\u001b[0;31m \u001b[0mdict_3\u001b[0m\u001b[0;34m.\u001b[0m\u001b[0mitems\u001b[0m\u001b[0;34m(\u001b[0m\u001b[0;34m)\u001b[0m\u001b[0;34m[\u001b[0m\u001b[0;36m0\u001b[0m\u001b[0;34m]\u001b[0m  \u001b[0;31m#에러가 나옴\u001b[0m\u001b[0;34m\u001b[0m\u001b[0;34m\u001b[0m\u001b[0m\n\u001b[0m",
            "\u001b[0;31mTypeError\u001b[0m: 'dict_items' object is not subscriptable"
          ]
        }
      ]
    },
    {
      "cell_type": "code",
      "source": [
        "list(dict_3.items())[0]"
      ],
      "metadata": {
        "colab": {
          "base_uri": "https://localhost:8080/"
        },
        "id": "vPgUcmgUC94Y",
        "outputId": "6fcd7e6a-d106-480a-bcec-6262259ad8ac"
      },
      "execution_count": 13,
      "outputs": [
        {
          "output_type": "execute_result",
          "data": {
            "text/plain": [
              "('홍길동', 100)"
            ]
          },
          "metadata": {},
          "execution_count": 13
        }
      ]
    },
    {
      "cell_type": "code",
      "source": [
        "#특정 위기가 어디? \n",
        "\n",
        "dict_3['배트맨']"
      ],
      "metadata": {
        "colab": {
          "base_uri": "https://localhost:8080/"
        },
        "id": "C-YOtFbRDJ81",
        "outputId": "46d97846-aa1d-4074-8108-5090b1c45281"
      },
      "execution_count": 15,
      "outputs": [
        {
          "output_type": "execute_result",
          "data": {
            "text/plain": [
              "250"
            ]
          },
          "metadata": {},
          "execution_count": 15
        }
      ]
    },
    {
      "cell_type": "code",
      "source": [
        "#set"
      ],
      "metadata": {
        "id": "fYZcx86gDd7w"
      },
      "execution_count": null,
      "outputs": []
    },
    {
      "cell_type": "code",
      "source": [
        "set_2 = set('Hello')\n",
        "set_2"
      ],
      "metadata": {
        "colab": {
          "base_uri": "https://localhost:8080/"
        },
        "id": "EMQLIBnADeOG",
        "outputId": "bd00e31c-dd7a-4aa1-f847-b3710bf49197"
      },
      "execution_count": 17,
      "outputs": [
        {
          "output_type": "execute_result",
          "data": {
            "text/plain": [
              "{'H', 'e', 'l', 'o'}"
            ]
          },
          "metadata": {},
          "execution_count": 17
        }
      ]
    },
    {
      "cell_type": "code",
      "source": [
        "#교집합"
      ],
      "metadata": {
        "id": "9aKpPL7RE6Vn"
      },
      "execution_count": 19,
      "outputs": []
    },
    {
      "cell_type": "code",
      "source": [
        "set_5 = {1,2,3,4}\n",
        "set_6 = {4,5,6,7}\n",
        "\n",
        "set_5 & set_6"
      ],
      "metadata": {
        "colab": {
          "base_uri": "https://localhost:8080/"
        },
        "id": "cdRXtcj4E6Zx",
        "outputId": "0a5937ff-776a-4ac1-ee8c-b138fd3b3323"
      },
      "execution_count": 18,
      "outputs": [
        {
          "output_type": "execute_result",
          "data": {
            "text/plain": [
              "{4}"
            ]
          },
          "metadata": {},
          "execution_count": 18
        }
      ]
    },
    {
      "cell_type": "code",
      "source": [
        "set_5.intersection(set_6)"
      ],
      "metadata": {
        "colab": {
          "base_uri": "https://localhost:8080/"
        },
        "id": "MOXbH7mnFMUU",
        "outputId": "79f45da2-c318-4b31-87de-46f16d29ec38"
      },
      "execution_count": 20,
      "outputs": [
        {
          "output_type": "execute_result",
          "data": {
            "text/plain": [
              "{4}"
            ]
          },
          "metadata": {},
          "execution_count": 20
        }
      ]
    },
    {
      "cell_type": "code",
      "source": [
        "#합집합"
      ],
      "metadata": {
        "id": "TvpIx9WjE6ex"
      },
      "execution_count": 16,
      "outputs": []
    },
    {
      "cell_type": "code",
      "source": [
        "set_5 | set_6"
      ],
      "metadata": {
        "colab": {
          "base_uri": "https://localhost:8080/"
        },
        "id": "-rlSEAksDeXP",
        "outputId": "fc3dccfa-ec1c-4522-a282-2f7501c409ad"
      },
      "execution_count": 21,
      "outputs": [
        {
          "output_type": "execute_result",
          "data": {
            "text/plain": [
              "{1, 2, 3, 4, 5, 6, 7}"
            ]
          },
          "metadata": {},
          "execution_count": 21
        }
      ]
    },
    {
      "cell_type": "code",
      "source": [
        "#end연산자? "
      ],
      "metadata": {
        "id": "JZ_86nGbFPOd"
      },
      "execution_count": null,
      "outputs": []
    },
    {
      "cell_type": "code",
      "source": [
        "#차집합 "
      ],
      "metadata": {
        "id": "T16TC6DjFQsl"
      },
      "execution_count": 22,
      "outputs": []
    },
    {
      "cell_type": "code",
      "source": [
        "set_5.difference(set_6) "
      ],
      "metadata": {
        "colab": {
          "base_uri": "https://localhost:8080/"
        },
        "id": "WCWzWC3eFRxb",
        "outputId": "9fed8482-b3e9-4a73-9cf6-2580bbab44ef"
      },
      "execution_count": 23,
      "outputs": [
        {
          "output_type": "execute_result",
          "data": {
            "text/plain": [
              "{1, 2, 3}"
            ]
          },
          "metadata": {},
          "execution_count": 23
        }
      ]
    },
    {
      "cell_type": "code",
      "source": [
        "# Bool 연산자"
      ],
      "metadata": {
        "id": "WtV3zbjUFXP2"
      },
      "execution_count": 24,
      "outputs": []
    },
    {
      "cell_type": "code",
      "source": [
        "1 == 1"
      ],
      "metadata": {
        "colab": {
          "base_uri": "https://localhost:8080/"
        },
        "id": "7oRkK5EsFXbQ",
        "outputId": "5706882c-b6d1-4b7a-d7f6-fe36ba9f8af8"
      },
      "execution_count": 25,
      "outputs": [
        {
          "output_type": "execute_result",
          "data": {
            "text/plain": [
              "True"
            ]
          },
          "metadata": {},
          "execution_count": 25
        }
      ]
    },
    {
      "cell_type": "code",
      "source": [
        "1 > 2"
      ],
      "metadata": {
        "colab": {
          "base_uri": "https://localhost:8080/"
        },
        "id": "csuVDqGjFXhe",
        "outputId": "e6f32987-e580-4406-be93-1444358aaa6d"
      },
      "execution_count": 26,
      "outputs": [
        {
          "output_type": "execute_result",
          "data": {
            "text/plain": [
              "False"
            ]
          },
          "metadata": {},
          "execution_count": 26
        }
      ]
    },
    {
      "cell_type": "code",
      "source": [
        "1 == 1.00000000000000001 \n",
        "#소숫점 16자리 이상이라 1은 인식이 안돼서 True"
      ],
      "metadata": {
        "colab": {
          "base_uri": "https://localhost:8080/"
        },
        "id": "Zj2zNBDOFXmA",
        "outputId": "2118325e-4742-4ca8-e8f2-bfc4910c7c59"
      },
      "execution_count": 27,
      "outputs": [
        {
          "output_type": "execute_result",
          "data": {
            "text/plain": [
              "True"
            ]
          },
          "metadata": {},
          "execution_count": 27
        }
      ]
    },
    {
      "cell_type": "code",
      "source": [
        "1!= 1 "
      ],
      "metadata": {
        "colab": {
          "base_uri": "https://localhost:8080/"
        },
        "id": "Gn72cbiNFXp7",
        "outputId": "645656ef-d12d-441e-9534-ded047c0bb2a"
      },
      "execution_count": 29,
      "outputs": [
        {
          "output_type": "execute_result",
          "data": {
            "text/plain": [
              "False"
            ]
          },
          "metadata": {},
          "execution_count": 29
        }
      ]
    },
    {
      "cell_type": "code",
      "source": [
        "bool(' ') #빈 공간이라 Ture로 나옴"
      ],
      "metadata": {
        "colab": {
          "base_uri": "https://localhost:8080/"
        },
        "id": "1kNTePeiFXtQ",
        "outputId": "4cd9428a-f533-46b6-ae20-704eb4d23095"
      },
      "execution_count": 31,
      "outputs": [
        {
          "output_type": "execute_result",
          "data": {
            "text/plain": [
              "True"
            ]
          },
          "metadata": {},
          "execution_count": 31
        }
      ]
    },
    {
      "cell_type": "code",
      "source": [
        "money = True\n",
        "\n",
        "if money:\n",
        "  print('여행을 간다')\n",
        "else:\n",
        "  print('집에서 쉰다')"
      ],
      "metadata": {
        "colab": {
          "base_uri": "https://localhost:8080/"
        },
        "id": "IqnsLx-hH2oh",
        "outputId": "64f7ef8c-f6f6-4083-aaf9-ad35d0591ddf"
      },
      "execution_count": 34,
      "outputs": [
        {
          "output_type": "stream",
          "name": "stdout",
          "text": [
            "여행을 간다\n"
          ]
        }
      ]
    },
    {
      "cell_type": "code",
      "source": [
        "%%timeit\n",
        "money = 0\n",
        "\n",
        "if 0<money<5000:\n",
        "    print('라면을 먹는다')\n",
        "elif 5000<money<25000:\n",
        "    print('치킨을 먹는다')\n",
        "elif 25000<money<50000:\n",
        "    print('삼겹살을 먹는다')\n",
        "elif 5000<=money:\n",
        "  print('소고기를 먹는다')\n",
        "else: \n",
        "    print('음수가 입력되었습니다.')\n",
        "\n",
        "#ctrl + [] 전체 이동 "
      ],
      "metadata": {
        "colab": {
          "base_uri": "https://localhost:8080/"
        },
        "id": "iIT7nn7EFXv3",
        "outputId": "9f39a09f-a082-4f64-df45-08a8cbad2544"
      },
      "execution_count": 36,
      "outputs": [
        {
          "output_type": "stream",
          "name": "stdout",
          "text": [
            "\u001b[1;30;43m스트리밍 출력 내용이 길어서 마지막 5000줄이 삭제되었습니다.\u001b[0m\n",
            "음수가 입력되었습니다.\n",
            "음수가 입력되었습니다.\n",
            "음수가 입력되었습니다.\n",
            "음수가 입력되었습니다.\n",
            "음수가 입력되었습니다.\n",
            "음수가 입력되었습니다.\n",
            "음수가 입력되었습니다.\n",
            "음수가 입력되었습니다.\n",
            "음수가 입력되었습니다.\n",
            "음수가 입력되었습니다.\n",
            "음수가 입력되었습니다.\n",
            "음수가 입력되었습니다.\n",
            "음수가 입력되었습니다.\n",
            "음수가 입력되었습니다.\n",
            "음수가 입력되었습니다.\n",
            "음수가 입력되었습니다.\n",
            "음수가 입력되었습니다.\n",
            "음수가 입력되었습니다.\n",
            "음수가 입력되었습니다.\n",
            "음수가 입력되었습니다.\n",
            "음수가 입력되었습니다.\n",
            "음수가 입력되었습니다.\n",
            "음수가 입력되었습니다.\n",
            "음수가 입력되었습니다.\n",
            "음수가 입력되었습니다.\n",
            "음수가 입력되었습니다.\n",
            "음수가 입력되었습니다.\n",
            "음수가 입력되었습니다.\n",
            "음수가 입력되었습니다.\n",
            "음수가 입력되었습니다.\n",
            "음수가 입력되었습니다.\n",
            "음수가 입력되었습니다.\n",
            "음수가 입력되었습니다.\n",
            "음수가 입력되었습니다.\n",
            "음수가 입력되었습니다.\n",
            "음수가 입력되었습니다.\n",
            "음수가 입력되었습니다.\n",
            "음수가 입력되었습니다.\n",
            "음수가 입력되었습니다.\n",
            "음수가 입력되었습니다.\n",
            "음수가 입력되었습니다.\n",
            "음수가 입력되었습니다.\n",
            "음수가 입력되었습니다.\n",
            "음수가 입력되었습니다.\n",
            "음수가 입력되었습니다.\n",
            "음수가 입력되었습니다.\n",
            "음수가 입력되었습니다.\n",
            "음수가 입력되었습니다.\n",
            "음수가 입력되었습니다.\n",
            "음수가 입력되었습니다.\n",
            "음수가 입력되었습니다.\n",
            "음수가 입력되었습니다.\n",
            "음수가 입력되었습니다.\n",
            "음수가 입력되었습니다.\n",
            "음수가 입력되었습니다.\n",
            "음수가 입력되었습니다.\n",
            "음수가 입력되었습니다.\n",
            "음수가 입력되었습니다.\n",
            "음수가 입력되었습니다.\n",
            "음수가 입력되었습니다.\n",
            "음수가 입력되었습니다.\n",
            "음수가 입력되었습니다.\n",
            "음수가 입력되었습니다.\n",
            "음수가 입력되었습니다.\n",
            "음수가 입력되었습니다.\n",
            "음수가 입력되었습니다.\n",
            "음수가 입력되었습니다.\n",
            "음수가 입력되었습니다.\n",
            "음수가 입력되었습니다.\n",
            "음수가 입력되었습니다.\n",
            "음수가 입력되었습니다.\n",
            "음수가 입력되었습니다.\n",
            "음수가 입력되었습니다.\n",
            "음수가 입력되었습니다.\n",
            "음수가 입력되었습니다.\n",
            "음수가 입력되었습니다.\n",
            "음수가 입력되었습니다.\n",
            "음수가 입력되었습니다.\n",
            "음수가 입력되었습니다.\n",
            "음수가 입력되었습니다.\n",
            "음수가 입력되었습니다.\n",
            "음수가 입력되었습니다.\n",
            "음수가 입력되었습니다.\n",
            "음수가 입력되었습니다.\n",
            "음수가 입력되었습니다.\n",
            "음수가 입력되었습니다.\n",
            "음수가 입력되었습니다.\n",
            "음수가 입력되었습니다.\n",
            "음수가 입력되었습니다.\n",
            "음수가 입력되었습니다.\n",
            "음수가 입력되었습니다.\n",
            "음수가 입력되었습니다.\n",
            "음수가 입력되었습니다.\n",
            "음수가 입력되었습니다.\n",
            "음수가 입력되었습니다.\n",
            "음수가 입력되었습니다.\n",
            "음수가 입력되었습니다.\n",
            "음수가 입력되었습니다.\n",
            "음수가 입력되었습니다.\n",
            "음수가 입력되었습니다.\n",
            "음수가 입력되었습니다.\n",
            "음수가 입력되었습니다.\n",
            "음수가 입력되었습니다.\n",
            "음수가 입력되었습니다.\n",
            "음수가 입력되었습니다.\n",
            "음수가 입력되었습니다.\n",
            "음수가 입력되었습니다.\n",
            "음수가 입력되었습니다.\n",
            "음수가 입력되었습니다.\n",
            "음수가 입력되었습니다.\n",
            "음수가 입력되었습니다.\n",
            "음수가 입력되었습니다.\n",
            "음수가 입력되었습니다.\n",
            "음수가 입력되었습니다.\n",
            "음수가 입력되었습니다.\n",
            "음수가 입력되었습니다.\n",
            "음수가 입력되었습니다.\n",
            "음수가 입력되었습니다.\n",
            "음수가 입력되었습니다.\n",
            "음수가 입력되었습니다.\n",
            "음수가 입력되었습니다.\n",
            "음수가 입력되었습니다.\n",
            "음수가 입력되었습니다.\n",
            "음수가 입력되었습니다.\n",
            "음수가 입력되었습니다.\n",
            "음수가 입력되었습니다.\n",
            "음수가 입력되었습니다.\n",
            "음수가 입력되었습니다.\n",
            "음수가 입력되었습니다.\n",
            "음수가 입력되었습니다.\n",
            "음수가 입력되었습니다.\n",
            "음수가 입력되었습니다.\n",
            "음수가 입력되었습니다.\n",
            "음수가 입력되었습니다.\n",
            "음수가 입력되었습니다.\n",
            "음수가 입력되었습니다.\n",
            "음수가 입력되었습니다.\n",
            "음수가 입력되었습니다.\n",
            "음수가 입력되었습니다.\n",
            "음수가 입력되었습니다.\n",
            "음수가 입력되었습니다.\n",
            "음수가 입력되었습니다.\n",
            "음수가 입력되었습니다.\n",
            "음수가 입력되었습니다.\n",
            "음수가 입력되었습니다.\n",
            "음수가 입력되었습니다.\n",
            "음수가 입력되었습니다.\n",
            "음수가 입력되었습니다.\n",
            "음수가 입력되었습니다.\n",
            "음수가 입력되었습니다.\n",
            "음수가 입력되었습니다.\n",
            "음수가 입력되었습니다.\n",
            "음수가 입력되었습니다.\n",
            "음수가 입력되었습니다.\n",
            "음수가 입력되었습니다.\n",
            "음수가 입력되었습니다.\n",
            "음수가 입력되었습니다.\n",
            "음수가 입력되었습니다.\n",
            "음수가 입력되었습니다.\n",
            "음수가 입력되었습니다.\n",
            "음수가 입력되었습니다.\n",
            "음수가 입력되었습니다.\n",
            "음수가 입력되었습니다.\n",
            "음수가 입력되었습니다.\n",
            "음수가 입력되었습니다.\n",
            "음수가 입력되었습니다.\n",
            "음수가 입력되었습니다.\n",
            "음수가 입력되었습니다.\n",
            "음수가 입력되었습니다.\n",
            "음수가 입력되었습니다.\n",
            "음수가 입력되었습니다.\n",
            "음수가 입력되었습니다.\n",
            "음수가 입력되었습니다.\n",
            "음수가 입력되었습니다.\n",
            "음수가 입력되었습니다.\n",
            "음수가 입력되었습니다.\n",
            "음수가 입력되었습니다.\n",
            "음수가 입력되었습니다.\n",
            "음수가 입력되었습니다.\n",
            "음수가 입력되었습니다.\n",
            "음수가 입력되었습니다.\n",
            "음수가 입력되었습니다.\n",
            "음수가 입력되었습니다.\n",
            "음수가 입력되었습니다.\n",
            "음수가 입력되었습니다.\n",
            "음수가 입력되었습니다.\n",
            "음수가 입력되었습니다.\n",
            "음수가 입력되었습니다.\n",
            "음수가 입력되었습니다.\n",
            "음수가 입력되었습니다.\n",
            "음수가 입력되었습니다.\n",
            "음수가 입력되었습니다.\n",
            "음수가 입력되었습니다.\n",
            "음수가 입력되었습니다.\n",
            "음수가 입력되었습니다.\n",
            "음수가 입력되었습니다.\n",
            "음수가 입력되었습니다.\n",
            "음수가 입력되었습니다.\n",
            "음수가 입력되었습니다.\n",
            "음수가 입력되었습니다.\n",
            "음수가 입력되었습니다.\n",
            "음수가 입력되었습니다.\n",
            "음수가 입력되었습니다.\n",
            "음수가 입력되었습니다.\n",
            "음수가 입력되었습니다.\n",
            "음수가 입력되었습니다.\n",
            "음수가 입력되었습니다.\n",
            "음수가 입력되었습니다.\n",
            "음수가 입력되었습니다.\n",
            "음수가 입력되었습니다.\n",
            "음수가 입력되었습니다.\n",
            "음수가 입력되었습니다.\n",
            "음수가 입력되었습니다.\n",
            "음수가 입력되었습니다.\n",
            "음수가 입력되었습니다.\n",
            "음수가 입력되었습니다.\n",
            "음수가 입력되었습니다.\n",
            "음수가 입력되었습니다.\n",
            "음수가 입력되었습니다.\n",
            "음수가 입력되었습니다.\n",
            "음수가 입력되었습니다.\n",
            "음수가 입력되었습니다.\n",
            "음수가 입력되었습니다.\n",
            "음수가 입력되었습니다.\n",
            "음수가 입력되었습니다.\n",
            "음수가 입력되었습니다.\n",
            "음수가 입력되었습니다.\n",
            "음수가 입력되었습니다.\n",
            "음수가 입력되었습니다.\n",
            "음수가 입력되었습니다.\n",
            "음수가 입력되었습니다.\n",
            "음수가 입력되었습니다.\n",
            "음수가 입력되었습니다.\n",
            "음수가 입력되었습니다.\n",
            "음수가 입력되었습니다.\n",
            "음수가 입력되었습니다.\n",
            "음수가 입력되었습니다.\n",
            "음수가 입력되었습니다.\n",
            "음수가 입력되었습니다.\n",
            "음수가 입력되었습니다.\n",
            "음수가 입력되었습니다.\n",
            "음수가 입력되었습니다.\n",
            "음수가 입력되었습니다.\n",
            "음수가 입력되었습니다.\n",
            "음수가 입력되었습니다.\n",
            "음수가 입력되었습니다.\n",
            "음수가 입력되었습니다.\n",
            "음수가 입력되었습니다.\n",
            "음수가 입력되었습니다.\n",
            "음수가 입력되었습니다.\n",
            "음수가 입력되었습니다.\n",
            "음수가 입력되었습니다.\n",
            "음수가 입력되었습니다.\n",
            "음수가 입력되었습니다.\n",
            "음수가 입력되었습니다.\n",
            "음수가 입력되었습니다.\n",
            "음수가 입력되었습니다.\n",
            "음수가 입력되었습니다.\n",
            "음수가 입력되었습니다.\n",
            "음수가 입력되었습니다.\n",
            "음수가 입력되었습니다.\n",
            "음수가 입력되었습니다.\n",
            "음수가 입력되었습니다.\n",
            "음수가 입력되었습니다.\n",
            "음수가 입력되었습니다.\n",
            "음수가 입력되었습니다.\n",
            "음수가 입력되었습니다.\n",
            "음수가 입력되었습니다.\n",
            "음수가 입력되었습니다.\n",
            "음수가 입력되었습니다.\n",
            "음수가 입력되었습니다.\n",
            "음수가 입력되었습니다.\n",
            "음수가 입력되었습니다.\n",
            "음수가 입력되었습니다.\n",
            "음수가 입력되었습니다.\n",
            "음수가 입력되었습니다.\n",
            "음수가 입력되었습니다.\n",
            "음수가 입력되었습니다.\n",
            "음수가 입력되었습니다.\n",
            "음수가 입력되었습니다.\n",
            "음수가 입력되었습니다.\n",
            "음수가 입력되었습니다.\n",
            "음수가 입력되었습니다.\n",
            "음수가 입력되었습니다.\n",
            "음수가 입력되었습니다.\n",
            "음수가 입력되었습니다.\n",
            "음수가 입력되었습니다.\n",
            "음수가 입력되었습니다.\n",
            "음수가 입력되었습니다.\n",
            "음수가 입력되었습니다.\n",
            "음수가 입력되었습니다.\n",
            "음수가 입력되었습니다.\n",
            "음수가 입력되었습니다.\n",
            "음수가 입력되었습니다.\n",
            "음수가 입력되었습니다.\n",
            "음수가 입력되었습니다.\n",
            "음수가 입력되었습니다.\n",
            "음수가 입력되었습니다.\n",
            "음수가 입력되었습니다.\n",
            "음수가 입력되었습니다.\n",
            "음수가 입력되었습니다.\n",
            "음수가 입력되었습니다.\n",
            "음수가 입력되었습니다.\n",
            "음수가 입력되었습니다.\n",
            "음수가 입력되었습니다.\n",
            "음수가 입력되었습니다.\n",
            "음수가 입력되었습니다.\n",
            "음수가 입력되었습니다.\n",
            "음수가 입력되었습니다.\n",
            "음수가 입력되었습니다.\n",
            "음수가 입력되었습니다.\n",
            "음수가 입력되었습니다.\n",
            "음수가 입력되었습니다.\n",
            "음수가 입력되었습니다.\n",
            "음수가 입력되었습니다.\n",
            "음수가 입력되었습니다.\n",
            "음수가 입력되었습니다.\n",
            "음수가 입력되었습니다.\n",
            "음수가 입력되었습니다.\n",
            "음수가 입력되었습니다.\n",
            "음수가 입력되었습니다.\n",
            "음수가 입력되었습니다.\n",
            "음수가 입력되었습니다.\n",
            "음수가 입력되었습니다.\n",
            "음수가 입력되었습니다.\n",
            "음수가 입력되었습니다.\n",
            "음수가 입력되었습니다.\n",
            "음수가 입력되었습니다.\n",
            "음수가 입력되었습니다.\n",
            "음수가 입력되었습니다.\n",
            "음수가 입력되었습니다.\n",
            "음수가 입력되었습니다.\n",
            "음수가 입력되었습니다.\n",
            "음수가 입력되었습니다.\n",
            "음수가 입력되었습니다.\n",
            "음수가 입력되었습니다.\n",
            "음수가 입력되었습니다.\n",
            "음수가 입력되었습니다.\n",
            "음수가 입력되었습니다.\n",
            "음수가 입력되었습니다.\n",
            "음수가 입력되었습니다.\n",
            "음수가 입력되었습니다.\n",
            "음수가 입력되었습니다.\n",
            "음수가 입력되었습니다.\n",
            "음수가 입력되었습니다.\n",
            "음수가 입력되었습니다.\n",
            "음수가 입력되었습니다.\n",
            "음수가 입력되었습니다.\n",
            "음수가 입력되었습니다.\n",
            "음수가 입력되었습니다.\n",
            "음수가 입력되었습니다.\n",
            "음수가 입력되었습니다.\n",
            "음수가 입력되었습니다.\n",
            "음수가 입력되었습니다.\n",
            "음수가 입력되었습니다.\n",
            "음수가 입력되었습니다.\n",
            "음수가 입력되었습니다.\n",
            "음수가 입력되었습니다.\n",
            "음수가 입력되었습니다.\n",
            "음수가 입력되었습니다.\n",
            "음수가 입력되었습니다.\n",
            "음수가 입력되었습니다.\n",
            "음수가 입력되었습니다.\n",
            "음수가 입력되었습니다.\n",
            "음수가 입력되었습니다.\n",
            "음수가 입력되었습니다.\n",
            "음수가 입력되었습니다.\n",
            "음수가 입력되었습니다.\n",
            "음수가 입력되었습니다.\n",
            "음수가 입력되었습니다.\n",
            "음수가 입력되었습니다.\n",
            "음수가 입력되었습니다.\n",
            "음수가 입력되었습니다.\n",
            "음수가 입력되었습니다.\n",
            "음수가 입력되었습니다.\n",
            "음수가 입력되었습니다.\n",
            "음수가 입력되었습니다.\n",
            "음수가 입력되었습니다.\n",
            "음수가 입력되었습니다.\n",
            "음수가 입력되었습니다.\n",
            "음수가 입력되었습니다.\n",
            "음수가 입력되었습니다.\n",
            "음수가 입력되었습니다.\n",
            "음수가 입력되었습니다.\n",
            "음수가 입력되었습니다.\n",
            "음수가 입력되었습니다.\n",
            "음수가 입력되었습니다.\n",
            "음수가 입력되었습니다.\n",
            "음수가 입력되었습니다.\n",
            "음수가 입력되었습니다.\n",
            "음수가 입력되었습니다.\n",
            "음수가 입력되었습니다.\n",
            "음수가 입력되었습니다.\n",
            "음수가 입력되었습니다.\n",
            "음수가 입력되었습니다.\n",
            "음수가 입력되었습니다.\n",
            "음수가 입력되었습니다.\n",
            "음수가 입력되었습니다.\n",
            "음수가 입력되었습니다.\n",
            "음수가 입력되었습니다.\n",
            "음수가 입력되었습니다.\n",
            "음수가 입력되었습니다.\n",
            "음수가 입력되었습니다.\n",
            "음수가 입력되었습니다.\n",
            "음수가 입력되었습니다.\n",
            "음수가 입력되었습니다.\n",
            "음수가 입력되었습니다.\n",
            "음수가 입력되었습니다.\n",
            "음수가 입력되었습니다.\n",
            "음수가 입력되었습니다.\n",
            "음수가 입력되었습니다.\n",
            "음수가 입력되었습니다.\n",
            "음수가 입력되었습니다.\n",
            "음수가 입력되었습니다.\n",
            "음수가 입력되었습니다.\n",
            "음수가 입력되었습니다.\n",
            "음수가 입력되었습니다.\n",
            "음수가 입력되었습니다.\n",
            "음수가 입력되었습니다.\n",
            "음수가 입력되었습니다.\n",
            "음수가 입력되었습니다.\n",
            "음수가 입력되었습니다.\n",
            "음수가 입력되었습니다.\n",
            "음수가 입력되었습니다.\n",
            "음수가 입력되었습니다.\n",
            "음수가 입력되었습니다.\n",
            "음수가 입력되었습니다.\n",
            "음수가 입력되었습니다.\n",
            "음수가 입력되었습니다.\n",
            "음수가 입력되었습니다.\n",
            "음수가 입력되었습니다.\n",
            "음수가 입력되었습니다.\n",
            "음수가 입력되었습니다.\n",
            "음수가 입력되었습니다.\n",
            "음수가 입력되었습니다.\n",
            "음수가 입력되었습니다.\n",
            "음수가 입력되었습니다.\n",
            "음수가 입력되었습니다.\n",
            "음수가 입력되었습니다.\n",
            "음수가 입력되었습니다.\n",
            "음수가 입력되었습니다.\n",
            "음수가 입력되었습니다.\n",
            "음수가 입력되었습니다.\n",
            "음수가 입력되었습니다.\n",
            "음수가 입력되었습니다.\n",
            "음수가 입력되었습니다.\n",
            "음수가 입력되었습니다.\n",
            "음수가 입력되었습니다.\n",
            "음수가 입력되었습니다.\n",
            "음수가 입력되었습니다.\n",
            "음수가 입력되었습니다.\n",
            "음수가 입력되었습니다.\n",
            "음수가 입력되었습니다.\n",
            "음수가 입력되었습니다.\n",
            "음수가 입력되었습니다.\n",
            "음수가 입력되었습니다.\n",
            "음수가 입력되었습니다.\n",
            "음수가 입력되었습니다.\n",
            "음수가 입력되었습니다.\n",
            "음수가 입력되었습니다.\n",
            "음수가 입력되었습니다.\n",
            "음수가 입력되었습니다.\n",
            "음수가 입력되었습니다.\n",
            "음수가 입력되었습니다.\n",
            "음수가 입력되었습니다.\n",
            "음수가 입력되었습니다.\n",
            "음수가 입력되었습니다.\n",
            "음수가 입력되었습니다.\n",
            "음수가 입력되었습니다.\n",
            "음수가 입력되었습니다.\n",
            "음수가 입력되었습니다.\n",
            "음수가 입력되었습니다.\n",
            "음수가 입력되었습니다.\n",
            "음수가 입력되었습니다.\n",
            "음수가 입력되었습니다.\n",
            "음수가 입력되었습니다.\n",
            "음수가 입력되었습니다.\n",
            "음수가 입력되었습니다.\n",
            "음수가 입력되었습니다.\n",
            "음수가 입력되었습니다.\n",
            "음수가 입력되었습니다.\n",
            "음수가 입력되었습니다.\n",
            "음수가 입력되었습니다.\n",
            "음수가 입력되었습니다.\n",
            "음수가 입력되었습니다.\n",
            "음수가 입력되었습니다.\n",
            "음수가 입력되었습니다.\n",
            "음수가 입력되었습니다.\n",
            "음수가 입력되었습니다.\n",
            "음수가 입력되었습니다.\n",
            "음수가 입력되었습니다.\n",
            "음수가 입력되었습니다.\n",
            "음수가 입력되었습니다.\n",
            "음수가 입력되었습니다.\n",
            "음수가 입력되었습니다.\n",
            "음수가 입력되었습니다.\n",
            "음수가 입력되었습니다.\n",
            "음수가 입력되었습니다.\n",
            "음수가 입력되었습니다.\n",
            "음수가 입력되었습니다.\n",
            "음수가 입력되었습니다.\n",
            "음수가 입력되었습니다.\n",
            "음수가 입력되었습니다.\n",
            "음수가 입력되었습니다.\n",
            "음수가 입력되었습니다.\n",
            "음수가 입력되었습니다.\n",
            "음수가 입력되었습니다.\n",
            "음수가 입력되었습니다.\n",
            "음수가 입력되었습니다.\n",
            "음수가 입력되었습니다.\n",
            "음수가 입력되었습니다.\n",
            "음수가 입력되었습니다.\n",
            "음수가 입력되었습니다.\n",
            "음수가 입력되었습니다.\n",
            "음수가 입력되었습니다.\n",
            "음수가 입력되었습니다.\n",
            "음수가 입력되었습니다.\n",
            "음수가 입력되었습니다.\n",
            "음수가 입력되었습니다.\n",
            "음수가 입력되었습니다.\n",
            "음수가 입력되었습니다.\n",
            "음수가 입력되었습니다.\n",
            "음수가 입력되었습니다.\n",
            "음수가 입력되었습니다.\n",
            "음수가 입력되었습니다.\n",
            "음수가 입력되었습니다.\n",
            "음수가 입력되었습니다.\n",
            "음수가 입력되었습니다.\n",
            "음수가 입력되었습니다.\n",
            "음수가 입력되었습니다.\n",
            "음수가 입력되었습니다.\n",
            "음수가 입력되었습니다.\n",
            "음수가 입력되었습니다.\n",
            "음수가 입력되었습니다.\n",
            "음수가 입력되었습니다.\n",
            "음수가 입력되었습니다.\n",
            "음수가 입력되었습니다.\n",
            "음수가 입력되었습니다.\n",
            "음수가 입력되었습니다.\n",
            "음수가 입력되었습니다.\n",
            "음수가 입력되었습니다.\n",
            "음수가 입력되었습니다.\n",
            "음수가 입력되었습니다.\n",
            "음수가 입력되었습니다.\n",
            "음수가 입력되었습니다.\n",
            "음수가 입력되었습니다.\n",
            "음수가 입력되었습니다.\n",
            "음수가 입력되었습니다.\n",
            "음수가 입력되었습니다.\n",
            "음수가 입력되었습니다.\n",
            "음수가 입력되었습니다.\n",
            "음수가 입력되었습니다.\n",
            "음수가 입력되었습니다.\n",
            "음수가 입력되었습니다.\n",
            "음수가 입력되었습니다.\n",
            "음수가 입력되었습니다.\n",
            "음수가 입력되었습니다.\n",
            "음수가 입력되었습니다.\n",
            "음수가 입력되었습니다.\n",
            "음수가 입력되었습니다.\n",
            "음수가 입력되었습니다.\n",
            "음수가 입력되었습니다.\n",
            "음수가 입력되었습니다.\n",
            "음수가 입력되었습니다.\n",
            "음수가 입력되었습니다.\n",
            "음수가 입력되었습니다.\n",
            "음수가 입력되었습니다.\n",
            "음수가 입력되었습니다.\n",
            "음수가 입력되었습니다.\n",
            "음수가 입력되었습니다.\n",
            "음수가 입력되었습니다.\n",
            "음수가 입력되었습니다.\n",
            "음수가 입력되었습니다.\n",
            "음수가 입력되었습니다.\n",
            "음수가 입력되었습니다.\n",
            "음수가 입력되었습니다.\n",
            "음수가 입력되었습니다.\n",
            "음수가 입력되었습니다.\n",
            "음수가 입력되었습니다.\n",
            "음수가 입력되었습니다.\n",
            "음수가 입력되었습니다.\n",
            "음수가 입력되었습니다.\n",
            "음수가 입력되었습니다.\n",
            "음수가 입력되었습니다.\n",
            "음수가 입력되었습니다.\n",
            "음수가 입력되었습니다.\n",
            "음수가 입력되었습니다.\n",
            "음수가 입력되었습니다.\n",
            "음수가 입력되었습니다.\n",
            "음수가 입력되었습니다.\n",
            "음수가 입력되었습니다.\n",
            "음수가 입력되었습니다.\n",
            "음수가 입력되었습니다.\n",
            "음수가 입력되었습니다.\n",
            "음수가 입력되었습니다.\n",
            "음수가 입력되었습니다.\n",
            "음수가 입력되었습니다.\n",
            "음수가 입력되었습니다.\n",
            "음수가 입력되었습니다.\n",
            "음수가 입력되었습니다.\n",
            "음수가 입력되었습니다.\n",
            "음수가 입력되었습니다.\n",
            "음수가 입력되었습니다.\n",
            "음수가 입력되었습니다.\n",
            "음수가 입력되었습니다.\n",
            "음수가 입력되었습니다.\n",
            "음수가 입력되었습니다.\n",
            "음수가 입력되었습니다.\n",
            "음수가 입력되었습니다.\n",
            "음수가 입력되었습니다.\n",
            "음수가 입력되었습니다.\n",
            "음수가 입력되었습니다.\n",
            "음수가 입력되었습니다.\n",
            "음수가 입력되었습니다.\n",
            "음수가 입력되었습니다.\n",
            "음수가 입력되었습니다.\n",
            "음수가 입력되었습니다.\n",
            "음수가 입력되었습니다.\n",
            "음수가 입력되었습니다.\n",
            "음수가 입력되었습니다.\n",
            "음수가 입력되었습니다.\n",
            "음수가 입력되었습니다.\n",
            "음수가 입력되었습니다.\n",
            "음수가 입력되었습니다.\n",
            "음수가 입력되었습니다.\n",
            "음수가 입력되었습니다.\n",
            "음수가 입력되었습니다.\n",
            "음수가 입력되었습니다.\n",
            "음수가 입력되었습니다.\n",
            "음수가 입력되었습니다.\n",
            "음수가 입력되었습니다.\n",
            "음수가 입력되었습니다.\n",
            "음수가 입력되었습니다.\n",
            "음수가 입력되었습니다.\n",
            "음수가 입력되었습니다.\n",
            "음수가 입력되었습니다.\n",
            "음수가 입력되었습니다.\n",
            "음수가 입력되었습니다.\n",
            "음수가 입력되었습니다.\n",
            "음수가 입력되었습니다.\n",
            "음수가 입력되었습니다.\n",
            "음수가 입력되었습니다.\n",
            "음수가 입력되었습니다.\n",
            "음수가 입력되었습니다.\n",
            "음수가 입력되었습니다.\n",
            "음수가 입력되었습니다.\n",
            "음수가 입력되었습니다.\n",
            "음수가 입력되었습니다.\n",
            "음수가 입력되었습니다.\n",
            "음수가 입력되었습니다.\n",
            "음수가 입력되었습니다.\n",
            "음수가 입력되었습니다.\n",
            "음수가 입력되었습니다.\n",
            "음수가 입력되었습니다.\n",
            "음수가 입력되었습니다.\n",
            "음수가 입력되었습니다.\n",
            "음수가 입력되었습니다.\n",
            "음수가 입력되었습니다.\n",
            "음수가 입력되었습니다.\n",
            "음수가 입력되었습니다.\n",
            "음수가 입력되었습니다.\n",
            "음수가 입력되었습니다.\n",
            "음수가 입력되었습니다.\n",
            "음수가 입력되었습니다.\n",
            "음수가 입력되었습니다.\n",
            "음수가 입력되었습니다.\n",
            "음수가 입력되었습니다.\n",
            "음수가 입력되었습니다.\n",
            "음수가 입력되었습니다.\n",
            "음수가 입력되었습니다.\n",
            "음수가 입력되었습니다.\n",
            "음수가 입력되었습니다.\n",
            "음수가 입력되었습니다.\n",
            "음수가 입력되었습니다.\n",
            "음수가 입력되었습니다.\n",
            "음수가 입력되었습니다.\n",
            "음수가 입력되었습니다.\n",
            "음수가 입력되었습니다.\n",
            "음수가 입력되었습니다.\n",
            "음수가 입력되었습니다.\n",
            "음수가 입력되었습니다.\n",
            "음수가 입력되었습니다.\n",
            "음수가 입력되었습니다.\n",
            "음수가 입력되었습니다.\n",
            "음수가 입력되었습니다.\n",
            "음수가 입력되었습니다.\n",
            "음수가 입력되었습니다.\n",
            "음수가 입력되었습니다.\n",
            "음수가 입력되었습니다.\n",
            "음수가 입력되었습니다.\n",
            "음수가 입력되었습니다.\n",
            "음수가 입력되었습니다.\n",
            "음수가 입력되었습니다.\n",
            "음수가 입력되었습니다.\n",
            "음수가 입력되었습니다.\n",
            "음수가 입력되었습니다.\n",
            "음수가 입력되었습니다.\n",
            "음수가 입력되었습니다.\n",
            "음수가 입력되었습니다.\n",
            "음수가 입력되었습니다.\n",
            "음수가 입력되었습니다.\n",
            "음수가 입력되었습니다.\n",
            "음수가 입력되었습니다.\n",
            "음수가 입력되었습니다.\n",
            "음수가 입력되었습니다.\n",
            "음수가 입력되었습니다.\n",
            "음수가 입력되었습니다.\n",
            "음수가 입력되었습니다.\n",
            "음수가 입력되었습니다.\n",
            "음수가 입력되었습니다.\n",
            "음수가 입력되었습니다.\n",
            "음수가 입력되었습니다.\n",
            "음수가 입력되었습니다.\n",
            "음수가 입력되었습니다.\n",
            "음수가 입력되었습니다.\n",
            "음수가 입력되었습니다.\n",
            "음수가 입력되었습니다.\n",
            "음수가 입력되었습니다.\n",
            "음수가 입력되었습니다.\n",
            "음수가 입력되었습니다.\n",
            "음수가 입력되었습니다.\n",
            "음수가 입력되었습니다.\n",
            "음수가 입력되었습니다.\n",
            "음수가 입력되었습니다.\n",
            "음수가 입력되었습니다.\n",
            "음수가 입력되었습니다.\n",
            "음수가 입력되었습니다.\n",
            "음수가 입력되었습니다.\n",
            "음수가 입력되었습니다.\n",
            "음수가 입력되었습니다.\n",
            "음수가 입력되었습니다.\n",
            "음수가 입력되었습니다.\n",
            "음수가 입력되었습니다.\n",
            "음수가 입력되었습니다.\n",
            "음수가 입력되었습니다.\n",
            "음수가 입력되었습니다.\n",
            "음수가 입력되었습니다.\n",
            "음수가 입력되었습니다.\n",
            "음수가 입력되었습니다.\n",
            "음수가 입력되었습니다.\n",
            "음수가 입력되었습니다.\n",
            "음수가 입력되었습니다.\n",
            "음수가 입력되었습니다.\n",
            "음수가 입력되었습니다.\n",
            "음수가 입력되었습니다.\n",
            "음수가 입력되었습니다.\n",
            "음수가 입력되었습니다.\n",
            "음수가 입력되었습니다.\n",
            "음수가 입력되었습니다.\n",
            "음수가 입력되었습니다.\n",
            "음수가 입력되었습니다.\n",
            "음수가 입력되었습니다.\n",
            "음수가 입력되었습니다.\n",
            "음수가 입력되었습니다.\n",
            "음수가 입력되었습니다.\n",
            "음수가 입력되었습니다.\n",
            "음수가 입력되었습니다.\n",
            "음수가 입력되었습니다.\n",
            "음수가 입력되었습니다.\n",
            "음수가 입력되었습니다.\n",
            "음수가 입력되었습니다.\n",
            "음수가 입력되었습니다.\n",
            "음수가 입력되었습니다.\n",
            "음수가 입력되었습니다.\n",
            "음수가 입력되었습니다.\n",
            "음수가 입력되었습니다.\n",
            "음수가 입력되었습니다.\n",
            "음수가 입력되었습니다.\n",
            "음수가 입력되었습니다.\n",
            "음수가 입력되었습니다.\n",
            "음수가 입력되었습니다.\n",
            "음수가 입력되었습니다.\n",
            "음수가 입력되었습니다.\n",
            "음수가 입력되었습니다.\n",
            "음수가 입력되었습니다.\n",
            "음수가 입력되었습니다.\n",
            "음수가 입력되었습니다.\n",
            "음수가 입력되었습니다.\n",
            "음수가 입력되었습니다.\n",
            "음수가 입력되었습니다.\n",
            "음수가 입력되었습니다.\n",
            "음수가 입력되었습니다.\n",
            "음수가 입력되었습니다.\n",
            "음수가 입력되었습니다.\n",
            "음수가 입력되었습니다.\n",
            "음수가 입력되었습니다.\n",
            "음수가 입력되었습니다.\n",
            "음수가 입력되었습니다.\n",
            "음수가 입력되었습니다.\n",
            "음수가 입력되었습니다.\n",
            "음수가 입력되었습니다.\n",
            "음수가 입력되었습니다.\n",
            "음수가 입력되었습니다.\n",
            "음수가 입력되었습니다.\n",
            "음수가 입력되었습니다.\n",
            "음수가 입력되었습니다.\n",
            "음수가 입력되었습니다.\n",
            "음수가 입력되었습니다.\n",
            "음수가 입력되었습니다.\n",
            "음수가 입력되었습니다.\n",
            "음수가 입력되었습니다.\n",
            "음수가 입력되었습니다.\n",
            "음수가 입력되었습니다.\n",
            "음수가 입력되었습니다.\n",
            "음수가 입력되었습니다.\n",
            "음수가 입력되었습니다.\n",
            "음수가 입력되었습니다.\n",
            "음수가 입력되었습니다.\n",
            "음수가 입력되었습니다.\n",
            "음수가 입력되었습니다.\n",
            "음수가 입력되었습니다.\n",
            "음수가 입력되었습니다.\n",
            "음수가 입력되었습니다.\n",
            "음수가 입력되었습니다.\n",
            "음수가 입력되었습니다.\n",
            "음수가 입력되었습니다.\n",
            "음수가 입력되었습니다.\n",
            "음수가 입력되었습니다.\n",
            "음수가 입력되었습니다.\n",
            "음수가 입력되었습니다.\n",
            "음수가 입력되었습니다.\n",
            "음수가 입력되었습니다.\n",
            "음수가 입력되었습니다.\n",
            "음수가 입력되었습니다.\n",
            "음수가 입력되었습니다.\n",
            "음수가 입력되었습니다.\n",
            "음수가 입력되었습니다.\n",
            "음수가 입력되었습니다.\n",
            "음수가 입력되었습니다.\n",
            "음수가 입력되었습니다.\n",
            "음수가 입력되었습니다.\n",
            "음수가 입력되었습니다.\n",
            "음수가 입력되었습니다.\n",
            "음수가 입력되었습니다.\n",
            "음수가 입력되었습니다.\n",
            "음수가 입력되었습니다.\n",
            "음수가 입력되었습니다.\n",
            "음수가 입력되었습니다.\n",
            "음수가 입력되었습니다.\n",
            "음수가 입력되었습니다.\n",
            "음수가 입력되었습니다.\n",
            "음수가 입력되었습니다.\n",
            "음수가 입력되었습니다.\n",
            "음수가 입력되었습니다.\n",
            "음수가 입력되었습니다.\n",
            "음수가 입력되었습니다.\n",
            "음수가 입력되었습니다.\n",
            "음수가 입력되었습니다.\n",
            "음수가 입력되었습니다.\n",
            "음수가 입력되었습니다.\n",
            "음수가 입력되었습니다.\n",
            "음수가 입력되었습니다.\n",
            "음수가 입력되었습니다.\n",
            "음수가 입력되었습니다.\n",
            "음수가 입력되었습니다.\n",
            "음수가 입력되었습니다.\n",
            "음수가 입력되었습니다.\n",
            "음수가 입력되었습니다.\n",
            "음수가 입력되었습니다.\n",
            "음수가 입력되었습니다.\n",
            "음수가 입력되었습니다.\n",
            "음수가 입력되었습니다.\n",
            "음수가 입력되었습니다.\n",
            "음수가 입력되었습니다.\n",
            "음수가 입력되었습니다.\n",
            "음수가 입력되었습니다.\n",
            "음수가 입력되었습니다.\n",
            "음수가 입력되었습니다.\n",
            "음수가 입력되었습니다.\n",
            "음수가 입력되었습니다.\n",
            "음수가 입력되었습니다.\n",
            "음수가 입력되었습니다.\n",
            "음수가 입력되었습니다.\n",
            "음수가 입력되었습니다.\n",
            "음수가 입력되었습니다.\n",
            "음수가 입력되었습니다.\n",
            "음수가 입력되었습니다.\n",
            "음수가 입력되었습니다.\n",
            "음수가 입력되었습니다.\n",
            "음수가 입력되었습니다.\n",
            "음수가 입력되었습니다.\n",
            "음수가 입력되었습니다.\n",
            "음수가 입력되었습니다.\n",
            "음수가 입력되었습니다.\n",
            "음수가 입력되었습니다.\n",
            "음수가 입력되었습니다.\n",
            "음수가 입력되었습니다.\n",
            "음수가 입력되었습니다.\n",
            "음수가 입력되었습니다.\n",
            "음수가 입력되었습니다.\n",
            "음수가 입력되었습니다.\n",
            "음수가 입력되었습니다.\n",
            "음수가 입력되었습니다.\n",
            "음수가 입력되었습니다.\n",
            "음수가 입력되었습니다.\n",
            "음수가 입력되었습니다.\n",
            "음수가 입력되었습니다.\n",
            "음수가 입력되었습니다.\n",
            "음수가 입력되었습니다.\n",
            "음수가 입력되었습니다.\n",
            "음수가 입력되었습니다.\n",
            "음수가 입력되었습니다.\n",
            "음수가 입력되었습니다.\n",
            "음수가 입력되었습니다.\n",
            "음수가 입력되었습니다.\n",
            "음수가 입력되었습니다.\n",
            "음수가 입력되었습니다.\n",
            "음수가 입력되었습니다.\n",
            "음수가 입력되었습니다.\n",
            "음수가 입력되었습니다.\n",
            "음수가 입력되었습니다.\n",
            "음수가 입력되었습니다.\n",
            "음수가 입력되었습니다.\n",
            "음수가 입력되었습니다.\n",
            "음수가 입력되었습니다.\n",
            "음수가 입력되었습니다.\n",
            "음수가 입력되었습니다.\n",
            "음수가 입력되었습니다.\n",
            "음수가 입력되었습니다.\n",
            "음수가 입력되었습니다.\n",
            "음수가 입력되었습니다.\n",
            "음수가 입력되었습니다.\n",
            "음수가 입력되었습니다.\n",
            "음수가 입력되었습니다.\n",
            "음수가 입력되었습니다.\n",
            "음수가 입력되었습니다.\n",
            "음수가 입력되었습니다.\n",
            "음수가 입력되었습니다.\n",
            "음수가 입력되었습니다.\n",
            "음수가 입력되었습니다.\n",
            "음수가 입력되었습니다.\n",
            "음수가 입력되었습니다.\n",
            "음수가 입력되었습니다.\n",
            "음수가 입력되었습니다.\n",
            "음수가 입력되었습니다.\n",
            "음수가 입력되었습니다.\n",
            "음수가 입력되었습니다.\n",
            "음수가 입력되었습니다.\n",
            "음수가 입력되었습니다.\n",
            "음수가 입력되었습니다.\n",
            "음수가 입력되었습니다.\n",
            "음수가 입력되었습니다.\n",
            "음수가 입력되었습니다.\n",
            "음수가 입력되었습니다.\n",
            "음수가 입력되었습니다.\n",
            "음수가 입력되었습니다.\n",
            "음수가 입력되었습니다.\n",
            "음수가 입력되었습니다.\n",
            "음수가 입력되었습니다.\n",
            "음수가 입력되었습니다.\n",
            "음수가 입력되었습니다.\n",
            "음수가 입력되었습니다.\n",
            "음수가 입력되었습니다.\n",
            "음수가 입력되었습니다.\n",
            "음수가 입력되었습니다.\n",
            "음수가 입력되었습니다.\n",
            "음수가 입력되었습니다.\n",
            "음수가 입력되었습니다.\n",
            "음수가 입력되었습니다.\n",
            "음수가 입력되었습니다.\n",
            "음수가 입력되었습니다.\n",
            "음수가 입력되었습니다.\n",
            "음수가 입력되었습니다.\n",
            "음수가 입력되었습니다.\n",
            "음수가 입력되었습니다.\n",
            "음수가 입력되었습니다.\n",
            "음수가 입력되었습니다.\n",
            "음수가 입력되었습니다.\n",
            "음수가 입력되었습니다.\n",
            "음수가 입력되었습니다.\n",
            "음수가 입력되었습니다.\n",
            "음수가 입력되었습니다.\n",
            "음수가 입력되었습니다.\n",
            "음수가 입력되었습니다.\n",
            "음수가 입력되었습니다.\n",
            "음수가 입력되었습니다.\n",
            "음수가 입력되었습니다.\n",
            "음수가 입력되었습니다.\n",
            "음수가 입력되었습니다.\n",
            "음수가 입력되었습니다.\n",
            "음수가 입력되었습니다.\n",
            "음수가 입력되었습니다.\n",
            "음수가 입력되었습니다.\n",
            "음수가 입력되었습니다.\n",
            "음수가 입력되었습니다.\n",
            "음수가 입력되었습니다.\n",
            "음수가 입력되었습니다.\n",
            "음수가 입력되었습니다.\n",
            "음수가 입력되었습니다.\n",
            "음수가 입력되었습니다.\n",
            "음수가 입력되었습니다.\n",
            "음수가 입력되었습니다.\n",
            "음수가 입력되었습니다.\n",
            "음수가 입력되었습니다.\n",
            "음수가 입력되었습니다.\n",
            "음수가 입력되었습니다.\n",
            "음수가 입력되었습니다.\n",
            "음수가 입력되었습니다.\n",
            "음수가 입력되었습니다.\n",
            "음수가 입력되었습니다.\n",
            "음수가 입력되었습니다.\n",
            "음수가 입력되었습니다.\n",
            "음수가 입력되었습니다.\n",
            "음수가 입력되었습니다.\n",
            "음수가 입력되었습니다.\n",
            "음수가 입력되었습니다.\n",
            "음수가 입력되었습니다.\n",
            "음수가 입력되었습니다.\n",
            "음수가 입력되었습니다.\n",
            "음수가 입력되었습니다.\n",
            "음수가 입력되었습니다.\n",
            "음수가 입력되었습니다.\n",
            "음수가 입력되었습니다.\n",
            "음수가 입력되었습니다.\n",
            "음수가 입력되었습니다.\n",
            "음수가 입력되었습니다.\n",
            "음수가 입력되었습니다.\n",
            "음수가 입력되었습니다.\n",
            "음수가 입력되었습니다.\n",
            "음수가 입력되었습니다.\n",
            "음수가 입력되었습니다.\n",
            "음수가 입력되었습니다.\n",
            "음수가 입력되었습니다.\n",
            "음수가 입력되었습니다.\n",
            "음수가 입력되었습니다.\n",
            "음수가 입력되었습니다.\n",
            "음수가 입력되었습니다.\n",
            "음수가 입력되었습니다.\n",
            "음수가 입력되었습니다.\n",
            "음수가 입력되었습니다.\n",
            "음수가 입력되었습니다.\n",
            "음수가 입력되었습니다.\n",
            "음수가 입력되었습니다.\n",
            "음수가 입력되었습니다.\n",
            "음수가 입력되었습니다.\n",
            "음수가 입력되었습니다.\n",
            "음수가 입력되었습니다.\n",
            "음수가 입력되었습니다.\n",
            "음수가 입력되었습니다.\n",
            "음수가 입력되었습니다.\n",
            "음수가 입력되었습니다.\n",
            "음수가 입력되었습니다.\n",
            "음수가 입력되었습니다.\n",
            "음수가 입력되었습니다.\n",
            "음수가 입력되었습니다.\n",
            "음수가 입력되었습니다.\n",
            "음수가 입력되었습니다.\n",
            "음수가 입력되었습니다.\n",
            "음수가 입력되었습니다.\n",
            "음수가 입력되었습니다.\n",
            "음수가 입력되었습니다.\n",
            "음수가 입력되었습니다.\n",
            "음수가 입력되었습니다.\n",
            "음수가 입력되었습니다.\n",
            "음수가 입력되었습니다.\n",
            "음수가 입력되었습니다.\n",
            "음수가 입력되었습니다.\n",
            "음수가 입력되었습니다.\n",
            "음수가 입력되었습니다.\n",
            "음수가 입력되었습니다.\n",
            "음수가 입력되었습니다.\n",
            "음수가 입력되었습니다.\n",
            "음수가 입력되었습니다.\n",
            "음수가 입력되었습니다.\n",
            "음수가 입력되었습니다.\n",
            "음수가 입력되었습니다.\n",
            "음수가 입력되었습니다.\n",
            "음수가 입력되었습니다.\n",
            "음수가 입력되었습니다.\n",
            "음수가 입력되었습니다.\n",
            "음수가 입력되었습니다.\n",
            "음수가 입력되었습니다.\n",
            "음수가 입력되었습니다.\n",
            "음수가 입력되었습니다.\n",
            "음수가 입력되었습니다.\n",
            "음수가 입력되었습니다.\n",
            "음수가 입력되었습니다.\n",
            "음수가 입력되었습니다.\n",
            "음수가 입력되었습니다.\n",
            "음수가 입력되었습니다.\n",
            "음수가 입력되었습니다.\n",
            "음수가 입력되었습니다.\n",
            "음수가 입력되었습니다.\n",
            "음수가 입력되었습니다.\n",
            "음수가 입력되었습니다.\n",
            "음수가 입력되었습니다.\n",
            "음수가 입력되었습니다.\n",
            "음수가 입력되었습니다.\n",
            "음수가 입력되었습니다.\n",
            "음수가 입력되었습니다.\n",
            "음수가 입력되었습니다.\n",
            "음수가 입력되었습니다.\n",
            "음수가 입력되었습니다.\n",
            "음수가 입력되었습니다.\n",
            "음수가 입력되었습니다.\n",
            "음수가 입력되었습니다.\n",
            "음수가 입력되었습니다.\n",
            "음수가 입력되었습니다.\n",
            "음수가 입력되었습니다.\n",
            "음수가 입력되었습니다.\n",
            "음수가 입력되었습니다.\n",
            "음수가 입력되었습니다.\n",
            "음수가 입력되었습니다.\n",
            "음수가 입력되었습니다.\n",
            "음수가 입력되었습니다.\n",
            "음수가 입력되었습니다.\n",
            "음수가 입력되었습니다.\n",
            "음수가 입력되었습니다.\n",
            "음수가 입력되었습니다.\n",
            "음수가 입력되었습니다.\n",
            "음수가 입력되었습니다.\n",
            "음수가 입력되었습니다.\n",
            "음수가 입력되었습니다.\n",
            "음수가 입력되었습니다.\n",
            "음수가 입력되었습니다.\n",
            "음수가 입력되었습니다.\n",
            "음수가 입력되었습니다.\n",
            "음수가 입력되었습니다.\n",
            "음수가 입력되었습니다.\n",
            "음수가 입력되었습니다.\n",
            "음수가 입력되었습니다.\n",
            "음수가 입력되었습니다.\n",
            "음수가 입력되었습니다.\n",
            "음수가 입력되었습니다.\n",
            "음수가 입력되었습니다.\n",
            "음수가 입력되었습니다.\n",
            "음수가 입력되었습니다.\n",
            "음수가 입력되었습니다.\n",
            "음수가 입력되었습니다.\n",
            "음수가 입력되었습니다.\n",
            "음수가 입력되었습니다.\n",
            "음수가 입력되었습니다.\n",
            "음수가 입력되었습니다.\n",
            "음수가 입력되었습니다.\n",
            "음수가 입력되었습니다.\n",
            "음수가 입력되었습니다.\n",
            "음수가 입력되었습니다.\n",
            "음수가 입력되었습니다.\n",
            "음수가 입력되었습니다.\n",
            "음수가 입력되었습니다.\n",
            "음수가 입력되었습니다.\n",
            "음수가 입력되었습니다.\n",
            "음수가 입력되었습니다.\n",
            "음수가 입력되었습니다.\n",
            "음수가 입력되었습니다.\n",
            "음수가 입력되었습니다.\n",
            "음수가 입력되었습니다.\n",
            "음수가 입력되었습니다.\n",
            "음수가 입력되었습니다.\n",
            "음수가 입력되었습니다.\n",
            "음수가 입력되었습니다.\n",
            "음수가 입력되었습니다.\n",
            "음수가 입력되었습니다.\n",
            "음수가 입력되었습니다.\n",
            "음수가 입력되었습니다.\n",
            "음수가 입력되었습니다.\n",
            "음수가 입력되었습니다.\n",
            "음수가 입력되었습니다.\n",
            "음수가 입력되었습니다.\n",
            "음수가 입력되었습니다.\n",
            "음수가 입력되었습니다.\n",
            "음수가 입력되었습니다.\n",
            "음수가 입력되었습니다.\n",
            "음수가 입력되었습니다.\n",
            "음수가 입력되었습니다.\n",
            "음수가 입력되었습니다.\n",
            "음수가 입력되었습니다.\n",
            "음수가 입력되었습니다.\n",
            "음수가 입력되었습니다.\n",
            "음수가 입력되었습니다.\n",
            "음수가 입력되었습니다.\n",
            "음수가 입력되었습니다.\n",
            "음수가 입력되었습니다.\n",
            "음수가 입력되었습니다.\n",
            "음수가 입력되었습니다.\n",
            "음수가 입력되었습니다.\n",
            "음수가 입력되었습니다.\n",
            "음수가 입력되었습니다.\n",
            "음수가 입력되었습니다.\n",
            "음수가 입력되었습니다.\n",
            "음수가 입력되었습니다.\n",
            "음수가 입력되었습니다.\n",
            "음수가 입력되었습니다.\n",
            "음수가 입력되었습니다.\n",
            "음수가 입력되었습니다.\n",
            "음수가 입력되었습니다.\n",
            "음수가 입력되었습니다.\n",
            "음수가 입력되었습니다.\n",
            "음수가 입력되었습니다.\n",
            "음수가 입력되었습니다.\n",
            "음수가 입력되었습니다.\n",
            "음수가 입력되었습니다.\n",
            "음수가 입력되었습니다.\n",
            "음수가 입력되었습니다.\n",
            "음수가 입력되었습니다.\n",
            "음수가 입력되었습니다.\n",
            "음수가 입력되었습니다.\n",
            "음수가 입력되었습니다.\n",
            "음수가 입력되었습니다.\n",
            "음수가 입력되었습니다.\n",
            "음수가 입력되었습니다.\n",
            "음수가 입력되었습니다.\n",
            "음수가 입력되었습니다.\n",
            "음수가 입력되었습니다.\n",
            "음수가 입력되었습니다.\n",
            "음수가 입력되었습니다.\n",
            "음수가 입력되었습니다.\n",
            "음수가 입력되었습니다.\n",
            "음수가 입력되었습니다.\n",
            "음수가 입력되었습니다.\n",
            "음수가 입력되었습니다.\n",
            "음수가 입력되었습니다.\n",
            "음수가 입력되었습니다.\n",
            "음수가 입력되었습니다.\n",
            "음수가 입력되었습니다.\n",
            "음수가 입력되었습니다.\n",
            "음수가 입력되었습니다.\n",
            "음수가 입력되었습니다.\n",
            "음수가 입력되었습니다.\n",
            "음수가 입력되었습니다.\n",
            "음수가 입력되었습니다.\n",
            "음수가 입력되었습니다.\n",
            "음수가 입력되었습니다.\n",
            "음수가 입력되었습니다.\n",
            "음수가 입력되었습니다.\n",
            "음수가 입력되었습니다.\n",
            "음수가 입력되었습니다.\n",
            "음수가 입력되었습니다.\n",
            "음수가 입력되었습니다.\n",
            "음수가 입력되었습니다.\n",
            "음수가 입력되었습니다.\n",
            "음수가 입력되었습니다.\n",
            "음수가 입력되었습니다.\n",
            "음수가 입력되었습니다.\n",
            "음수가 입력되었습니다.\n",
            "음수가 입력되었습니다.\n",
            "음수가 입력되었습니다.\n",
            "음수가 입력되었습니다.\n",
            "음수가 입력되었습니다.\n",
            "음수가 입력되었습니다.\n",
            "음수가 입력되었습니다.\n",
            "음수가 입력되었습니다.\n",
            "음수가 입력되었습니다.\n",
            "음수가 입력되었습니다.\n",
            "음수가 입력되었습니다.\n",
            "음수가 입력되었습니다.\n",
            "음수가 입력되었습니다.\n",
            "음수가 입력되었습니다.\n",
            "음수가 입력되었습니다.\n",
            "음수가 입력되었습니다.\n",
            "음수가 입력되었습니다.\n",
            "음수가 입력되었습니다.\n",
            "음수가 입력되었습니다.\n",
            "음수가 입력되었습니다.\n",
            "음수가 입력되었습니다.\n",
            "음수가 입력되었습니다.\n",
            "음수가 입력되었습니다.\n",
            "음수가 입력되었습니다.\n",
            "음수가 입력되었습니다.\n",
            "음수가 입력되었습니다.\n",
            "음수가 입력되었습니다.\n",
            "음수가 입력되었습니다.\n",
            "음수가 입력되었습니다.\n",
            "음수가 입력되었습니다.\n",
            "음수가 입력되었습니다.\n",
            "음수가 입력되었습니다.\n",
            "음수가 입력되었습니다.\n",
            "음수가 입력되었습니다.\n",
            "음수가 입력되었습니다.\n",
            "음수가 입력되었습니다.\n",
            "음수가 입력되었습니다.\n",
            "음수가 입력되었습니다.\n",
            "음수가 입력되었습니다.\n",
            "음수가 입력되었습니다.\n",
            "음수가 입력되었습니다.\n",
            "음수가 입력되었습니다.\n",
            "음수가 입력되었습니다.\n",
            "음수가 입력되었습니다.\n",
            "음수가 입력되었습니다.\n",
            "음수가 입력되었습니다.\n",
            "음수가 입력되었습니다.\n",
            "음수가 입력되었습니다.\n",
            "음수가 입력되었습니다.\n",
            "음수가 입력되었습니다.\n",
            "음수가 입력되었습니다.\n",
            "음수가 입력되었습니다.\n",
            "음수가 입력되었습니다.\n",
            "음수가 입력되었습니다.\n",
            "음수가 입력되었습니다.\n",
            "음수가 입력되었습니다.\n",
            "음수가 입력되었습니다.\n",
            "음수가 입력되었습니다.\n",
            "음수가 입력되었습니다.\n",
            "음수가 입력되었습니다.\n",
            "음수가 입력되었습니다.\n",
            "음수가 입력되었습니다.\n",
            "음수가 입력되었습니다.\n",
            "음수가 입력되었습니다.\n",
            "음수가 입력되었습니다.\n",
            "음수가 입력되었습니다.\n",
            "음수가 입력되었습니다.\n",
            "음수가 입력되었습니다.\n",
            "음수가 입력되었습니다.\n",
            "음수가 입력되었습니다.\n",
            "음수가 입력되었습니다.\n",
            "음수가 입력되었습니다.\n",
            "음수가 입력되었습니다.\n",
            "음수가 입력되었습니다.\n",
            "음수가 입력되었습니다.\n",
            "음수가 입력되었습니다.\n",
            "음수가 입력되었습니다.\n",
            "음수가 입력되었습니다.\n",
            "음수가 입력되었습니다.\n",
            "음수가 입력되었습니다.\n",
            "음수가 입력되었습니다.\n",
            "음수가 입력되었습니다.\n",
            "음수가 입력되었습니다.\n",
            "음수가 입력되었습니다.\n",
            "음수가 입력되었습니다.\n",
            "음수가 입력되었습니다.\n",
            "음수가 입력되었습니다.\n",
            "음수가 입력되었습니다.\n",
            "음수가 입력되었습니다.\n",
            "음수가 입력되었습니다.\n",
            "음수가 입력되었습니다.\n",
            "음수가 입력되었습니다.\n",
            "음수가 입력되었습니다.\n",
            "음수가 입력되었습니다.\n",
            "음수가 입력되었습니다.\n",
            "음수가 입력되었습니다.\n",
            "음수가 입력되었습니다.\n",
            "음수가 입력되었습니다.\n",
            "음수가 입력되었습니다.\n",
            "음수가 입력되었습니다.\n",
            "음수가 입력되었습니다.\n",
            "음수가 입력되었습니다.\n",
            "음수가 입력되었습니다.\n",
            "음수가 입력되었습니다.\n",
            "음수가 입력되었습니다.\n",
            "음수가 입력되었습니다.\n",
            "음수가 입력되었습니다.\n",
            "음수가 입력되었습니다.\n",
            "음수가 입력되었습니다.\n",
            "음수가 입력되었습니다.\n",
            "음수가 입력되었습니다.\n",
            "음수가 입력되었습니다.\n",
            "음수가 입력되었습니다.\n",
            "음수가 입력되었습니다.\n",
            "음수가 입력되었습니다.\n",
            "음수가 입력되었습니다.\n",
            "음수가 입력되었습니다.\n",
            "음수가 입력되었습니다.\n",
            "음수가 입력되었습니다.\n",
            "음수가 입력되었습니다.\n",
            "음수가 입력되었습니다.\n",
            "음수가 입력되었습니다.\n",
            "음수가 입력되었습니다.\n",
            "음수가 입력되었습니다.\n",
            "음수가 입력되었습니다.\n",
            "음수가 입력되었습니다.\n",
            "음수가 입력되었습니다.\n",
            "음수가 입력되었습니다.\n",
            "음수가 입력되었습니다.\n",
            "음수가 입력되었습니다.\n",
            "음수가 입력되었습니다.\n",
            "음수가 입력되었습니다.\n",
            "음수가 입력되었습니다.\n",
            "음수가 입력되었습니다.\n",
            "음수가 입력되었습니다.\n",
            "음수가 입력되었습니다.\n",
            "음수가 입력되었습니다.\n",
            "음수가 입력되었습니다.\n",
            "음수가 입력되었습니다.\n",
            "음수가 입력되었습니다.\n",
            "음수가 입력되었습니다.\n",
            "음수가 입력되었습니다.\n",
            "음수가 입력되었습니다.\n",
            "음수가 입력되었습니다.\n",
            "음수가 입력되었습니다.\n",
            "음수가 입력되었습니다.\n",
            "음수가 입력되었습니다.\n",
            "음수가 입력되었습니다.\n",
            "음수가 입력되었습니다.\n",
            "음수가 입력되었습니다.\n",
            "음수가 입력되었습니다.\n",
            "음수가 입력되었습니다.\n",
            "음수가 입력되었습니다.\n",
            "음수가 입력되었습니다.\n",
            "음수가 입력되었습니다.\n",
            "음수가 입력되었습니다.\n",
            "음수가 입력되었습니다.\n",
            "음수가 입력되었습니다.\n",
            "음수가 입력되었습니다.\n",
            "음수가 입력되었습니다.\n",
            "음수가 입력되었습니다.\n",
            "음수가 입력되었습니다.\n",
            "음수가 입력되었습니다.\n",
            "음수가 입력되었습니다.\n",
            "음수가 입력되었습니다.\n",
            "음수가 입력되었습니다.\n",
            "음수가 입력되었습니다.\n",
            "음수가 입력되었습니다.\n",
            "음수가 입력되었습니다.\n",
            "음수가 입력되었습니다.\n",
            "음수가 입력되었습니다.\n",
            "음수가 입력되었습니다.\n",
            "음수가 입력되었습니다.\n",
            "음수가 입력되었습니다.\n",
            "음수가 입력되었습니다.\n",
            "음수가 입력되었습니다.\n",
            "음수가 입력되었습니다.\n",
            "음수가 입력되었습니다.\n",
            "음수가 입력되었습니다.\n",
            "음수가 입력되었습니다.\n",
            "음수가 입력되었습니다.\n",
            "음수가 입력되었습니다.\n",
            "음수가 입력되었습니다.\n",
            "음수가 입력되었습니다.\n",
            "음수가 입력되었습니다.\n",
            "음수가 입력되었습니다.\n",
            "음수가 입력되었습니다.\n",
            "음수가 입력되었습니다.\n",
            "음수가 입력되었습니다.\n",
            "음수가 입력되었습니다.\n",
            "음수가 입력되었습니다.\n",
            "음수가 입력되었습니다.\n",
            "음수가 입력되었습니다.\n",
            "음수가 입력되었습니다.\n",
            "음수가 입력되었습니다.\n",
            "음수가 입력되었습니다.\n",
            "음수가 입력되었습니다.\n",
            "음수가 입력되었습니다.\n",
            "음수가 입력되었습니다.\n",
            "음수가 입력되었습니다.\n",
            "음수가 입력되었습니다.\n",
            "음수가 입력되었습니다.\n",
            "음수가 입력되었습니다.\n",
            "음수가 입력되었습니다.\n",
            "음수가 입력되었습니다.\n",
            "음수가 입력되었습니다.\n",
            "음수가 입력되었습니다.\n",
            "음수가 입력되었습니다.\n",
            "음수가 입력되었습니다.\n",
            "음수가 입력되었습니다.\n",
            "음수가 입력되었습니다.\n",
            "음수가 입력되었습니다.\n",
            "음수가 입력되었습니다.\n",
            "음수가 입력되었습니다.\n",
            "음수가 입력되었습니다.\n",
            "음수가 입력되었습니다.\n",
            "음수가 입력되었습니다.\n",
            "음수가 입력되었습니다.\n",
            "음수가 입력되었습니다.\n",
            "음수가 입력되었습니다.\n",
            "음수가 입력되었습니다.\n",
            "음수가 입력되었습니다.\n",
            "음수가 입력되었습니다.\n",
            "음수가 입력되었습니다.\n",
            "음수가 입력되었습니다.\n",
            "음수가 입력되었습니다.\n",
            "음수가 입력되었습니다.\n",
            "음수가 입력되었습니다.\n",
            "음수가 입력되었습니다.\n",
            "음수가 입력되었습니다.\n",
            "음수가 입력되었습니다.\n",
            "음수가 입력되었습니다.\n",
            "음수가 입력되었습니다.\n",
            "음수가 입력되었습니다.\n",
            "음수가 입력되었습니다.\n",
            "음수가 입력되었습니다.\n",
            "음수가 입력되었습니다.\n",
            "음수가 입력되었습니다.\n",
            "음수가 입력되었습니다.\n",
            "음수가 입력되었습니다.\n",
            "음수가 입력되었습니다.\n",
            "음수가 입력되었습니다.\n",
            "음수가 입력되었습니다.\n",
            "음수가 입력되었습니다.\n",
            "음수가 입력되었습니다.\n",
            "음수가 입력되었습니다.\n",
            "음수가 입력되었습니다.\n",
            "음수가 입력되었습니다.\n",
            "음수가 입력되었습니다.\n",
            "음수가 입력되었습니다.\n",
            "음수가 입력되었습니다.\n",
            "음수가 입력되었습니다.\n",
            "음수가 입력되었습니다.\n",
            "음수가 입력되었습니다.\n",
            "음수가 입력되었습니다.\n",
            "음수가 입력되었습니다.\n",
            "음수가 입력되었습니다.\n",
            "음수가 입력되었습니다.\n",
            "음수가 입력되었습니다.\n",
            "음수가 입력되었습니다.\n",
            "음수가 입력되었습니다.\n",
            "음수가 입력되었습니다.\n",
            "음수가 입력되었습니다.\n",
            "음수가 입력되었습니다.\n",
            "음수가 입력되었습니다.\n",
            "음수가 입력되었습니다.\n",
            "음수가 입력되었습니다.\n",
            "음수가 입력되었습니다.\n",
            "음수가 입력되었습니다.\n",
            "음수가 입력되었습니다.\n",
            "음수가 입력되었습니다.\n",
            "음수가 입력되었습니다.\n",
            "음수가 입력되었습니다.\n",
            "음수가 입력되었습니다.\n",
            "음수가 입력되었습니다.\n",
            "음수가 입력되었습니다.\n",
            "음수가 입력되었습니다.\n",
            "음수가 입력되었습니다.\n",
            "음수가 입력되었습니다.\n",
            "음수가 입력되었습니다.\n",
            "음수가 입력되었습니다.\n",
            "음수가 입력되었습니다.\n",
            "음수가 입력되었습니다.\n",
            "음수가 입력되었습니다.\n",
            "음수가 입력되었습니다.\n",
            "음수가 입력되었습니다.\n",
            "음수가 입력되었습니다.\n",
            "음수가 입력되었습니다.\n",
            "음수가 입력되었습니다.\n",
            "음수가 입력되었습니다.\n",
            "음수가 입력되었습니다.\n",
            "음수가 입력되었습니다.\n",
            "음수가 입력되었습니다.\n",
            "음수가 입력되었습니다.\n",
            "음수가 입력되었습니다.\n",
            "음수가 입력되었습니다.\n",
            "음수가 입력되었습니다.\n",
            "음수가 입력되었습니다.\n",
            "음수가 입력되었습니다.\n",
            "음수가 입력되었습니다.\n",
            "음수가 입력되었습니다.\n",
            "음수가 입력되었습니다.\n",
            "음수가 입력되었습니다.\n",
            "음수가 입력되었습니다.\n",
            "음수가 입력되었습니다.\n",
            "음수가 입력되었습니다.\n",
            "음수가 입력되었습니다.\n",
            "음수가 입력되었습니다.\n",
            "음수가 입력되었습니다.\n",
            "음수가 입력되었습니다.\n",
            "음수가 입력되었습니다.\n",
            "음수가 입력되었습니다.\n",
            "음수가 입력되었습니다.\n",
            "음수가 입력되었습니다.\n",
            "음수가 입력되었습니다.\n",
            "음수가 입력되었습니다.\n",
            "음수가 입력되었습니다.\n",
            "음수가 입력되었습니다.\n",
            "음수가 입력되었습니다.\n",
            "음수가 입력되었습니다.\n",
            "음수가 입력되었습니다.\n",
            "음수가 입력되었습니다.\n",
            "음수가 입력되었습니다.\n",
            "음수가 입력되었습니다.\n",
            "음수가 입력되었습니다.\n",
            "음수가 입력되었습니다.\n",
            "음수가 입력되었습니다.\n",
            "음수가 입력되었습니다.\n",
            "음수가 입력되었습니다.\n",
            "음수가 입력되었습니다.\n",
            "음수가 입력되었습니다.\n",
            "음수가 입력되었습니다.\n",
            "음수가 입력되었습니다.\n",
            "음수가 입력되었습니다.\n",
            "음수가 입력되었습니다.\n",
            "음수가 입력되었습니다.\n",
            "음수가 입력되었습니다.\n",
            "음수가 입력되었습니다.\n",
            "음수가 입력되었습니다.\n",
            "음수가 입력되었습니다.\n",
            "음수가 입력되었습니다.\n",
            "음수가 입력되었습니다.\n",
            "음수가 입력되었습니다.\n",
            "음수가 입력되었습니다.\n",
            "음수가 입력되었습니다.\n",
            "음수가 입력되었습니다.\n",
            "음수가 입력되었습니다.\n",
            "음수가 입력되었습니다.\n",
            "음수가 입력되었습니다.\n",
            "음수가 입력되었습니다.\n",
            "음수가 입력되었습니다.\n",
            "음수가 입력되었습니다.\n",
            "음수가 입력되었습니다.\n",
            "음수가 입력되었습니다.\n",
            "음수가 입력되었습니다.\n",
            "음수가 입력되었습니다.\n",
            "음수가 입력되었습니다.\n",
            "음수가 입력되었습니다.\n",
            "음수가 입력되었습니다.\n",
            "음수가 입력되었습니다.\n",
            "음수가 입력되었습니다.\n",
            "음수가 입력되었습니다.\n",
            "음수가 입력되었습니다.\n",
            "음수가 입력되었습니다.\n",
            "음수가 입력되었습니다.\n",
            "음수가 입력되었습니다.\n",
            "음수가 입력되었습니다.\n",
            "음수가 입력되었습니다.\n",
            "음수가 입력되었습니다.\n",
            "음수가 입력되었습니다.\n",
            "음수가 입력되었습니다.\n",
            "음수가 입력되었습니다.\n",
            "음수가 입력되었습니다.\n",
            "음수가 입력되었습니다.\n",
            "음수가 입력되었습니다.\n",
            "음수가 입력되었습니다.\n",
            "음수가 입력되었습니다.\n",
            "음수가 입력되었습니다.\n",
            "음수가 입력되었습니다.\n",
            "음수가 입력되었습니다.\n",
            "음수가 입력되었습니다.\n",
            "음수가 입력되었습니다.\n",
            "음수가 입력되었습니다.\n",
            "음수가 입력되었습니다.\n",
            "음수가 입력되었습니다.\n",
            "음수가 입력되었습니다.\n",
            "음수가 입력되었습니다.\n",
            "음수가 입력되었습니다.\n",
            "음수가 입력되었습니다.\n",
            "음수가 입력되었습니다.\n",
            "음수가 입력되었습니다.\n",
            "음수가 입력되었습니다.\n",
            "음수가 입력되었습니다.\n",
            "음수가 입력되었습니다.\n",
            "음수가 입력되었습니다.\n",
            "음수가 입력되었습니다.\n",
            "음수가 입력되었습니다.\n",
            "음수가 입력되었습니다.\n",
            "음수가 입력되었습니다.\n",
            "음수가 입력되었습니다.\n",
            "음수가 입력되었습니다.\n",
            "음수가 입력되었습니다.\n",
            "음수가 입력되었습니다.\n",
            "음수가 입력되었습니다.\n",
            "음수가 입력되었습니다.\n",
            "음수가 입력되었습니다.\n",
            "음수가 입력되었습니다.\n",
            "음수가 입력되었습니다.\n",
            "음수가 입력되었습니다.\n",
            "음수가 입력되었습니다.\n",
            "음수가 입력되었습니다.\n",
            "음수가 입력되었습니다.\n",
            "음수가 입력되었습니다.\n",
            "음수가 입력되었습니다.\n",
            "음수가 입력되었습니다.\n",
            "음수가 입력되었습니다.\n",
            "음수가 입력되었습니다.\n",
            "음수가 입력되었습니다.\n",
            "음수가 입력되었습니다.\n",
            "음수가 입력되었습니다.\n",
            "음수가 입력되었습니다.\n",
            "음수가 입력되었습니다.\n",
            "음수가 입력되었습니다.\n",
            "음수가 입력되었습니다.\n",
            "음수가 입력되었습니다.\n",
            "음수가 입력되었습니다.\n",
            "음수가 입력되었습니다.\n",
            "음수가 입력되었습니다.\n",
            "음수가 입력되었습니다.\n",
            "음수가 입력되었습니다.\n",
            "음수가 입력되었습니다.\n",
            "음수가 입력되었습니다.\n",
            "음수가 입력되었습니다.\n",
            "음수가 입력되었습니다.\n",
            "음수가 입력되었습니다.\n",
            "음수가 입력되었습니다.\n",
            "음수가 입력되었습니다.\n",
            "음수가 입력되었습니다.\n",
            "음수가 입력되었습니다.\n",
            "음수가 입력되었습니다.\n",
            "음수가 입력되었습니다.\n",
            "음수가 입력되었습니다.\n",
            "음수가 입력되었습니다.\n",
            "음수가 입력되었습니다.\n",
            "음수가 입력되었습니다.\n",
            "음수가 입력되었습니다.\n",
            "음수가 입력되었습니다.\n",
            "음수가 입력되었습니다.\n",
            "음수가 입력되었습니다.\n",
            "음수가 입력되었습니다.\n",
            "음수가 입력되었습니다.\n",
            "음수가 입력되었습니다.\n",
            "음수가 입력되었습니다.\n",
            "음수가 입력되었습니다.\n",
            "음수가 입력되었습니다.\n",
            "음수가 입력되었습니다.\n",
            "음수가 입력되었습니다.\n",
            "음수가 입력되었습니다.\n",
            "음수가 입력되었습니다.\n",
            "음수가 입력되었습니다.\n",
            "음수가 입력되었습니다.\n",
            "음수가 입력되었습니다.\n",
            "음수가 입력되었습니다.\n",
            "음수가 입력되었습니다.\n",
            "음수가 입력되었습니다.\n",
            "음수가 입력되었습니다.\n",
            "음수가 입력되었습니다.\n",
            "음수가 입력되었습니다.\n",
            "음수가 입력되었습니다.\n",
            "음수가 입력되었습니다.\n",
            "음수가 입력되었습니다.\n",
            "음수가 입력되었습니다.\n",
            "음수가 입력되었습니다.\n",
            "음수가 입력되었습니다.\n",
            "음수가 입력되었습니다.\n",
            "음수가 입력되었습니다.\n",
            "음수가 입력되었습니다.\n",
            "음수가 입력되었습니다.\n",
            "음수가 입력되었습니다.\n",
            "음수가 입력되었습니다.\n",
            "음수가 입력되었습니다.\n",
            "음수가 입력되었습니다.\n",
            "음수가 입력되었습니다.\n",
            "음수가 입력되었습니다.\n",
            "음수가 입력되었습니다.\n",
            "음수가 입력되었습니다.\n",
            "음수가 입력되었습니다.\n",
            "음수가 입력되었습니다.\n",
            "음수가 입력되었습니다.\n",
            "음수가 입력되었습니다.\n",
            "음수가 입력되었습니다.\n",
            "음수가 입력되었습니다.\n",
            "음수가 입력되었습니다.\n",
            "음수가 입력되었습니다.\n",
            "음수가 입력되었습니다.\n",
            "음수가 입력되었습니다.\n",
            "음수가 입력되었습니다.\n",
            "음수가 입력되었습니다.\n",
            "음수가 입력되었습니다.\n",
            "음수가 입력되었습니다.\n",
            "음수가 입력되었습니다.\n",
            "음수가 입력되었습니다.\n",
            "음수가 입력되었습니다.\n",
            "음수가 입력되었습니다.\n",
            "음수가 입력되었습니다.\n",
            "음수가 입력되었습니다.\n",
            "음수가 입력되었습니다.\n",
            "음수가 입력되었습니다.\n",
            "음수가 입력되었습니다.\n",
            "음수가 입력되었습니다.\n",
            "음수가 입력되었습니다.\n",
            "음수가 입력되었습니다.\n",
            "음수가 입력되었습니다.\n",
            "음수가 입력되었습니다.\n",
            "음수가 입력되었습니다.\n",
            "음수가 입력되었습니다.\n",
            "음수가 입력되었습니다.\n",
            "음수가 입력되었습니다.\n",
            "음수가 입력되었습니다.\n",
            "음수가 입력되었습니다.\n",
            "음수가 입력되었습니다.\n",
            "음수가 입력되었습니다.\n",
            "음수가 입력되었습니다.\n",
            "음수가 입력되었습니다.\n",
            "음수가 입력되었습니다.\n",
            "음수가 입력되었습니다.\n",
            "음수가 입력되었습니다.\n",
            "음수가 입력되었습니다.\n",
            "음수가 입력되었습니다.\n",
            "음수가 입력되었습니다.\n",
            "음수가 입력되었습니다.\n",
            "음수가 입력되었습니다.\n",
            "음수가 입력되었습니다.\n",
            "음수가 입력되었습니다.\n",
            "음수가 입력되었습니다.\n",
            "음수가 입력되었습니다.\n",
            "음수가 입력되었습니다.\n",
            "음수가 입력되었습니다.\n",
            "음수가 입력되었습니다.\n",
            "음수가 입력되었습니다.\n",
            "음수가 입력되었습니다.\n",
            "음수가 입력되었습니다.\n",
            "음수가 입력되었습니다.\n",
            "음수가 입력되었습니다.\n",
            "음수가 입력되었습니다.\n",
            "음수가 입력되었습니다.\n",
            "음수가 입력되었습니다.\n",
            "음수가 입력되었습니다.\n",
            "음수가 입력되었습니다.\n",
            "음수가 입력되었습니다.\n",
            "음수가 입력되었습니다.\n",
            "음수가 입력되었습니다.\n",
            "음수가 입력되었습니다.\n",
            "음수가 입력되었습니다.\n",
            "음수가 입력되었습니다.\n",
            "음수가 입력되었습니다.\n",
            "음수가 입력되었습니다.\n",
            "음수가 입력되었습니다.\n",
            "음수가 입력되었습니다.\n",
            "음수가 입력되었습니다.\n",
            "음수가 입력되었습니다.\n",
            "음수가 입력되었습니다.\n",
            "음수가 입력되었습니다.\n",
            "음수가 입력되었습니다.\n",
            "음수가 입력되었습니다.\n",
            "음수가 입력되었습니다.\n",
            "음수가 입력되었습니다.\n",
            "음수가 입력되었습니다.\n",
            "음수가 입력되었습니다.\n",
            "음수가 입력되었습니다.\n",
            "음수가 입력되었습니다.\n",
            "음수가 입력되었습니다.\n",
            "음수가 입력되었습니다.\n",
            "음수가 입력되었습니다.\n",
            "음수가 입력되었습니다.\n",
            "음수가 입력되었습니다.\n",
            "음수가 입력되었습니다.\n",
            "음수가 입력되었습니다.\n",
            "음수가 입력되었습니다.\n",
            "음수가 입력되었습니다.\n",
            "음수가 입력되었습니다.\n",
            "음수가 입력되었습니다.\n",
            "음수가 입력되었습니다.\n",
            "음수가 입력되었습니다.\n",
            "음수가 입력되었습니다.\n",
            "음수가 입력되었습니다.\n",
            "음수가 입력되었습니다.\n",
            "음수가 입력되었습니다.\n",
            "음수가 입력되었습니다.\n",
            "음수가 입력되었습니다.\n",
            "음수가 입력되었습니다.\n",
            "음수가 입력되었습니다.\n",
            "음수가 입력되었습니다.\n",
            "음수가 입력되었습니다.\n",
            "음수가 입력되었습니다.\n",
            "음수가 입력되었습니다.\n",
            "음수가 입력되었습니다.\n",
            "음수가 입력되었습니다.\n",
            "음수가 입력되었습니다.\n",
            "음수가 입력되었습니다.\n",
            "음수가 입력되었습니다.\n",
            "음수가 입력되었습니다.\n",
            "음수가 입력되었습니다.\n",
            "음수가 입력되었습니다.\n",
            "음수가 입력되었습니다.\n",
            "음수가 입력되었습니다.\n",
            "음수가 입력되었습니다.\n",
            "음수가 입력되었습니다.\n",
            "음수가 입력되었습니다.\n",
            "음수가 입력되었습니다.\n",
            "음수가 입력되었습니다.\n",
            "음수가 입력되었습니다.\n",
            "음수가 입력되었습니다.\n",
            "음수가 입력되었습니다.\n",
            "음수가 입력되었습니다.\n",
            "음수가 입력되었습니다.\n",
            "음수가 입력되었습니다.\n",
            "음수가 입력되었습니다.\n",
            "음수가 입력되었습니다.\n",
            "음수가 입력되었습니다.\n",
            "음수가 입력되었습니다.\n",
            "음수가 입력되었습니다.\n",
            "음수가 입력되었습니다.\n",
            "음수가 입력되었습니다.\n",
            "음수가 입력되었습니다.\n",
            "음수가 입력되었습니다.\n",
            "음수가 입력되었습니다.\n",
            "음수가 입력되었습니다.\n",
            "음수가 입력되었습니다.\n",
            "음수가 입력되었습니다.\n",
            "음수가 입력되었습니다.\n",
            "음수가 입력되었습니다.\n",
            "음수가 입력되었습니다.\n",
            "음수가 입력되었습니다.\n",
            "음수가 입력되었습니다.\n",
            "음수가 입력되었습니다.\n",
            "음수가 입력되었습니다.\n",
            "음수가 입력되었습니다.\n",
            "음수가 입력되었습니다.\n",
            "음수가 입력되었습니다.\n",
            "음수가 입력되었습니다.\n",
            "음수가 입력되었습니다.\n",
            "음수가 입력되었습니다.\n",
            "음수가 입력되었습니다.\n",
            "음수가 입력되었습니다.\n",
            "음수가 입력되었습니다.\n",
            "음수가 입력되었습니다.\n",
            "음수가 입력되었습니다.\n",
            "음수가 입력되었습니다.\n",
            "음수가 입력되었습니다.\n",
            "음수가 입력되었습니다.\n",
            "음수가 입력되었습니다.\n",
            "음수가 입력되었습니다.\n",
            "음수가 입력되었습니다.\n",
            "음수가 입력되었습니다.\n",
            "음수가 입력되었습니다.\n",
            "음수가 입력되었습니다.\n",
            "음수가 입력되었습니다.\n",
            "음수가 입력되었습니다.\n",
            "음수가 입력되었습니다.\n",
            "음수가 입력되었습니다.\n",
            "음수가 입력되었습니다.\n",
            "음수가 입력되었습니다.\n",
            "음수가 입력되었습니다.\n",
            "음수가 입력되었습니다.\n",
            "음수가 입력되었습니다.\n",
            "음수가 입력되었습니다.\n",
            "음수가 입력되었습니다.\n",
            "음수가 입력되었습니다.\n",
            "음수가 입력되었습니다.\n",
            "음수가 입력되었습니다.\n",
            "음수가 입력되었습니다.\n",
            "음수가 입력되었습니다.\n",
            "음수가 입력되었습니다.\n",
            "음수가 입력되었습니다.\n",
            "음수가 입력되었습니다.\n",
            "음수가 입력되었습니다.\n",
            "음수가 입력되었습니다.\n",
            "음수가 입력되었습니다.\n",
            "음수가 입력되었습니다.\n",
            "음수가 입력되었습니다.\n",
            "음수가 입력되었습니다.\n",
            "음수가 입력되었습니다.\n",
            "음수가 입력되었습니다.\n",
            "음수가 입력되었습니다.\n",
            "음수가 입력되었습니다.\n",
            "음수가 입력되었습니다.\n",
            "음수가 입력되었습니다.\n",
            "음수가 입력되었습니다.\n",
            "음수가 입력되었습니다.\n",
            "음수가 입력되었습니다.\n",
            "음수가 입력되었습니다.\n",
            "음수가 입력되었습니다.\n",
            "음수가 입력되었습니다.\n",
            "음수가 입력되었습니다.\n",
            "음수가 입력되었습니다.\n",
            "음수가 입력되었습니다.\n",
            "음수가 입력되었습니다.\n",
            "음수가 입력되었습니다.\n",
            "음수가 입력되었습니다.\n",
            "음수가 입력되었습니다.\n",
            "음수가 입력되었습니다.\n",
            "음수가 입력되었습니다.\n",
            "음수가 입력되었습니다.\n",
            "음수가 입력되었습니다.\n",
            "음수가 입력되었습니다.\n",
            "음수가 입력되었습니다.\n",
            "음수가 입력되었습니다.\n",
            "음수가 입력되었습니다.\n",
            "음수가 입력되었습니다.\n",
            "음수가 입력되었습니다.\n",
            "음수가 입력되었습니다.\n",
            "음수가 입력되었습니다.\n",
            "음수가 입력되었습니다.\n",
            "음수가 입력되었습니다.\n",
            "음수가 입력되었습니다.\n",
            "음수가 입력되었습니다.\n",
            "음수가 입력되었습니다.\n",
            "음수가 입력되었습니다.\n",
            "음수가 입력되었습니다.\n",
            "음수가 입력되었습니다.\n",
            "음수가 입력되었습니다.\n",
            "음수가 입력되었습니다.\n",
            "음수가 입력되었습니다.\n",
            "음수가 입력되었습니다.\n",
            "음수가 입력되었습니다.\n",
            "음수가 입력되었습니다.\n",
            "음수가 입력되었습니다.\n",
            "음수가 입력되었습니다.\n",
            "음수가 입력되었습니다.\n",
            "음수가 입력되었습니다.\n",
            "음수가 입력되었습니다.\n",
            "음수가 입력되었습니다.\n",
            "음수가 입력되었습니다.\n",
            "음수가 입력되었습니다.\n",
            "음수가 입력되었습니다.\n",
            "음수가 입력되었습니다.\n",
            "음수가 입력되었습니다.\n",
            "음수가 입력되었습니다.\n",
            "음수가 입력되었습니다.\n",
            "음수가 입력되었습니다.\n",
            "음수가 입력되었습니다.\n",
            "음수가 입력되었습니다.\n",
            "음수가 입력되었습니다.\n",
            "음수가 입력되었습니다.\n",
            "음수가 입력되었습니다.\n",
            "음수가 입력되었습니다.\n",
            "음수가 입력되었습니다.\n",
            "음수가 입력되었습니다.\n",
            "음수가 입력되었습니다.\n",
            "음수가 입력되었습니다.\n",
            "음수가 입력되었습니다.\n",
            "음수가 입력되었습니다.\n",
            "음수가 입력되었습니다.\n",
            "음수가 입력되었습니다.\n",
            "음수가 입력되었습니다.\n",
            "음수가 입력되었습니다.\n",
            "음수가 입력되었습니다.\n",
            "음수가 입력되었습니다.\n",
            "음수가 입력되었습니다.\n",
            "음수가 입력되었습니다.\n",
            "음수가 입력되었습니다.\n",
            "음수가 입력되었습니다.\n",
            "음수가 입력되었습니다.\n",
            "음수가 입력되었습니다.\n",
            "음수가 입력되었습니다.\n",
            "음수가 입력되었습니다.\n",
            "음수가 입력되었습니다.\n",
            "음수가 입력되었습니다.\n",
            "음수가 입력되었습니다.\n",
            "음수가 입력되었습니다.\n",
            "음수가 입력되었습니다.\n",
            "음수가 입력되었습니다.\n",
            "음수가 입력되었습니다.\n",
            "음수가 입력되었습니다.\n",
            "음수가 입력되었습니다.\n",
            "음수가 입력되었습니다.\n",
            "음수가 입력되었습니다.\n",
            "음수가 입력되었습니다.\n",
            "음수가 입력되었습니다.\n",
            "음수가 입력되었습니다.\n",
            "음수가 입력되었습니다.\n",
            "음수가 입력되었습니다.\n",
            "음수가 입력되었습니다.\n",
            "음수가 입력되었습니다.\n",
            "음수가 입력되었습니다.\n",
            "음수가 입력되었습니다.\n",
            "음수가 입력되었습니다.\n",
            "음수가 입력되었습니다.\n",
            "음수가 입력되었습니다.\n",
            "음수가 입력되었습니다.\n",
            "음수가 입력되었습니다.\n",
            "음수가 입력되었습니다.\n",
            "음수가 입력되었습니다.\n",
            "음수가 입력되었습니다.\n",
            "음수가 입력되었습니다.\n",
            "음수가 입력되었습니다.\n",
            "음수가 입력되었습니다.\n",
            "음수가 입력되었습니다.\n",
            "음수가 입력되었습니다.\n",
            "음수가 입력되었습니다.\n",
            "음수가 입력되었습니다.\n",
            "음수가 입력되었습니다.\n",
            "음수가 입력되었습니다.\n",
            "음수가 입력되었습니다.\n",
            "음수가 입력되었습니다.\n",
            "음수가 입력되었습니다.\n",
            "음수가 입력되었습니다.\n",
            "음수가 입력되었습니다.\n",
            "음수가 입력되었습니다.\n",
            "음수가 입력되었습니다.\n",
            "음수가 입력되었습니다.\n",
            "음수가 입력되었습니다.\n",
            "음수가 입력되었습니다.\n",
            "음수가 입력되었습니다.\n",
            "음수가 입력되었습니다.\n",
            "음수가 입력되었습니다.\n",
            "음수가 입력되었습니다.\n",
            "음수가 입력되었습니다.\n",
            "음수가 입력되었습니다.\n",
            "음수가 입력되었습니다.\n",
            "음수가 입력되었습니다.\n",
            "음수가 입력되었습니다.\n",
            "음수가 입력되었습니다.\n",
            "음수가 입력되었습니다.\n",
            "음수가 입력되었습니다.\n",
            "음수가 입력되었습니다.\n",
            "음수가 입력되었습니다.\n",
            "음수가 입력되었습니다.\n",
            "음수가 입력되었습니다.\n",
            "음수가 입력되었습니다.\n",
            "음수가 입력되었습니다.\n",
            "음수가 입력되었습니다.\n",
            "음수가 입력되었습니다.\n",
            "음수가 입력되었습니다.\n",
            "음수가 입력되었습니다.\n",
            "음수가 입력되었습니다.\n",
            "음수가 입력되었습니다.\n",
            "음수가 입력되었습니다.\n",
            "음수가 입력되었습니다.\n",
            "음수가 입력되었습니다.\n",
            "음수가 입력되었습니다.\n",
            "음수가 입력되었습니다.\n",
            "음수가 입력되었습니다.\n",
            "음수가 입력되었습니다.\n",
            "음수가 입력되었습니다.\n",
            "음수가 입력되었습니다.\n",
            "음수가 입력되었습니다.\n",
            "음수가 입력되었습니다.\n",
            "음수가 입력되었습니다.\n",
            "음수가 입력되었습니다.\n",
            "음수가 입력되었습니다.\n",
            "음수가 입력되었습니다.\n",
            "음수가 입력되었습니다.\n",
            "음수가 입력되었습니다.\n",
            "음수가 입력되었습니다.\n",
            "음수가 입력되었습니다.\n",
            "음수가 입력되었습니다.\n",
            "음수가 입력되었습니다.\n",
            "음수가 입력되었습니다.\n",
            "음수가 입력되었습니다.\n",
            "음수가 입력되었습니다.\n",
            "음수가 입력되었습니다.\n",
            "음수가 입력되었습니다.\n",
            "음수가 입력되었습니다.\n",
            "음수가 입력되었습니다.\n",
            "음수가 입력되었습니다.\n",
            "음수가 입력되었습니다.\n",
            "음수가 입력되었습니다.\n",
            "음수가 입력되었습니다.\n",
            "음수가 입력되었습니다.\n",
            "음수가 입력되었습니다.\n",
            "음수가 입력되었습니다.\n",
            "음수가 입력되었습니다.\n",
            "음수가 입력되었습니다.\n",
            "음수가 입력되었습니다.\n",
            "음수가 입력되었습니다.\n",
            "음수가 입력되었습니다.\n",
            "음수가 입력되었습니다.\n",
            "음수가 입력되었습니다.\n",
            "음수가 입력되었습니다.\n",
            "음수가 입력되었습니다.\n",
            "음수가 입력되었습니다.\n",
            "음수가 입력되었습니다.\n",
            "음수가 입력되었습니다.\n",
            "음수가 입력되었습니다.\n",
            "음수가 입력되었습니다.\n",
            "음수가 입력되었습니다.\n",
            "음수가 입력되었습니다.\n",
            "음수가 입력되었습니다.\n",
            "음수가 입력되었습니다.\n",
            "음수가 입력되었습니다.\n",
            "음수가 입력되었습니다.\n",
            "음수가 입력되었습니다.\n",
            "음수가 입력되었습니다.\n",
            "음수가 입력되었습니다.\n",
            "음수가 입력되었습니다.\n",
            "음수가 입력되었습니다.\n",
            "음수가 입력되었습니다.\n",
            "음수가 입력되었습니다.\n",
            "음수가 입력되었습니다.\n",
            "음수가 입력되었습니다.\n",
            "음수가 입력되었습니다.\n",
            "음수가 입력되었습니다.\n",
            "음수가 입력되었습니다.\n",
            "음수가 입력되었습니다.\n",
            "음수가 입력되었습니다.\n",
            "음수가 입력되었습니다.\n",
            "음수가 입력되었습니다.\n",
            "음수가 입력되었습니다.\n",
            "음수가 입력되었습니다.\n",
            "음수가 입력되었습니다.\n",
            "음수가 입력되었습니다.\n",
            "음수가 입력되었습니다.\n",
            "음수가 입력되었습니다.\n",
            "음수가 입력되었습니다.\n",
            "음수가 입력되었습니다.\n",
            "음수가 입력되었습니다.\n",
            "음수가 입력되었습니다.\n",
            "음수가 입력되었습니다.\n",
            "음수가 입력되었습니다.\n",
            "음수가 입력되었습니다.\n",
            "음수가 입력되었습니다.\n",
            "음수가 입력되었습니다.\n",
            "음수가 입력되었습니다.\n",
            "음수가 입력되었습니다.\n",
            "음수가 입력되었습니다.\n",
            "음수가 입력되었습니다.\n",
            "음수가 입력되었습니다.\n",
            "음수가 입력되었습니다.\n",
            "음수가 입력되었습니다.\n",
            "음수가 입력되었습니다.\n",
            "음수가 입력되었습니다.\n",
            "음수가 입력되었습니다.\n",
            "음수가 입력되었습니다.\n",
            "음수가 입력되었습니다.\n",
            "음수가 입력되었습니다.\n",
            "음수가 입력되었습니다.\n",
            "음수가 입력되었습니다.\n",
            "음수가 입력되었습니다.\n",
            "음수가 입력되었습니다.\n",
            "음수가 입력되었습니다.\n",
            "음수가 입력되었습니다.\n",
            "음수가 입력되었습니다.\n",
            "음수가 입력되었습니다.\n",
            "음수가 입력되었습니다.\n",
            "음수가 입력되었습니다.\n",
            "음수가 입력되었습니다.\n",
            "음수가 입력되었습니다.\n",
            "음수가 입력되었습니다.\n",
            "음수가 입력되었습니다.\n",
            "음수가 입력되었습니다.\n",
            "음수가 입력되었습니다.\n",
            "음수가 입력되었습니다.\n",
            "음수가 입력되었습니다.\n",
            "음수가 입력되었습니다.\n",
            "음수가 입력되었습니다.\n",
            "음수가 입력되었습니다.\n",
            "음수가 입력되었습니다.\n",
            "음수가 입력되었습니다.\n",
            "음수가 입력되었습니다.\n",
            "음수가 입력되었습니다.\n",
            "음수가 입력되었습니다.\n",
            "음수가 입력되었습니다.\n",
            "음수가 입력되었습니다.\n",
            "음수가 입력되었습니다.\n",
            "음수가 입력되었습니다.\n",
            "음수가 입력되었습니다.\n",
            "음수가 입력되었습니다.\n",
            "음수가 입력되었습니다.\n",
            "음수가 입력되었습니다.\n",
            "음수가 입력되었습니다.\n",
            "음수가 입력되었습니다.\n",
            "음수가 입력되었습니다.\n",
            "음수가 입력되었습니다.\n",
            "음수가 입력되었습니다.\n",
            "음수가 입력되었습니다.\n",
            "음수가 입력되었습니다.\n",
            "음수가 입력되었습니다.\n",
            "음수가 입력되었습니다.\n",
            "음수가 입력되었습니다.\n",
            "음수가 입력되었습니다.\n",
            "음수가 입력되었습니다.\n",
            "음수가 입력되었습니다.\n",
            "음수가 입력되었습니다.\n",
            "음수가 입력되었습니다.\n",
            "음수가 입력되었습니다.\n",
            "음수가 입력되었습니다.\n",
            "음수가 입력되었습니다.\n",
            "음수가 입력되었습니다.\n",
            "음수가 입력되었습니다.\n",
            "음수가 입력되었습니다.\n",
            "음수가 입력되었습니다.\n",
            "음수가 입력되었습니다.\n",
            "음수가 입력되었습니다.\n",
            "음수가 입력되었습니다.\n",
            "음수가 입력되었습니다.\n",
            "음수가 입력되었습니다.\n",
            "음수가 입력되었습니다.\n",
            "음수가 입력되었습니다.\n",
            "음수가 입력되었습니다.\n",
            "음수가 입력되었습니다.\n",
            "음수가 입력되었습니다.\n",
            "음수가 입력되었습니다.\n",
            "음수가 입력되었습니다.\n",
            "음수가 입력되었습니다.\n",
            "음수가 입력되었습니다.\n",
            "음수가 입력되었습니다.\n",
            "음수가 입력되었습니다.\n",
            "음수가 입력되었습니다.\n",
            "음수가 입력되었습니다.\n",
            "음수가 입력되었습니다.\n",
            "음수가 입력되었습니다.\n",
            "음수가 입력되었습니다.\n",
            "음수가 입력되었습니다.\n",
            "음수가 입력되었습니다.\n",
            "음수가 입력되었습니다.\n",
            "음수가 입력되었습니다.\n",
            "음수가 입력되었습니다.\n",
            "음수가 입력되었습니다.\n",
            "음수가 입력되었습니다.\n",
            "음수가 입력되었습니다.\n",
            "음수가 입력되었습니다.\n",
            "음수가 입력되었습니다.\n",
            "음수가 입력되었습니다.\n",
            "음수가 입력되었습니다.\n",
            "음수가 입력되었습니다.\n",
            "음수가 입력되었습니다.\n",
            "음수가 입력되었습니다.\n",
            "음수가 입력되었습니다.\n",
            "음수가 입력되었습니다.\n",
            "음수가 입력되었습니다.\n",
            "음수가 입력되었습니다.\n",
            "음수가 입력되었습니다.\n",
            "음수가 입력되었습니다.\n",
            "음수가 입력되었습니다.\n",
            "음수가 입력되었습니다.\n",
            "음수가 입력되었습니다.\n",
            "음수가 입력되었습니다.\n",
            "음수가 입력되었습니다.\n",
            "음수가 입력되었습니다.\n",
            "음수가 입력되었습니다.\n",
            "음수가 입력되었습니다.\n",
            "음수가 입력되었습니다.\n",
            "음수가 입력되었습니다.\n",
            "음수가 입력되었습니다.\n",
            "음수가 입력되었습니다.\n",
            "음수가 입력되었습니다.\n",
            "음수가 입력되었습니다.\n",
            "음수가 입력되었습니다.\n",
            "음수가 입력되었습니다.\n",
            "음수가 입력되었습니다.\n",
            "음수가 입력되었습니다.\n",
            "음수가 입력되었습니다.\n",
            "음수가 입력되었습니다.\n",
            "음수가 입력되었습니다.\n",
            "음수가 입력되었습니다.\n",
            "음수가 입력되었습니다.\n",
            "음수가 입력되었습니다.\n",
            "음수가 입력되었습니다.\n",
            "음수가 입력되었습니다.\n",
            "음수가 입력되었습니다.\n",
            "음수가 입력되었습니다.\n",
            "음수가 입력되었습니다.\n",
            "음수가 입력되었습니다.\n",
            "음수가 입력되었습니다.\n",
            "음수가 입력되었습니다.\n",
            "음수가 입력되었습니다.\n",
            "음수가 입력되었습니다.\n",
            "음수가 입력되었습니다.\n",
            "음수가 입력되었습니다.\n",
            "음수가 입력되었습니다.\n",
            "음수가 입력되었습니다.\n",
            "음수가 입력되었습니다.\n",
            "음수가 입력되었습니다.\n",
            "음수가 입력되었습니다.\n",
            "음수가 입력되었습니다.\n",
            "음수가 입력되었습니다.\n",
            "음수가 입력되었습니다.\n",
            "음수가 입력되었습니다.\n",
            "음수가 입력되었습니다.\n",
            "음수가 입력되었습니다.\n",
            "음수가 입력되었습니다.\n",
            "음수가 입력되었습니다.\n",
            "음수가 입력되었습니다.\n",
            "음수가 입력되었습니다.\n",
            "음수가 입력되었습니다.\n",
            "음수가 입력되었습니다.\n",
            "음수가 입력되었습니다.\n",
            "음수가 입력되었습니다.\n",
            "음수가 입력되었습니다.\n",
            "음수가 입력되었습니다.\n",
            "음수가 입력되었습니다.\n",
            "음수가 입력되었습니다.\n",
            "음수가 입력되었습니다.\n",
            "음수가 입력되었습니다.\n",
            "음수가 입력되었습니다.\n",
            "음수가 입력되었습니다.\n",
            "음수가 입력되었습니다.\n",
            "음수가 입력되었습니다.\n",
            "음수가 입력되었습니다.\n",
            "음수가 입력되었습니다.\n",
            "음수가 입력되었습니다.\n",
            "음수가 입력되었습니다.\n",
            "음수가 입력되었습니다.\n",
            "음수가 입력되었습니다.\n",
            "음수가 입력되었습니다.\n",
            "음수가 입력되었습니다.\n",
            "음수가 입력되었습니다.\n",
            "음수가 입력되었습니다.\n",
            "음수가 입력되었습니다.\n",
            "음수가 입력되었습니다.\n",
            "음수가 입력되었습니다.\n",
            "음수가 입력되었습니다.\n",
            "음수가 입력되었습니다.\n",
            "음수가 입력되었습니다.\n",
            "음수가 입력되었습니다.\n",
            "음수가 입력되었습니다.\n",
            "음수가 입력되었습니다.\n",
            "음수가 입력되었습니다.\n",
            "음수가 입력되었습니다.\n",
            "음수가 입력되었습니다.\n",
            "음수가 입력되었습니다.\n",
            "음수가 입력되었습니다.\n",
            "음수가 입력되었습니다.\n",
            "음수가 입력되었습니다.\n",
            "음수가 입력되었습니다.\n",
            "음수가 입력되었습니다.\n",
            "음수가 입력되었습니다.\n",
            "음수가 입력되었습니다.\n",
            "음수가 입력되었습니다.\n",
            "음수가 입력되었습니다.\n",
            "음수가 입력되었습니다.\n",
            "음수가 입력되었습니다.\n",
            "음수가 입력되었습니다.\n",
            "음수가 입력되었습니다.\n",
            "음수가 입력되었습니다.\n",
            "음수가 입력되었습니다.\n",
            "음수가 입력되었습니다.\n",
            "음수가 입력되었습니다.\n",
            "음수가 입력되었습니다.\n",
            "음수가 입력되었습니다.\n",
            "음수가 입력되었습니다.\n",
            "음수가 입력되었습니다.\n",
            "음수가 입력되었습니다.\n",
            "음수가 입력되었습니다.\n",
            "음수가 입력되었습니다.\n",
            "음수가 입력되었습니다.\n",
            "음수가 입력되었습니다.\n",
            "음수가 입력되었습니다.\n",
            "음수가 입력되었습니다.\n",
            "음수가 입력되었습니다.\n",
            "음수가 입력되었습니다.\n",
            "음수가 입력되었습니다.\n",
            "음수가 입력되었습니다.\n",
            "음수가 입력되었습니다.\n",
            "음수가 입력되었습니다.\n",
            "음수가 입력되었습니다.\n",
            "음수가 입력되었습니다.\n",
            "음수가 입력되었습니다.\n",
            "음수가 입력되었습니다.\n",
            "음수가 입력되었습니다.\n",
            "음수가 입력되었습니다.\n",
            "음수가 입력되었습니다.\n",
            "음수가 입력되었습니다.\n",
            "음수가 입력되었습니다.\n",
            "음수가 입력되었습니다.\n",
            "음수가 입력되었습니다.\n",
            "음수가 입력되었습니다.\n",
            "음수가 입력되었습니다.\n",
            "음수가 입력되었습니다.\n",
            "음수가 입력되었습니다.\n",
            "음수가 입력되었습니다.\n",
            "음수가 입력되었습니다.\n",
            "음수가 입력되었습니다.\n",
            "음수가 입력되었습니다.\n",
            "음수가 입력되었습니다.\n",
            "음수가 입력되었습니다.\n",
            "음수가 입력되었습니다.\n",
            "음수가 입력되었습니다.\n",
            "음수가 입력되었습니다.\n",
            "음수가 입력되었습니다.\n",
            "음수가 입력되었습니다.\n",
            "음수가 입력되었습니다.\n",
            "음수가 입력되었습니다.\n",
            "음수가 입력되었습니다.\n",
            "음수가 입력되었습니다.\n",
            "음수가 입력되었습니다.\n",
            "음수가 입력되었습니다.\n",
            "음수가 입력되었습니다.\n",
            "음수가 입력되었습니다.\n",
            "음수가 입력되었습니다.\n",
            "음수가 입력되었습니다.\n",
            "음수가 입력되었습니다.\n",
            "음수가 입력되었습니다.\n",
            "음수가 입력되었습니다.\n",
            "음수가 입력되었습니다.\n",
            "음수가 입력되었습니다.\n",
            "음수가 입력되었습니다.\n",
            "음수가 입력되었습니다.\n",
            "음수가 입력되었습니다.\n",
            "음수가 입력되었습니다.\n",
            "음수가 입력되었습니다.\n",
            "음수가 입력되었습니다.\n",
            "음수가 입력되었습니다.\n",
            "음수가 입력되었습니다.\n",
            "음수가 입력되었습니다.\n",
            "음수가 입력되었습니다.\n",
            "음수가 입력되었습니다.\n",
            "음수가 입력되었습니다.\n",
            "음수가 입력되었습니다.\n",
            "음수가 입력되었습니다.\n",
            "음수가 입력되었습니다.\n",
            "음수가 입력되었습니다.\n",
            "음수가 입력되었습니다.\n",
            "음수가 입력되었습니다.\n",
            "음수가 입력되었습니다.\n",
            "음수가 입력되었습니다.\n",
            "음수가 입력되었습니다.\n",
            "음수가 입력되었습니다.\n",
            "음수가 입력되었습니다.\n",
            "음수가 입력되었습니다.\n",
            "음수가 입력되었습니다.\n",
            "음수가 입력되었습니다.\n",
            "음수가 입력되었습니다.\n",
            "음수가 입력되었습니다.\n",
            "음수가 입력되었습니다.\n",
            "음수가 입력되었습니다.\n",
            "음수가 입력되었습니다.\n",
            "음수가 입력되었습니다.\n",
            "음수가 입력되었습니다.\n",
            "음수가 입력되었습니다.\n",
            "음수가 입력되었습니다.\n",
            "음수가 입력되었습니다.\n",
            "음수가 입력되었습니다.\n",
            "음수가 입력되었습니다.\n",
            "음수가 입력되었습니다.\n",
            "음수가 입력되었습니다.\n",
            "음수가 입력되었습니다.\n",
            "음수가 입력되었습니다.\n",
            "음수가 입력되었습니다.\n",
            "음수가 입력되었습니다.\n",
            "음수가 입력되었습니다.\n",
            "음수가 입력되었습니다.\n",
            "음수가 입력되었습니다.\n",
            "음수가 입력되었습니다.\n",
            "음수가 입력되었습니다.\n",
            "음수가 입력되었습니다.\n",
            "음수가 입력되었습니다.\n",
            "음수가 입력되었습니다.\n",
            "음수가 입력되었습니다.\n",
            "음수가 입력되었습니다.\n",
            "음수가 입력되었습니다.\n",
            "음수가 입력되었습니다.\n",
            "음수가 입력되었습니다.\n",
            "음수가 입력되었습니다.\n",
            "음수가 입력되었습니다.\n",
            "음수가 입력되었습니다.\n",
            "음수가 입력되었습니다.\n",
            "음수가 입력되었습니다.\n",
            "음수가 입력되었습니다.\n",
            "음수가 입력되었습니다.\n",
            "음수가 입력되었습니다.\n",
            "음수가 입력되었습니다.\n",
            "음수가 입력되었습니다.\n",
            "음수가 입력되었습니다.\n",
            "음수가 입력되었습니다.\n",
            "음수가 입력되었습니다.\n",
            "음수가 입력되었습니다.\n",
            "음수가 입력되었습니다.\n",
            "음수가 입력되었습니다.\n",
            "음수가 입력되었습니다.\n",
            "음수가 입력되었습니다.\n",
            "음수가 입력되었습니다.\n",
            "음수가 입력되었습니다.\n",
            "음수가 입력되었습니다.\n",
            "음수가 입력되었습니다.\n",
            "음수가 입력되었습니다.\n",
            "음수가 입력되었습니다.\n",
            "음수가 입력되었습니다.\n",
            "음수가 입력되었습니다.\n",
            "음수가 입력되었습니다.\n",
            "음수가 입력되었습니다.\n",
            "음수가 입력되었습니다.\n",
            "음수가 입력되었습니다.\n",
            "음수가 입력되었습니다.\n",
            "음수가 입력되었습니다.\n",
            "음수가 입력되었습니다.\n",
            "음수가 입력되었습니다.\n",
            "음수가 입력되었습니다.\n",
            "음수가 입력되었습니다.\n",
            "음수가 입력되었습니다.\n",
            "음수가 입력되었습니다.\n",
            "음수가 입력되었습니다.\n",
            "음수가 입력되었습니다.\n",
            "음수가 입력되었습니다.\n",
            "음수가 입력되었습니다.\n",
            "음수가 입력되었습니다.\n",
            "음수가 입력되었습니다.\n",
            "음수가 입력되었습니다.\n",
            "음수가 입력되었습니다.\n",
            "음수가 입력되었습니다.\n",
            "음수가 입력되었습니다.\n",
            "음수가 입력되었습니다.\n",
            "음수가 입력되었습니다.\n",
            "음수가 입력되었습니다.\n",
            "음수가 입력되었습니다.\n",
            "음수가 입력되었습니다.\n",
            "음수가 입력되었습니다.\n",
            "음수가 입력되었습니다.\n",
            "음수가 입력되었습니다.\n",
            "음수가 입력되었습니다.\n",
            "음수가 입력되었습니다.\n",
            "음수가 입력되었습니다.\n",
            "음수가 입력되었습니다.\n",
            "음수가 입력되었습니다.\n",
            "음수가 입력되었습니다.\n",
            "음수가 입력되었습니다.\n",
            "음수가 입력되었습니다.\n",
            "음수가 입력되었습니다.\n",
            "음수가 입력되었습니다.\n",
            "음수가 입력되었습니다.\n",
            "음수가 입력되었습니다.\n",
            "음수가 입력되었습니다.\n",
            "음수가 입력되었습니다.\n",
            "음수가 입력되었습니다.\n",
            "음수가 입력되었습니다.\n",
            "음수가 입력되었습니다.\n",
            "음수가 입력되었습니다.\n",
            "음수가 입력되었습니다.\n",
            "음수가 입력되었습니다.\n",
            "음수가 입력되었습니다.\n",
            "음수가 입력되었습니다.\n",
            "음수가 입력되었습니다.\n",
            "음수가 입력되었습니다.\n",
            "음수가 입력되었습니다.\n",
            "음수가 입력되었습니다.\n",
            "음수가 입력되었습니다.\n",
            "음수가 입력되었습니다.\n",
            "음수가 입력되었습니다.\n",
            "음수가 입력되었습니다.\n",
            "음수가 입력되었습니다.\n",
            "음수가 입력되었습니다.\n",
            "음수가 입력되었습니다.\n",
            "음수가 입력되었습니다.\n",
            "음수가 입력되었습니다.\n",
            "음수가 입력되었습니다.\n",
            "음수가 입력되었습니다.\n",
            "음수가 입력되었습니다.\n",
            "음수가 입력되었습니다.\n",
            "음수가 입력되었습니다.\n",
            "음수가 입력되었습니다.\n",
            "음수가 입력되었습니다.\n",
            "음수가 입력되었습니다.\n",
            "음수가 입력되었습니다.\n",
            "음수가 입력되었습니다.\n",
            "음수가 입력되었습니다.\n",
            "음수가 입력되었습니다.\n",
            "음수가 입력되었습니다.\n",
            "음수가 입력되었습니다.\n",
            "음수가 입력되었습니다.\n",
            "음수가 입력되었습니다.\n",
            "음수가 입력되었습니다.\n",
            "음수가 입력되었습니다.\n",
            "음수가 입력되었습니다.\n",
            "음수가 입력되었습니다.\n",
            "음수가 입력되었습니다.\n",
            "음수가 입력되었습니다.\n",
            "음수가 입력되었습니다.\n",
            "음수가 입력되었습니다.\n",
            "음수가 입력되었습니다.\n",
            "음수가 입력되었습니다.\n",
            "음수가 입력되었습니다.\n",
            "음수가 입력되었습니다.\n",
            "음수가 입력되었습니다.\n",
            "음수가 입력되었습니다.\n",
            "음수가 입력되었습니다.\n",
            "음수가 입력되었습니다.\n",
            "음수가 입력되었습니다.\n",
            "음수가 입력되었습니다.\n",
            "음수가 입력되었습니다.\n",
            "음수가 입력되었습니다.\n",
            "음수가 입력되었습니다.\n",
            "음수가 입력되었습니다.\n",
            "음수가 입력되었습니다.\n",
            "음수가 입력되었습니다.\n",
            "음수가 입력되었습니다.\n",
            "음수가 입력되었습니다.\n",
            "음수가 입력되었습니다.\n",
            "음수가 입력되었습니다.\n",
            "음수가 입력되었습니다.\n",
            "음수가 입력되었습니다.\n",
            "음수가 입력되었습니다.\n",
            "음수가 입력되었습니다.\n",
            "음수가 입력되었습니다.\n",
            "음수가 입력되었습니다.\n",
            "음수가 입력되었습니다.\n",
            "음수가 입력되었습니다.\n",
            "음수가 입력되었습니다.\n",
            "음수가 입력되었습니다.\n",
            "음수가 입력되었습니다.\n",
            "음수가 입력되었습니다.\n",
            "음수가 입력되었습니다.\n",
            "음수가 입력되었습니다.\n",
            "음수가 입력되었습니다.\n",
            "음수가 입력되었습니다.\n",
            "음수가 입력되었습니다.\n",
            "음수가 입력되었습니다.\n",
            "음수가 입력되었습니다.\n",
            "음수가 입력되었습니다.\n",
            "음수가 입력되었습니다.\n",
            "음수가 입력되었습니다.\n",
            "음수가 입력되었습니다.\n",
            "음수가 입력되었습니다.\n",
            "음수가 입력되었습니다.\n",
            "음수가 입력되었습니다.\n",
            "음수가 입력되었습니다.\n",
            "음수가 입력되었습니다.\n",
            "음수가 입력되었습니다.\n",
            "음수가 입력되었습니다.\n",
            "음수가 입력되었습니다.\n",
            "음수가 입력되었습니다.\n",
            "음수가 입력되었습니다.\n",
            "음수가 입력되었습니다.\n",
            "음수가 입력되었습니다.\n",
            "음수가 입력되었습니다.\n",
            "음수가 입력되었습니다.\n",
            "음수가 입력되었습니다.\n",
            "음수가 입력되었습니다.\n",
            "음수가 입력되었습니다.\n",
            "음수가 입력되었습니다.\n",
            "음수가 입력되었습니다.\n",
            "음수가 입력되었습니다.\n",
            "음수가 입력되었습니다.\n",
            "음수가 입력되었습니다.\n",
            "음수가 입력되었습니다.\n",
            "음수가 입력되었습니다.\n",
            "음수가 입력되었습니다.\n",
            "음수가 입력되었습니다.\n",
            "음수가 입력되었습니다.\n",
            "음수가 입력되었습니다.\n",
            "음수가 입력되었습니다.\n",
            "음수가 입력되었습니다.\n",
            "음수가 입력되었습니다.\n",
            "음수가 입력되었습니다.\n",
            "음수가 입력되었습니다.\n",
            "음수가 입력되었습니다.\n",
            "음수가 입력되었습니다.\n",
            "음수가 입력되었습니다.\n",
            "음수가 입력되었습니다.\n",
            "음수가 입력되었습니다.\n",
            "음수가 입력되었습니다.\n",
            "음수가 입력되었습니다.\n",
            "음수가 입력되었습니다.\n",
            "음수가 입력되었습니다.\n",
            "음수가 입력되었습니다.\n",
            "음수가 입력되었습니다.\n",
            "음수가 입력되었습니다.\n",
            "음수가 입력되었습니다.\n",
            "음수가 입력되었습니다.\n",
            "음수가 입력되었습니다.\n",
            "음수가 입력되었습니다.\n",
            "음수가 입력되었습니다.\n",
            "음수가 입력되었습니다.\n",
            "음수가 입력되었습니다.\n",
            "음수가 입력되었습니다.\n",
            "음수가 입력되었습니다.\n",
            "음수가 입력되었습니다.\n",
            "음수가 입력되었습니다.\n",
            "음수가 입력되었습니다.\n",
            "음수가 입력되었습니다.\n",
            "음수가 입력되었습니다.\n",
            "음수가 입력되었습니다.\n",
            "음수가 입력되었습니다.\n",
            "음수가 입력되었습니다.\n",
            "음수가 입력되었습니다.\n",
            "음수가 입력되었습니다.\n",
            "음수가 입력되었습니다.\n",
            "음수가 입력되었습니다.\n",
            "음수가 입력되었습니다.\n",
            "음수가 입력되었습니다.\n",
            "음수가 입력되었습니다.\n",
            "음수가 입력되었습니다.\n",
            "음수가 입력되었습니다.\n",
            "음수가 입력되었습니다.\n",
            "음수가 입력되었습니다.\n",
            "음수가 입력되었습니다.\n",
            "음수가 입력되었습니다.\n",
            "음수가 입력되었습니다.\n",
            "음수가 입력되었습니다.\n",
            "음수가 입력되었습니다.\n",
            "음수가 입력되었습니다.\n",
            "음수가 입력되었습니다.\n",
            "음수가 입력되었습니다.\n",
            "음수가 입력되었습니다.\n",
            "음수가 입력되었습니다.\n",
            "음수가 입력되었습니다.\n",
            "음수가 입력되었습니다.\n",
            "음수가 입력되었습니다.\n",
            "음수가 입력되었습니다.\n",
            "음수가 입력되었습니다.\n",
            "음수가 입력되었습니다.\n",
            "음수가 입력되었습니다.\n",
            "음수가 입력되었습니다.\n",
            "음수가 입력되었습니다.\n",
            "음수가 입력되었습니다.\n",
            "음수가 입력되었습니다.\n",
            "음수가 입력되었습니다.\n",
            "음수가 입력되었습니다.\n",
            "음수가 입력되었습니다.\n",
            "음수가 입력되었습니다.\n",
            "음수가 입력되었습니다.\n",
            "음수가 입력되었습니다.\n",
            "음수가 입력되었습니다.\n",
            "음수가 입력되었습니다.\n",
            "음수가 입력되었습니다.\n",
            "음수가 입력되었습니다.\n",
            "음수가 입력되었습니다.\n",
            "음수가 입력되었습니다.\n",
            "음수가 입력되었습니다.\n",
            "음수가 입력되었습니다.\n",
            "음수가 입력되었습니다.\n",
            "음수가 입력되었습니다.\n",
            "음수가 입력되었습니다.\n",
            "음수가 입력되었습니다.\n",
            "음수가 입력되었습니다.\n",
            "음수가 입력되었습니다.\n",
            "음수가 입력되었습니다.\n",
            "음수가 입력되었습니다.\n",
            "음수가 입력되었습니다.\n",
            "음수가 입력되었습니다.\n",
            "음수가 입력되었습니다.\n",
            "음수가 입력되었습니다.\n",
            "음수가 입력되었습니다.\n",
            "음수가 입력되었습니다.\n",
            "음수가 입력되었습니다.\n",
            "음수가 입력되었습니다.\n",
            "음수가 입력되었습니다.\n",
            "음수가 입력되었습니다.\n",
            "음수가 입력되었습니다.\n",
            "음수가 입력되었습니다.\n",
            "음수가 입력되었습니다.\n",
            "음수가 입력되었습니다.\n",
            "음수가 입력되었습니다.\n",
            "음수가 입력되었습니다.\n",
            "음수가 입력되었습니다.\n",
            "음수가 입력되었습니다.\n",
            "음수가 입력되었습니다.\n",
            "음수가 입력되었습니다.\n",
            "음수가 입력되었습니다.\n",
            "음수가 입력되었습니다.\n",
            "음수가 입력되었습니다.\n",
            "음수가 입력되었습니다.\n",
            "음수가 입력되었습니다.\n",
            "음수가 입력되었습니다.\n",
            "음수가 입력되었습니다.\n",
            "음수가 입력되었습니다.\n",
            "음수가 입력되었습니다.\n",
            "음수가 입력되었습니다.\n",
            "음수가 입력되었습니다.\n",
            "음수가 입력되었습니다.\n",
            "음수가 입력되었습니다.\n",
            "음수가 입력되었습니다.\n",
            "음수가 입력되었습니다.\n",
            "음수가 입력되었습니다.\n",
            "음수가 입력되었습니다.\n",
            "음수가 입력되었습니다.\n",
            "음수가 입력되었습니다.\n",
            "음수가 입력되었습니다.\n",
            "음수가 입력되었습니다.\n",
            "음수가 입력되었습니다.\n",
            "음수가 입력되었습니다.\n",
            "음수가 입력되었습니다.\n",
            "음수가 입력되었습니다.\n",
            "음수가 입력되었습니다.\n",
            "음수가 입력되었습니다.\n",
            "음수가 입력되었습니다.\n",
            "음수가 입력되었습니다.\n",
            "음수가 입력되었습니다.\n",
            "음수가 입력되었습니다.\n",
            "음수가 입력되었습니다.\n",
            "음수가 입력되었습니다.\n",
            "음수가 입력되었습니다.\n",
            "음수가 입력되었습니다.\n",
            "음수가 입력되었습니다.\n",
            "음수가 입력되었습니다.\n",
            "음수가 입력되었습니다.\n",
            "음수가 입력되었습니다.\n",
            "음수가 입력되었습니다.\n",
            "음수가 입력되었습니다.\n",
            "음수가 입력되었습니다.\n",
            "음수가 입력되었습니다.\n",
            "음수가 입력되었습니다.\n",
            "음수가 입력되었습니다.\n",
            "음수가 입력되었습니다.\n",
            "음수가 입력되었습니다.\n",
            "음수가 입력되었습니다.\n",
            "음수가 입력되었습니다.\n",
            "음수가 입력되었습니다.\n",
            "음수가 입력되었습니다.\n",
            "음수가 입력되었습니다.\n",
            "음수가 입력되었습니다.\n",
            "음수가 입력되었습니다.\n",
            "음수가 입력되었습니다.\n",
            "음수가 입력되었습니다.\n",
            "음수가 입력되었습니다.\n",
            "음수가 입력되었습니다.\n",
            "음수가 입력되었습니다.\n",
            "음수가 입력되었습니다.\n",
            "음수가 입력되었습니다.\n",
            "음수가 입력되었습니다.\n",
            "음수가 입력되었습니다.\n",
            "음수가 입력되었습니다.\n",
            "음수가 입력되었습니다.\n",
            "음수가 입력되었습니다.\n",
            "음수가 입력되었습니다.\n",
            "음수가 입력되었습니다.\n",
            "음수가 입력되었습니다.\n",
            "음수가 입력되었습니다.\n",
            "음수가 입력되었습니다.\n",
            "음수가 입력되었습니다.\n",
            "음수가 입력되었습니다.\n",
            "음수가 입력되었습니다.\n",
            "음수가 입력되었습니다.\n",
            "음수가 입력되었습니다.\n",
            "음수가 입력되었습니다.\n",
            "음수가 입력되었습니다.\n",
            "음수가 입력되었습니다.\n",
            "음수가 입력되었습니다.\n",
            "음수가 입력되었습니다.\n",
            "음수가 입력되었습니다.\n",
            "음수가 입력되었습니다.\n",
            "음수가 입력되었습니다.\n",
            "음수가 입력되었습니다.\n",
            "음수가 입력되었습니다.\n",
            "음수가 입력되었습니다.\n",
            "음수가 입력되었습니다.\n",
            "음수가 입력되었습니다.\n",
            "음수가 입력되었습니다.\n",
            "음수가 입력되었습니다.\n",
            "음수가 입력되었습니다.\n",
            "음수가 입력되었습니다.\n",
            "음수가 입력되었습니다.\n",
            "음수가 입력되었습니다.\n",
            "음수가 입력되었습니다.\n",
            "음수가 입력되었습니다.\n",
            "음수가 입력되었습니다.\n",
            "음수가 입력되었습니다.\n",
            "음수가 입력되었습니다.\n",
            "음수가 입력되었습니다.\n",
            "음수가 입력되었습니다.\n",
            "음수가 입력되었습니다.\n",
            "음수가 입력되었습니다.\n",
            "음수가 입력되었습니다.\n",
            "음수가 입력되었습니다.\n",
            "음수가 입력되었습니다.\n",
            "음수가 입력되었습니다.\n",
            "음수가 입력되었습니다.\n",
            "음수가 입력되었습니다.\n",
            "음수가 입력되었습니다.\n",
            "음수가 입력되었습니다.\n",
            "음수가 입력되었습니다.\n",
            "음수가 입력되었습니다.\n",
            "음수가 입력되었습니다.\n",
            "음수가 입력되었습니다.\n",
            "음수가 입력되었습니다.\n",
            "음수가 입력되었습니다.\n",
            "음수가 입력되었습니다.\n",
            "음수가 입력되었습니다.\n",
            "음수가 입력되었습니다.\n",
            "음수가 입력되었습니다.\n",
            "음수가 입력되었습니다.\n",
            "음수가 입력되었습니다.\n",
            "음수가 입력되었습니다.\n",
            "음수가 입력되었습니다.\n",
            "음수가 입력되었습니다.\n",
            "음수가 입력되었습니다.\n",
            "음수가 입력되었습니다.\n",
            "음수가 입력되었습니다.\n",
            "음수가 입력되었습니다.\n",
            "음수가 입력되었습니다.\n",
            "음수가 입력되었습니다.\n",
            "음수가 입력되었습니다.\n",
            "음수가 입력되었습니다.\n",
            "음수가 입력되었습니다.\n",
            "음수가 입력되었습니다.\n",
            "음수가 입력되었습니다.\n",
            "음수가 입력되었습니다.\n",
            "음수가 입력되었습니다.\n",
            "음수가 입력되었습니다.\n",
            "음수가 입력되었습니다.\n",
            "음수가 입력되었습니다.\n",
            "음수가 입력되었습니다.\n",
            "음수가 입력되었습니다.\n",
            "음수가 입력되었습니다.\n",
            "음수가 입력되었습니다.\n",
            "음수가 입력되었습니다.\n",
            "음수가 입력되었습니다.\n",
            "음수가 입력되었습니다.\n",
            "음수가 입력되었습니다.\n",
            "음수가 입력되었습니다.\n",
            "음수가 입력되었습니다.\n",
            "음수가 입력되었습니다.\n",
            "음수가 입력되었습니다.\n",
            "음수가 입력되었습니다.\n",
            "음수가 입력되었습니다.\n",
            "음수가 입력되었습니다.\n",
            "음수가 입력되었습니다.\n",
            "음수가 입력되었습니다.\n",
            "음수가 입력되었습니다.\n",
            "음수가 입력되었습니다.\n",
            "음수가 입력되었습니다.\n",
            "음수가 입력되었습니다.\n",
            "음수가 입력되었습니다.\n",
            "음수가 입력되었습니다.\n",
            "음수가 입력되었습니다.\n",
            "음수가 입력되었습니다.\n",
            "음수가 입력되었습니다.\n",
            "음수가 입력되었습니다.\n",
            "음수가 입력되었습니다.\n",
            "음수가 입력되었습니다.\n",
            "음수가 입력되었습니다.\n",
            "음수가 입력되었습니다.\n",
            "음수가 입력되었습니다.\n",
            "음수가 입력되었습니다.\n",
            "음수가 입력되었습니다.\n",
            "음수가 입력되었습니다.\n",
            "음수가 입력되었습니다.\n",
            "음수가 입력되었습니다.\n",
            "음수가 입력되었습니다.\n",
            "음수가 입력되었습니다.\n",
            "음수가 입력되었습니다.\n",
            "음수가 입력되었습니다.\n",
            "음수가 입력되었습니다.\n",
            "음수가 입력되었습니다.\n",
            "음수가 입력되었습니다.\n",
            "음수가 입력되었습니다.\n",
            "음수가 입력되었습니다.\n",
            "음수가 입력되었습니다.\n",
            "음수가 입력되었습니다.\n",
            "음수가 입력되었습니다.\n",
            "음수가 입력되었습니다.\n",
            "음수가 입력되었습니다.\n",
            "음수가 입력되었습니다.\n",
            "음수가 입력되었습니다.\n",
            "음수가 입력되었습니다.\n",
            "음수가 입력되었습니다.\n",
            "음수가 입력되었습니다.\n",
            "음수가 입력되었습니다.\n",
            "음수가 입력되었습니다.\n",
            "음수가 입력되었습니다.\n",
            "음수가 입력되었습니다.\n",
            "음수가 입력되었습니다.\n",
            "음수가 입력되었습니다.\n",
            "음수가 입력되었습니다.\n",
            "음수가 입력되었습니다.\n",
            "음수가 입력되었습니다.\n",
            "음수가 입력되었습니다.\n",
            "음수가 입력되었습니다.\n",
            "음수가 입력되었습니다.\n",
            "음수가 입력되었습니다.\n",
            "음수가 입력되었습니다.\n",
            "음수가 입력되었습니다.\n",
            "음수가 입력되었습니다.\n",
            "음수가 입력되었습니다.\n",
            "음수가 입력되었습니다.\n",
            "음수가 입력되었습니다.\n",
            "음수가 입력되었습니다.\n",
            "음수가 입력되었습니다.\n",
            "음수가 입력되었습니다.\n",
            "음수가 입력되었습니다.\n",
            "음수가 입력되었습니다.\n",
            "음수가 입력되었습니다.\n",
            "음수가 입력되었습니다.\n",
            "음수가 입력되었습니다.\n",
            "음수가 입력되었습니다.\n",
            "음수가 입력되었습니다.\n",
            "음수가 입력되었습니다.\n",
            "음수가 입력되었습니다.\n",
            "음수가 입력되었습니다.\n",
            "음수가 입력되었습니다.\n",
            "음수가 입력되었습니다.\n",
            "음수가 입력되었습니다.\n",
            "음수가 입력되었습니다.\n",
            "음수가 입력되었습니다.\n",
            "음수가 입력되었습니다.\n",
            "음수가 입력되었습니다.\n",
            "음수가 입력되었습니다.\n",
            "음수가 입력되었습니다.\n",
            "음수가 입력되었습니다.\n",
            "음수가 입력되었습니다.\n",
            "음수가 입력되었습니다.\n",
            "음수가 입력되었습니다.\n",
            "음수가 입력되었습니다.\n",
            "음수가 입력되었습니다.\n",
            "음수가 입력되었습니다.\n",
            "음수가 입력되었습니다.\n",
            "음수가 입력되었습니다.\n",
            "음수가 입력되었습니다.\n",
            "음수가 입력되었습니다.\n",
            "음수가 입력되었습니다.\n",
            "음수가 입력되었습니다.\n",
            "음수가 입력되었습니다.\n",
            "음수가 입력되었습니다.\n",
            "음수가 입력되었습니다.\n",
            "음수가 입력되었습니다.\n",
            "음수가 입력되었습니다.\n",
            "음수가 입력되었습니다.\n",
            "음수가 입력되었습니다.\n",
            "음수가 입력되었습니다.\n",
            "음수가 입력되었습니다.\n",
            "음수가 입력되었습니다.\n",
            "음수가 입력되었습니다.\n",
            "음수가 입력되었습니다.\n",
            "음수가 입력되었습니다.\n",
            "음수가 입력되었습니다.\n",
            "음수가 입력되었습니다.\n",
            "음수가 입력되었습니다.\n",
            "음수가 입력되었습니다.\n",
            "음수가 입력되었습니다.\n",
            "음수가 입력되었습니다.\n",
            "음수가 입력되었습니다.\n",
            "음수가 입력되었습니다.\n",
            "음수가 입력되었습니다.\n",
            "음수가 입력되었습니다.\n",
            "음수가 입력되었습니다.\n",
            "음수가 입력되었습니다.\n",
            "음수가 입력되었습니다.\n",
            "음수가 입력되었습니다.\n",
            "음수가 입력되었습니다.\n",
            "음수가 입력되었습니다.\n",
            "음수가 입력되었습니다.\n",
            "음수가 입력되었습니다.\n",
            "음수가 입력되었습니다.\n",
            "음수가 입력되었습니다.\n",
            "음수가 입력되었습니다.\n",
            "음수가 입력되었습니다.\n",
            "음수가 입력되었습니다.\n",
            "음수가 입력되었습니다.\n",
            "음수가 입력되었습니다.\n",
            "음수가 입력되었습니다.\n",
            "음수가 입력되었습니다.\n",
            "음수가 입력되었습니다.\n",
            "음수가 입력되었습니다.\n",
            "음수가 입력되었습니다.\n",
            "음수가 입력되었습니다.\n",
            "음수가 입력되었습니다.\n",
            "음수가 입력되었습니다.\n",
            "음수가 입력되었습니다.\n",
            "음수가 입력되었습니다.\n",
            "음수가 입력되었습니다.\n",
            "음수가 입력되었습니다.\n",
            "음수가 입력되었습니다.\n",
            "음수가 입력되었습니다.\n",
            "음수가 입력되었습니다.\n",
            "음수가 입력되었습니다.\n",
            "음수가 입력되었습니다.\n",
            "음수가 입력되었습니다.\n",
            "음수가 입력되었습니다.\n",
            "음수가 입력되었습니다.\n",
            "음수가 입력되었습니다.\n",
            "음수가 입력되었습니다.\n",
            "음수가 입력되었습니다.\n",
            "음수가 입력되었습니다.\n",
            "음수가 입력되었습니다.\n",
            "음수가 입력되었습니다.\n",
            "음수가 입력되었습니다.\n",
            "음수가 입력되었습니다.\n",
            "음수가 입력되었습니다.\n",
            "음수가 입력되었습니다.\n",
            "음수가 입력되었습니다.\n",
            "음수가 입력되었습니다.\n",
            "음수가 입력되었습니다.\n",
            "음수가 입력되었습니다.\n",
            "음수가 입력되었습니다.\n",
            "음수가 입력되었습니다.\n",
            "음수가 입력되었습니다.\n",
            "음수가 입력되었습니다.\n",
            "음수가 입력되었습니다.\n",
            "음수가 입력되었습니다.\n",
            "음수가 입력되었습니다.\n",
            "음수가 입력되었습니다.\n",
            "음수가 입력되었습니다.\n",
            "음수가 입력되었습니다.\n",
            "음수가 입력되었습니다.\n",
            "음수가 입력되었습니다.\n",
            "음수가 입력되었습니다.\n",
            "음수가 입력되었습니다.\n",
            "음수가 입력되었습니다.\n",
            "음수가 입력되었습니다.\n",
            "음수가 입력되었습니다.\n",
            "음수가 입력되었습니다.\n",
            "음수가 입력되었습니다.\n",
            "음수가 입력되었습니다.\n",
            "음수가 입력되었습니다.\n",
            "음수가 입력되었습니다.\n",
            "음수가 입력되었습니다.\n",
            "음수가 입력되었습니다.\n",
            "음수가 입력되었습니다.\n",
            "음수가 입력되었습니다.\n",
            "음수가 입력되었습니다.\n",
            "음수가 입력되었습니다.\n",
            "음수가 입력되었습니다.\n",
            "음수가 입력되었습니다.\n",
            "음수가 입력되었습니다.\n",
            "음수가 입력되었습니다.\n",
            "음수가 입력되었습니다.\n",
            "음수가 입력되었습니다.\n",
            "음수가 입력되었습니다.\n",
            "음수가 입력되었습니다.\n",
            "음수가 입력되었습니다.\n",
            "음수가 입력되었습니다.\n",
            "음수가 입력되었습니다.\n",
            "음수가 입력되었습니다.\n",
            "음수가 입력되었습니다.\n",
            "음수가 입력되었습니다.\n",
            "음수가 입력되었습니다.\n",
            "음수가 입력되었습니다.\n",
            "음수가 입력되었습니다.\n",
            "음수가 입력되었습니다.\n",
            "음수가 입력되었습니다.\n",
            "음수가 입력되었습니다.\n",
            "음수가 입력되었습니다.\n",
            "음수가 입력되었습니다.\n",
            "음수가 입력되었습니다.\n",
            "음수가 입력되었습니다.\n",
            "음수가 입력되었습니다.\n",
            "음수가 입력되었습니다.\n",
            "음수가 입력되었습니다.\n",
            "음수가 입력되었습니다.\n",
            "음수가 입력되었습니다.\n",
            "음수가 입력되었습니다.\n",
            "음수가 입력되었습니다.\n",
            "음수가 입력되었습니다.\n",
            "음수가 입력되었습니다.\n",
            "음수가 입력되었습니다.\n",
            "음수가 입력되었습니다.\n",
            "음수가 입력되었습니다.\n",
            "음수가 입력되었습니다.\n",
            "음수가 입력되었습니다.\n",
            "음수가 입력되었습니다.\n",
            "음수가 입력되었습니다.\n",
            "음수가 입력되었습니다.\n",
            "음수가 입력되었습니다.\n",
            "음수가 입력되었습니다.\n",
            "음수가 입력되었습니다.\n",
            "음수가 입력되었습니다.\n",
            "음수가 입력되었습니다.\n",
            "음수가 입력되었습니다.\n",
            "음수가 입력되었습니다.\n",
            "음수가 입력되었습니다.\n",
            "음수가 입력되었습니다.\n",
            "음수가 입력되었습니다.\n",
            "음수가 입력되었습니다.\n",
            "음수가 입력되었습니다.\n",
            "음수가 입력되었습니다.\n",
            "음수가 입력되었습니다.\n",
            "음수가 입력되었습니다.\n",
            "음수가 입력되었습니다.\n",
            "음수가 입력되었습니다.\n",
            "음수가 입력되었습니다.\n",
            "음수가 입력되었습니다.\n",
            "음수가 입력되었습니다.\n",
            "음수가 입력되었습니다.\n",
            "음수가 입력되었습니다.\n",
            "음수가 입력되었습니다.\n",
            "음수가 입력되었습니다.\n",
            "음수가 입력되었습니다.\n",
            "음수가 입력되었습니다.\n",
            "음수가 입력되었습니다.\n",
            "음수가 입력되었습니다.\n",
            "음수가 입력되었습니다.\n",
            "음수가 입력되었습니다.\n",
            "음수가 입력되었습니다.\n",
            "음수가 입력되었습니다.\n",
            "음수가 입력되었습니다.\n",
            "음수가 입력되었습니다.\n",
            "음수가 입력되었습니다.\n",
            "음수가 입력되었습니다.\n",
            "음수가 입력되었습니다.\n",
            "음수가 입력되었습니다.\n",
            "음수가 입력되었습니다.\n",
            "음수가 입력되었습니다.\n",
            "음수가 입력되었습니다.\n",
            "음수가 입력되었습니다.\n",
            "음수가 입력되었습니다.\n",
            "음수가 입력되었습니다.\n",
            "음수가 입력되었습니다.\n",
            "음수가 입력되었습니다.\n",
            "음수가 입력되었습니다.\n",
            "음수가 입력되었습니다.\n",
            "음수가 입력되었습니다.\n",
            "음수가 입력되었습니다.\n",
            "음수가 입력되었습니다.\n",
            "음수가 입력되었습니다.\n",
            "음수가 입력되었습니다.\n",
            "음수가 입력되었습니다.\n",
            "음수가 입력되었습니다.\n",
            "음수가 입력되었습니다.\n",
            "음수가 입력되었습니다.\n",
            "음수가 입력되었습니다.\n",
            "음수가 입력되었습니다.\n",
            "음수가 입력되었습니다.\n",
            "음수가 입력되었습니다.\n",
            "음수가 입력되었습니다.\n",
            "음수가 입력되었습니다.\n",
            "음수가 입력되었습니다.\n",
            "음수가 입력되었습니다.\n",
            "음수가 입력되었습니다.\n",
            "음수가 입력되었습니다.\n",
            "음수가 입력되었습니다.\n",
            "음수가 입력되었습니다.\n",
            "음수가 입력되었습니다.\n",
            "음수가 입력되었습니다.\n",
            "음수가 입력되었습니다.\n",
            "음수가 입력되었습니다.\n",
            "음수가 입력되었습니다.\n",
            "음수가 입력되었습니다.\n",
            "음수가 입력되었습니다.\n",
            "음수가 입력되었습니다.\n",
            "음수가 입력되었습니다.\n",
            "음수가 입력되었습니다.\n",
            "음수가 입력되었습니다.\n",
            "음수가 입력되었습니다.\n",
            "음수가 입력되었습니다.\n",
            "음수가 입력되었습니다.\n",
            "음수가 입력되었습니다.\n",
            "음수가 입력되었습니다.\n",
            "음수가 입력되었습니다.\n",
            "음수가 입력되었습니다.\n",
            "음수가 입력되었습니다.\n",
            "음수가 입력되었습니다.\n",
            "음수가 입력되었습니다.\n",
            "음수가 입력되었습니다.\n",
            "음수가 입력되었습니다.\n",
            "음수가 입력되었습니다.\n",
            "음수가 입력되었습니다.\n",
            "음수가 입력되었습니다.\n",
            "음수가 입력되었습니다.\n",
            "음수가 입력되었습니다.\n",
            "음수가 입력되었습니다.\n",
            "음수가 입력되었습니다.\n",
            "음수가 입력되었습니다.\n",
            "음수가 입력되었습니다.\n",
            "음수가 입력되었습니다.\n",
            "음수가 입력되었습니다.\n",
            "음수가 입력되었습니다.\n",
            "음수가 입력되었습니다.\n",
            "음수가 입력되었습니다.\n",
            "음수가 입력되었습니다.\n",
            "음수가 입력되었습니다.\n",
            "음수가 입력되었습니다.\n",
            "음수가 입력되었습니다.\n",
            "음수가 입력되었습니다.\n",
            "음수가 입력되었습니다.\n",
            "음수가 입력되었습니다.\n",
            "음수가 입력되었습니다.\n",
            "음수가 입력되었습니다.\n",
            "음수가 입력되었습니다.\n",
            "음수가 입력되었습니다.\n",
            "음수가 입력되었습니다.\n",
            "음수가 입력되었습니다.\n",
            "음수가 입력되었습니다.\n",
            "음수가 입력되었습니다.\n",
            "음수가 입력되었습니다.\n",
            "음수가 입력되었습니다.\n",
            "음수가 입력되었습니다.\n",
            "음수가 입력되었습니다.\n",
            "음수가 입력되었습니다.\n",
            "음수가 입력되었습니다.\n",
            "음수가 입력되었습니다.\n",
            "음수가 입력되었습니다.\n",
            "음수가 입력되었습니다.\n",
            "음수가 입력되었습니다.\n",
            "음수가 입력되었습니다.\n",
            "음수가 입력되었습니다.\n",
            "음수가 입력되었습니다.\n",
            "음수가 입력되었습니다.\n",
            "음수가 입력되었습니다.\n",
            "음수가 입력되었습니다.\n",
            "음수가 입력되었습니다.\n",
            "음수가 입력되었습니다.\n",
            "음수가 입력되었습니다.\n",
            "음수가 입력되었습니다.\n",
            "음수가 입력되었습니다.\n",
            "음수가 입력되었습니다.\n",
            "음수가 입력되었습니다.\n",
            "음수가 입력되었습니다.\n",
            "음수가 입력되었습니다.\n",
            "음수가 입력되었습니다.\n",
            "음수가 입력되었습니다.\n",
            "음수가 입력되었습니다.\n",
            "음수가 입력되었습니다.\n",
            "음수가 입력되었습니다.\n",
            "음수가 입력되었습니다.\n",
            "음수가 입력되었습니다.\n",
            "음수가 입력되었습니다.\n",
            "음수가 입력되었습니다.\n",
            "음수가 입력되었습니다.\n",
            "음수가 입력되었습니다.\n",
            "음수가 입력되었습니다.\n",
            "음수가 입력되었습니다.\n",
            "음수가 입력되었습니다.\n",
            "음수가 입력되었습니다.\n",
            "음수가 입력되었습니다.\n",
            "음수가 입력되었습니다.\n",
            "음수가 입력되었습니다.\n",
            "음수가 입력되었습니다.\n",
            "음수가 입력되었습니다.\n",
            "음수가 입력되었습니다.\n",
            "음수가 입력되었습니다.\n",
            "음수가 입력되었습니다.\n",
            "음수가 입력되었습니다.\n",
            "음수가 입력되었습니다.\n",
            "음수가 입력되었습니다.\n",
            "음수가 입력되었습니다.\n",
            "음수가 입력되었습니다.\n",
            "음수가 입력되었습니다.\n",
            "음수가 입력되었습니다.\n",
            "음수가 입력되었습니다.\n",
            "음수가 입력되었습니다.\n",
            "음수가 입력되었습니다.\n",
            "음수가 입력되었습니다.\n",
            "음수가 입력되었습니다.\n",
            "음수가 입력되었습니다.\n",
            "음수가 입력되었습니다.\n",
            "음수가 입력되었습니다.\n",
            "음수가 입력되었습니다.\n",
            "음수가 입력되었습니다.\n",
            "음수가 입력되었습니다.\n",
            "음수가 입력되었습니다.\n",
            "음수가 입력되었습니다.\n",
            "음수가 입력되었습니다.\n",
            "음수가 입력되었습니다.\n",
            "음수가 입력되었습니다.\n",
            "음수가 입력되었습니다.\n",
            "음수가 입력되었습니다.\n",
            "음수가 입력되었습니다.\n",
            "음수가 입력되었습니다.\n",
            "음수가 입력되었습니다.\n",
            "음수가 입력되었습니다.\n",
            "음수가 입력되었습니다.\n",
            "음수가 입력되었습니다.\n",
            "음수가 입력되었습니다.\n",
            "음수가 입력되었습니다.\n",
            "음수가 입력되었습니다.\n",
            "음수가 입력되었습니다.\n",
            "음수가 입력되었습니다.\n",
            "음수가 입력되었습니다.\n",
            "음수가 입력되었습니다.\n",
            "음수가 입력되었습니다.\n",
            "음수가 입력되었습니다.\n",
            "음수가 입력되었습니다.\n",
            "음수가 입력되었습니다.\n",
            "음수가 입력되었습니다.\n",
            "음수가 입력되었습니다.\n",
            "음수가 입력되었습니다.\n",
            "음수가 입력되었습니다.\n",
            "음수가 입력되었습니다.\n",
            "음수가 입력되었습니다.\n",
            "음수가 입력되었습니다.\n",
            "음수가 입력되었습니다.\n",
            "음수가 입력되었습니다.\n",
            "음수가 입력되었습니다.\n",
            "음수가 입력되었습니다.\n",
            "음수가 입력되었습니다.\n",
            "음수가 입력되었습니다.\n",
            "음수가 입력되었습니다.\n",
            "음수가 입력되었습니다.\n",
            "음수가 입력되었습니다.\n",
            "음수가 입력되었습니다.\n",
            "음수가 입력되었습니다.\n",
            "음수가 입력되었습니다.\n",
            "음수가 입력되었습니다.\n",
            "음수가 입력되었습니다.\n",
            "음수가 입력되었습니다.\n",
            "음수가 입력되었습니다.\n",
            "음수가 입력되었습니다.\n",
            "음수가 입력되었습니다.\n",
            "음수가 입력되었습니다.\n",
            "음수가 입력되었습니다.\n",
            "음수가 입력되었습니다.\n",
            "음수가 입력되었습니다.\n",
            "음수가 입력되었습니다.\n",
            "음수가 입력되었습니다.\n",
            "음수가 입력되었습니다.\n",
            "음수가 입력되었습니다.\n",
            "음수가 입력되었습니다.\n",
            "음수가 입력되었습니다.\n",
            "음수가 입력되었습니다.\n",
            "음수가 입력되었습니다.\n",
            "음수가 입력되었습니다.\n",
            "음수가 입력되었습니다.\n",
            "음수가 입력되었습니다.\n",
            "음수가 입력되었습니다.\n",
            "음수가 입력되었습니다.\n",
            "음수가 입력되었습니다.\n",
            "음수가 입력되었습니다.\n",
            "음수가 입력되었습니다.\n",
            "음수가 입력되었습니다.\n",
            "음수가 입력되었습니다.\n",
            "음수가 입력되었습니다.\n",
            "음수가 입력되었습니다.\n",
            "음수가 입력되었습니다.\n",
            "음수가 입력되었습니다.\n",
            "음수가 입력되었습니다.\n",
            "음수가 입력되었습니다.\n",
            "음수가 입력되었습니다.\n",
            "음수가 입력되었습니다.\n",
            "음수가 입력되었습니다.\n",
            "음수가 입력되었습니다.\n",
            "음수가 입력되었습니다.\n",
            "음수가 입력되었습니다.\n",
            "음수가 입력되었습니다.\n",
            "음수가 입력되었습니다.\n",
            "음수가 입력되었습니다.\n",
            "음수가 입력되었습니다.\n",
            "음수가 입력되었습니다.\n",
            "음수가 입력되었습니다.\n",
            "음수가 입력되었습니다.\n",
            "음수가 입력되었습니다.\n",
            "음수가 입력되었습니다.\n",
            "음수가 입력되었습니다.\n",
            "음수가 입력되었습니다.\n",
            "음수가 입력되었습니다.\n",
            "음수가 입력되었습니다.\n",
            "음수가 입력되었습니다.\n",
            "음수가 입력되었습니다.\n",
            "음수가 입력되었습니다.\n",
            "음수가 입력되었습니다.\n",
            "음수가 입력되었습니다.\n",
            "음수가 입력되었습니다.\n",
            "음수가 입력되었습니다.\n",
            "음수가 입력되었습니다.\n",
            "음수가 입력되었습니다.\n",
            "음수가 입력되었습니다.\n",
            "음수가 입력되었습니다.\n",
            "음수가 입력되었습니다.\n",
            "음수가 입력되었습니다.\n",
            "음수가 입력되었습니다.\n",
            "음수가 입력되었습니다.\n",
            "음수가 입력되었습니다.\n",
            "음수가 입력되었습니다.\n",
            "음수가 입력되었습니다.\n",
            "음수가 입력되었습니다.\n",
            "음수가 입력되었습니다.\n",
            "음수가 입력되었습니다.\n",
            "음수가 입력되었습니다.\n",
            "음수가 입력되었습니다.\n",
            "음수가 입력되었습니다.\n",
            "음수가 입력되었습니다.\n",
            "음수가 입력되었습니다.\n",
            "음수가 입력되었습니다.\n",
            "음수가 입력되었습니다.\n",
            "음수가 입력되었습니다.\n",
            "음수가 입력되었습니다.\n",
            "음수가 입력되었습니다.\n",
            "음수가 입력되었습니다.\n",
            "음수가 입력되었습니다.\n",
            "음수가 입력되었습니다.\n",
            "음수가 입력되었습니다.\n",
            "음수가 입력되었습니다.\n",
            "음수가 입력되었습니다.\n",
            "음수가 입력되었습니다.\n",
            "음수가 입력되었습니다.\n",
            "음수가 입력되었습니다.\n",
            "음수가 입력되었습니다.\n",
            "음수가 입력되었습니다.\n",
            "음수가 입력되었습니다.\n",
            "음수가 입력되었습니다.\n",
            "음수가 입력되었습니다.\n",
            "음수가 입력되었습니다.\n",
            "음수가 입력되었습니다.\n",
            "음수가 입력되었습니다.\n",
            "음수가 입력되었습니다.\n",
            "음수가 입력되었습니다.\n",
            "음수가 입력되었습니다.\n",
            "음수가 입력되었습니다.\n",
            "음수가 입력되었습니다.\n",
            "음수가 입력되었습니다.\n",
            "음수가 입력되었습니다.\n",
            "음수가 입력되었습니다.\n",
            "음수가 입력되었습니다.\n",
            "음수가 입력되었습니다.\n",
            "음수가 입력되었습니다.\n",
            "음수가 입력되었습니다.\n",
            "음수가 입력되었습니다.\n",
            "음수가 입력되었습니다.\n",
            "음수가 입력되었습니다.\n",
            "음수가 입력되었습니다.\n",
            "음수가 입력되었습니다.\n",
            "음수가 입력되었습니다.\n",
            "음수가 입력되었습니다.\n",
            "음수가 입력되었습니다.\n",
            "음수가 입력되었습니다.\n",
            "음수가 입력되었습니다.\n",
            "음수가 입력되었습니다.\n",
            "음수가 입력되었습니다.\n",
            "음수가 입력되었습니다.\n",
            "음수가 입력되었습니다.\n",
            "음수가 입력되었습니다.\n",
            "음수가 입력되었습니다.\n",
            "음수가 입력되었습니다.\n",
            "음수가 입력되었습니다.\n",
            "음수가 입력되었습니다.\n",
            "음수가 입력되었습니다.\n",
            "음수가 입력되었습니다.\n",
            "음수가 입력되었습니다.\n",
            "음수가 입력되었습니다.\n",
            "음수가 입력되었습니다.\n",
            "음수가 입력되었습니다.\n",
            "음수가 입력되었습니다.\n",
            "음수가 입력되었습니다.\n",
            "음수가 입력되었습니다.\n",
            "음수가 입력되었습니다.\n",
            "음수가 입력되었습니다.\n",
            "음수가 입력되었습니다.\n",
            "음수가 입력되었습니다.\n",
            "음수가 입력되었습니다.\n",
            "음수가 입력되었습니다.\n",
            "음수가 입력되었습니다.\n",
            "음수가 입력되었습니다.\n",
            "음수가 입력되었습니다.\n",
            "음수가 입력되었습니다.\n",
            "음수가 입력되었습니다.\n",
            "음수가 입력되었습니다.\n",
            "음수가 입력되었습니다.\n",
            "음수가 입력되었습니다.\n",
            "음수가 입력되었습니다.\n",
            "음수가 입력되었습니다.\n",
            "음수가 입력되었습니다.\n",
            "음수가 입력되었습니다.\n",
            "음수가 입력되었습니다.\n",
            "음수가 입력되었습니다.\n",
            "음수가 입력되었습니다.\n",
            "음수가 입력되었습니다.\n",
            "음수가 입력되었습니다.\n",
            "음수가 입력되었습니다.\n",
            "음수가 입력되었습니다.\n",
            "음수가 입력되었습니다.\n",
            "음수가 입력되었습니다.\n",
            "음수가 입력되었습니다.\n",
            "음수가 입력되었습니다.\n",
            "음수가 입력되었습니다.\n",
            "음수가 입력되었습니다.\n",
            "음수가 입력되었습니다.\n",
            "음수가 입력되었습니다.\n",
            "음수가 입력되었습니다.\n",
            "음수가 입력되었습니다.\n",
            "음수가 입력되었습니다.\n",
            "음수가 입력되었습니다.\n",
            "음수가 입력되었습니다.\n",
            "음수가 입력되었습니다.\n",
            "음수가 입력되었습니다.\n",
            "음수가 입력되었습니다.\n",
            "음수가 입력되었습니다.\n",
            "음수가 입력되었습니다.\n",
            "음수가 입력되었습니다.\n",
            "음수가 입력되었습니다.\n",
            "음수가 입력되었습니다.\n",
            "음수가 입력되었습니다.\n",
            "음수가 입력되었습니다.\n",
            "음수가 입력되었습니다.\n",
            "음수가 입력되었습니다.\n",
            "음수가 입력되었습니다.\n",
            "음수가 입력되었습니다.\n",
            "음수가 입력되었습니다.\n",
            "음수가 입력되었습니다.\n",
            "음수가 입력되었습니다.\n",
            "음수가 입력되었습니다.\n",
            "음수가 입력되었습니다.\n",
            "음수가 입력되었습니다.\n",
            "음수가 입력되었습니다.\n",
            "음수가 입력되었습니다.\n",
            "음수가 입력되었습니다.\n",
            "음수가 입력되었습니다.\n",
            "음수가 입력되었습니다.\n",
            "음수가 입력되었습니다.\n",
            "음수가 입력되었습니다.\n",
            "음수가 입력되었습니다.\n",
            "음수가 입력되었습니다.\n",
            "음수가 입력되었습니다.\n",
            "음수가 입력되었습니다.\n",
            "음수가 입력되었습니다.\n",
            "음수가 입력되었습니다.\n",
            "음수가 입력되었습니다.\n",
            "음수가 입력되었습니다.\n",
            "음수가 입력되었습니다.\n",
            "음수가 입력되었습니다.\n",
            "음수가 입력되었습니다.\n",
            "음수가 입력되었습니다.\n",
            "음수가 입력되었습니다.\n",
            "음수가 입력되었습니다.\n",
            "음수가 입력되었습니다.\n",
            "음수가 입력되었습니다.\n",
            "음수가 입력되었습니다.\n",
            "음수가 입력되었습니다.\n",
            "음수가 입력되었습니다.\n",
            "음수가 입력되었습니다.\n",
            "음수가 입력되었습니다.\n",
            "음수가 입력되었습니다.\n",
            "음수가 입력되었습니다.\n",
            "음수가 입력되었습니다.\n",
            "음수가 입력되었습니다.\n",
            "음수가 입력되었습니다.\n",
            "음수가 입력되었습니다.\n",
            "음수가 입력되었습니다.\n",
            "음수가 입력되었습니다.\n",
            "음수가 입력되었습니다.\n",
            "음수가 입력되었습니다.\n",
            "음수가 입력되었습니다.\n",
            "음수가 입력되었습니다.\n",
            "음수가 입력되었습니다.\n",
            "음수가 입력되었습니다.\n",
            "음수가 입력되었습니다.\n",
            "음수가 입력되었습니다.\n",
            "음수가 입력되었습니다.\n",
            "음수가 입력되었습니다.\n",
            "음수가 입력되었습니다.\n",
            "음수가 입력되었습니다.\n",
            "음수가 입력되었습니다.\n",
            "음수가 입력되었습니다.\n",
            "음수가 입력되었습니다.\n",
            "음수가 입력되었습니다.\n",
            "음수가 입력되었습니다.\n",
            "음수가 입력되었습니다.\n",
            "음수가 입력되었습니다.\n",
            "음수가 입력되었습니다.\n",
            "음수가 입력되었습니다.\n",
            "음수가 입력되었습니다.\n",
            "음수가 입력되었습니다.\n",
            "음수가 입력되었습니다.\n",
            "음수가 입력되었습니다.\n",
            "음수가 입력되었습니다.\n",
            "음수가 입력되었습니다.\n",
            "음수가 입력되었습니다.\n",
            "음수가 입력되었습니다.\n",
            "음수가 입력되었습니다.\n",
            "음수가 입력되었습니다.\n",
            "음수가 입력되었습니다.\n",
            "음수가 입력되었습니다.\n",
            "음수가 입력되었습니다.\n",
            "음수가 입력되었습니다.\n",
            "음수가 입력되었습니다.\n",
            "음수가 입력되었습니다.\n",
            "음수가 입력되었습니다.\n",
            "음수가 입력되었습니다.\n",
            "음수가 입력되었습니다.\n",
            "음수가 입력되었습니다.\n",
            "음수가 입력되었습니다.\n",
            "음수가 입력되었습니다.\n",
            "음수가 입력되었습니다.\n",
            "음수가 입력되었습니다.\n",
            "음수가 입력되었습니다.\n",
            "음수가 입력되었습니다.\n",
            "음수가 입력되었습니다.\n",
            "음수가 입력되었습니다.\n",
            "음수가 입력되었습니다.\n",
            "음수가 입력되었습니다.\n",
            "음수가 입력되었습니다.\n",
            "음수가 입력되었습니다.\n",
            "음수가 입력되었습니다.\n",
            "음수가 입력되었습니다.\n",
            "음수가 입력되었습니다.\n",
            "음수가 입력되었습니다.\n",
            "음수가 입력되었습니다.\n",
            "음수가 입력되었습니다.\n",
            "음수가 입력되었습니다.\n",
            "음수가 입력되었습니다.\n",
            "음수가 입력되었습니다.\n",
            "음수가 입력되었습니다.\n",
            "음수가 입력되었습니다.\n",
            "음수가 입력되었습니다.\n",
            "음수가 입력되었습니다.\n",
            "음수가 입력되었습니다.\n",
            "음수가 입력되었습니다.\n",
            "음수가 입력되었습니다.\n",
            "음수가 입력되었습니다.\n",
            "음수가 입력되었습니다.\n",
            "음수가 입력되었습니다.\n",
            "음수가 입력되었습니다.\n",
            "음수가 입력되었습니다.\n",
            "음수가 입력되었습니다.\n",
            "음수가 입력되었습니다.\n",
            "음수가 입력되었습니다.\n",
            "음수가 입력되었습니다.\n",
            "음수가 입력되었습니다.\n",
            "음수가 입력되었습니다.\n",
            "음수가 입력되었습니다.\n",
            "음수가 입력되었습니다.\n",
            "음수가 입력되었습니다.\n",
            "음수가 입력되었습니다.\n",
            "음수가 입력되었습니다.\n",
            "음수가 입력되었습니다.\n",
            "음수가 입력되었습니다.\n",
            "음수가 입력되었습니다.\n",
            "음수가 입력되었습니다.\n",
            "음수가 입력되었습니다.\n",
            "음수가 입력되었습니다.\n",
            "음수가 입력되었습니다.\n",
            "음수가 입력되었습니다.\n",
            "음수가 입력되었습니다.\n",
            "음수가 입력되었습니다.\n",
            "음수가 입력되었습니다.\n",
            "음수가 입력되었습니다.\n",
            "음수가 입력되었습니다.\n",
            "음수가 입력되었습니다.\n",
            "음수가 입력되었습니다.\n",
            "음수가 입력되었습니다.\n",
            "음수가 입력되었습니다.\n",
            "음수가 입력되었습니다.\n",
            "음수가 입력되었습니다.\n",
            "음수가 입력되었습니다.\n",
            "음수가 입력되었습니다.\n",
            "음수가 입력되었습니다.\n",
            "음수가 입력되었습니다.\n",
            "음수가 입력되었습니다.\n",
            "음수가 입력되었습니다.\n",
            "음수가 입력되었습니다.\n",
            "음수가 입력되었습니다.\n",
            "음수가 입력되었습니다.\n",
            "음수가 입력되었습니다.\n",
            "음수가 입력되었습니다.\n",
            "음수가 입력되었습니다.\n",
            "음수가 입력되었습니다.\n",
            "음수가 입력되었습니다.\n",
            "음수가 입력되었습니다.\n",
            "음수가 입력되었습니다.\n",
            "음수가 입력되었습니다.\n",
            "음수가 입력되었습니다.\n",
            "음수가 입력되었습니다.\n",
            "음수가 입력되었습니다.\n",
            "음수가 입력되었습니다.\n",
            "음수가 입력되었습니다.\n",
            "음수가 입력되었습니다.\n",
            "음수가 입력되었습니다.\n",
            "음수가 입력되었습니다.\n",
            "음수가 입력되었습니다.\n",
            "음수가 입력되었습니다.\n",
            "음수가 입력되었습니다.\n",
            "음수가 입력되었습니다.\n",
            "음수가 입력되었습니다.\n",
            "음수가 입력되었습니다.\n",
            "음수가 입력되었습니다.\n",
            "음수가 입력되었습니다.\n",
            "음수가 입력되었습니다.\n",
            "음수가 입력되었습니다.\n",
            "음수가 입력되었습니다.\n",
            "음수가 입력되었습니다.\n",
            "음수가 입력되었습니다.\n",
            "음수가 입력되었습니다.\n",
            "음수가 입력되었습니다.\n",
            "음수가 입력되었습니다.\n",
            "음수가 입력되었습니다.\n",
            "음수가 입력되었습니다.\n",
            "음수가 입력되었습니다.\n",
            "음수가 입력되었습니다.\n",
            "음수가 입력되었습니다.\n",
            "음수가 입력되었습니다.\n",
            "음수가 입력되었습니다.\n",
            "음수가 입력되었습니다.\n",
            "음수가 입력되었습니다.\n",
            "음수가 입력되었습니다.\n",
            "음수가 입력되었습니다.\n",
            "음수가 입력되었습니다.\n",
            "음수가 입력되었습니다.\n",
            "음수가 입력되었습니다.\n",
            "음수가 입력되었습니다.\n",
            "음수가 입력되었습니다.\n",
            "음수가 입력되었습니다.\n",
            "음수가 입력되었습니다.\n",
            "음수가 입력되었습니다.\n",
            "음수가 입력되었습니다.\n",
            "음수가 입력되었습니다.\n",
            "음수가 입력되었습니다.\n",
            "음수가 입력되었습니다.\n",
            "음수가 입력되었습니다.\n",
            "음수가 입력되었습니다.\n",
            "음수가 입력되었습니다.\n",
            "음수가 입력되었습니다.\n",
            "음수가 입력되었습니다.\n",
            "음수가 입력되었습니다.\n",
            "음수가 입력되었습니다.\n",
            "음수가 입력되었습니다.\n",
            "음수가 입력되었습니다.\n",
            "음수가 입력되었습니다.\n",
            "음수가 입력되었습니다.\n",
            "음수가 입력되었습니다.\n",
            "음수가 입력되었습니다.\n",
            "음수가 입력되었습니다.\n",
            "음수가 입력되었습니다.\n",
            "음수가 입력되었습니다.\n",
            "음수가 입력되었습니다.\n",
            "음수가 입력되었습니다.\n",
            "음수가 입력되었습니다.\n",
            "음수가 입력되었습니다.\n",
            "음수가 입력되었습니다.\n",
            "음수가 입력되었습니다.\n",
            "음수가 입력되었습니다.\n",
            "음수가 입력되었습니다.\n",
            "음수가 입력되었습니다.\n",
            "음수가 입력되었습니다.\n",
            "음수가 입력되었습니다.\n",
            "음수가 입력되었습니다.\n",
            "음수가 입력되었습니다.\n",
            "음수가 입력되었습니다.\n",
            "음수가 입력되었습니다.\n",
            "음수가 입력되었습니다.\n",
            "음수가 입력되었습니다.\n",
            "음수가 입력되었습니다.\n",
            "음수가 입력되었습니다.\n",
            "음수가 입력되었습니다.\n",
            "음수가 입력되었습니다.\n",
            "음수가 입력되었습니다.\n",
            "음수가 입력되었습니다.\n",
            "음수가 입력되었습니다.\n",
            "음수가 입력되었습니다.\n",
            "음수가 입력되었습니다.\n",
            "음수가 입력되었습니다.\n",
            "음수가 입력되었습니다.\n",
            "음수가 입력되었습니다.\n",
            "음수가 입력되었습니다.\n",
            "음수가 입력되었습니다.\n",
            "음수가 입력되었습니다.\n",
            "음수가 입력되었습니다.\n",
            "음수가 입력되었습니다.\n",
            "음수가 입력되었습니다.\n",
            "음수가 입력되었습니다.\n",
            "음수가 입력되었습니다.\n",
            "음수가 입력되었습니다.\n",
            "음수가 입력되었습니다.\n",
            "음수가 입력되었습니다.\n",
            "음수가 입력되었습니다.\n",
            "음수가 입력되었습니다.\n",
            "음수가 입력되었습니다.\n",
            "음수가 입력되었습니다.\n",
            "음수가 입력되었습니다.\n",
            "음수가 입력되었습니다.\n",
            "음수가 입력되었습니다.\n",
            "음수가 입력되었습니다.\n",
            "음수가 입력되었습니다.\n",
            "음수가 입력되었습니다.\n",
            "음수가 입력되었습니다.\n",
            "음수가 입력되었습니다.\n",
            "음수가 입력되었습니다.\n",
            "음수가 입력되었습니다.\n",
            "음수가 입력되었습니다.\n",
            "음수가 입력되었습니다.\n",
            "음수가 입력되었습니다.\n",
            "음수가 입력되었습니다.\n",
            "음수가 입력되었습니다.\n",
            "음수가 입력되었습니다.\n",
            "음수가 입력되었습니다.\n",
            "음수가 입력되었습니다.\n",
            "음수가 입력되었습니다.\n",
            "음수가 입력되었습니다.\n",
            "음수가 입력되었습니다.\n",
            "음수가 입력되었습니다.\n",
            "음수가 입력되었습니다.\n",
            "음수가 입력되었습니다.\n",
            "음수가 입력되었습니다.\n",
            "음수가 입력되었습니다.\n",
            "음수가 입력되었습니다.\n",
            "음수가 입력되었습니다.\n",
            "음수가 입력되었습니다.\n",
            "음수가 입력되었습니다.\n",
            "음수가 입력되었습니다.\n",
            "음수가 입력되었습니다.\n",
            "음수가 입력되었습니다.\n",
            "음수가 입력되었습니다.\n",
            "음수가 입력되었습니다.\n",
            "음수가 입력되었습니다.\n",
            "음수가 입력되었습니다.\n",
            "음수가 입력되었습니다.\n",
            "음수가 입력되었습니다.\n",
            "음수가 입력되었습니다.\n",
            "음수가 입력되었습니다.\n",
            "음수가 입력되었습니다.\n",
            "음수가 입력되었습니다.\n",
            "음수가 입력되었습니다.\n",
            "음수가 입력되었습니다.\n",
            "음수가 입력되었습니다.\n",
            "음수가 입력되었습니다.\n",
            "음수가 입력되었습니다.\n",
            "음수가 입력되었습니다.\n",
            "음수가 입력되었습니다.\n",
            "음수가 입력되었습니다.\n",
            "음수가 입력되었습니다.\n",
            "음수가 입력되었습니다.\n",
            "음수가 입력되었습니다.\n",
            "음수가 입력되었습니다.\n",
            "음수가 입력되었습니다.\n",
            "음수가 입력되었습니다.\n",
            "음수가 입력되었습니다.\n",
            "음수가 입력되었습니다.\n",
            "음수가 입력되었습니다.\n",
            "음수가 입력되었습니다.\n",
            "음수가 입력되었습니다.\n",
            "음수가 입력되었습니다.\n",
            "음수가 입력되었습니다.\n",
            "음수가 입력되었습니다.\n",
            "음수가 입력되었습니다.\n",
            "음수가 입력되었습니다.\n",
            "음수가 입력되었습니다.\n",
            "음수가 입력되었습니다.\n",
            "음수가 입력되었습니다.\n",
            "음수가 입력되었습니다.\n",
            "음수가 입력되었습니다.\n",
            "음수가 입력되었습니다.\n",
            "음수가 입력되었습니다.\n",
            "음수가 입력되었습니다.\n",
            "음수가 입력되었습니다.\n",
            "음수가 입력되었습니다.\n",
            "음수가 입력되었습니다.\n",
            "음수가 입력되었습니다.\n",
            "음수가 입력되었습니다.\n",
            "음수가 입력되었습니다.\n",
            "음수가 입력되었습니다.\n",
            "음수가 입력되었습니다.\n",
            "음수가 입력되었습니다.\n",
            "음수가 입력되었습니다.\n",
            "음수가 입력되었습니다.\n",
            "음수가 입력되었습니다.\n",
            "음수가 입력되었습니다.\n",
            "음수가 입력되었습니다.\n",
            "음수가 입력되었습니다.\n",
            "음수가 입력되었습니다.\n",
            "음수가 입력되었습니다.\n",
            "음수가 입력되었습니다.\n",
            "음수가 입력되었습니다.\n",
            "음수가 입력되었습니다.\n",
            "음수가 입력되었습니다.\n",
            "음수가 입력되었습니다.\n",
            "음수가 입력되었습니다.\n",
            "음수가 입력되었습니다.\n",
            "음수가 입력되었습니다.\n",
            "음수가 입력되었습니다.\n",
            "음수가 입력되었습니다.\n",
            "음수가 입력되었습니다.\n",
            "음수가 입력되었습니다.\n",
            "음수가 입력되었습니다.\n",
            "음수가 입력되었습니다.\n",
            "음수가 입력되었습니다.\n",
            "음수가 입력되었습니다.\n",
            "음수가 입력되었습니다.\n",
            "음수가 입력되었습니다.\n",
            "음수가 입력되었습니다.\n",
            "음수가 입력되었습니다.\n",
            "음수가 입력되었습니다.\n",
            "음수가 입력되었습니다.\n",
            "음수가 입력되었습니다.\n",
            "음수가 입력되었습니다.\n",
            "음수가 입력되었습니다.\n",
            "음수가 입력되었습니다.\n",
            "음수가 입력되었습니다.\n",
            "음수가 입력되었습니다.\n",
            "음수가 입력되었습니다.\n",
            "음수가 입력되었습니다.\n",
            "음수가 입력되었습니다.\n",
            "음수가 입력되었습니다.\n",
            "음수가 입력되었습니다.\n",
            "음수가 입력되었습니다.\n",
            "음수가 입력되었습니다.\n",
            "음수가 입력되었습니다.\n",
            "음수가 입력되었습니다.\n",
            "음수가 입력되었습니다.\n",
            "음수가 입력되었습니다.\n",
            "음수가 입력되었습니다.\n",
            "음수가 입력되었습니다.\n",
            "음수가 입력되었습니다.\n",
            "음수가 입력되었습니다.\n",
            "음수가 입력되었습니다.\n",
            "음수가 입력되었습니다.\n",
            "음수가 입력되었습니다.\n",
            "음수가 입력되었습니다.\n",
            "음수가 입력되었습니다.\n",
            "음수가 입력되었습니다.\n",
            "음수가 입력되었습니다.\n",
            "음수가 입력되었습니다.\n",
            "음수가 입력되었습니다.\n",
            "음수가 입력되었습니다.\n",
            "음수가 입력되었습니다.\n",
            "음수가 입력되었습니다.\n",
            "음수가 입력되었습니다.\n",
            "음수가 입력되었습니다.\n",
            "음수가 입력되었습니다.\n",
            "음수가 입력되었습니다.\n",
            "음수가 입력되었습니다.\n",
            "음수가 입력되었습니다.\n",
            "음수가 입력되었습니다.\n",
            "음수가 입력되었습니다.\n",
            "음수가 입력되었습니다.\n",
            "음수가 입력되었습니다.\n",
            "음수가 입력되었습니다.\n",
            "음수가 입력되었습니다.\n",
            "음수가 입력되었습니다.\n",
            "음수가 입력되었습니다.\n",
            "음수가 입력되었습니다.\n",
            "음수가 입력되었습니다.\n",
            "음수가 입력되었습니다.\n",
            "음수가 입력되었습니다.\n",
            "음수가 입력되었습니다.\n",
            "음수가 입력되었습니다.\n",
            "음수가 입력되었습니다.\n",
            "음수가 입력되었습니다.\n",
            "음수가 입력되었습니다.\n",
            "음수가 입력되었습니다.\n",
            "음수가 입력되었습니다.\n",
            "음수가 입력되었습니다.\n",
            "음수가 입력되었습니다.\n",
            "음수가 입력되었습니다.\n",
            "음수가 입력되었습니다.\n",
            "음수가 입력되었습니다.\n",
            "음수가 입력되었습니다.\n",
            "음수가 입력되었습니다.\n",
            "음수가 입력되었습니다.\n",
            "음수가 입력되었습니다.\n",
            "음수가 입력되었습니다.\n",
            "음수가 입력되었습니다.\n",
            "음수가 입력되었습니다.\n",
            "음수가 입력되었습니다.\n",
            "음수가 입력되었습니다.\n",
            "음수가 입력되었습니다.\n",
            "음수가 입력되었습니다.\n",
            "음수가 입력되었습니다.\n",
            "음수가 입력되었습니다.\n",
            "음수가 입력되었습니다.\n",
            "음수가 입력되었습니다.\n",
            "음수가 입력되었습니다.\n",
            "음수가 입력되었습니다.\n",
            "음수가 입력되었습니다.\n",
            "음수가 입력되었습니다.\n",
            "음수가 입력되었습니다.\n",
            "음수가 입력되었습니다.\n",
            "음수가 입력되었습니다.\n",
            "음수가 입력되었습니다.\n",
            "음수가 입력되었습니다.\n",
            "음수가 입력되었습니다.\n",
            "음수가 입력되었습니다.\n",
            "음수가 입력되었습니다.\n",
            "음수가 입력되었습니다.\n",
            "음수가 입력되었습니다.\n",
            "음수가 입력되었습니다.\n",
            "음수가 입력되었습니다.\n",
            "음수가 입력되었습니다.\n",
            "음수가 입력되었습니다.\n",
            "음수가 입력되었습니다.\n",
            "음수가 입력되었습니다.\n",
            "음수가 입력되었습니다.\n",
            "음수가 입력되었습니다.\n",
            "음수가 입력되었습니다.\n",
            "음수가 입력되었습니다.\n",
            "음수가 입력되었습니다.\n",
            "음수가 입력되었습니다.\n",
            "음수가 입력되었습니다.\n",
            "음수가 입력되었습니다.\n",
            "음수가 입력되었습니다.\n",
            "음수가 입력되었습니다.\n",
            "음수가 입력되었습니다.\n",
            "음수가 입력되었습니다.\n",
            "음수가 입력되었습니다.\n",
            "음수가 입력되었습니다.\n",
            "음수가 입력되었습니다.\n",
            "음수가 입력되었습니다.\n",
            "음수가 입력되었습니다.\n",
            "음수가 입력되었습니다.\n",
            "음수가 입력되었습니다.\n",
            "음수가 입력되었습니다.\n",
            "음수가 입력되었습니다.\n",
            "음수가 입력되었습니다.\n",
            "음수가 입력되었습니다.\n",
            "음수가 입력되었습니다.\n",
            "음수가 입력되었습니다.\n",
            "음수가 입력되었습니다.\n",
            "음수가 입력되었습니다.\n",
            "음수가 입력되었습니다.\n",
            "음수가 입력되었습니다.\n",
            "음수가 입력되었습니다.\n",
            "음수가 입력되었습니다.\n",
            "음수가 입력되었습니다.\n",
            "음수가 입력되었습니다.\n",
            "음수가 입력되었습니다.\n",
            "음수가 입력되었습니다.\n",
            "음수가 입력되었습니다.\n",
            "음수가 입력되었습니다.\n",
            "음수가 입력되었습니다.\n",
            "음수가 입력되었습니다.\n",
            "음수가 입력되었습니다.\n",
            "음수가 입력되었습니다.\n",
            "음수가 입력되었습니다.\n",
            "음수가 입력되었습니다.\n",
            "음수가 입력되었습니다.\n",
            "음수가 입력되었습니다.\n",
            "음수가 입력되었습니다.\n",
            "음수가 입력되었습니다.\n",
            "음수가 입력되었습니다.\n",
            "음수가 입력되었습니다.\n",
            "음수가 입력되었습니다.\n",
            "음수가 입력되었습니다.\n",
            "음수가 입력되었습니다.\n",
            "음수가 입력되었습니다.\n",
            "음수가 입력되었습니다.\n",
            "음수가 입력되었습니다.\n",
            "음수가 입력되었습니다.\n",
            "음수가 입력되었습니다.\n",
            "음수가 입력되었습니다.\n",
            "음수가 입력되었습니다.\n",
            "음수가 입력되었습니다.\n",
            "음수가 입력되었습니다.\n",
            "음수가 입력되었습니다.\n",
            "음수가 입력되었습니다.\n",
            "음수가 입력되었습니다.\n",
            "음수가 입력되었습니다.\n",
            "음수가 입력되었습니다.\n",
            "음수가 입력되었습니다.\n",
            "음수가 입력되었습니다.\n",
            "음수가 입력되었습니다.\n",
            "음수가 입력되었습니다.\n",
            "음수가 입력되었습니다.\n",
            "음수가 입력되었습니다.\n",
            "음수가 입력되었습니다.\n",
            "음수가 입력되었습니다.\n",
            "음수가 입력되었습니다.\n",
            "음수가 입력되었습니다.\n",
            "음수가 입력되었습니다.\n",
            "음수가 입력되었습니다.\n",
            "음수가 입력되었습니다.\n",
            "음수가 입력되었습니다.\n",
            "음수가 입력되었습니다.\n",
            "음수가 입력되었습니다.\n",
            "음수가 입력되었습니다.\n",
            "음수가 입력되었습니다.\n",
            "음수가 입력되었습니다.\n",
            "음수가 입력되었습니다.\n",
            "음수가 입력되었습니다.\n",
            "음수가 입력되었습니다.\n",
            "음수가 입력되었습니다.\n",
            "음수가 입력되었습니다.\n",
            "음수가 입력되었습니다.\n",
            "음수가 입력되었습니다.\n",
            "음수가 입력되었습니다.\n",
            "음수가 입력되었습니다.\n",
            "음수가 입력되었습니다.\n",
            "음수가 입력되었습니다.\n",
            "음수가 입력되었습니다.\n",
            "음수가 입력되었습니다.\n",
            "음수가 입력되었습니다.\n",
            "음수가 입력되었습니다.\n",
            "음수가 입력되었습니다.\n",
            "음수가 입력되었습니다.\n",
            "음수가 입력되었습니다.\n",
            "음수가 입력되었습니다.\n",
            "음수가 입력되었습니다.\n",
            "음수가 입력되었습니다.\n",
            "음수가 입력되었습니다.\n",
            "음수가 입력되었습니다.\n",
            "음수가 입력되었습니다.\n",
            "음수가 입력되었습니다.\n",
            "음수가 입력되었습니다.\n",
            "음수가 입력되었습니다.\n",
            "음수가 입력되었습니다.\n",
            "음수가 입력되었습니다.\n",
            "음수가 입력되었습니다.\n",
            "음수가 입력되었습니다.\n",
            "음수가 입력되었습니다.\n",
            "음수가 입력되었습니다.\n",
            "음수가 입력되었습니다.\n",
            "음수가 입력되었습니다.\n",
            "음수가 입력되었습니다.\n",
            "음수가 입력되었습니다.\n",
            "음수가 입력되었습니다.\n",
            "음수가 입력되었습니다.\n",
            "음수가 입력되었습니다.\n",
            "음수가 입력되었습니다.\n",
            "음수가 입력되었습니다.\n",
            "음수가 입력되었습니다.\n",
            "음수가 입력되었습니다.\n",
            "음수가 입력되었습니다.\n",
            "음수가 입력되었습니다.\n",
            "음수가 입력되었습니다.\n",
            "음수가 입력되었습니다.\n",
            "음수가 입력되었습니다.\n",
            "음수가 입력되었습니다.\n",
            "음수가 입력되었습니다.\n",
            "음수가 입력되었습니다.\n",
            "음수가 입력되었습니다.\n",
            "음수가 입력되었습니다.\n",
            "음수가 입력되었습니다.\n",
            "음수가 입력되었습니다.\n",
            "음수가 입력되었습니다.\n",
            "음수가 입력되었습니다.\n",
            "음수가 입력되었습니다.\n",
            "음수가 입력되었습니다.\n",
            "음수가 입력되었습니다.\n",
            "음수가 입력되었습니다.\n",
            "음수가 입력되었습니다.\n",
            "음수가 입력되었습니다.\n",
            "음수가 입력되었습니다.\n",
            "음수가 입력되었습니다.\n",
            "음수가 입력되었습니다.\n",
            "음수가 입력되었습니다.\n",
            "음수가 입력되었습니다.\n",
            "음수가 입력되었습니다.\n",
            "음수가 입력되었습니다.\n",
            "음수가 입력되었습니다.\n",
            "음수가 입력되었습니다.\n",
            "음수가 입력되었습니다.\n",
            "음수가 입력되었습니다.\n",
            "음수가 입력되었습니다.\n",
            "음수가 입력되었습니다.\n",
            "음수가 입력되었습니다.\n",
            "음수가 입력되었습니다.\n",
            "음수가 입력되었습니다.\n",
            "음수가 입력되었습니다.\n",
            "음수가 입력되었습니다.\n",
            "음수가 입력되었습니다.\n",
            "음수가 입력되었습니다.\n",
            "음수가 입력되었습니다.\n",
            "음수가 입력되었습니다.\n",
            "음수가 입력되었습니다.\n",
            "음수가 입력되었습니다.\n",
            "음수가 입력되었습니다.\n",
            "음수가 입력되었습니다.\n",
            "음수가 입력되었습니다.\n",
            "음수가 입력되었습니다.\n",
            "음수가 입력되었습니다.\n",
            "음수가 입력되었습니다.\n",
            "음수가 입력되었습니다.\n",
            "음수가 입력되었습니다.\n",
            "음수가 입력되었습니다.\n",
            "음수가 입력되었습니다.\n",
            "음수가 입력되었습니다.\n",
            "음수가 입력되었습니다.\n",
            "음수가 입력되었습니다.\n",
            "음수가 입력되었습니다.\n",
            "음수가 입력되었습니다.\n",
            "음수가 입력되었습니다.\n",
            "음수가 입력되었습니다.\n",
            "음수가 입력되었습니다.\n",
            "음수가 입력되었습니다.\n",
            "음수가 입력되었습니다.\n",
            "음수가 입력되었습니다.\n",
            "음수가 입력되었습니다.\n",
            "음수가 입력되었습니다.\n",
            "음수가 입력되었습니다.\n",
            "음수가 입력되었습니다.\n",
            "음수가 입력되었습니다.\n",
            "음수가 입력되었습니다.\n",
            "음수가 입력되었습니다.\n",
            "음수가 입력되었습니다.\n",
            "음수가 입력되었습니다.\n",
            "음수가 입력되었습니다.\n",
            "음수가 입력되었습니다.\n",
            "음수가 입력되었습니다.\n",
            "음수가 입력되었습니다.\n",
            "음수가 입력되었습니다.\n",
            "음수가 입력되었습니다.\n",
            "음수가 입력되었습니다.\n",
            "음수가 입력되었습니다.\n",
            "음수가 입력되었습니다.\n",
            "음수가 입력되었습니다.\n",
            "음수가 입력되었습니다.\n",
            "음수가 입력되었습니다.\n",
            "음수가 입력되었습니다.\n",
            "음수가 입력되었습니다.\n",
            "음수가 입력되었습니다.\n",
            "음수가 입력되었습니다.\n",
            "음수가 입력되었습니다.\n",
            "음수가 입력되었습니다.\n",
            "음수가 입력되었습니다.\n",
            "음수가 입력되었습니다.\n",
            "음수가 입력되었습니다.\n",
            "음수가 입력되었습니다.\n",
            "음수가 입력되었습니다.\n",
            "음수가 입력되었습니다.\n",
            "음수가 입력되었습니다.\n",
            "음수가 입력되었습니다.\n",
            "음수가 입력되었습니다.\n",
            "음수가 입력되었습니다.\n",
            "음수가 입력되었습니다.\n",
            "음수가 입력되었습니다.\n",
            "음수가 입력되었습니다.\n",
            "음수가 입력되었습니다.\n",
            "음수가 입력되었습니다.\n",
            "음수가 입력되었습니다.\n",
            "음수가 입력되었습니다.\n",
            "음수가 입력되었습니다.\n",
            "음수가 입력되었습니다.\n",
            "음수가 입력되었습니다.\n",
            "음수가 입력되었습니다.\n",
            "음수가 입력되었습니다.\n",
            "음수가 입력되었습니다.\n",
            "음수가 입력되었습니다.\n",
            "음수가 입력되었습니다.\n",
            "음수가 입력되었습니다.\n",
            "음수가 입력되었습니다.\n",
            "음수가 입력되었습니다.\n",
            "음수가 입력되었습니다.\n",
            "음수가 입력되었습니다.\n",
            "음수가 입력되었습니다.\n",
            "음수가 입력되었습니다.\n",
            "음수가 입력되었습니다.\n",
            "음수가 입력되었습니다.\n",
            "음수가 입력되었습니다.\n",
            "음수가 입력되었습니다.\n",
            "음수가 입력되었습니다.\n",
            "음수가 입력되었습니다.\n",
            "음수가 입력되었습니다.\n",
            "음수가 입력되었습니다.\n",
            "음수가 입력되었습니다.\n",
            "음수가 입력되었습니다.\n",
            "음수가 입력되었습니다.\n",
            "음수가 입력되었습니다.\n",
            "음수가 입력되었습니다.\n",
            "음수가 입력되었습니다.\n",
            "음수가 입력되었습니다.\n",
            "음수가 입력되었습니다.\n",
            "음수가 입력되었습니다.\n",
            "음수가 입력되었습니다.\n",
            "음수가 입력되었습니다.\n",
            "음수가 입력되었습니다.\n",
            "음수가 입력되었습니다.\n",
            "음수가 입력되었습니다.\n",
            "음수가 입력되었습니다.\n",
            "음수가 입력되었습니다.\n",
            "음수가 입력되었습니다.\n",
            "음수가 입력되었습니다.\n",
            "음수가 입력되었습니다.\n",
            "음수가 입력되었습니다.\n",
            "음수가 입력되었습니다.\n",
            "음수가 입력되었습니다.\n",
            "음수가 입력되었습니다.\n",
            "음수가 입력되었습니다.\n",
            "음수가 입력되었습니다.\n",
            "음수가 입력되었습니다.\n",
            "음수가 입력되었습니다.\n",
            "음수가 입력되었습니다.\n",
            "음수가 입력되었습니다.\n",
            "음수가 입력되었습니다.\n",
            "음수가 입력되었습니다.\n",
            "음수가 입력되었습니다.\n",
            "음수가 입력되었습니다.\n",
            "음수가 입력되었습니다.\n",
            "음수가 입력되었습니다.\n",
            "음수가 입력되었습니다.\n",
            "음수가 입력되었습니다.\n",
            "음수가 입력되었습니다.\n",
            "음수가 입력되었습니다.\n",
            "음수가 입력되었습니다.\n",
            "음수가 입력되었습니다.\n",
            "음수가 입력되었습니다.\n",
            "음수가 입력되었습니다.\n",
            "음수가 입력되었습니다.\n",
            "음수가 입력되었습니다.\n",
            "음수가 입력되었습니다.\n",
            "음수가 입력되었습니다.\n",
            "음수가 입력되었습니다.\n",
            "음수가 입력되었습니다.\n",
            "음수가 입력되었습니다.\n",
            "음수가 입력되었습니다.\n",
            "음수가 입력되었습니다.\n",
            "음수가 입력되었습니다.\n",
            "음수가 입력되었습니다.\n",
            "음수가 입력되었습니다.\n",
            "음수가 입력되었습니다.\n",
            "음수가 입력되었습니다.\n",
            "음수가 입력되었습니다.\n",
            "음수가 입력되었습니다.\n",
            "음수가 입력되었습니다.\n",
            "음수가 입력되었습니다.\n",
            "음수가 입력되었습니다.\n",
            "음수가 입력되었습니다.\n",
            "음수가 입력되었습니다.\n",
            "음수가 입력되었습니다.\n",
            "음수가 입력되었습니다.\n",
            "음수가 입력되었습니다.\n",
            "음수가 입력되었습니다.\n",
            "음수가 입력되었습니다.\n",
            "음수가 입력되었습니다.\n",
            "음수가 입력되었습니다.\n",
            "음수가 입력되었습니다.\n",
            "음수가 입력되었습니다.\n",
            "음수가 입력되었습니다.\n",
            "음수가 입력되었습니다.\n",
            "음수가 입력되었습니다.\n",
            "음수가 입력되었습니다.\n",
            "음수가 입력되었습니다.\n",
            "음수가 입력되었습니다.\n",
            "음수가 입력되었습니다.\n",
            "음수가 입력되었습니다.\n",
            "음수가 입력되었습니다.\n",
            "음수가 입력되었습니다.\n",
            "음수가 입력되었습니다.\n",
            "음수가 입력되었습니다.\n",
            "음수가 입력되었습니다.\n",
            "음수가 입력되었습니다.\n",
            "음수가 입력되었습니다.\n",
            "음수가 입력되었습니다.\n",
            "음수가 입력되었습니다.\n",
            "음수가 입력되었습니다.\n",
            "음수가 입력되었습니다.\n",
            "음수가 입력되었습니다.\n",
            "음수가 입력되었습니다.\n",
            "음수가 입력되었습니다.\n",
            "음수가 입력되었습니다.\n",
            "음수가 입력되었습니다.\n",
            "음수가 입력되었습니다.\n",
            "음수가 입력되었습니다.\n",
            "음수가 입력되었습니다.\n",
            "음수가 입력되었습니다.\n",
            "음수가 입력되었습니다.\n",
            "음수가 입력되었습니다.\n",
            "음수가 입력되었습니다.\n",
            "음수가 입력되었습니다.\n",
            "음수가 입력되었습니다.\n",
            "음수가 입력되었습니다.\n",
            "음수가 입력되었습니다.\n",
            "음수가 입력되었습니다.\n",
            "음수가 입력되었습니다.\n",
            "음수가 입력되었습니다.\n",
            "음수가 입력되었습니다.\n",
            "음수가 입력되었습니다.\n",
            "음수가 입력되었습니다.\n",
            "음수가 입력되었습니다.\n",
            "음수가 입력되었습니다.\n",
            "음수가 입력되었습니다.\n",
            "음수가 입력되었습니다.\n",
            "음수가 입력되었습니다.\n",
            "음수가 입력되었습니다.\n",
            "음수가 입력되었습니다.\n",
            "음수가 입력되었습니다.\n",
            "음수가 입력되었습니다.\n",
            "음수가 입력되었습니다.\n",
            "음수가 입력되었습니다.\n",
            "음수가 입력되었습니다.\n",
            "음수가 입력되었습니다.\n",
            "음수가 입력되었습니다.\n",
            "음수가 입력되었습니다.\n",
            "음수가 입력되었습니다.\n",
            "음수가 입력되었습니다.\n",
            "음수가 입력되었습니다.\n",
            "음수가 입력되었습니다.\n",
            "음수가 입력되었습니다.\n",
            "음수가 입력되었습니다.\n",
            "음수가 입력되었습니다.\n",
            "음수가 입력되었습니다.\n",
            "음수가 입력되었습니다.\n",
            "음수가 입력되었습니다.\n",
            "음수가 입력되었습니다.\n",
            "음수가 입력되었습니다.\n",
            "음수가 입력되었습니다.\n",
            "음수가 입력되었습니다.\n",
            "음수가 입력되었습니다.\n",
            "음수가 입력되었습니다.\n",
            "음수가 입력되었습니다.\n",
            "음수가 입력되었습니다.\n",
            "음수가 입력되었습니다.\n",
            "음수가 입력되었습니다.\n",
            "음수가 입력되었습니다.\n",
            "음수가 입력되었습니다.\n",
            "음수가 입력되었습니다.\n",
            "음수가 입력되었습니다.\n",
            "음수가 입력되었습니다.\n",
            "음수가 입력되었습니다.\n",
            "음수가 입력되었습니다.\n",
            "음수가 입력되었습니다.\n",
            "음수가 입력되었습니다.\n",
            "음수가 입력되었습니다.\n",
            "음수가 입력되었습니다.\n",
            "음수가 입력되었습니다.\n",
            "음수가 입력되었습니다.\n",
            "음수가 입력되었습니다.\n",
            "음수가 입력되었습니다.\n",
            "음수가 입력되었습니다.\n",
            "음수가 입력되었습니다.\n",
            "음수가 입력되었습니다.\n",
            "음수가 입력되었습니다.\n",
            "음수가 입력되었습니다.\n",
            "음수가 입력되었습니다.\n",
            "음수가 입력되었습니다.\n",
            "음수가 입력되었습니다.\n",
            "음수가 입력되었습니다.\n",
            "음수가 입력되었습니다.\n",
            "음수가 입력되었습니다.\n",
            "음수가 입력되었습니다.\n",
            "음수가 입력되었습니다.\n",
            "음수가 입력되었습니다.\n",
            "음수가 입력되었습니다.\n",
            "음수가 입력되었습니다.\n",
            "음수가 입력되었습니다.\n",
            "음수가 입력되었습니다.\n",
            "음수가 입력되었습니다.\n",
            "음수가 입력되었습니다.\n",
            "음수가 입력되었습니다.\n",
            "음수가 입력되었습니다.\n",
            "음수가 입력되었습니다.\n",
            "음수가 입력되었습니다.\n",
            "음수가 입력되었습니다.\n",
            "음수가 입력되었습니다.\n",
            "음수가 입력되었습니다.\n",
            "음수가 입력되었습니다.\n",
            "음수가 입력되었습니다.\n",
            "음수가 입력되었습니다.\n",
            "음수가 입력되었습니다.\n",
            "음수가 입력되었습니다.\n",
            "음수가 입력되었습니다.\n",
            "음수가 입력되었습니다.\n",
            "음수가 입력되었습니다.\n",
            "음수가 입력되었습니다.\n",
            "음수가 입력되었습니다.\n",
            "음수가 입력되었습니다.\n",
            "음수가 입력되었습니다.\n",
            "음수가 입력되었습니다.\n",
            "음수가 입력되었습니다.\n",
            "음수가 입력되었습니다.\n",
            "음수가 입력되었습니다.\n",
            "음수가 입력되었습니다.\n",
            "음수가 입력되었습니다.\n",
            "음수가 입력되었습니다.\n",
            "음수가 입력되었습니다.\n",
            "음수가 입력되었습니다.\n",
            "음수가 입력되었습니다.\n",
            "음수가 입력되었습니다.\n",
            "음수가 입력되었습니다.\n",
            "음수가 입력되었습니다.\n",
            "음수가 입력되었습니다.\n",
            "음수가 입력되었습니다.\n",
            "음수가 입력되었습니다.\n",
            "음수가 입력되었습니다.\n",
            "음수가 입력되었습니다.\n",
            "음수가 입력되었습니다.\n",
            "음수가 입력되었습니다.\n",
            "음수가 입력되었습니다.\n",
            "음수가 입력되었습니다.\n",
            "음수가 입력되었습니다.\n",
            "음수가 입력되었습니다.\n",
            "음수가 입력되었습니다.\n",
            "음수가 입력되었습니다.\n",
            "음수가 입력되었습니다.\n",
            "음수가 입력되었습니다.\n",
            "음수가 입력되었습니다.\n",
            "음수가 입력되었습니다.\n",
            "음수가 입력되었습니다.\n",
            "음수가 입력되었습니다.\n",
            "음수가 입력되었습니다.\n",
            "음수가 입력되었습니다.\n",
            "음수가 입력되었습니다.\n",
            "음수가 입력되었습니다.\n",
            "음수가 입력되었습니다.\n",
            "음수가 입력되었습니다.\n",
            "음수가 입력되었습니다.\n",
            "음수가 입력되었습니다.\n",
            "음수가 입력되었습니다.\n",
            "음수가 입력되었습니다.\n",
            "음수가 입력되었습니다.\n",
            "음수가 입력되었습니다.\n",
            "음수가 입력되었습니다.\n",
            "음수가 입력되었습니다.\n",
            "음수가 입력되었습니다.\n",
            "음수가 입력되었습니다.\n",
            "음수가 입력되었습니다.\n",
            "음수가 입력되었습니다.\n",
            "음수가 입력되었습니다.\n",
            "음수가 입력되었습니다.\n",
            "음수가 입력되었습니다.\n",
            "음수가 입력되었습니다.\n",
            "음수가 입력되었습니다.\n",
            "음수가 입력되었습니다.\n",
            "음수가 입력되었습니다.\n",
            "음수가 입력되었습니다.\n",
            "음수가 입력되었습니다.\n",
            "음수가 입력되었습니다.\n",
            "음수가 입력되었습니다.\n",
            "음수가 입력되었습니다.\n",
            "음수가 입력되었습니다.\n",
            "음수가 입력되었습니다.\n",
            "음수가 입력되었습니다.\n",
            "음수가 입력되었습니다.\n",
            "음수가 입력되었습니다.\n",
            "음수가 입력되었습니다.\n",
            "음수가 입력되었습니다.\n",
            "음수가 입력되었습니다.\n",
            "음수가 입력되었습니다.\n",
            "음수가 입력되었습니다.\n",
            "음수가 입력되었습니다.\n",
            "음수가 입력되었습니다.\n",
            "음수가 입력되었습니다.\n",
            "음수가 입력되었습니다.\n",
            "음수가 입력되었습니다.\n",
            "음수가 입력되었습니다.\n",
            "음수가 입력되었습니다.\n",
            "음수가 입력되었습니다.\n",
            "음수가 입력되었습니다.\n",
            "음수가 입력되었습니다.\n",
            "음수가 입력되었습니다.\n",
            "음수가 입력되었습니다.\n",
            "음수가 입력되었습니다.\n",
            "음수가 입력되었습니다.\n",
            "음수가 입력되었습니다.\n",
            "음수가 입력되었습니다.\n",
            "음수가 입력되었습니다.\n",
            "음수가 입력되었습니다.\n",
            "음수가 입력되었습니다.\n",
            "음수가 입력되었습니다.\n",
            "음수가 입력되었습니다.\n",
            "음수가 입력되었습니다.\n",
            "음수가 입력되었습니다.\n",
            "음수가 입력되었습니다.\n",
            "음수가 입력되었습니다.\n",
            "음수가 입력되었습니다.\n",
            "음수가 입력되었습니다.\n",
            "음수가 입력되었습니다.\n",
            "음수가 입력되었습니다.\n",
            "음수가 입력되었습니다.\n",
            "음수가 입력되었습니다.\n",
            "음수가 입력되었습니다.\n",
            "음수가 입력되었습니다.\n",
            "음수가 입력되었습니다.\n",
            "음수가 입력되었습니다.\n",
            "음수가 입력되었습니다.\n",
            "음수가 입력되었습니다.\n",
            "음수가 입력되었습니다.\n",
            "음수가 입력되었습니다.\n",
            "음수가 입력되었습니다.\n",
            "음수가 입력되었습니다.\n",
            "음수가 입력되었습니다.\n",
            "음수가 입력되었습니다.\n",
            "음수가 입력되었습니다.\n",
            "음수가 입력되었습니다.\n",
            "음수가 입력되었습니다.\n",
            "음수가 입력되었습니다.\n",
            "음수가 입력되었습니다.\n",
            "음수가 입력되었습니다.\n",
            "음수가 입력되었습니다.\n",
            "음수가 입력되었습니다.\n",
            "음수가 입력되었습니다.\n",
            "음수가 입력되었습니다.\n",
            "음수가 입력되었습니다.\n",
            "음수가 입력되었습니다.\n",
            "음수가 입력되었습니다.\n",
            "음수가 입력되었습니다.\n",
            "음수가 입력되었습니다.\n",
            "음수가 입력되었습니다.\n",
            "음수가 입력되었습니다.\n",
            "음수가 입력되었습니다.\n",
            "음수가 입력되었습니다.\n",
            "음수가 입력되었습니다.\n",
            "음수가 입력되었습니다.\n",
            "음수가 입력되었습니다.\n",
            "음수가 입력되었습니다.\n",
            "음수가 입력되었습니다.\n",
            "음수가 입력되었습니다.\n",
            "음수가 입력되었습니다.\n",
            "음수가 입력되었습니다.\n",
            "음수가 입력되었습니다.\n",
            "음수가 입력되었습니다.\n",
            "음수가 입력되었습니다.\n",
            "음수가 입력되었습니다.\n",
            "음수가 입력되었습니다.\n",
            "음수가 입력되었습니다.\n",
            "음수가 입력되었습니다.\n",
            "음수가 입력되었습니다.\n",
            "음수가 입력되었습니다.\n",
            "음수가 입력되었습니다.\n",
            "음수가 입력되었습니다.\n",
            "음수가 입력되었습니다.\n",
            "음수가 입력되었습니다.\n",
            "음수가 입력되었습니다.\n",
            "음수가 입력되었습니다.\n",
            "음수가 입력되었습니다.\n",
            "음수가 입력되었습니다.\n",
            "음수가 입력되었습니다.\n",
            "음수가 입력되었습니다.\n",
            "음수가 입력되었습니다.\n",
            "음수가 입력되었습니다.\n",
            "음수가 입력되었습니다.\n",
            "음수가 입력되었습니다.\n",
            "음수가 입력되었습니다.\n",
            "음수가 입력되었습니다.\n",
            "음수가 입력되었습니다.\n",
            "음수가 입력되었습니다.\n",
            "음수가 입력되었습니다.\n",
            "음수가 입력되었습니다.\n",
            "음수가 입력되었습니다.\n",
            "음수가 입력되었습니다.\n",
            "음수가 입력되었습니다.\n",
            "음수가 입력되었습니다.\n",
            "음수가 입력되었습니다.\n",
            "음수가 입력되었습니다.\n",
            "음수가 입력되었습니다.\n",
            "음수가 입력되었습니다.\n",
            "음수가 입력되었습니다.\n",
            "음수가 입력되었습니다.\n",
            "음수가 입력되었습니다.\n",
            "음수가 입력되었습니다.\n",
            "음수가 입력되었습니다.\n",
            "음수가 입력되었습니다.\n",
            "음수가 입력되었습니다.\n",
            "음수가 입력되었습니다.\n",
            "음수가 입력되었습니다.\n",
            "음수가 입력되었습니다.\n",
            "음수가 입력되었습니다.\n",
            "음수가 입력되었습니다.\n",
            "음수가 입력되었습니다.\n",
            "음수가 입력되었습니다.\n",
            "음수가 입력되었습니다.\n",
            "음수가 입력되었습니다.\n",
            "음수가 입력되었습니다.\n",
            "음수가 입력되었습니다.\n",
            "음수가 입력되었습니다.\n",
            "음수가 입력되었습니다.\n",
            "음수가 입력되었습니다.\n",
            "음수가 입력되었습니다.\n",
            "음수가 입력되었습니다.\n",
            "음수가 입력되었습니다.\n",
            "음수가 입력되었습니다.\n",
            "음수가 입력되었습니다.\n",
            "음수가 입력되었습니다.\n",
            "음수가 입력되었습니다.\n",
            "음수가 입력되었습니다.\n",
            "음수가 입력되었습니다.\n",
            "음수가 입력되었습니다.\n",
            "음수가 입력되었습니다.\n",
            "음수가 입력되었습니다.\n",
            "음수가 입력되었습니다.\n",
            "음수가 입력되었습니다.\n",
            "음수가 입력되었습니다.\n",
            "음수가 입력되었습니다.\n",
            "음수가 입력되었습니다.\n",
            "음수가 입력되었습니다.\n",
            "음수가 입력되었습니다.\n",
            "음수가 입력되었습니다.\n",
            "음수가 입력되었습니다.\n",
            "음수가 입력되었습니다.\n",
            "음수가 입력되었습니다.\n",
            "음수가 입력되었습니다.\n",
            "음수가 입력되었습니다.\n",
            "음수가 입력되었습니다.\n",
            "음수가 입력되었습니다.\n",
            "음수가 입력되었습니다.\n",
            "음수가 입력되었습니다.\n",
            "음수가 입력되었습니다.\n",
            "음수가 입력되었습니다.\n",
            "음수가 입력되었습니다.\n",
            "음수가 입력되었습니다.\n",
            "음수가 입력되었습니다.\n",
            "음수가 입력되었습니다.\n",
            "음수가 입력되었습니다.\n",
            "음수가 입력되었습니다.\n",
            "음수가 입력되었습니다.\n",
            "음수가 입력되었습니다.\n",
            "음수가 입력되었습니다.\n",
            "음수가 입력되었습니다.\n",
            "음수가 입력되었습니다.\n",
            "음수가 입력되었습니다.\n",
            "음수가 입력되었습니다.\n",
            "음수가 입력되었습니다.\n",
            "음수가 입력되었습니다.\n",
            "음수가 입력되었습니다.\n",
            "음수가 입력되었습니다.\n",
            "음수가 입력되었습니다.\n",
            "음수가 입력되었습니다.\n",
            "음수가 입력되었습니다.\n",
            "음수가 입력되었습니다.\n",
            "음수가 입력되었습니다.\n",
            "음수가 입력되었습니다.\n",
            "음수가 입력되었습니다.\n",
            "음수가 입력되었습니다.\n",
            "음수가 입력되었습니다.\n",
            "음수가 입력되었습니다.\n",
            "음수가 입력되었습니다.\n",
            "음수가 입력되었습니다.\n",
            "음수가 입력되었습니다.\n",
            "음수가 입력되었습니다.\n",
            "음수가 입력되었습니다.\n",
            "음수가 입력되었습니다.\n",
            "음수가 입력되었습니다.\n",
            "음수가 입력되었습니다.\n",
            "음수가 입력되었습니다.\n",
            "음수가 입력되었습니다.\n",
            "음수가 입력되었습니다.\n",
            "음수가 입력되었습니다.\n",
            "음수가 입력되었습니다.\n",
            "음수가 입력되었습니다.\n",
            "음수가 입력되었습니다.\n",
            "음수가 입력되었습니다.\n",
            "음수가 입력되었습니다.\n",
            "음수가 입력되었습니다.\n",
            "음수가 입력되었습니다.\n",
            "음수가 입력되었습니다.\n",
            "음수가 입력되었습니다.\n",
            "음수가 입력되었습니다.\n",
            "음수가 입력되었습니다.\n",
            "음수가 입력되었습니다.\n",
            "음수가 입력되었습니다.\n",
            "음수가 입력되었습니다.\n",
            "음수가 입력되었습니다.\n",
            "음수가 입력되었습니다.\n",
            "음수가 입력되었습니다.\n",
            "음수가 입력되었습니다.\n",
            "음수가 입력되었습니다.\n",
            "음수가 입력되었습니다.\n",
            "음수가 입력되었습니다.\n",
            "음수가 입력되었습니다.\n",
            "음수가 입력되었습니다.\n",
            "음수가 입력되었습니다.\n",
            "음수가 입력되었습니다.\n",
            "음수가 입력되었습니다.\n",
            "음수가 입력되었습니다.\n",
            "음수가 입력되었습니다.\n",
            "음수가 입력되었습니다.\n",
            "음수가 입력되었습니다.\n",
            "음수가 입력되었습니다.\n",
            "음수가 입력되었습니다.\n",
            "음수가 입력되었습니다.\n",
            "음수가 입력되었습니다.\n",
            "음수가 입력되었습니다.\n",
            "음수가 입력되었습니다.\n",
            "음수가 입력되었습니다.\n",
            "음수가 입력되었습니다.\n",
            "음수가 입력되었습니다.\n",
            "음수가 입력되었습니다.\n",
            "음수가 입력되었습니다.\n",
            "음수가 입력되었습니다.\n",
            "음수가 입력되었습니다.\n",
            "음수가 입력되었습니다.\n",
            "음수가 입력되었습니다.\n",
            "음수가 입력되었습니다.\n",
            "음수가 입력되었습니다.\n",
            "음수가 입력되었습니다.\n",
            "음수가 입력되었습니다.\n",
            "음수가 입력되었습니다.\n",
            "음수가 입력되었습니다.\n",
            "음수가 입력되었습니다.\n",
            "음수가 입력되었습니다.\n",
            "음수가 입력되었습니다.\n",
            "음수가 입력되었습니다.\n",
            "음수가 입력되었습니다.\n",
            "음수가 입력되었습니다.\n",
            "음수가 입력되었습니다.\n",
            "음수가 입력되었습니다.\n",
            "음수가 입력되었습니다.\n",
            "음수가 입력되었습니다.\n",
            "음수가 입력되었습니다.\n",
            "음수가 입력되었습니다.\n",
            "음수가 입력되었습니다.\n",
            "음수가 입력되었습니다.\n",
            "음수가 입력되었습니다.\n",
            "음수가 입력되었습니다.\n",
            "음수가 입력되었습니다.\n",
            "음수가 입력되었습니다.\n",
            "음수가 입력되었습니다.\n",
            "음수가 입력되었습니다.\n",
            "음수가 입력되었습니다.\n",
            "음수가 입력되었습니다.\n",
            "음수가 입력되었습니다.\n",
            "음수가 입력되었습니다.\n",
            "음수가 입력되었습니다.\n",
            "음수가 입력되었습니다.\n",
            "음수가 입력되었습니다.\n",
            "음수가 입력되었습니다.\n",
            "음수가 입력되었습니다.\n",
            "음수가 입력되었습니다.\n",
            "음수가 입력되었습니다.\n",
            "음수가 입력되었습니다.\n",
            "음수가 입력되었습니다.\n",
            "음수가 입력되었습니다.\n",
            "음수가 입력되었습니다.\n",
            "음수가 입력되었습니다.\n",
            "음수가 입력되었습니다.\n",
            "음수가 입력되었습니다.\n",
            "음수가 입력되었습니다.\n",
            "음수가 입력되었습니다.\n",
            "음수가 입력되었습니다.\n",
            "음수가 입력되었습니다.\n",
            "음수가 입력되었습니다.\n",
            "음수가 입력되었습니다.\n",
            "음수가 입력되었습니다.\n",
            "음수가 입력되었습니다.\n",
            "음수가 입력되었습니다.\n",
            "음수가 입력되었습니다.\n",
            "음수가 입력되었습니다.\n",
            "음수가 입력되었습니다.\n",
            "음수가 입력되었습니다.\n",
            "음수가 입력되었습니다.\n",
            "음수가 입력되었습니다.\n",
            "음수가 입력되었습니다.\n",
            "음수가 입력되었습니다.\n",
            "음수가 입력되었습니다.\n",
            "음수가 입력되었습니다.\n",
            "음수가 입력되었습니다.\n",
            "음수가 입력되었습니다.\n",
            "음수가 입력되었습니다.\n",
            "음수가 입력되었습니다.\n",
            "음수가 입력되었습니다.\n",
            "음수가 입력되었습니다.\n",
            "음수가 입력되었습니다.\n",
            "음수가 입력되었습니다.\n",
            "음수가 입력되었습니다.\n",
            "음수가 입력되었습니다.\n",
            "음수가 입력되었습니다.\n",
            "음수가 입력되었습니다.\n",
            "음수가 입력되었습니다.\n",
            "음수가 입력되었습니다.\n",
            "음수가 입력되었습니다.\n",
            "음수가 입력되었습니다.\n",
            "음수가 입력되었습니다.\n",
            "음수가 입력되었습니다.\n",
            "음수가 입력되었습니다.\n",
            "음수가 입력되었습니다.\n",
            "음수가 입력되었습니다.\n",
            "음수가 입력되었습니다.\n",
            "음수가 입력되었습니다.\n",
            "음수가 입력되었습니다.\n",
            "음수가 입력되었습니다.\n",
            "음수가 입력되었습니다.\n",
            "음수가 입력되었습니다.\n",
            "음수가 입력되었습니다.\n",
            "음수가 입력되었습니다.\n",
            "음수가 입력되었습니다.\n",
            "음수가 입력되었습니다.\n",
            "음수가 입력되었습니다.\n",
            "음수가 입력되었습니다.\n",
            "음수가 입력되었습니다.\n",
            "음수가 입력되었습니다.\n",
            "음수가 입력되었습니다.\n",
            "음수가 입력되었습니다.\n",
            "음수가 입력되었습니다.\n",
            "음수가 입력되었습니다.\n",
            "음수가 입력되었습니다.\n",
            "음수가 입력되었습니다.\n",
            "음수가 입력되었습니다.\n",
            "음수가 입력되었습니다.\n",
            "음수가 입력되었습니다.\n",
            "음수가 입력되었습니다.\n",
            "음수가 입력되었습니다.\n",
            "음수가 입력되었습니다.\n",
            "음수가 입력되었습니다.\n",
            "음수가 입력되었습니다.\n",
            "음수가 입력되었습니다.\n",
            "음수가 입력되었습니다.\n",
            "음수가 입력되었습니다.\n",
            "음수가 입력되었습니다.\n",
            "음수가 입력되었습니다.\n",
            "음수가 입력되었습니다.\n",
            "음수가 입력되었습니다.\n",
            "음수가 입력되었습니다.\n",
            "음수가 입력되었습니다.\n",
            "음수가 입력되었습니다.\n",
            "음수가 입력되었습니다.\n",
            "음수가 입력되었습니다.\n",
            "음수가 입력되었습니다.\n",
            "음수가 입력되었습니다.\n",
            "음수가 입력되었습니다.\n",
            "음수가 입력되었습니다.\n",
            "음수가 입력되었습니다.\n",
            "음수가 입력되었습니다.\n",
            "음수가 입력되었습니다.\n",
            "음수가 입력되었습니다.\n",
            "음수가 입력되었습니다.\n",
            "음수가 입력되었습니다.\n",
            "음수가 입력되었습니다.\n",
            "음수가 입력되었습니다.\n",
            "음수가 입력되었습니다.\n",
            "음수가 입력되었습니다.\n",
            "287 µs ± 5.53 µs per loop (mean ± std. dev. of 7 runs, 10000 loops each)\n"
          ]
        }
      ]
    },
    {
      "cell_type": "code",
      "source": [
        "# 비교 연산자"
      ],
      "metadata": {
        "id": "XFLzCCetOFCT"
      },
      "execution_count": 42,
      "outputs": []
    },
    {
      "cell_type": "code",
      "source": [
        "a < b "
      ],
      "metadata": {
        "id": "g-T5jwYtFXyz"
      },
      "execution_count": null,
      "outputs": []
    },
    {
      "cell_type": "code",
      "source": [
        "c = 3\n",
        "d = 3\n",
        "\n",
        "c<= d"
      ],
      "metadata": {
        "id": "EIrnGJmiFX1T"
      },
      "execution_count": null,
      "outputs": []
    },
    {
      "cell_type": "code",
      "source": [
        "c! = d "
      ],
      "metadata": {
        "id": "-kUHVynNFX40"
      },
      "execution_count": null,
      "outputs": []
    },
    {
      "cell_type": "code",
      "source": [
        "True and True"
      ],
      "metadata": {
        "colab": {
          "base_uri": "https://localhost:8080/"
        },
        "id": "PxaPpr-aFX8I",
        "outputId": "15e63fc5-05ad-4f09-c11f-1ac0db9bb411"
      },
      "execution_count": 37,
      "outputs": [
        {
          "output_type": "execute_result",
          "data": {
            "text/plain": [
              "True"
            ]
          },
          "metadata": {},
          "execution_count": 37
        }
      ]
    },
    {
      "cell_type": "code",
      "source": [
        "#명제의 참 논리 \n",
        "True and False"
      ],
      "metadata": {
        "colab": {
          "base_uri": "https://localhost:8080/"
        },
        "id": "emgUzOE_NmAq",
        "outputId": "a0520860-e80c-444d-a60f-dffc4517a9a8"
      },
      "execution_count": 38,
      "outputs": [
        {
          "output_type": "execute_result",
          "data": {
            "text/plain": [
              "False"
            ]
          },
          "metadata": {},
          "execution_count": 38
        }
      ]
    },
    {
      "cell_type": "code",
      "source": [
        "# or 연산자\n",
        "\n",
        "boolean_list=[True, False, True, False, True]\n",
        "\n",
        "any(boolean_list)"
      ],
      "metadata": {
        "colab": {
          "base_uri": "https://localhost:8080/"
        },
        "id": "CBKfK6hzN0FO",
        "outputId": "e9d96fd1-77bf-4037-d0a0-36877b2ede6b"
      },
      "execution_count": 40,
      "outputs": [
        {
          "output_type": "execute_result",
          "data": {
            "text/plain": [
              "True"
            ]
          },
          "metadata": {},
          "execution_count": 40
        }
      ]
    },
    {
      "cell_type": "code",
      "source": [
        "#not 연산자\n",
        "not True"
      ],
      "metadata": {
        "colab": {
          "base_uri": "https://localhost:8080/"
        },
        "id": "7fC4k21KN9Ld",
        "outputId": "ae38792b-4241-4186-a319-f7bfd19ed62d"
      },
      "execution_count": 41,
      "outputs": [
        {
          "output_type": "execute_result",
          "data": {
            "text/plain": [
              "False"
            ]
          },
          "metadata": {},
          "execution_count": 41
        }
      ]
    },
    {
      "cell_type": "code",
      "source": [
        "#a가 100이라는 숫자가 들어왔을 때, 짝수인 것을 검증하고, 출력\n",
        "\n",
        "\n",
        "a = 100\n",
        "\n",
        "if a > 10 and (a%2 ==0):\n",
        "  print('a is even')"
      ],
      "metadata": {
        "colab": {
          "base_uri": "https://localhost:8080/"
        },
        "id": "KZfBdoNCN9X8",
        "outputId": "290f5672-21f6-45d1-afb3-3c128cac9556"
      },
      "execution_count": 43,
      "outputs": [
        {
          "output_type": "stream",
          "name": "stdout",
          "text": [
            "a is even\n"
          ]
        }
      ]
    },
    {
      "cell_type": "code",
      "source": [
        "a = 100\n",
        "\n",
        "if a%2 ==0:\n",
        "  print('a is even')\n",
        "else:\n",
        "  print('a is odd')"
      ],
      "metadata": {
        "colab": {
          "base_uri": "https://localhost:8080/"
        },
        "id": "-LdIuYH2N9df",
        "outputId": "e04fd477-8e31-4835-c2b1-3daf43e4f013"
      },
      "execution_count": 44,
      "outputs": [
        {
          "output_type": "stream",
          "name": "stdout",
          "text": [
            "a is even\n"
          ]
        }
      ]
    },
    {
      "cell_type": "code",
      "source": [
        "a = input() #문자형으로 출력됨"
      ],
      "metadata": {
        "colab": {
          "base_uri": "https://localhost:8080/"
        },
        "id": "977C34ZTN9jG",
        "outputId": "5edfc0db-9d9c-427d-f85f-1523fde4cbdd"
      },
      "execution_count": 46,
      "outputs": [
        {
          "name": "stdout",
          "output_type": "stream",
          "text": [
            "3\n"
          ]
        }
      ]
    },
    {
      "cell_type": "code",
      "source": [
        "a = int(input()) #int로 바꿔줘야함"
      ],
      "metadata": {
        "colab": {
          "base_uri": "https://localhost:8080/"
        },
        "id": "qkY43v-BPULj",
        "outputId": "10975ff8-01fe-47f8-805c-06238f7864b7"
      },
      "execution_count": 47,
      "outputs": [
        {
          "name": "stdout",
          "output_type": "stream",
          "text": [
            "3\n"
          ]
        }
      ]
    },
    {
      "cell_type": "code",
      "source": [
        "a = int(input())\n",
        "\n",
        "if a%2 ==0:\n",
        "  print('a is even')\n",
        "else:\n",
        "  print('a is odd')"
      ],
      "metadata": {
        "colab": {
          "base_uri": "https://localhost:8080/"
        },
        "id": "1O-SDBQ4PcEJ",
        "outputId": "1c79d886-2709-4633-b4d6-79ad153fde6f"
      },
      "execution_count": 48,
      "outputs": [
        {
          "output_type": "stream",
          "name": "stdout",
          "text": [
            "5\n",
            "a is odd\n"
          ]
        }
      ]
    },
    {
      "cell_type": "code",
      "source": [],
      "metadata": {
        "id": "Wjm6eTkbsyhr"
      },
      "execution_count": null,
      "outputs": []
    },
    {
      "cell_type": "code",
      "source": [
        "5 and 7 #항상 뒤에게 나옴 (True, False 조건 연산자로 큰 숫자가 나옴)"
      ],
      "metadata": {
        "colab": {
          "base_uri": "https://localhost:8080/"
        },
        "id": "vVQUU2vnP5fN",
        "outputId": "26fb9173-fc51-4a5b-e410-73a42828d9e7"
      },
      "execution_count": 49,
      "outputs": [
        {
          "output_type": "execute_result",
          "data": {
            "text/plain": [
              "7"
            ]
          },
          "metadata": {},
          "execution_count": 49
        }
      ]
    },
    {
      "cell_type": "code",
      "source": [
        "5 & 7 #위와 결과가 다름 (비트 연산자, 5= 0101, 7 = 0111, and 연산자일 경우 5가 나옴)"
      ],
      "metadata": {
        "colab": {
          "base_uri": "https://localhost:8080/"
        },
        "id": "MkCaev6vP8En",
        "outputId": "13f49403-5c71-4cf7-e129-3b096db6d6d1"
      },
      "execution_count": 50,
      "outputs": [
        {
          "output_type": "execute_result",
          "data": {
            "text/plain": [
              "5"
            ]
          },
          "metadata": {},
          "execution_count": 50
        }
      ]
    },
    {
      "cell_type": "code",
      "source": [
        "#if 안에 if문"
      ],
      "metadata": {
        "id": "agDtaUSCSoqB"
      },
      "execution_count": null,
      "outputs": []
    },
    {
      "cell_type": "code",
      "source": [
        "money = 10000\n",
        "card = False\n",
        "\n",
        "if card:\n",
        "    if money<30000:\n",
        "        print('삽겹살을 먹는다.')\n",
        "    else:\n",
        "        print('소고기를 먹는다.')\n",
        "else:\n",
        "    if money<=10000:\n",
        "        pass # pass : 조건을 만족해도 아무 일도 일어나지 않게 한다.\n",
        "    else:\n",
        "        print('라면을 먹는다.')"
      ],
      "metadata": {
        "id": "p6gfQHwnP_ME"
      },
      "execution_count": 55,
      "outputs": []
    },
    {
      "cell_type": "code",
      "source": [
        "#삼항 연산자 if문을 한줄에 쓰는거 \n",
        "\n",
        "value = int(input())\n",
        "\n",
        "is_even = print('is even') if value %2==0 else print('is odd')\n"
      ],
      "metadata": {
        "colab": {
          "base_uri": "https://localhost:8080/",
          "height": 246
        },
        "id": "T7vh_91EP_lb",
        "outputId": "47595a63-b8c6-460a-a3a2-8d704070d793"
      },
      "execution_count": 64,
      "outputs": [
        {
          "output_type": "stream",
          "name": "stdout",
          "text": [
            "30\n",
            "is even\n"
          ]
        },
        {
          "output_type": "error",
          "ename": "TypeError",
          "evalue": "ignored",
          "traceback": [
            "\u001b[0;31m---------------------------------------------------------------------------\u001b[0m",
            "\u001b[0;31mTypeError\u001b[0m                                 Traceback (most recent call last)",
            "\u001b[0;32m<ipython-input-64-5df6f6f26de9>\u001b[0m in \u001b[0;36m<module>\u001b[0;34m\u001b[0m\n\u001b[1;32m      4\u001b[0m \u001b[0;34m\u001b[0m\u001b[0m\n\u001b[1;32m      5\u001b[0m \u001b[0mis_even\u001b[0m \u001b[0;34m=\u001b[0m \u001b[0mprint\u001b[0m\u001b[0;34m(\u001b[0m\u001b[0;34m'is even'\u001b[0m\u001b[0;34m)\u001b[0m \u001b[0;32mif\u001b[0m \u001b[0mvalue\u001b[0m \u001b[0;34m%\u001b[0m\u001b[0;36m2\u001b[0m\u001b[0;34m==\u001b[0m\u001b[0;36m0\u001b[0m \u001b[0;32melse\u001b[0m \u001b[0mprint\u001b[0m\u001b[0;34m(\u001b[0m\u001b[0;34m'is odd'\u001b[0m\u001b[0;34m)\u001b[0m\u001b[0;34m\u001b[0m\u001b[0;34m\u001b[0m\u001b[0m\n\u001b[0;32m----> 6\u001b[0;31m \u001b[0mprint\u001b[0m\u001b[0;34m(\u001b[0m\u001b[0mvalue\u001b[0m \u001b[0;34m+\u001b[0m \u001b[0mis_even\u001b[0m\u001b[0;34m)\u001b[0m\u001b[0;34m\u001b[0m\u001b[0;34m\u001b[0m\u001b[0m\n\u001b[0m",
            "\u001b[0;31mTypeError\u001b[0m: unsupported operand type(s) for +: 'int' and 'NoneType'"
          ]
        }
      ]
    },
    {
      "cell_type": "code",
      "source": [
        "#%%timeit\n",
        "value = 20\n",
        "\n",
        "is_even = print('a is even') if value %2==0 else print('a is odd')"
      ],
      "metadata": {
        "colab": {
          "base_uri": "https://localhost:8080/"
        },
        "id": "noy6sPL2P_pT",
        "outputId": "bbd94291-2ea1-4aa7-cdf5-ad3b2789699a"
      },
      "execution_count": 76,
      "outputs": [
        {
          "output_type": "stream",
          "name": "stdout",
          "text": [
            "a is even\n"
          ]
        }
      ]
    },
    {
      "cell_type": "code",
      "source": [
        "#fluent python\n",
        "\n",
        "num = 16\n",
        "\n",
        "print('문자열 포맷팅 하기 예시 %d' %num) #%d:정수\n",
        "\n",
        "#항상, 뒤에서 앞으로 써줌"
      ],
      "metadata": {
        "colab": {
          "base_uri": "https://localhost:8080/"
        },
        "id": "Q1nM7JqpUr3L",
        "outputId": "627d4602-63d1-4a36-91dc-f6847a6ba77b"
      },
      "execution_count": 66,
      "outputs": [
        {
          "output_type": "stream",
          "name": "stdout",
          "text": [
            "문자열 포맷팅 하기 예시 16\n"
          ]
        }
      ]
    },
    {
      "cell_type": "code",
      "source": [
        "ch = '이름'\n",
        "print('내 이름은 : %s' %ch) #%s: string"
      ],
      "metadata": {
        "colab": {
          "base_uri": "https://localhost:8080/"
        },
        "id": "mpjWlMKVP_sl",
        "outputId": "d58e49de-6f5d-4fc7-840c-0c5130d32e0d"
      },
      "execution_count": 67,
      "outputs": [
        {
          "output_type": "stream",
          "name": "stdout",
          "text": [
            "내 이름은 : 이름\n"
          ]
        }
      ]
    },
    {
      "cell_type": "code",
      "source": [
        "num=16\n",
        "num1=17\n",
        "print('문자열 포맷팅 하기 예시 %d,%d' %(num,num1)) #%d:정수"
      ],
      "metadata": {
        "colab": {
          "base_uri": "https://localhost:8080/"
        },
        "id": "xbrplgS6P_wD",
        "outputId": "58046720-8abc-4649-9c56-05160c442cc3"
      },
      "execution_count": 68,
      "outputs": [
        {
          "output_type": "stream",
          "name": "stdout",
          "text": [
            "문자열 포맷팅 하기 예시 16,17\n"
          ]
        }
      ]
    },
    {
      "cell_type": "code",
      "source": [
        "fl=2.566132\n",
        "print('반올림하기 : %0.3f' %fl) #0.f : 반올림하기"
      ],
      "metadata": {
        "colab": {
          "base_uri": "https://localhost:8080/"
        },
        "id": "DvGJfOBpVMqt",
        "outputId": "7a43f00e-2ac8-41b9-b704-e807fbbc2fee"
      },
      "execution_count": 69,
      "outputs": [
        {
          "output_type": "stream",
          "name": "stdout",
          "text": [
            "반올림하기 : 2.566\n"
          ]
        }
      ]
    },
    {
      "cell_type": "code",
      "source": [
        "#print 문의 format \n",
        "#괄호로 묶어주면, 두 개 이상의 포맷팅도 할 수 있음"
      ],
      "metadata": {
        "id": "-TIk2j8cWJBZ"
      },
      "execution_count": null,
      "outputs": []
    },
    {
      "cell_type": "code",
      "source": [
        "print('내 이름은 : {}'.format)"
      ],
      "metadata": {
        "id": "N6pPCTfEWL_f"
      },
      "execution_count": null,
      "outputs": []
    },
    {
      "cell_type": "code",
      "source": [
        "a = '류'\n",
        "b ='영표'\n",
        "print('성은 {}, 이름은 {}'.format(a,b))"
      ],
      "metadata": {
        "colab": {
          "base_uri": "https://localhost:8080/"
        },
        "id": "H0H4fgibWMU5",
        "outputId": "076f0be7-ea2c-45e3-962b-5f6c830d8d01"
      },
      "execution_count": 70,
      "outputs": [
        {
          "output_type": "stream",
          "name": "stdout",
          "text": [
            "성은 류, 이름은 영표\n"
          ]
        }
      ]
    },
    {
      "cell_type": "code",
      "source": [
        "#인덱스를 통해서 순서를 지정할 수도 있음"
      ],
      "metadata": {
        "id": "PDnT6npVW5j-"
      },
      "execution_count": null,
      "outputs": []
    },
    {
      "cell_type": "code",
      "source": [
        "print('성은 ')"
      ],
      "metadata": {
        "id": "8_vq1InTW7qy"
      },
      "execution_count": null,
      "outputs": []
    },
    {
      "cell_type": "code",
      "source": [
        "print('First name:{1}, Last name:{0}'.format(a,b) )"
      ],
      "metadata": {
        "colab": {
          "base_uri": "https://localhost:8080/"
        },
        "id": "rKxfIrE7WnEd",
        "outputId": "41484d72-080b-49bb-8c73-e612d604f5ec"
      },
      "execution_count": 72,
      "outputs": [
        {
          "output_type": "stream",
          "name": "stdout",
          "text": [
            "First name:영표, Last name:류\n"
          ]
        }
      ]
    },
    {
      "cell_type": "code",
      "source": [
        "#이름을 통해서 포맷팅 가능"
      ],
      "metadata": {
        "id": "DEpr2D9tW-FX"
      },
      "execution_count": null,
      "outputs": []
    },
    {
      "cell_type": "code",
      "source": [
        "print('나는 오늘 {음료}를 {개수}잔이나 마셨다'.format(음료='커피', 개수=3))"
      ],
      "metadata": {
        "colab": {
          "base_uri": "https://localhost:8080/"
        },
        "id": "udu13VpjW-Sb",
        "outputId": "3b007fa8-0cf6-4a9d-9194-ca5c7d3d8c9e"
      },
      "execution_count": 73,
      "outputs": [
        {
          "output_type": "stream",
          "name": "stdout",
          "text": [
            "나는 오늘 커피를 3잔이나 마셨다\n"
          ]
        }
      ]
    },
    {
      "cell_type": "code",
      "source": [
        "#f스트링을 더 많이 씀 \n",
        "\n",
        "drink = '커피'\n",
        "nums=3\n",
        "\n",
        "f'나는 오늘{drink}를 {nums+1}잔이나 마셨다.'"
      ],
      "metadata": {
        "colab": {
          "base_uri": "https://localhost:8080/",
          "height": 35
        },
        "id": "xn8cSBa0rxcq",
        "outputId": "c80fe4fc-e760-4fa3-b053-585005ceb55d"
      },
      "execution_count": 74,
      "outputs": [
        {
          "output_type": "execute_result",
          "data": {
            "text/plain": [
              "'나는 오늘커피를 4잔이나 마셨다.'"
            ],
            "application/vnd.google.colaboratory.intrinsic+json": {
              "type": "string"
            }
          },
          "metadata": {},
          "execution_count": 74
        }
      ]
    },
    {
      "cell_type": "code",
      "source": [
        "'나는 오늘 %s를 %d +1잔이나 마셨다' %('커피',3)"
      ],
      "metadata": {
        "colab": {
          "base_uri": "https://localhost:8080/",
          "height": 35
        },
        "id": "a6VxV7XwrxpH",
        "outputId": "f81c3590-b50b-4b41-a9ec-639b0485a7b2"
      },
      "execution_count": 75,
      "outputs": [
        {
          "output_type": "execute_result",
          "data": {
            "text/plain": [
              "'나는 오늘 커피를 3 +1잔이나 마셨다'"
            ],
            "application/vnd.google.colaboratory.intrinsic+json": {
              "type": "string"
            }
          },
          "metadata": {},
          "execution_count": 75
        }
      ]
    },
    {
      "cell_type": "code",
      "source": [
        "'나는 오늘 {음료}를 {개수+1}잔이나 마셨다.format'"
      ],
      "metadata": {
        "id": "TF_lk5x-rxsd"
      },
      "execution_count": null,
      "outputs": []
    },
    {
      "cell_type": "code",
      "source": [
        "from posixpath import basename\n",
        "#문제5-1\n",
        "#b로 a를 나눈 나머지가 3초과면 실패, 3이면 무승부, 3미만이면 성공이 출력\n",
        "\n",
        "a= 34\n",
        "b=4\n",
        "\n",
        "if (a%b) > 3:\n",
        "  print('실패')\n",
        "elif (a%b) ==3:\n",
        "  print('무승부')\n",
        "else:\n",
        "  print('성공')\n"
      ],
      "metadata": {
        "colab": {
          "base_uri": "https://localhost:8080/"
        },
        "id": "o-xlsIFIrxvX",
        "outputId": "27471f6e-b3ea-4534-d4a6-fd582f148308"
      },
      "execution_count": 80,
      "outputs": [
        {
          "output_type": "stream",
          "name": "stdout",
          "text": [
            "성공\n"
          ]
        }
      ]
    },
    {
      "cell_type": "code",
      "source": [
        "\n",
        "a= 34\n",
        "b=4\n",
        "\n",
        "r = a/b`b\n",
        "\n",
        "if r  > 3:\n",
        "  print('실패')\n",
        "elif r ==3:\n",
        "  print('무승부')\n",
        "else:\n",
        "  print('성공')"
      ],
      "metadata": {
        "colab": {
          "base_uri": "https://localhost:8080/"
        },
        "id": "2s1NyH2YwI7N",
        "outputId": "a253abc1-2309-48e2-d3dc-26b86e5e001e"
      },
      "execution_count": 81,
      "outputs": [
        {
          "output_type": "stream",
          "name": "stdout",
          "text": [
            "실패\n"
          ]
        }
      ]
    },
    {
      "cell_type": "code",
      "source": [
        "#연습문제 5-2\n",
        "#사용자로 점수를 3개를 입력받아 모든점수가 65점보다 클 경우 합격\n",
        "#아닐 경우 불합격 출력\n",
        "#단, 0~100이 아닌 숫자가 입력된 경우, \n",
        "#\"잘못된 점수가 입력되었습니다\" 출력\n",
        "\n",
        "\n",
        "a = 40\n",
        "b = 60\n",
        "c = 80\n",
        "\n",
        "users = a+b+c\n",
        "\n",
        "if users > 65: \n",
        "  print(\"합격\")\n",
        "else \n",
        " print(\"불합격\")\n",
        " "
      ],
      "metadata": {
        "colab": {
          "base_uri": "https://localhost:8080/"
        },
        "id": "0VTgJKH6tT63",
        "outputId": "aa107e26-7438-4d1a-acab-492c04778488"
      },
      "execution_count": 79,
      "outputs": [
        {
          "output_type": "execute_result",
          "data": {
            "text/plain": [
              "180"
            ]
          },
          "metadata": {},
          "execution_count": 79
        }
      ]
    },
    {
      "cell_type": "code",
      "source": [
        "A = int(input())\n",
        "B = int(input())\n",
        "C = int(input())\n",
        "\n",
        "if 0 <= A <= 100 and 0<= B <= 100 and 0<=C <=100:\n",
        "  if 65<A<100 and 65<B<=100 and 65<C<100:\n",
        "    print('합격')\n",
        "  elif 0<A<=65 or 0< B <= 65 or 0<C<=65: \n",
        "    print('불합격')\n",
        "else:\n",
        "  print('잘못된 점수가 입력되었습니다.')"
      ],
      "metadata": {
        "colab": {
          "base_uri": "https://localhost:8080/"
        },
        "id": "7h7IVHoOwwW1",
        "outputId": "1afe6080-dec4-4996-c24a-5d83f43be3f2"
      },
      "execution_count": 82,
      "outputs": [
        {
          "output_type": "stream",
          "name": "stdout",
          "text": [
            "70\n",
            "80\n",
            "90\n",
            "합격\n"
          ]
        }
      ]
    },
    {
      "cell_type": "code",
      "source": [
        "#연습문제 5-3 "
      ],
      "metadata": {
        "id": "n_YmUSaNrxyh"
      },
      "execution_count": null,
      "outputs": []
    },
    {
      "cell_type": "code",
      "source": [
        "#더블클릭 또는 Enter키를 눌러 수정\n",
        "\n",
        "x = int(input('정수를 입력해주세요: '))\n",
        "\n",
        "if (x%2) ==0:\n",
        "  print('입력하신 %d는 짝수 입니다' %x)\n",
        "elif (x%2) ==1:\n",
        "  print('입력하신 %d는 홀수 입니다' %x)"
      ],
      "metadata": {
        "colab": {
          "base_uri": "https://localhost:8080/"
        },
        "id": "-QPpl5o4rx1-",
        "outputId": "ff40e087-a2f5-4460-ef48-6bdbcd7d17e7"
      },
      "execution_count": 83,
      "outputs": [
        {
          "output_type": "stream",
          "name": "stdout",
          "text": [
            "정수를 입력해주세요: 3\n",
            "입력하신 3는 홀수 입니다\n"
          ]
        }
      ]
    },
    {
      "cell_type": "code",
      "source": [
        "#연습문제 5-4\n",
        "#양의 정수를 하나 입력 받은 이 정수가 2의 배수인지 3의 배수인지 작성하시오\n",
        "\n",
        "\n",
        "num = int(input('정수를 하나 입력하세요(단 0은 제외한다.): '))\n",
        "\n",
        "if num %2 ==0: \n",
        "  if num %3 ==0:\n",
        "    print('2와 3으로 나누어 집니다.')\n",
        "  else: \n",
        "    print('2로 나누어집니다.')\n",
        "elif num %3 ==0:\n",
        "  print('3으로 나누어 집니다.')\n",
        "else:\n",
        "  print('어느 것으로도 나누어지지 않습니다.')"
      ],
      "metadata": {
        "colab": {
          "base_uri": "https://localhost:8080/"
        },
        "id": "FDeXzftJrx5A",
        "outputId": "b7133d3f-a58c-42d9-98ba-9b373bfc41fd"
      },
      "execution_count": 85,
      "outputs": [
        {
          "output_type": "stream",
          "name": "stdout",
          "text": [
            "정수를 하나 입력하세요(단 0은 제외한다.): 20\n",
            "2로 나누어집니다.\n"
          ]
        }
      ]
    },
    {
      "cell_type": "code",
      "source": [
        "i = 1\n",
        "\n",
        "while i<= 10:\n",
        "  if i%2==0:\n",
        "      print(i)\n",
        "\n",
        "  i+=1"
      ],
      "metadata": {
        "colab": {
          "base_uri": "https://localhost:8080/"
        },
        "id": "R-NTae0H-fM8",
        "outputId": "5ed00ee6-bf5d-4cdf-b21c-1b31b172f8fc"
      },
      "execution_count": 90,
      "outputs": [
        {
          "output_type": "stream",
          "name": "stdout",
          "text": [
            "2\n",
            "4\n",
            "6\n",
            "8\n",
            "10\n"
          ]
        }
      ]
    },
    {
      "cell_type": "code",
      "source": [
        "i = 90\n",
        "\n",
        "while i:\n",
        "  if i == 100:\n",
        "    print('축하합니다. %번째 방문자입니다. ')"
      ],
      "metadata": {
        "id": "TkAI-PGE-fgy"
      },
      "execution_count": null,
      "outputs": []
    },
    {
      "cell_type": "code",
      "source": [
        "#반복문 for\n",
        "#숫자로 범위주기: range(시작, 끝, 간격)\n",
        "#시작부터 끝-1\n",
        "#0부터 1씩 증가한다면 시작과 간격생략가능\n",
        "\n",
        "#연습문제7\n",
        "#5에서 0까지 카운트 다운을 세어보기 \n",
        "\n",
        "for count in range(5, -1, -1):   #하나씩 작아지므로 간격은 -1, \n",
        "                                 #0까지 출력해야 하므로-1이 끝인덱스가 되어야함\n",
        "  print(count)"
      ],
      "metadata": {
        "colab": {
          "base_uri": "https://localhost:8080/"
        },
        "id": "cmewS3889zjO",
        "outputId": "638fe879-9a52-40e6-bf7b-e21378e3bcdd"
      },
      "execution_count": 94,
      "outputs": [
        {
          "output_type": "stream",
          "name": "stdout",
          "text": [
            "5\n",
            "4\n",
            "3\n",
            "2\n",
            "1\n",
            "0\n"
          ]
        }
      ]
    },
    {
      "cell_type": "code",
      "source": [
        "#이중으로 반복문 사용하기 \n",
        "for i in range(2,4):\n",
        "  print('===', i, '단 ===')\n",
        "  for j in range(1,10):\n",
        "    print(i*j)"
      ],
      "metadata": {
        "colab": {
          "base_uri": "https://localhost:8080/"
        },
        "id": "ONQvOqZvrx7z",
        "outputId": "dd09b22c-e2a8-42a5-e469-53cbcb798304"
      },
      "execution_count": 93,
      "outputs": [
        {
          "output_type": "stream",
          "name": "stdout",
          "text": [
            "=== 2 단 ===\n",
            "2\n",
            "4\n",
            "6\n",
            "8\n",
            "10\n",
            "12\n",
            "14\n",
            "16\n",
            "18\n",
            "=== 3 단 ===\n",
            "3\n",
            "6\n",
            "9\n",
            "12\n",
            "15\n",
            "18\n",
            "21\n",
            "24\n",
            "27\n"
          ]
        }
      ]
    },
    {
      "cell_type": "code",
      "source": [
        "#변수의 범위 지정하기\n",
        "#자료형 범위\n",
        "word = 'Hello!'\n",
        "\n",
        "for w in word:\n",
        "  print(w)"
      ],
      "metadata": {
        "colab": {
          "base_uri": "https://localhost:8080/"
        },
        "id": "il2zmNM8_y0m",
        "outputId": "88d21371-cc77-41ec-b05b-62445af9312d"
      },
      "execution_count": 95,
      "outputs": [
        {
          "output_type": "stream",
          "name": "stdout",
          "text": [
            "H\n",
            "e\n",
            "l\n",
            "l\n",
            "o\n",
            "!\n"
          ]
        }
      ]
    },
    {
      "cell_type": "code",
      "source": [
        "for a, b in [(2,1),(2,2),(2,3), (2,4)]:\n",
        "  print(a*b)"
      ],
      "metadata": {
        "colab": {
          "base_uri": "https://localhost:8080/"
        },
        "id": "L91wA72H_y_y",
        "outputId": "65cb243c-6951-4f5d-802b-2f4a00f4f754"
      },
      "execution_count": 96,
      "outputs": [
        {
          "output_type": "stream",
          "name": "stdout",
          "text": [
            "2\n",
            "4\n",
            "6\n",
            "8\n"
          ]
        }
      ]
    },
    {
      "cell_type": "code",
      "source": [
        "#for, while에서 제어흐름을 벗어나기 위해 사용\n",
        "\n",
        "# break(for, while을 완전히 중단)\n",
        "# continue 처음으로 돌아가 다음 반복 수행"
      ],
      "metadata": {
        "id": "3dgh4T7a_zEM"
      },
      "execution_count": null,
      "outputs": []
    },
    {
      "cell_type": "code",
      "source": [
        "#break\n",
        "\n",
        "for i in range(5):\n",
        "  if (i ==3):\n",
        "    break\n",
        "  print(i, end = '')"
      ],
      "metadata": {
        "colab": {
          "base_uri": "https://localhost:8080/"
        },
        "id": "6anae4Ps_zII",
        "outputId": "1b11cb19-5ca5-4729-b62b-efc674fde895"
      },
      "execution_count": 97,
      "outputs": [
        {
          "output_type": "stream",
          "name": "stdout",
          "text": [
            "012"
          ]
        }
      ]
    },
    {
      "cell_type": "code",
      "source": [
        "#continue\n",
        "\n",
        "for i in range(5):\n",
        "  if (i ==3):\n",
        "    continue\n",
        "  print(i, end = '')"
      ],
      "metadata": {
        "colab": {
          "base_uri": "https://localhost:8080/"
        },
        "id": "M5OTNT61_zPx",
        "outputId": "607c4011-5f49-45bc-e204-d36a5c7f9481"
      },
      "execution_count": 98,
      "outputs": [
        {
          "output_type": "stream",
          "name": "stdout",
          "text": [
            "0124"
          ]
        }
      ]
    },
    {
      "cell_type": "code",
      "source": [
        "for i in range(5):\n",
        "  if (i ==3):\n",
        "    pass\n",
        "  print(i, end = '')\n",
        "  "
      ],
      "metadata": {
        "colab": {
          "base_uri": "https://localhost:8080/"
        },
        "id": "QzROQoDk_zS4",
        "outputId": "9d68ec1f-6c80-475c-a2ab-3939f690df69"
      },
      "execution_count": 99,
      "outputs": [
        {
          "output_type": "stream",
          "name": "stdout",
          "text": [
            "01234"
          ]
        }
      ]
    },
    {
      "cell_type": "code",
      "source": [
        "# while문에서의 예제\n",
        "\n",
        "\n",
        "#break\n",
        "i = 0 \n",
        " \n",
        "while i <30:\n",
        "  if i == 20:\n",
        "    break\n",
        "  print(i, end = '')\n",
        "  i += 1"
      ],
      "metadata": {
        "colab": {
          "base_uri": "https://localhost:8080/"
        },
        "id": "2Ap2z6nqApqh",
        "outputId": "3a0a1d26-03f2-457c-91b1-1397f423a87d"
      },
      "execution_count": 100,
      "outputs": [
        {
          "output_type": "stream",
          "name": "stdout",
          "text": [
            "012345678910111213141516171819"
          ]
        }
      ]
    },
    {
      "cell_type": "code",
      "source": [
        "#continue\n",
        "\n",
        "i = 0 \n",
        " \n",
        "while i <30:\n",
        "  if i == 20:\n",
        "    continue\n",
        "  print(i, end = '')\n",
        "  i += 1"
      ],
      "metadata": {
        "colab": {
          "base_uri": "https://localhost:8080/",
          "height": 264
        },
        "id": "obhokgyMA8gu",
        "outputId": "15a3b40e-eaf5-4894-c9a2-12e1f741870b"
      },
      "execution_count": 101,
      "outputs": [
        {
          "output_type": "stream",
          "name": "stdout",
          "text": [
            "012345678910111213141516171819"
          ]
        },
        {
          "output_type": "error",
          "ename": "KeyboardInterrupt",
          "evalue": "ignored",
          "traceback": [
            "\u001b[0;31m---------------------------------------------------------------------------\u001b[0m",
            "\u001b[0;31mKeyboardInterrupt\u001b[0m                         Traceback (most recent call last)",
            "\u001b[0;32m<ipython-input-101-04da2f2a1360>\u001b[0m in \u001b[0;36m<module>\u001b[0;34m\u001b[0m\n\u001b[1;32m      4\u001b[0m \u001b[0;34m\u001b[0m\u001b[0m\n\u001b[1;32m      5\u001b[0m \u001b[0;32mwhile\u001b[0m \u001b[0mi\u001b[0m \u001b[0;34m<\u001b[0m\u001b[0;36m30\u001b[0m\u001b[0;34m:\u001b[0m\u001b[0;34m\u001b[0m\u001b[0;34m\u001b[0m\u001b[0m\n\u001b[0;32m----> 6\u001b[0;31m   \u001b[0;32mif\u001b[0m \u001b[0mi\u001b[0m \u001b[0;34m==\u001b[0m \u001b[0;36m20\u001b[0m\u001b[0;34m:\u001b[0m\u001b[0;34m\u001b[0m\u001b[0;34m\u001b[0m\u001b[0m\n\u001b[0m\u001b[1;32m      7\u001b[0m     \u001b[0;32mcontinue\u001b[0m\u001b[0;34m\u001b[0m\u001b[0;34m\u001b[0m\u001b[0m\n\u001b[1;32m      8\u001b[0m   \u001b[0mprint\u001b[0m\u001b[0;34m(\u001b[0m\u001b[0mi\u001b[0m\u001b[0;34m,\u001b[0m \u001b[0mend\u001b[0m \u001b[0;34m=\u001b[0m \u001b[0;34m''\u001b[0m\u001b[0;34m)\u001b[0m\u001b[0;34m\u001b[0m\u001b[0;34m\u001b[0m\u001b[0m\n",
            "\u001b[0;31mKeyboardInterrupt\u001b[0m: "
          ]
        }
      ]
    },
    {
      "cell_type": "code",
      "source": [
        "# 1부터 10까지의 합을 구하시오 (range함수 이용)\n",
        "\n",
        "\n",
        "\"\"\"\n",
        "i = 1\n",
        " \n",
        "while i <11:\n",
        "  if i ==100:\n",
        "    break\n",
        "  print(i, end = '')\n",
        "  i += 1\n",
        "\"\"\"\n",
        "\n",
        "\"\"\"\n",
        "for i in range(10):\n",
        "  if (i ==10):\n",
        "    pass\n",
        "  print(i+1)\"\"\"\n",
        "\n",
        "\n",
        "result =sum(range(1,10))  #range(처음,끝)\n",
        "print(result)"
      ],
      "metadata": {
        "colab": {
          "base_uri": "https://localhost:8080/"
        },
        "id": "MJoaaMkHA8nc",
        "outputId": "65ca8e25-f135-4f1c-fbfe-f9cedb908dc6"
      },
      "execution_count": 117,
      "outputs": [
        {
          "output_type": "stream",
          "name": "stdout",
          "text": [
            "45\n"
          ]
        }
      ]
    },
    {
      "cell_type": "code",
      "source": [
        "#사용자로 부터 정수를 입력받아, 해당 정수만 큼 \"안녕\"을 출력하세요 \n",
        "\n",
        "x = int(input('정수를 입력해주세요: '))\n",
        "hello = '안녕'\n",
        "\n",
        "\"\"\"while x:\n",
        "  if  == x:\n",
        "     if i == x:\n",
        "    break\n",
        "    print(hello, end =' ')\"\"\"\n",
        "\n",
        "\n",
        "\n",
        "i = 0 \n",
        " \n",
        "while i <30:\n",
        "  if i == x:\n",
        "    break\n",
        "  print(i*hello, end = '')\n",
        "  i += 1\n"
      ],
      "metadata": {
        "colab": {
          "base_uri": "https://localhost:8080/"
        },
        "id": "2lGaKTJ9DJIt",
        "outputId": "d5eff431-4e03-466e-ae85-c1e6e91dc28f"
      },
      "execution_count": 139,
      "outputs": [
        {
          "output_type": "stream",
          "name": "stdout",
          "text": [
            "정수를 입력해주세요: 3\n",
            "안녕안녕안녕"
          ]
        }
      ]
    },
    {
      "cell_type": "code",
      "source": [
        "#x = int(input('정수를 입력해주세요: '))\n",
        "#hello = '안녕'\n",
        "\n",
        "\"\"\"while x:\n",
        "  if  == x:\n",
        "     if i == x:\n",
        "    break\n",
        "    print(hello, end =' ')\"\"\"\n",
        "\n",
        "\n",
        "\"\"\"\n",
        "i = 0 \n",
        " \n",
        "for i <30:\n",
        "  if i == x:\n",
        "    break\n",
        "  print(i*hello, end = '')\n",
        "  i += 1\"\"\"\n",
        "\"\"\"\n",
        "x = int(input('정수를 입력해주세요: '))\n",
        "hello = '안녕'\n",
        "\n",
        "for x in hello:\n",
        "  print(hello*x)\"\"\"\n",
        "\n",
        "x = int(input('정수를 입력해주세요: '))\n",
        "hello = '안녕'\n",
        "\n",
        "i = 0 \n",
        " \n",
        "while i <30:\n",
        "  if i == x:\n",
        "    break\n",
        "  print(i*'안녕\\n', end = '')\n",
        "  i += 1\n"
      ],
      "metadata": {
        "colab": {
          "base_uri": "https://localhost:8080/"
        },
        "id": "WpjG6qcjFmcX",
        "outputId": "7226096f-d687-466a-b146-5ad341df844a"
      },
      "execution_count": 153,
      "outputs": [
        {
          "output_type": "stream",
          "name": "stdout",
          "text": [
            "정수를 입력해주세요: 3\n",
            "안녕\n",
            "안녕\n",
            "안녕\n"
          ]
        }
      ]
    },
    {
      "cell_type": "code",
      "source": [
        "#해답\n",
        "\n",
        "a = int(input('정수를 입력해주세요:'))\n",
        "\n",
        "for i in range(a):\n",
        "  print('안녕')"
      ],
      "metadata": {
        "colab": {
          "base_uri": "https://localhost:8080/"
        },
        "id": "RxkPl86RK_QG",
        "outputId": "5504748a-6664-4384-f82e-e32e75244aa0"
      },
      "execution_count": 173,
      "outputs": [
        {
          "output_type": "stream",
          "name": "stdout",
          "text": [
            "정수를 입력해주세요:3\n",
            "안녕\n",
            "안녕\n",
            "안녕\n"
          ]
        }
      ]
    },
    {
      "cell_type": "code",
      "source": [
        "#사용자로부터 정수를 입력받아, 입력된 정수 만큼 별 찍기 \n",
        "\n",
        "\"\"\"\n",
        "#이중으로 반복문 사용하기 \n",
        "for i in range(2,4):\n",
        "  print('===', i, '단 ===')\n",
        "  for j in range(1,10):\n",
        "    print(i*j)\"\"\"\n",
        "\n",
        "x = int(input('정수를 입력해주세요: '))\n",
        "star = '*'\n",
        "\"\"\"\n",
        "i = 0 \n",
        " \n",
        "while i <30:\n",
        "  if i == x:\n",
        "    break\n",
        "# print(i*star, end = '')\n",
        "  print(i*star, end = '')\n",
        "  i += 1\n",
        "  for star in range(0,i):\n",
        "    print(i*'*\\n')\"\"\"\n",
        "\n",
        "\n",
        "for i in range(x):        # 0부터 4까지 5번 반복. 세로 방향\n",
        "    for j in range(x):    # 0부터 4까지 5번 반복. 가로 방향\n",
        "        if j <= i:                # 세로 방향 변수 i만큼\n",
        "            print(star, end='')    # 별 출력. end에 ''를 지정하여 줄바꿈을 하지 않음\n",
        "    print()    # 가로 방향으로 별을 다 그린 뒤 다음 줄로 넘어감\n",
        "               # (print는 출력 후 기본적으로 다음 줄로 넘어감)"
      ],
      "metadata": {
        "colab": {
          "base_uri": "https://localhost:8080/"
        },
        "id": "E34U2pXmA8q_",
        "outputId": "c85e069c-e99d-4a3e-a1ce-c9578dcadccc"
      },
      "execution_count": 169,
      "outputs": [
        {
          "output_type": "stream",
          "name": "stdout",
          "text": [
            "정수를 입력해주세요: 3\n",
            "*\n",
            "**\n",
            "***\n"
          ]
        }
      ]
    },
    {
      "cell_type": "code",
      "source": [
        "#해답 \n",
        "\n",
        "a = int(input('정수를 입력해주세요.: '))\n",
        "for i in range(a):\n",
        "  print(\"*\"*(i+1))"
      ],
      "metadata": {
        "colab": {
          "base_uri": "https://localhost:8080/"
        },
        "id": "-V0d9reKLKsy",
        "outputId": "ba8ca72a-4c02-4d80-db0f-bfa361dfcaf8"
      },
      "execution_count": 174,
      "outputs": [
        {
          "output_type": "stream",
          "name": "stdout",
          "text": [
            "정수를 입력해주세요.: 3\n",
            "*\n",
            "**\n",
            "***\n"
          ]
        }
      ]
    },
    {
      "cell_type": "code",
      "source": [
        "#사용자로 부터 정수를 입력받아 입력된 정수만큼 별 찍기(역순)\n",
        "\n",
        "x = int(input('정수를 입력해주세요: '))\n",
        "star = '*'\n",
        "\n",
        "\n",
        "for i in range(x):        # 0부터 4까지 5번 반복. 세로 방향\n",
        "    for j in range(x):    # 0부터 4까지 5번 반복. 가로 방향\n",
        "        if j >= i:                # 세로 방향 변수 i만큼\n",
        "            print(star, end='')    # 별 출력. end에 ''를 지정하여 줄바꿈을 하지 않음\n",
        "    print()    # 가로 방향으로 별을 다 그린 뒤 다음 줄로 넘어감\n",
        "               # (print는 출력 후 기본적으로 다음 줄로 넘어감)"
      ],
      "metadata": {
        "colab": {
          "base_uri": "https://localhost:8080/"
        },
        "id": "Y5KB8J0pA8uo",
        "outputId": "95f2ba06-b78c-4217-e0ac-7b0752d07113"
      },
      "execution_count": 171,
      "outputs": [
        {
          "output_type": "stream",
          "name": "stdout",
          "text": [
            "정수를 입력해주세요: 3\n",
            "***\n",
            "**\n",
            "*\n"
          ]
        }
      ]
    },
    {
      "cell_type": "code",
      "source": [
        "a = int(input('정수를 입력해주세요.: '))\n",
        "\n",
        "for i in range(a, 0, -1):\n",
        "  print(\"*\"*i)3\n"
      ],
      "metadata": {
        "colab": {
          "base_uri": "https://localhost:8080/"
        },
        "id": "CqNtH69xLegl",
        "outputId": "4fe5f9fb-00e2-4e6f-f774-3eb8ee3c10db"
      },
      "execution_count": 176,
      "outputs": [
        {
          "output_type": "stream",
          "name": "stdout",
          "text": [
            "정수를 입력해주세요.: 3\n",
            "***\n",
            "**\n",
            "*\n"
          ]
        }
      ]
    },
    {
      "cell_type": "code",
      "source": [
        "# 별 역삼각형 만들기 \n",
        "\n",
        "for i in range(5):\n",
        "    for j in range(5):\n",
        "        if j<i:\n",
        "            print(' ',end='')\n",
        "        else:\n",
        "            print('*',end='')\n",
        "    print()\n",
        "\n"
      ],
      "metadata": {
        "colab": {
          "base_uri": "https://localhost:8080/"
        },
        "id": "jSIBArPCNhJu",
        "outputId": "3199ebf5-6e18-4bdc-8cd8-0c8be484b885"
      },
      "execution_count": 192,
      "outputs": [
        {
          "output_type": "stream",
          "name": "stdout",
          "text": [
            "*****\n",
            " ****\n",
            "  ***\n",
            "   **\n",
            "    *\n"
          ]
        }
      ]
    },
    {
      "cell_type": "code",
      "source": [
        "#연습문제 3\n",
        "#x = [3,6,9, 20, -7, 5]의 값의 모든 요소에 10을 곱한 뒤, 출력\n",
        "\n",
        "num = 10 \n",
        "\n",
        "for \n",
        "  print(num*x)\n",
        "\n",
        "\n",
        "#for a, b in [(2,1),(2,2),(2,3), (2,4)]:\n",
        "  print(a*b)"
      ],
      "metadata": {
        "colab": {
          "base_uri": "https://localhost:8080/"
        },
        "id": "jNyQbONWA8yS",
        "outputId": "8988599f-e5a7-459a-b354-6c894e7c04fe"
      },
      "execution_count": 172,
      "outputs": [
        {
          "output_type": "execute_result",
          "data": {
            "text/plain": [
              "30"
            ]
          },
          "metadata": {},
          "execution_count": 172
        }
      ]
    },
    {
      "cell_type": "code",
      "source": [
        "#해답(1)\n",
        "x = [3,6,9,20,-7.5]\n",
        "\n",
        "for i in x:\n",
        "  print(i*10)"
      ],
      "metadata": {
        "colab": {
          "base_uri": "https://localhost:8080/"
        },
        "id": "JdRCgYTYMBMM",
        "outputId": "86ee2760-9588-470c-9105-4629c2ab9a7b"
      },
      "execution_count": 177,
      "outputs": [
        {
          "output_type": "stream",
          "name": "stdout",
          "text": [
            "30\n",
            "60\n",
            "90\n",
            "200\n",
            "-75.0\n"
          ]
        }
      ]
    },
    {
      "cell_type": "code",
      "source": [
        "#심화 해답\n",
        "x = [3,6,9,20,-7.5]\n",
        "\n",
        "for i in x:\n",
        "  print(i*10)\n",
        "  \n",
        "for i in range(0,len(x)):\n",
        "  x[i] = x[i]*10\n",
        "print(x)"
      ],
      "metadata": {
        "colab": {
          "base_uri": "https://localhost:8080/"
        },
        "id": "rAp2MFuPMJeZ",
        "outputId": "b488be5e-dade-4ba8-87b3-adbb4db80f5f"
      },
      "execution_count": 180,
      "outputs": [
        {
          "output_type": "stream",
          "name": "stdout",
          "text": [
            "30\n",
            "60\n",
            "90\n",
            "200\n",
            "-75.0\n",
            "[30, 60, 90, 200, -75.0]\n"
          ]
        }
      ]
    },
    {
      "cell_type": "code",
      "source": [
        "#y의 값의 모든 요소{key:value} 에 10을 더한 뒤 출력하세요 \n",
        "y = {\"math\":70, \"science\":80, \"english\":20}\n",
        "\n",
        "def dic_1():\n",
        "  for i in y:\n",
        "    y[i]+=10\n",
        "  return y\n",
        "\n",
        "dic_1(y)"
      ],
      "metadata": {
        "colab": {
          "base_uri": "https://localhost:8080/",
          "height": 209
        },
        "id": "aPKB1XKgMoGz",
        "outputId": "7a27aa96-5f16-4719-8b79-b92f49a5e52c"
      },
      "execution_count": 189,
      "outputs": [
        {
          "output_type": "error",
          "ename": "TypeError",
          "evalue": "ignored",
          "traceback": [
            "\u001b[0;31m---------------------------------------------------------------------------\u001b[0m",
            "\u001b[0;31mTypeError\u001b[0m                                 Traceback (most recent call last)",
            "\u001b[0;32m<ipython-input-189-bf44948d91a3>\u001b[0m in \u001b[0;36m<module>\u001b[0;34m\u001b[0m\n\u001b[1;32m      7\u001b[0m   \u001b[0;32mreturn\u001b[0m \u001b[0my\u001b[0m\u001b[0;34m\u001b[0m\u001b[0;34m\u001b[0m\u001b[0m\n\u001b[1;32m      8\u001b[0m \u001b[0;34m\u001b[0m\u001b[0m\n\u001b[0;32m----> 9\u001b[0;31m \u001b[0mdic_1\u001b[0m\u001b[0;34m(\u001b[0m\u001b[0my\u001b[0m\u001b[0;34m)\u001b[0m\u001b[0;34m\u001b[0m\u001b[0;34m\u001b[0m\u001b[0m\n\u001b[0m",
            "\u001b[0;31mTypeError\u001b[0m: dic_1() takes 0 positional arguments but 1 was given"
          ]
        }
      ]
    },
    {
      "cell_type": "code",
      "source": [
        "#(2)\n",
        "y = {'math':70,'science':80,'english':20}\n",
        "for key in y:\n",
        "    val = y[key]\n",
        "    print('%s:%d' %(key,val+10))"
      ],
      "metadata": {
        "id": "9-eLAaSgU0Lz",
        "outputId": "43719cff-bc43-423e-fda2-9b5eb6370c2f",
        "colab": {
          "base_uri": "https://localhost:8080/"
        }
      },
      "execution_count": 193,
      "outputs": [
        {
          "output_type": "stream",
          "name": "stdout",
          "text": [
            "math:80\n",
            "science:90\n",
            "english:30\n"
          ]
        }
      ]
    },
    {
      "cell_type": "code",
      "source": [
        "#(1) word = ['school','game','piano','science','hotel','mountain'] \n",
        "#중 글자수가 6글자 이상인 문자를 모아 새로운 리스트를 생성하세요.\n",
        "\n",
        "#(2) 구구단을 1단부터 9단까지 출력하세요.\n",
        "\n",
        "word = ['school','game','piano','science','hotel','mountain']\n",
        "\n",
        "a = list()\n",
        "for i in range(len(word)):\n",
        "    if len(word[i])>=6:\n",
        "        a.append(word[i])\n",
        "print(a)"
      ],
      "metadata": {
        "colab": {
          "base_uri": "https://localhost:8080/"
        },
        "id": "ZTRyLBETUP-4",
        "outputId": "8159ee6c-30da-4a8b-f5f1-ba77b5dc899f"
      },
      "execution_count": 191,
      "outputs": [
        {
          "output_type": "stream",
          "name": "stdout",
          "text": [
            "['school', 'science', 'mountain']\n"
          ]
        }
      ]
    },
    {
      "cell_type": "code",
      "source": [
        "#p.180\n",
        "\n",
        "word = ['school', 'game', 'piano', 'science', 'hotel', 'mountain']\n",
        "\n",
        "\n",
        "a = list()\n",
        "j = 0 \n",
        "\n",
        "for i in range(len(word)):\n",
        "  if len(word[i])>6:\n",
        "    a.append(word[i])\n",
        "\n",
        "    # a += word 에러남 append를 쓰는게 좋음\n",
        "print(a)"
      ],
      "metadata": {
        "colab": {
          "base_uri": "https://localhost:8080/"
        },
        "id": "qt-sq1m2MoSb",
        "outputId": "582689ed-3934-4d9a-88bf-b56df8871c1e"
      },
      "execution_count": 190,
      "outputs": [
        {
          "output_type": "stream",
          "name": "stdout",
          "text": [
            "['science', 'mountain']\n"
          ]
        }
      ]
    },
    {
      "cell_type": "code",
      "source": [
        "#문제5(p.179)\n",
        "\n",
        "\"\"\"1-100까지의 숫자중, 3과 5의 공배수일 경우 \"3과 5의 공배수\n",
        "나머지 숫자중 3의 배수일 경우, \"3의 배수\"\n",
        "나머지 숫자중 5의 배수일 경우, \"5의 배수\"\n",
        "모두 해당하지 않을 경우 그냥 숫자를 출력하세요\"\"\"\n"
      ],
      "metadata": {
        "id": "f0g_fW2BWTRS"
      },
      "execution_count": null,
      "outputs": []
    },
    {
      "cell_type": "code",
      "source": [
        "b = int(input('정수를 입력해주세요.'))\n",
        "\n",
        "if b<=0:\n",
        "  print('음수는 정의하지않음(0포함')\n",
        "else:\n",
        "  for i in range(0, b+1):\n",
        "    if b%3==0 and b%5 ==0:\n",
        "      print('3과 5의 공배수')\n",
        "    elif b%3 ==0:\n",
        "      print('3의 배수')\n",
        "    elif b%5 ==0:\n",
        "      print('5의 배수')\n",
        "    else:\n",
        "      print('1과 100사이의 숫자가 아님,3과 5의 배수가 아님')\n"
      ],
      "metadata": {
        "colab": {
          "base_uri": "https://localhost:8080/"
        },
        "id": "HJpRzYZQMoen",
        "outputId": "0b1bd0f5-c602-40a7-98fe-3b7cfef6584c"
      },
      "execution_count": 194,
      "outputs": [
        {
          "output_type": "stream",
          "name": "stdout",
          "text": [
            "정수를 입력해주세요.30\n",
            "3과 5의 공배수\n",
            "3과 5의 공배수\n",
            "3과 5의 공배수\n",
            "3과 5의 공배수\n",
            "3과 5의 공배수\n",
            "3과 5의 공배수\n",
            "3과 5의 공배수\n",
            "3과 5의 공배수\n",
            "3과 5의 공배수\n",
            "3과 5의 공배수\n",
            "3과 5의 공배수\n",
            "3과 5의 공배수\n",
            "3과 5의 공배수\n",
            "3과 5의 공배수\n",
            "3과 5의 공배수\n",
            "3과 5의 공배수\n",
            "3과 5의 공배수\n",
            "3과 5의 공배수\n",
            "3과 5의 공배수\n",
            "3과 5의 공배수\n",
            "3과 5의 공배수\n",
            "3과 5의 공배수\n",
            "3과 5의 공배수\n",
            "3과 5의 공배수\n",
            "3과 5의 공배수\n",
            "3과 5의 공배수\n",
            "3과 5의 공배수\n",
            "3과 5의 공배수\n",
            "3과 5의 공배수\n",
            "3과 5의 공배수\n",
            "3과 5의 공배수\n"
          ]
        }
      ]
    },
    {
      "cell_type": "code",
      "source": [
        "c = 0 \n",
        "d = 1\n",
        "\n",
        "while (d==1):\n",
        "  a = (input())\n",
        "  if (a =='s' or a =='S'):\n",
        "    d = 0\n",
        "  else:\n",
        "    a = int(a)\n",
        "    c+= a\n",
        "\n",
        "print(c)"
      ],
      "metadata": {
        "id": "JBugqotKXHdp",
        "outputId": "99f72372-8f8c-4718-c11d-32287b6cc489",
        "colab": {
          "base_uri": "https://localhost:8080/"
        }
      },
      "execution_count": 195,
      "outputs": [
        {
          "output_type": "stream",
          "name": "stdout",
          "text": [
            "10\n",
            "4\n",
            "4\n",
            "1\n",
            "s\n",
            "19\n"
          ]
        }
      ]
    },
    {
      "cell_type": "code",
      "source": [
        "kor_score = [39,69,20,100,80]\n",
        "math_score=[32,59,85,30,90]\n",
        "eng_score =[49,70,48,60,100]\n",
        "mid_score = [kor_score, math_score, eng_score]"
      ],
      "metadata": {
        "id": "vV2PS_7ZYUgW"
      },
      "execution_count": 196,
      "outputs": []
    },
    {
      "cell_type": "code",
      "source": [
        "student_score=[0,0,0,0,0]\n",
        "i=0\n",
        "for subject in mid_score: #과목 선택\n",
        "    for score in subject: #과목 선택 후\n",
        "        student_score[i]+=score #각 학생마다 개별로 교과 점수를 저장.\n",
        "        i+=1 #학생 index 구분\n",
        "    i=0 # 과목이 바뀔 때, 학생 인덱스\n",
        "else:\n",
        "    a,b,c,d,e = student_score\n",
        "    student_average = [a/3,b/3,c/3,d/3,e/3]\n",
        "    print(student_average)"
      ],
      "metadata": {
        "id": "gh4lxEbRYk31",
        "outputId": "41f7fa6a-074c-441c-d020-8b5c2b1709ef",
        "colab": {
          "base_uri": "https://localhost:8080/"
        }
      },
      "execution_count": 202,
      "outputs": [
        {
          "output_type": "stream",
          "name": "stdout",
          "text": [
            "[40.0, 66.0, 51.0, 63.333333333333336, 90.0]\n"
          ]
        }
      ]
    }
  ]
}