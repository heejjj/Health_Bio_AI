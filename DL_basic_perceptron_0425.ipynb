{
  "nbformat": 4,
  "nbformat_minor": 0,
  "metadata": {
    "colab": {
      "provenance": [],
      "authorship_tag": "ABX9TyMS3r5zPH4vATjteFKuviem",
      "include_colab_link": true
    },
    "kernelspec": {
      "name": "python3",
      "display_name": "Python 3"
    },
    "language_info": {
      "name": "python"
    }
  },
  "cells": [
    {
      "cell_type": "markdown",
      "metadata": {
        "id": "view-in-github",
        "colab_type": "text"
      },
      "source": [
        "<a href=\"https://colab.research.google.com/github/heejjj/Health_Bio_AI/blob/bio_colab/DL_basic_perceptron_0425.ipynb\" target=\"_parent\"><img src=\"https://colab.research.google.com/assets/colab-badge.svg\" alt=\"Open In Colab\"/></a>"
      ]
    },
    {
      "cell_type": "markdown",
      "source": [
        "#### Numpy로 퍼셉트론을 구현해보자.\n",
        "\n",
        "*   퍼셉트론으로 AND, NAND, OR 연산 구현해보도록 합니다.\n",
        "*   다층 퍼셉트론으로 XOR 연산 구현해보도록 합니다.\n",
        "*   본 코드는 '밑바닥부터 시작하는 딥러닝' 2장 예제 코드 입니다."
      ],
      "metadata": {
        "id": "4CSnMV80Bwlf"
      }
    },
    {
      "cell_type": "code",
      "source": [
        "import numpy as np #numpy : Numerical python 선형대수학적 처리. as 별명"
      ],
      "metadata": {
        "id": "hr1IDFXGB22L"
      },
      "execution_count": 1,
      "outputs": []
    },
    {
      "cell_type": "markdown",
      "source": [
        "# AND 연산 퍼셉트론 구현"
      ],
      "metadata": {
        "id": "aNo4zgYFB4v8"
      }
    },
    {
      "cell_type": "code",
      "source": [
        "def AND(x1, x2):\n",
        "  x = np.array([x1,x2])\n",
        "  w = np.array([0.5, 0.5]) #초기값 설정\n",
        "  b = -0.7 #절편 -0.7\n",
        "  tmp = np.sum(w*x) + b # y = sum(w^T*X)+b)\n",
        "  if tmp <=0: #tmp가 0보다 작거나 같으면 이 조건문에 걸림\n",
        "    return 0 #반환 0 \n",
        "  else: \n",
        "    return 1 \n",
        "  \n",
        "data = []\n",
        "for xs in [(0,0),(1,0), (0,1),(1,1)]:\n",
        "  data.append(xs)\n",
        "  print(data[0])\n",
        "  y = AND(xs[0], xs[1])\n",
        "  print(str(xs) + \"->\" + str(y))"
      ],
      "metadata": {
        "colab": {
          "base_uri": "https://localhost:8080/"
        },
        "id": "lcIajybcB8hw",
        "outputId": "93941ea3-ee22-4fe8-c939-6ed0be3006e6"
      },
      "execution_count": 3,
      "outputs": [
        {
          "output_type": "stream",
          "name": "stdout",
          "text": [
            "(0, 0)\n",
            "(0, 0)->0\n",
            "(0, 0)\n",
            "(1, 0)->0\n",
            "(0, 0)\n",
            "(0, 1)->0\n",
            "(0, 0)\n",
            "(1, 1)->1\n"
          ]
        }
      ]
    },
    {
      "cell_type": "markdown",
      "source": [
        "# NAND 연산 퍼셉트론 구현"
      ],
      "metadata": {
        "id": "KS87V-b2B47r"
      }
    },
    {
      "cell_type": "code",
      "source": [
        "def NAND(x1, x2):\n",
        "  x = np.array([x1, x2])\n",
        "  w = np.array([-0.5, -0.5])\n",
        "  b = 0.7\n",
        "  tmp = np.sum(w*x) + b\n",
        "  if tmp <=0:\n",
        "    return 0 \n",
        "  else: \n",
        "    return 1\n",
        "\n",
        "for xs in [(0,0),(1,0), (0,1),(1,1)]:\n",
        "  y = NAND(xs[0], xs[1])\n",
        "  print(str(xs) + \"->\" + str(y))"
      ],
      "metadata": {
        "colab": {
          "base_uri": "https://localhost:8080/"
        },
        "id": "tCHY7nk_Dfm5",
        "outputId": "2134d182-9cd5-447b-8702-70fec540a154"
      },
      "execution_count": 4,
      "outputs": [
        {
          "output_type": "stream",
          "name": "stdout",
          "text": [
            "(0, 0)->1\n",
            "(1, 0)->1\n",
            "(0, 1)->1\n",
            "(1, 1)->0\n"
          ]
        }
      ]
    },
    {
      "cell_type": "markdown",
      "source": [
        "# OR 연산 퍼셉트론 연산"
      ],
      "metadata": {
        "id": "nAbmRH8RB4_0"
      }
    },
    {
      "cell_type": "code",
      "source": [
        "def OR(x1, x2):\n",
        "    x = np.array([x1, x2])\n",
        "    w = np.array([2, 2])\n",
        "    b = -1\n",
        "    tmp =  np.sum(w * x) + b\n",
        "    if tmp <= 0:\n",
        "        return 0\n",
        "    else:\n",
        "        return 1\n",
        "    \n",
        "for xs in [(0, 0), (1, 0), (0, 1), (1, 1)]:\n",
        "    y = OR(xs[0], xs[1])\n",
        "    print(str(xs) + \" -> \" + str(y))"
      ],
      "metadata": {
        "colab": {
          "base_uri": "https://localhost:8080/"
        },
        "id": "XBjyOf7iB5DK",
        "outputId": "d381a0bf-3b5b-4739-8d68-a5d4914b90f5"
      },
      "execution_count": 5,
      "outputs": [
        {
          "output_type": "stream",
          "name": "stdout",
          "text": [
            "(0, 0) -> 0\n",
            "(1, 0) -> 1\n",
            "(0, 1) -> 1\n",
            "(1, 1) -> 1\n"
          ]
        }
      ]
    },
    {
      "cell_type": "markdown",
      "source": [
        "# XOR 연산 다층 퍼셉트론 구현"
      ],
      "metadata": {
        "id": "SWx_JDN-EA-7"
      }
    },
    {
      "cell_type": "code",
      "source": [
        "def XOR(x1, x2):\n",
        "    s1 = NAND(x1, x2)\n",
        "    s2 = OR(x1, x2)\n",
        "    y = AND(s1, s2)\n",
        "    return y\n",
        "\n",
        "print(\"NAND, OR, AND\")\n",
        "for xs in [(0, 0), (1, 0), (0, 1), (1, 1)]:\n",
        "    y = XOR(xs[0], xs[1])\n",
        "    print(str(xs) + \" -> \" + str(y))"
      ],
      "metadata": {
        "colab": {
          "base_uri": "https://localhost:8080/"
        },
        "id": "zuZmX9IsB5GJ",
        "outputId": "a117782b-db6e-4cec-9d64-49015f9b5183"
      },
      "execution_count": 6,
      "outputs": [
        {
          "output_type": "stream",
          "name": "stdout",
          "text": [
            "NAND, OR, AND\n",
            "(0, 0) -> 0\n",
            "(1, 0) -> 1\n",
            "(0, 1) -> 1\n",
            "(1, 1) -> 0\n"
          ]
        }
      ]
    },
    {
      "cell_type": "markdown",
      "source": [
        "# Tensorflow "
      ],
      "metadata": {
        "id": "_FlYl1OwB5I-"
      }
    },
    {
      "cell_type": "markdown",
      "source": [
        "## Tensor(텐서) \n",
        "\n",
        "- 컴퓨터 과학에서 배열(array)는 번호(index)와 각 번호에 대응하는 값들로 데이루어진 데이터 형태\n",
        "\n",
        "- 간단히 말해, 다차원의 배열을 통칭\n",
        "- 여러 차원을 가진 배열"
      ],
      "metadata": {
        "id": "8X3_rF5tFDYa"
      }
    },
    {
      "cell_type": "markdown",
      "source": [
        "![image.png](data:image/png;base64,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)"
      ],
      "metadata": {
        "id": "Lp1ETKBvGLdt"
      }
    },
    {
      "cell_type": "markdown",
      "source": [
        "![image.png](data:image/png;base64,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)\n"
      ],
      "metadata": {
        "id": "9X3vbYDFB5L5"
      }
    },
    {
      "cell_type": "code",
      "source": [
        "# matrix의 rank \n",
        "column space의 dimension \n"
      ],
      "metadata": {
        "id": "ZF5ruWAjB5Oy"
      },
      "execution_count": null,
      "outputs": []
    },
    {
      "cell_type": "code",
      "source": [
        "# import tensorflow \n",
        "import tensorflow as tf\n",
        "print(tf.__version__)"
      ],
      "metadata": {
        "colab": {
          "base_uri": "https://localhost:8080/"
        },
        "id": "7D70MKdJFPNU",
        "outputId": "aa415a01-2103-438a-dc7f-7878b042a76d"
      },
      "execution_count": 2,
      "outputs": [
        {
          "output_type": "stream",
          "name": "stdout",
          "text": [
            "2.12.0\n"
          ]
        }
      ]
    },
    {
      "cell_type": "markdown",
      "source": [
        "#### Constant와 Variable\n",
        "#####Constant\n",
        "  - 상수를 뜻함. 변하지 않고 고정된 값을 의미\n",
        "  - tupble처럼 바꿀 수 없음음\n",
        "\n",
        "\n",
        "##### Variable\n",
        " - 변수를 뜻함. 변수는 수학에서 투입값에 따라 변하는 숫자를 의미\n",
        " - 하지만, 텐서플로의 Variable은 Constant와 큰 차이가 없음\n",
        " - .assign()으로 바꿀 수 있음\n",
        "  "
      ],
      "metadata": {
        "id": "jqFQcquVFOUW"
      }
    },
    {
      "cell_type": "code",
      "source": [
        "# constant\n",
        "c1 = tf.constant(1)\n",
        "c2 = tf.constant(2)\n",
        "c3 = tf.constant([[1,2], [3,4]])\n",
        "print('c1의 값입니다\\n',c1)\n",
        "print('c2의 값입니다\\n',c2)\n",
        "print('c3의 값입니다\\n',c3)\n",
        "\n",
        "\n",
        "#variable\n",
        "v1 = tf.Variable(1)\n",
        "v2 = tf.Variable([1])\n",
        "v3 = tf.Variable([[-1, 0], [10, 5]])\n",
        "print('v1의 값입니다\\n',v1)\n",
        "print('v2의 값입니다\\n',v2)\n",
        "print('v3의 값입니다\\n',v3)"
      ],
      "metadata": {
        "colab": {
          "base_uri": "https://localhost:8080/"
        },
        "id": "lpvIXh4KFUKI",
        "outputId": "e10a6777-b530-4db5-b4a4-484c4447f074"
      },
      "execution_count": 10,
      "outputs": [
        {
          "output_type": "stream",
          "name": "stdout",
          "text": [
            "c1의 값입니다\n",
            " tf.Tensor(1, shape=(), dtype=int32)\n",
            "c2의 값입니다\n",
            " tf.Tensor(2, shape=(), dtype=int32)\n",
            "c3의 값입니다\n",
            " tf.Tensor(\n",
            "[[1 2]\n",
            " [3 4]], shape=(2, 2), dtype=int32)\n",
            "v1의 값입니다\n",
            " <tf.Variable 'Variable:0' shape=() dtype=int32, numpy=1>\n",
            "v2의 값입니다\n",
            " <tf.Variable 'Variable:0' shape=(1,) dtype=int32, numpy=array([1], dtype=int32)>\n",
            "v3의 값입니다\n",
            " <tf.Variable 'Variable:0' shape=(2, 2) dtype=int32, numpy=\n",
            "array([[-1,  0],\n",
            "       [10,  5]], dtype=int32)>\n"
          ]
        }
      ]
    },
    {
      "cell_type": "markdown",
      "source": [
        "- tf.Variable()\n",
        " - 값이 변할 수도 있는 변수를 만들 때 사용."
      ],
      "metadata": {
        "id": "ZQBFC3L1FkWc"
      }
    },
    {
      "cell_type": "markdown",
      "source": [],
      "metadata": {
        "id": "jEOqQTJ5FXEY"
      }
    },
    {
      "cell_type": "code",
      "source": [
        "# create the same tensor with tf.Variable() and tf.constant()\n"
      ],
      "metadata": {
        "id": "Gewvk_cgGx9O"
      },
      "execution_count": null,
      "outputs": []
    },
    {
      "cell_type": "markdown",
      "source": [
        "#tensorflow \n",
        "- 텐서 구조\n",
        "    - 벡터 데이터 : (samples, feature) 크기의 rank-2 Temsor.\n",
        "    - 시계열(시퀀스) 데이터 : (samples, timesteps, features) 크기의  rank-3 Tensor\n",
        "    - 이미지 : (samples, height,weight, channels)(TF) or (samples, channels,height,weight)(Pytorch) 크기의 rank-4 Tensor\n",
        "    - 동영상 : (samples, frame, height, weight, channels) or (samples, frame, channels, height, weight)\n",
        "\n",
        ">if chanel =1  first -> tf\n",
        ">else pytorch"
      ],
      "metadata": {
        "id": "voYAdDJZNmV1"
      }
    },
    {
      "cell_type": "code",
      "source": [
        "# tf.function을 사용하지 않은 함수 \n",
        "\n",
        "def square_pos(x):\n",
        "  if x>0:\n",
        "    x = x*x\n",
        "  else:\n",
        "    x = x*-1\n",
        "  return x\n",
        "  square_pos"
      ],
      "metadata": {
        "id": "kuZWeU7-N9So"
      },
      "execution_count": 13,
      "outputs": []
    },
    {
      "cell_type": "code",
      "source": [
        "#tf.function을 사용하는 함수\n",
        "@tf.function\n",
        "\n",
        "def square_pos(x):\n",
        "  if x>0:\n",
        "    x = x* x\n",
        "  else:\n",
        "    x = x* -1\n",
        "  return x"
      ],
      "metadata": {
        "id": "x73X_yCxOI0F"
      },
      "execution_count": 14,
      "outputs": []
    },
    {
      "cell_type": "code",
      "source": [],
      "metadata": {
        "id": "Ay88JeMIOXtt"
      },
      "execution_count": null,
      "outputs": []
    },
    {
      "cell_type": "code",
      "source": [
        "#assert 성공하면 뒷코드 실행, 안되면 error가 뜸\n",
        "#조건변수의 값을 보증 받을 때 까지 assert로 테스트 가능\n",
        "#단순히 에러를 찾는게 아니라 값을 보증하기위해 사용됨 \n",
        "#https://wikidocs.net/21050\n",
        "\n",
        "#2차원만 허락 \n",
        "def navies_relu(x):\n",
        "  assert len(x.shape) ==2 #rank2, 2차원만 허락\n",
        "  x = x.copy() #입력 tensor 자체를 바꾸지 않도록 복사\n",
        "  for i in range(x.shape[0]): #행 받아들임\n",
        "    for j in range(x.shape[1]): #열 받아들임\n",
        "        x[i,j] = max(x[i,j], 0)\n",
        "    return x"
      ],
      "metadata": {
        "id": "CpxgaAKeOX0G"
      },
      "execution_count": null,
      "outputs": []
    },
    {
      "cell_type": "markdown",
      "source": [
        "#미분한 값이 같아지는건>? gradientTape()\n",
        ">[refer]https://rfriend.tistory.com/m/556\n",
        "\n",
        "- Gradient 계산\n",
        "    - 자동으로 미분하기 위해 TensorFlow는 정방향 패스 동안 어떤 연산이 어떤 순서로 발생하는지 기억해야 합니다. 그런 다음 역방향 패스 동안 TensorFlow는 이 연산 목록을 역순으로 이동하여 그래디언트를 계산합니다.\n",
        "\n",
        "\n",
        " - Gradient Tape을 이용한 자동 미분\n",
        " >tensorflow에서는 중간 연산과정(함수,연산)을 테이프(tape)에 차곡차곡 기록해주는 gradient tapes를 제공\n",
        " >with tf.GradientTape() as tape: 로 저장할 tape을 지정해주면, 이후의 GradientTape() 문맥 아래에서의 TensorFlow의 연관 연산 코드는 tape에 저장이 됩니다. 이렇게 tape에 저장된 연산 과정 (함수, 연산식) 을 가져다가 TensorFlow는 dx = tape.gradient(loss, x) 로 후진 모드 자동 미분 (Reverse mode automatic differentiation) 방법으로 손실에 대한 x의 미분을 계산합니다. 이렇게 계산한 손실에 대한 x의 미분을 역전파(backpropagation)하여 x의 값을 갱신(update)하는 작업을 반복하므로써 변수 x의 답을 찾아가는 학습을 진행\n",
        "\n",
        " >텐서플로는 자동 미분(주어진 입력 변수에 대한 연산의 그래디언트(gradient)를 계산하는 것)을 위한 tf.GradientTape API를 제공합니다. tf.GradientTape는 컨텍스트(context) 안에서 실행된 모든 연산을 테이프(tape)에 \"기록\"합니다. 그 다음 텐서플로는 후진 방식 자동 미분(reverse mode differentiation)을 사용해 테이프에 \"기록된\" 연산의 그래디언트를 계산합니다.\n",
        "\n"
      ],
      "metadata": {
        "id": "5zFebUqgOX5v"
      }
    },
    {
      "cell_type": "code",
      "source": [
        "import numpy as np\n",
        "import matplotlib.pyplot as plt\n"
      ],
      "metadata": {
        "id": "lMGDIl7eOX9T"
      },
      "execution_count": 3,
      "outputs": []
    },
    {
      "cell_type": "code",
      "source": [
        "x = tf.Var"
      ],
      "metadata": {
        "id": "W0WHJ1jOOYCh"
      },
      "execution_count": null,
      "outputs": []
    },
    {
      "cell_type": "code",
      "source": [
        "import tensorflow as tf\n",
        "\n",
        "tf.random.set_seed(777) #시드 설정정\n",
        "import numpy as np\n",
        "from tensorflow.keras.models import Sequential\n",
        "from tensorflow.keras.layers import Dense #(fully connected)\n",
        "from tensorflow.keras.optimizers import SGD #(Stochastic gradient descent)\n",
        "from tensorflow.keras.losses import mse #(mean square error)\n",
        "\n",
        "# 데이터 준비하기\n",
        "x = np.array([[0,0],[1,0],[0,1],[1,1]])\n",
        "y = np.array([[0],[1],[1],[0]])\n",
        "\n",
        "#모델 구성하기\n",
        "model = Sequential()\n",
        "\n",
        "#단층 퍼셉트론을 구성\n",
        "model.add(Dense(1, input_shape = (2, ), activation = 'linear'))\n",
        "\n",
        "#input_shape =(2, ) -> 1차원이라서 \n",
        "\n",
        "#모델 준비하기(compile)\n",
        "model.compile(optimizer = 'SGD',\n",
        "              loss = mse,\n",
        "              metrics = ['acc']) #list형태로 평가지표를 전달\n",
        "\n",
        "#학습시키기(fit)\n",
        "model.fit(x,y,epochs = 500)\n",
        "\n",
        "#1 epoch의미: 전체데이터셋 학습한게 1회\n",
        "#Each time pass of the training examples through backpropagation is called an epoch. "
      ],
      "metadata": {
        "colab": {
          "base_uri": "https://localhost:8080/"
        },
        "id": "ld-5_xiNOYF6",
        "outputId": "1daf3ad6-5300-43ff-f8ac-c6b36b5d91f3"
      },
      "execution_count": 4,
      "outputs": [
        {
          "output_type": "stream",
          "name": "stdout",
          "text": [
            "Epoch 1/500\n",
            "1/1 [==============================] - 1s 734ms/step - loss: 0.4065 - acc: 0.5000\n",
            "Epoch 2/500\n",
            "1/1 [==============================] - 0s 16ms/step - loss: 0.3995 - acc: 0.5000\n",
            "Epoch 3/500\n",
            "1/1 [==============================] - 0s 14ms/step - loss: 0.3930 - acc: 0.5000\n",
            "Epoch 4/500\n",
            "1/1 [==============================] - 0s 12ms/step - loss: 0.3868 - acc: 0.5000\n",
            "Epoch 5/500\n",
            "1/1 [==============================] - 0s 17ms/step - loss: 0.3810 - acc: 0.5000\n",
            "Epoch 6/500\n",
            "1/1 [==============================] - 0s 14ms/step - loss: 0.3756 - acc: 0.5000\n",
            "Epoch 7/500\n",
            "1/1 [==============================] - 0s 12ms/step - loss: 0.3705 - acc: 0.5000\n",
            "Epoch 8/500\n",
            "1/1 [==============================] - 0s 10ms/step - loss: 0.3657 - acc: 0.5000\n",
            "Epoch 9/500\n",
            "1/1 [==============================] - 0s 11ms/step - loss: 0.3611 - acc: 0.5000\n",
            "Epoch 10/500\n",
            "1/1 [==============================] - 0s 12ms/step - loss: 0.3569 - acc: 0.5000\n",
            "Epoch 11/500\n",
            "1/1 [==============================] - 0s 11ms/step - loss: 0.3528 - acc: 0.5000\n",
            "Epoch 12/500\n",
            "1/1 [==============================] - 0s 9ms/step - loss: 0.3490 - acc: 0.5000\n",
            "Epoch 13/500\n",
            "1/1 [==============================] - 0s 13ms/step - loss: 0.3455 - acc: 0.5000\n",
            "Epoch 14/500\n",
            "1/1 [==============================] - 0s 10ms/step - loss: 0.3421 - acc: 0.5000\n",
            "Epoch 15/500\n",
            "1/1 [==============================] - 0s 9ms/step - loss: 0.3389 - acc: 0.5000\n",
            "Epoch 16/500\n",
            "1/1 [==============================] - 0s 15ms/step - loss: 0.3359 - acc: 0.5000\n",
            "Epoch 17/500\n",
            "1/1 [==============================] - 0s 12ms/step - loss: 0.3331 - acc: 0.5000\n",
            "Epoch 18/500\n",
            "1/1 [==============================] - 0s 10ms/step - loss: 0.3304 - acc: 0.5000\n",
            "Epoch 19/500\n",
            "1/1 [==============================] - 0s 11ms/step - loss: 0.3279 - acc: 0.5000\n",
            "Epoch 20/500\n",
            "1/1 [==============================] - 0s 12ms/step - loss: 0.3255 - acc: 0.5000\n",
            "Epoch 21/500\n",
            "1/1 [==============================] - 0s 14ms/step - loss: 0.3233 - acc: 0.5000\n",
            "Epoch 22/500\n",
            "1/1 [==============================] - 0s 12ms/step - loss: 0.3212 - acc: 0.5000\n",
            "Epoch 23/500\n",
            "1/1 [==============================] - 0s 14ms/step - loss: 0.3191 - acc: 0.5000\n",
            "Epoch 24/500\n",
            "1/1 [==============================] - 0s 11ms/step - loss: 0.3172 - acc: 0.5000\n",
            "Epoch 25/500\n",
            "1/1 [==============================] - 0s 14ms/step - loss: 0.3154 - acc: 0.5000\n",
            "Epoch 26/500\n",
            "1/1 [==============================] - 0s 13ms/step - loss: 0.3137 - acc: 0.2500\n",
            "Epoch 27/500\n",
            "1/1 [==============================] - 0s 12ms/step - loss: 0.3121 - acc: 0.2500\n",
            "Epoch 28/500\n",
            "1/1 [==============================] - 0s 12ms/step - loss: 0.3106 - acc: 0.2500\n",
            "Epoch 29/500\n",
            "1/1 [==============================] - 0s 10ms/step - loss: 0.3091 - acc: 0.2500\n",
            "Epoch 30/500\n",
            "1/1 [==============================] - 0s 12ms/step - loss: 0.3077 - acc: 0.2500\n",
            "Epoch 31/500\n",
            "1/1 [==============================] - 0s 13ms/step - loss: 0.3064 - acc: 0.2500\n",
            "Epoch 32/500\n",
            "1/1 [==============================] - 0s 14ms/step - loss: 0.3052 - acc: 0.2500\n",
            "Epoch 33/500\n",
            "1/1 [==============================] - 0s 11ms/step - loss: 0.3040 - acc: 0.5000\n",
            "Epoch 34/500\n",
            "1/1 [==============================] - 0s 12ms/step - loss: 0.3029 - acc: 0.5000\n",
            "Epoch 35/500\n",
            "1/1 [==============================] - 0s 9ms/step - loss: 0.3018 - acc: 0.5000\n",
            "Epoch 36/500\n",
            "1/1 [==============================] - 0s 11ms/step - loss: 0.3008 - acc: 0.5000\n",
            "Epoch 37/500\n",
            "1/1 [==============================] - 0s 12ms/step - loss: 0.2998 - acc: 0.5000\n",
            "Epoch 38/500\n",
            "1/1 [==============================] - 0s 9ms/step - loss: 0.2989 - acc: 0.5000\n",
            "Epoch 39/500\n",
            "1/1 [==============================] - 0s 10ms/step - loss: 0.2980 - acc: 0.5000\n",
            "Epoch 40/500\n",
            "1/1 [==============================] - 0s 13ms/step - loss: 0.2971 - acc: 0.5000\n",
            "Epoch 41/500\n",
            "1/1 [==============================] - 0s 12ms/step - loss: 0.2963 - acc: 0.5000\n",
            "Epoch 42/500\n",
            "1/1 [==============================] - 0s 13ms/step - loss: 0.2956 - acc: 0.5000\n",
            "Epoch 43/500\n",
            "1/1 [==============================] - 0s 13ms/step - loss: 0.2948 - acc: 0.5000\n",
            "Epoch 44/500\n",
            "1/1 [==============================] - 0s 12ms/step - loss: 0.2941 - acc: 0.5000\n",
            "Epoch 45/500\n",
            "1/1 [==============================] - 0s 13ms/step - loss: 0.2934 - acc: 0.5000\n",
            "Epoch 46/500\n",
            "1/1 [==============================] - 0s 12ms/step - loss: 0.2928 - acc: 0.5000\n",
            "Epoch 47/500\n",
            "1/1 [==============================] - 0s 10ms/step - loss: 0.2921 - acc: 0.5000\n",
            "Epoch 48/500\n",
            "1/1 [==============================] - 0s 13ms/step - loss: 0.2915 - acc: 0.5000\n",
            "Epoch 49/500\n",
            "1/1 [==============================] - 0s 12ms/step - loss: 0.2910 - acc: 0.5000\n",
            "Epoch 50/500\n",
            "1/1 [==============================] - 0s 12ms/step - loss: 0.2904 - acc: 0.5000\n",
            "Epoch 51/500\n",
            "1/1 [==============================] - 0s 12ms/step - loss: 0.2899 - acc: 0.5000\n",
            "Epoch 52/500\n",
            "1/1 [==============================] - 0s 12ms/step - loss: 0.2893 - acc: 0.5000\n",
            "Epoch 53/500\n",
            "1/1 [==============================] - 0s 10ms/step - loss: 0.2888 - acc: 0.5000\n",
            "Epoch 54/500\n",
            "1/1 [==============================] - 0s 12ms/step - loss: 0.2884 - acc: 0.5000\n",
            "Epoch 55/500\n",
            "1/1 [==============================] - 0s 10ms/step - loss: 0.2879 - acc: 0.5000\n",
            "Epoch 56/500\n",
            "1/1 [==============================] - 0s 11ms/step - loss: 0.2874 - acc: 0.5000\n",
            "Epoch 57/500\n",
            "1/1 [==============================] - 0s 11ms/step - loss: 0.2870 - acc: 0.5000\n",
            "Epoch 58/500\n",
            "1/1 [==============================] - 0s 10ms/step - loss: 0.2866 - acc: 0.5000\n",
            "Epoch 59/500\n",
            "1/1 [==============================] - 0s 14ms/step - loss: 0.2862 - acc: 0.5000\n",
            "Epoch 60/500\n",
            "1/1 [==============================] - 0s 11ms/step - loss: 0.2858 - acc: 0.5000\n",
            "Epoch 61/500\n",
            "1/1 [==============================] - 0s 10ms/step - loss: 0.2854 - acc: 0.5000\n",
            "Epoch 62/500\n",
            "1/1 [==============================] - 0s 11ms/step - loss: 0.2850 - acc: 0.5000\n",
            "Epoch 63/500\n",
            "1/1 [==============================] - 0s 11ms/step - loss: 0.2846 - acc: 0.5000\n",
            "Epoch 64/500\n",
            "1/1 [==============================] - 0s 12ms/step - loss: 0.2843 - acc: 0.5000\n",
            "Epoch 65/500\n",
            "1/1 [==============================] - 0s 10ms/step - loss: 0.2839 - acc: 0.5000\n",
            "Epoch 66/500\n",
            "1/1 [==============================] - 0s 14ms/step - loss: 0.2836 - acc: 0.5000\n",
            "Epoch 67/500\n",
            "1/1 [==============================] - 0s 12ms/step - loss: 0.2833 - acc: 0.5000\n",
            "Epoch 68/500\n",
            "1/1 [==============================] - 0s 10ms/step - loss: 0.2829 - acc: 0.5000\n",
            "Epoch 69/500\n",
            "1/1 [==============================] - 0s 10ms/step - loss: 0.2826 - acc: 0.5000\n",
            "Epoch 70/500\n",
            "1/1 [==============================] - 0s 13ms/step - loss: 0.2823 - acc: 0.5000\n",
            "Epoch 71/500\n",
            "1/1 [==============================] - 0s 11ms/step - loss: 0.2820 - acc: 0.5000\n",
            "Epoch 72/500\n",
            "1/1 [==============================] - 0s 10ms/step - loss: 0.2817 - acc: 0.5000\n",
            "Epoch 73/500\n",
            "1/1 [==============================] - 0s 10ms/step - loss: 0.2814 - acc: 0.5000\n",
            "Epoch 74/500\n",
            "1/1 [==============================] - 0s 9ms/step - loss: 0.2811 - acc: 0.5000\n",
            "Epoch 75/500\n",
            "1/1 [==============================] - 0s 9ms/step - loss: 0.2809 - acc: 0.5000\n",
            "Epoch 76/500\n",
            "1/1 [==============================] - 0s 12ms/step - loss: 0.2806 - acc: 0.5000\n",
            "Epoch 77/500\n",
            "1/1 [==============================] - 0s 12ms/step - loss: 0.2803 - acc: 0.5000\n",
            "Epoch 78/500\n",
            "1/1 [==============================] - 0s 11ms/step - loss: 0.2801 - acc: 0.5000\n",
            "Epoch 79/500\n",
            "1/1 [==============================] - 0s 15ms/step - loss: 0.2798 - acc: 0.5000\n",
            "Epoch 80/500\n",
            "1/1 [==============================] - 0s 12ms/step - loss: 0.2795 - acc: 0.5000\n",
            "Epoch 81/500\n",
            "1/1 [==============================] - 0s 14ms/step - loss: 0.2793 - acc: 0.5000\n",
            "Epoch 82/500\n",
            "1/1 [==============================] - 0s 13ms/step - loss: 0.2791 - acc: 0.5000\n",
            "Epoch 83/500\n",
            "1/1 [==============================] - 0s 13ms/step - loss: 0.2788 - acc: 0.5000\n",
            "Epoch 84/500\n",
            "1/1 [==============================] - 0s 9ms/step - loss: 0.2786 - acc: 0.5000\n",
            "Epoch 85/500\n",
            "1/1 [==============================] - 0s 15ms/step - loss: 0.2783 - acc: 0.5000\n",
            "Epoch 86/500\n",
            "1/1 [==============================] - 0s 9ms/step - loss: 0.2781 - acc: 0.5000\n",
            "Epoch 87/500\n",
            "1/1 [==============================] - 0s 9ms/step - loss: 0.2779 - acc: 0.5000\n",
            "Epoch 88/500\n",
            "1/1 [==============================] - 0s 9ms/step - loss: 0.2777 - acc: 0.5000\n",
            "Epoch 89/500\n",
            "1/1 [==============================] - 0s 12ms/step - loss: 0.2774 - acc: 0.5000\n",
            "Epoch 90/500\n",
            "1/1 [==============================] - 0s 12ms/step - loss: 0.2772 - acc: 0.5000\n",
            "Epoch 91/500\n",
            "1/1 [==============================] - 0s 14ms/step - loss: 0.2770 - acc: 0.5000\n",
            "Epoch 92/500\n",
            "1/1 [==============================] - 0s 11ms/step - loss: 0.2768 - acc: 0.5000\n",
            "Epoch 93/500\n",
            "1/1 [==============================] - 0s 12ms/step - loss: 0.2766 - acc: 0.5000\n",
            "Epoch 94/500\n",
            "1/1 [==============================] - 0s 10ms/step - loss: 0.2764 - acc: 0.5000\n",
            "Epoch 95/500\n",
            "1/1 [==============================] - 0s 10ms/step - loss: 0.2762 - acc: 0.5000\n",
            "Epoch 96/500\n",
            "1/1 [==============================] - 0s 10ms/step - loss: 0.2760 - acc: 0.5000\n",
            "Epoch 97/500\n",
            "1/1 [==============================] - 0s 10ms/step - loss: 0.2758 - acc: 0.5000\n",
            "Epoch 98/500\n",
            "1/1 [==============================] - 0s 13ms/step - loss: 0.2756 - acc: 0.5000\n",
            "Epoch 99/500\n",
            "1/1 [==============================] - 0s 24ms/step - loss: 0.2754 - acc: 0.5000\n",
            "Epoch 100/500\n",
            "1/1 [==============================] - 0s 20ms/step - loss: 0.2752 - acc: 0.5000\n",
            "Epoch 101/500\n",
            "1/1 [==============================] - 0s 17ms/step - loss: 0.2750 - acc: 0.5000\n",
            "Epoch 102/500\n",
            "1/1 [==============================] - 0s 13ms/step - loss: 0.2748 - acc: 0.5000\n",
            "Epoch 103/500\n",
            "1/1 [==============================] - 0s 10ms/step - loss: 0.2746 - acc: 0.5000\n",
            "Epoch 104/500\n",
            "1/1 [==============================] - 0s 12ms/step - loss: 0.2744 - acc: 0.5000\n",
            "Epoch 105/500\n",
            "1/1 [==============================] - 0s 10ms/step - loss: 0.2743 - acc: 0.5000\n",
            "Epoch 106/500\n",
            "1/1 [==============================] - 0s 13ms/step - loss: 0.2741 - acc: 0.5000\n",
            "Epoch 107/500\n",
            "1/1 [==============================] - 0s 11ms/step - loss: 0.2739 - acc: 0.5000\n",
            "Epoch 108/500\n",
            "1/1 [==============================] - 0s 10ms/step - loss: 0.2737 - acc: 0.5000\n",
            "Epoch 109/500\n",
            "1/1 [==============================] - 0s 15ms/step - loss: 0.2735 - acc: 0.5000\n",
            "Epoch 110/500\n",
            "1/1 [==============================] - 0s 14ms/step - loss: 0.2734 - acc: 0.5000\n",
            "Epoch 111/500\n",
            "1/1 [==============================] - 0s 12ms/step - loss: 0.2732 - acc: 0.5000\n",
            "Epoch 112/500\n",
            "1/1 [==============================] - 0s 11ms/step - loss: 0.2730 - acc: 0.5000\n",
            "Epoch 113/500\n",
            "1/1 [==============================] - 0s 13ms/step - loss: 0.2729 - acc: 0.5000\n",
            "Epoch 114/500\n",
            "1/1 [==============================] - 0s 10ms/step - loss: 0.2727 - acc: 0.5000\n",
            "Epoch 115/500\n",
            "1/1 [==============================] - 0s 9ms/step - loss: 0.2725 - acc: 0.5000\n",
            "Epoch 116/500\n",
            "1/1 [==============================] - 0s 12ms/step - loss: 0.2724 - acc: 0.5000\n",
            "Epoch 117/500\n",
            "1/1 [==============================] - 0s 11ms/step - loss: 0.2722 - acc: 0.5000\n",
            "Epoch 118/500\n",
            "1/1 [==============================] - 0s 10ms/step - loss: 0.2720 - acc: 0.5000\n",
            "Epoch 119/500\n",
            "1/1 [==============================] - 0s 10ms/step - loss: 0.2719 - acc: 0.5000\n",
            "Epoch 120/500\n",
            "1/1 [==============================] - 0s 10ms/step - loss: 0.2717 - acc: 0.5000\n",
            "Epoch 121/500\n",
            "1/1 [==============================] - 0s 10ms/step - loss: 0.2716 - acc: 0.5000\n",
            "Epoch 122/500\n",
            "1/1 [==============================] - 0s 10ms/step - loss: 0.2714 - acc: 0.5000\n",
            "Epoch 123/500\n",
            "1/1 [==============================] - 0s 10ms/step - loss: 0.2712 - acc: 0.5000\n",
            "Epoch 124/500\n",
            "1/1 [==============================] - 0s 12ms/step - loss: 0.2711 - acc: 0.5000\n",
            "Epoch 125/500\n",
            "1/1 [==============================] - 0s 11ms/step - loss: 0.2709 - acc: 0.5000\n",
            "Epoch 126/500\n",
            "1/1 [==============================] - 0s 14ms/step - loss: 0.2708 - acc: 0.5000\n",
            "Epoch 127/500\n",
            "1/1 [==============================] - 0s 11ms/step - loss: 0.2706 - acc: 0.5000\n",
            "Epoch 128/500\n",
            "1/1 [==============================] - 0s 11ms/step - loss: 0.2705 - acc: 0.5000\n",
            "Epoch 129/500\n",
            "1/1 [==============================] - 0s 12ms/step - loss: 0.2703 - acc: 0.5000\n",
            "Epoch 130/500\n",
            "1/1 [==============================] - 0s 12ms/step - loss: 0.2702 - acc: 0.5000\n",
            "Epoch 131/500\n",
            "1/1 [==============================] - 0s 15ms/step - loss: 0.2701 - acc: 0.5000\n",
            "Epoch 132/500\n",
            "1/1 [==============================] - 0s 18ms/step - loss: 0.2699 - acc: 0.5000\n",
            "Epoch 133/500\n",
            "1/1 [==============================] - 0s 12ms/step - loss: 0.2698 - acc: 0.5000\n",
            "Epoch 134/500\n",
            "1/1 [==============================] - 0s 14ms/step - loss: 0.2696 - acc: 0.5000\n",
            "Epoch 135/500\n",
            "1/1 [==============================] - 0s 11ms/step - loss: 0.2695 - acc: 0.5000\n",
            "Epoch 136/500\n",
            "1/1 [==============================] - 0s 11ms/step - loss: 0.2693 - acc: 0.5000\n",
            "Epoch 137/500\n",
            "1/1 [==============================] - 0s 11ms/step - loss: 0.2692 - acc: 0.5000\n",
            "Epoch 138/500\n",
            "1/1 [==============================] - 0s 14ms/step - loss: 0.2691 - acc: 0.5000\n",
            "Epoch 139/500\n",
            "1/1 [==============================] - 0s 13ms/step - loss: 0.2689 - acc: 0.5000\n",
            "Epoch 140/500\n",
            "1/1 [==============================] - 0s 14ms/step - loss: 0.2688 - acc: 0.5000\n",
            "Epoch 141/500\n",
            "1/1 [==============================] - 0s 21ms/step - loss: 0.2687 - acc: 0.5000\n",
            "Epoch 142/500\n",
            "1/1 [==============================] - 0s 11ms/step - loss: 0.2685 - acc: 0.5000\n",
            "Epoch 143/500\n",
            "1/1 [==============================] - 0s 9ms/step - loss: 0.2684 - acc: 0.5000\n",
            "Epoch 144/500\n",
            "1/1 [==============================] - 0s 12ms/step - loss: 0.2683 - acc: 0.5000\n",
            "Epoch 145/500\n",
            "1/1 [==============================] - 0s 10ms/step - loss: 0.2681 - acc: 0.5000\n",
            "Epoch 146/500\n",
            "1/1 [==============================] - 0s 9ms/step - loss: 0.2680 - acc: 0.5000\n",
            "Epoch 147/500\n",
            "1/1 [==============================] - 0s 9ms/step - loss: 0.2679 - acc: 0.5000\n",
            "Epoch 148/500\n",
            "1/1 [==============================] - 0s 10ms/step - loss: 0.2678 - acc: 0.5000\n",
            "Epoch 149/500\n",
            "1/1 [==============================] - 0s 9ms/step - loss: 0.2676 - acc: 0.5000\n",
            "Epoch 150/500\n",
            "1/1 [==============================] - 0s 10ms/step - loss: 0.2675 - acc: 0.5000\n",
            "Epoch 151/500\n",
            "1/1 [==============================] - 0s 11ms/step - loss: 0.2674 - acc: 0.5000\n",
            "Epoch 152/500\n",
            "1/1 [==============================] - 0s 20ms/step - loss: 0.2673 - acc: 0.5000\n",
            "Epoch 153/500\n",
            "1/1 [==============================] - 0s 10ms/step - loss: 0.2671 - acc: 0.5000\n",
            "Epoch 154/500\n",
            "1/1 [==============================] - 0s 12ms/step - loss: 0.2670 - acc: 0.5000\n",
            "Epoch 155/500\n",
            "1/1 [==============================] - 0s 13ms/step - loss: 0.2669 - acc: 0.5000\n",
            "Epoch 156/500\n",
            "1/1 [==============================] - 0s 10ms/step - loss: 0.2668 - acc: 0.5000\n",
            "Epoch 157/500\n",
            "1/1 [==============================] - 0s 9ms/step - loss: 0.2667 - acc: 0.5000\n",
            "Epoch 158/500\n",
            "1/1 [==============================] - 0s 9ms/step - loss: 0.2665 - acc: 0.5000\n",
            "Epoch 159/500\n",
            "1/1 [==============================] - 0s 12ms/step - loss: 0.2664 - acc: 0.5000\n",
            "Epoch 160/500\n",
            "1/1 [==============================] - 0s 12ms/step - loss: 0.2663 - acc: 0.5000\n",
            "Epoch 161/500\n",
            "1/1 [==============================] - 0s 12ms/step - loss: 0.2662 - acc: 0.5000\n",
            "Epoch 162/500\n",
            "1/1 [==============================] - 0s 11ms/step - loss: 0.2661 - acc: 0.5000\n",
            "Epoch 163/500\n",
            "1/1 [==============================] - 0s 11ms/step - loss: 0.2660 - acc: 0.5000\n",
            "Epoch 164/500\n",
            "1/1 [==============================] - 0s 12ms/step - loss: 0.2659 - acc: 0.5000\n",
            "Epoch 165/500\n",
            "1/1 [==============================] - 0s 19ms/step - loss: 0.2657 - acc: 0.5000\n",
            "Epoch 166/500\n",
            "1/1 [==============================] - 0s 12ms/step - loss: 0.2656 - acc: 0.5000\n",
            "Epoch 167/500\n",
            "1/1 [==============================] - 0s 10ms/step - loss: 0.2655 - acc: 0.5000\n",
            "Epoch 168/500\n",
            "1/1 [==============================] - 0s 10ms/step - loss: 0.2654 - acc: 0.5000\n",
            "Epoch 169/500\n",
            "1/1 [==============================] - 0s 9ms/step - loss: 0.2653 - acc: 0.5000\n",
            "Epoch 170/500\n",
            "1/1 [==============================] - 0s 10ms/step - loss: 0.2652 - acc: 0.5000\n",
            "Epoch 171/500\n",
            "1/1 [==============================] - 0s 10ms/step - loss: 0.2651 - acc: 0.5000\n",
            "Epoch 172/500\n",
            "1/1 [==============================] - 0s 9ms/step - loss: 0.2650 - acc: 0.5000\n",
            "Epoch 173/500\n",
            "1/1 [==============================] - 0s 9ms/step - loss: 0.2649 - acc: 0.5000\n",
            "Epoch 174/500\n",
            "1/1 [==============================] - 0s 10ms/step - loss: 0.2648 - acc: 0.5000\n",
            "Epoch 175/500\n",
            "1/1 [==============================] - 0s 10ms/step - loss: 0.2647 - acc: 0.5000\n",
            "Epoch 176/500\n",
            "1/1 [==============================] - 0s 9ms/step - loss: 0.2646 - acc: 0.5000\n",
            "Epoch 177/500\n",
            "1/1 [==============================] - 0s 10ms/step - loss: 0.2645 - acc: 0.5000\n",
            "Epoch 178/500\n",
            "1/1 [==============================] - 0s 10ms/step - loss: 0.2644 - acc: 0.5000\n",
            "Epoch 179/500\n",
            "1/1 [==============================] - 0s 11ms/step - loss: 0.2643 - acc: 0.5000\n",
            "Epoch 180/500\n",
            "1/1 [==============================] - 0s 10ms/step - loss: 0.2642 - acc: 0.5000\n",
            "Epoch 181/500\n",
            "1/1 [==============================] - 0s 9ms/step - loss: 0.2641 - acc: 0.5000\n",
            "Epoch 182/500\n",
            "1/1 [==============================] - 0s 9ms/step - loss: 0.2640 - acc: 0.5000\n",
            "Epoch 183/500\n",
            "1/1 [==============================] - 0s 9ms/step - loss: 0.2639 - acc: 0.5000\n",
            "Epoch 184/500\n",
            "1/1 [==============================] - 0s 11ms/step - loss: 0.2638 - acc: 0.5000\n",
            "Epoch 185/500\n",
            "1/1 [==============================] - 0s 16ms/step - loss: 0.2637 - acc: 0.5000\n",
            "Epoch 186/500\n",
            "1/1 [==============================] - 0s 19ms/step - loss: 0.2636 - acc: 0.5000\n",
            "Epoch 187/500\n",
            "1/1 [==============================] - 0s 31ms/step - loss: 0.2635 - acc: 0.5000\n",
            "Epoch 188/500\n",
            "1/1 [==============================] - 0s 33ms/step - loss: 0.2634 - acc: 0.5000\n",
            "Epoch 189/500\n",
            "1/1 [==============================] - 0s 25ms/step - loss: 0.2633 - acc: 0.5000\n",
            "Epoch 190/500\n",
            "1/1 [==============================] - 0s 25ms/step - loss: 0.2632 - acc: 0.5000\n",
            "Epoch 191/500\n",
            "1/1 [==============================] - 0s 18ms/step - loss: 0.2631 - acc: 0.5000\n",
            "Epoch 192/500\n",
            "1/1 [==============================] - 0s 20ms/step - loss: 0.2630 - acc: 0.5000\n",
            "Epoch 193/500\n",
            "1/1 [==============================] - 0s 22ms/step - loss: 0.2629 - acc: 0.5000\n",
            "Epoch 194/500\n",
            "1/1 [==============================] - 0s 18ms/step - loss: 0.2628 - acc: 0.5000\n",
            "Epoch 195/500\n",
            "1/1 [==============================] - 0s 21ms/step - loss: 0.2627 - acc: 0.5000\n",
            "Epoch 196/500\n",
            "1/1 [==============================] - 0s 22ms/step - loss: 0.2627 - acc: 0.5000\n",
            "Epoch 197/500\n",
            "1/1 [==============================] - 0s 13ms/step - loss: 0.2626 - acc: 0.5000\n",
            "Epoch 198/500\n",
            "1/1 [==============================] - 0s 18ms/step - loss: 0.2625 - acc: 0.5000\n",
            "Epoch 199/500\n",
            "1/1 [==============================] - 0s 17ms/step - loss: 0.2624 - acc: 0.5000\n",
            "Epoch 200/500\n",
            "1/1 [==============================] - 0s 33ms/step - loss: 0.2623 - acc: 0.5000\n",
            "Epoch 201/500\n",
            "1/1 [==============================] - 0s 35ms/step - loss: 0.2622 - acc: 0.5000\n",
            "Epoch 202/500\n",
            "1/1 [==============================] - 0s 45ms/step - loss: 0.2621 - acc: 0.5000\n",
            "Epoch 203/500\n",
            "1/1 [==============================] - 0s 22ms/step - loss: 0.2621 - acc: 0.5000\n",
            "Epoch 204/500\n",
            "1/1 [==============================] - 0s 28ms/step - loss: 0.2620 - acc: 0.5000\n",
            "Epoch 205/500\n",
            "1/1 [==============================] - 0s 23ms/step - loss: 0.2619 - acc: 0.5000\n",
            "Epoch 206/500\n",
            "1/1 [==============================] - 0s 21ms/step - loss: 0.2618 - acc: 0.5000\n",
            "Epoch 207/500\n",
            "1/1 [==============================] - 0s 20ms/step - loss: 0.2617 - acc: 0.5000\n",
            "Epoch 208/500\n",
            "1/1 [==============================] - 0s 20ms/step - loss: 0.2616 - acc: 0.5000\n",
            "Epoch 209/500\n",
            "1/1 [==============================] - 0s 19ms/step - loss: 0.2616 - acc: 0.5000\n",
            "Epoch 210/500\n",
            "1/1 [==============================] - 0s 30ms/step - loss: 0.2615 - acc: 0.5000\n",
            "Epoch 211/500\n",
            "1/1 [==============================] - 0s 19ms/step - loss: 0.2614 - acc: 0.5000\n",
            "Epoch 212/500\n",
            "1/1 [==============================] - 0s 10ms/step - loss: 0.2613 - acc: 0.5000\n",
            "Epoch 213/500\n",
            "1/1 [==============================] - 0s 12ms/step - loss: 0.2612 - acc: 0.5000\n",
            "Epoch 214/500\n",
            "1/1 [==============================] - 0s 12ms/step - loss: 0.2612 - acc: 0.5000\n",
            "Epoch 215/500\n",
            "1/1 [==============================] - 0s 9ms/step - loss: 0.2611 - acc: 0.5000\n",
            "Epoch 216/500\n",
            "1/1 [==============================] - 0s 10ms/step - loss: 0.2610 - acc: 0.5000\n",
            "Epoch 217/500\n",
            "1/1 [==============================] - 0s 12ms/step - loss: 0.2609 - acc: 0.5000\n",
            "Epoch 218/500\n",
            "1/1 [==============================] - 0s 10ms/step - loss: 0.2609 - acc: 0.5000\n",
            "Epoch 219/500\n",
            "1/1 [==============================] - 0s 10ms/step - loss: 0.2608 - acc: 0.5000\n",
            "Epoch 220/500\n",
            "1/1 [==============================] - 0s 10ms/step - loss: 0.2607 - acc: 0.5000\n",
            "Epoch 221/500\n",
            "1/1 [==============================] - 0s 9ms/step - loss: 0.2606 - acc: 0.5000\n",
            "Epoch 222/500\n",
            "1/1 [==============================] - 0s 9ms/step - loss: 0.2606 - acc: 0.5000\n",
            "Epoch 223/500\n",
            "1/1 [==============================] - 0s 9ms/step - loss: 0.2605 - acc: 0.5000\n",
            "Epoch 224/500\n",
            "1/1 [==============================] - 0s 11ms/step - loss: 0.2604 - acc: 0.5000\n",
            "Epoch 225/500\n",
            "1/1 [==============================] - 0s 10ms/step - loss: 0.2603 - acc: 0.5000\n",
            "Epoch 226/500\n",
            "1/1 [==============================] - 0s 11ms/step - loss: 0.2603 - acc: 0.5000\n",
            "Epoch 227/500\n",
            "1/1 [==============================] - 0s 9ms/step - loss: 0.2602 - acc: 0.5000\n",
            "Epoch 228/500\n",
            "1/1 [==============================] - 0s 10ms/step - loss: 0.2601 - acc: 0.5000\n",
            "Epoch 229/500\n",
            "1/1 [==============================] - 0s 10ms/step - loss: 0.2601 - acc: 0.5000\n",
            "Epoch 230/500\n",
            "1/1 [==============================] - 0s 10ms/step - loss: 0.2600 - acc: 0.5000\n",
            "Epoch 231/500\n",
            "1/1 [==============================] - 0s 9ms/step - loss: 0.2599 - acc: 0.5000\n",
            "Epoch 232/500\n",
            "1/1 [==============================] - 0s 10ms/step - loss: 0.2599 - acc: 0.5000\n",
            "Epoch 233/500\n",
            "1/1 [==============================] - 0s 10ms/step - loss: 0.2598 - acc: 0.5000\n",
            "Epoch 234/500\n",
            "1/1 [==============================] - 0s 16ms/step - loss: 0.2597 - acc: 0.5000\n",
            "Epoch 235/500\n",
            "1/1 [==============================] - 0s 19ms/step - loss: 0.2597 - acc: 0.5000\n",
            "Epoch 236/500\n",
            "1/1 [==============================] - 0s 19ms/step - loss: 0.2596 - acc: 0.5000\n",
            "Epoch 237/500\n",
            "1/1 [==============================] - 0s 17ms/step - loss: 0.2595 - acc: 0.5000\n",
            "Epoch 238/500\n",
            "1/1 [==============================] - 0s 27ms/step - loss: 0.2595 - acc: 0.5000\n",
            "Epoch 239/500\n",
            "1/1 [==============================] - 0s 11ms/step - loss: 0.2594 - acc: 0.5000\n",
            "Epoch 240/500\n",
            "1/1 [==============================] - 0s 10ms/step - loss: 0.2593 - acc: 0.5000\n",
            "Epoch 241/500\n",
            "1/1 [==============================] - 0s 9ms/step - loss: 0.2593 - acc: 0.5000\n",
            "Epoch 242/500\n",
            "1/1 [==============================] - 0s 11ms/step - loss: 0.2592 - acc: 0.5000\n",
            "Epoch 243/500\n",
            "1/1 [==============================] - 0s 10ms/step - loss: 0.2591 - acc: 0.5000\n",
            "Epoch 244/500\n",
            "1/1 [==============================] - 0s 10ms/step - loss: 0.2591 - acc: 0.5000\n",
            "Epoch 245/500\n",
            "1/1 [==============================] - 0s 9ms/step - loss: 0.2590 - acc: 0.5000\n",
            "Epoch 246/500\n",
            "1/1 [==============================] - 0s 17ms/step - loss: 0.2589 - acc: 0.5000\n",
            "Epoch 247/500\n",
            "1/1 [==============================] - 0s 15ms/step - loss: 0.2589 - acc: 0.5000\n",
            "Epoch 248/500\n",
            "1/1 [==============================] - 0s 11ms/step - loss: 0.2588 - acc: 0.5000\n",
            "Epoch 249/500\n",
            "1/1 [==============================] - 0s 8ms/step - loss: 0.2588 - acc: 0.5000\n",
            "Epoch 250/500\n",
            "1/1 [==============================] - 0s 9ms/step - loss: 0.2587 - acc: 0.5000\n",
            "Epoch 251/500\n",
            "1/1 [==============================] - 0s 9ms/step - loss: 0.2586 - acc: 0.5000\n",
            "Epoch 252/500\n",
            "1/1 [==============================] - 0s 9ms/step - loss: 0.2586 - acc: 0.5000\n",
            "Epoch 253/500\n",
            "1/1 [==============================] - 0s 10ms/step - loss: 0.2585 - acc: 0.5000\n",
            "Epoch 254/500\n",
            "1/1 [==============================] - 0s 10ms/step - loss: 0.2585 - acc: 0.5000\n",
            "Epoch 255/500\n",
            "1/1 [==============================] - 0s 47ms/step - loss: 0.2584 - acc: 0.5000\n",
            "Epoch 256/500\n",
            "1/1 [==============================] - 0s 28ms/step - loss: 0.2584 - acc: 0.5000\n",
            "Epoch 257/500\n",
            "1/1 [==============================] - 0s 24ms/step - loss: 0.2583 - acc: 0.5000\n",
            "Epoch 258/500\n",
            "1/1 [==============================] - 0s 14ms/step - loss: 0.2582 - acc: 0.5000\n",
            "Epoch 259/500\n",
            "1/1 [==============================] - 0s 9ms/step - loss: 0.2582 - acc: 0.5000\n",
            "Epoch 260/500\n",
            "1/1 [==============================] - 0s 10ms/step - loss: 0.2581 - acc: 0.5000\n",
            "Epoch 261/500\n",
            "1/1 [==============================] - 0s 10ms/step - loss: 0.2581 - acc: 0.5000\n",
            "Epoch 262/500\n",
            "1/1 [==============================] - 0s 10ms/step - loss: 0.2580 - acc: 0.5000\n",
            "Epoch 263/500\n",
            "1/1 [==============================] - 0s 11ms/step - loss: 0.2580 - acc: 0.5000\n",
            "Epoch 264/500\n",
            "1/1 [==============================] - 0s 9ms/step - loss: 0.2579 - acc: 0.5000\n",
            "Epoch 265/500\n",
            "1/1 [==============================] - 0s 10ms/step - loss: 0.2579 - acc: 0.5000\n",
            "Epoch 266/500\n",
            "1/1 [==============================] - 0s 9ms/step - loss: 0.2578 - acc: 0.5000\n",
            "Epoch 267/500\n",
            "1/1 [==============================] - 0s 10ms/step - loss: 0.2577 - acc: 0.5000\n",
            "Epoch 268/500\n",
            "1/1 [==============================] - 0s 10ms/step - loss: 0.2577 - acc: 0.5000\n",
            "Epoch 269/500\n",
            "1/1 [==============================] - 0s 9ms/step - loss: 0.2576 - acc: 0.5000\n",
            "Epoch 270/500\n",
            "1/1 [==============================] - 0s 9ms/step - loss: 0.2576 - acc: 0.5000\n",
            "Epoch 271/500\n",
            "1/1 [==============================] - 0s 13ms/step - loss: 0.2575 - acc: 0.5000\n",
            "Epoch 272/500\n",
            "1/1 [==============================] - 0s 9ms/step - loss: 0.2575 - acc: 0.5000\n",
            "Epoch 273/500\n",
            "1/1 [==============================] - 0s 19ms/step - loss: 0.2574 - acc: 0.5000\n",
            "Epoch 274/500\n",
            "1/1 [==============================] - 0s 16ms/step - loss: 0.2574 - acc: 0.5000\n",
            "Epoch 275/500\n",
            "1/1 [==============================] - 0s 16ms/step - loss: 0.2573 - acc: 0.5000\n",
            "Epoch 276/500\n",
            "1/1 [==============================] - 0s 25ms/step - loss: 0.2573 - acc: 0.5000\n",
            "Epoch 277/500\n",
            "1/1 [==============================] - 0s 22ms/step - loss: 0.2572 - acc: 0.5000\n",
            "Epoch 278/500\n",
            "1/1 [==============================] - 0s 24ms/step - loss: 0.2572 - acc: 0.5000\n",
            "Epoch 279/500\n",
            "1/1 [==============================] - 0s 16ms/step - loss: 0.2571 - acc: 0.5000\n",
            "Epoch 280/500\n",
            "1/1 [==============================] - 0s 17ms/step - loss: 0.2571 - acc: 0.5000\n",
            "Epoch 281/500\n",
            "1/1 [==============================] - 0s 16ms/step - loss: 0.2570 - acc: 0.5000\n",
            "Epoch 282/500\n",
            "1/1 [==============================] - 0s 19ms/step - loss: 0.2570 - acc: 0.5000\n",
            "Epoch 283/500\n",
            "1/1 [==============================] - 0s 25ms/step - loss: 0.2569 - acc: 0.5000\n",
            "Epoch 284/500\n",
            "1/1 [==============================] - 0s 18ms/step - loss: 0.2569 - acc: 0.5000\n",
            "Epoch 285/500\n",
            "1/1 [==============================] - 0s 15ms/step - loss: 0.2568 - acc: 0.5000\n",
            "Epoch 286/500\n",
            "1/1 [==============================] - 0s 23ms/step - loss: 0.2568 - acc: 0.5000\n",
            "Epoch 287/500\n",
            "1/1 [==============================] - 0s 12ms/step - loss: 0.2568 - acc: 0.5000\n",
            "Epoch 288/500\n",
            "1/1 [==============================] - 0s 12ms/step - loss: 0.2567 - acc: 0.5000\n",
            "Epoch 289/500\n",
            "1/1 [==============================] - 0s 17ms/step - loss: 0.2567 - acc: 0.5000\n",
            "Epoch 290/500\n",
            "1/1 [==============================] - 0s 13ms/step - loss: 0.2566 - acc: 0.5000\n",
            "Epoch 291/500\n",
            "1/1 [==============================] - 0s 21ms/step - loss: 0.2566 - acc: 0.5000\n",
            "Epoch 292/500\n",
            "1/1 [==============================] - 0s 25ms/step - loss: 0.2565 - acc: 0.5000\n",
            "Epoch 293/500\n",
            "1/1 [==============================] - 0s 28ms/step - loss: 0.2565 - acc: 0.5000\n",
            "Epoch 294/500\n",
            "1/1 [==============================] - 0s 16ms/step - loss: 0.2564 - acc: 0.5000\n",
            "Epoch 295/500\n",
            "1/1 [==============================] - 0s 16ms/step - loss: 0.2564 - acc: 0.5000\n",
            "Epoch 296/500\n",
            "1/1 [==============================] - 0s 12ms/step - loss: 0.2564 - acc: 0.5000\n",
            "Epoch 297/500\n",
            "1/1 [==============================] - 0s 12ms/step - loss: 0.2563 - acc: 0.5000\n",
            "Epoch 298/500\n",
            "1/1 [==============================] - 0s 13ms/step - loss: 0.2563 - acc: 0.5000\n",
            "Epoch 299/500\n",
            "1/1 [==============================] - 0s 9ms/step - loss: 0.2562 - acc: 0.5000\n",
            "Epoch 300/500\n",
            "1/1 [==============================] - 0s 9ms/step - loss: 0.2562 - acc: 0.5000\n",
            "Epoch 301/500\n",
            "1/1 [==============================] - 0s 9ms/step - loss: 0.2561 - acc: 0.5000\n",
            "Epoch 302/500\n",
            "1/1 [==============================] - 0s 9ms/step - loss: 0.2561 - acc: 0.5000\n",
            "Epoch 303/500\n",
            "1/1 [==============================] - 0s 10ms/step - loss: 0.2561 - acc: 0.5000\n",
            "Epoch 304/500\n",
            "1/1 [==============================] - 0s 10ms/step - loss: 0.2560 - acc: 0.5000\n",
            "Epoch 305/500\n",
            "1/1 [==============================] - 0s 9ms/step - loss: 0.2560 - acc: 0.5000\n",
            "Epoch 306/500\n",
            "1/1 [==============================] - 0s 9ms/step - loss: 0.2559 - acc: 0.5000\n",
            "Epoch 307/500\n",
            "1/1 [==============================] - 0s 10ms/step - loss: 0.2559 - acc: 0.5000\n",
            "Epoch 308/500\n",
            "1/1 [==============================] - 0s 10ms/step - loss: 0.2559 - acc: 0.5000\n",
            "Epoch 309/500\n",
            "1/1 [==============================] - 0s 22ms/step - loss: 0.2558 - acc: 0.5000\n",
            "Epoch 310/500\n",
            "1/1 [==============================] - 0s 33ms/step - loss: 0.2558 - acc: 0.5000\n",
            "Epoch 311/500\n",
            "1/1 [==============================] - 0s 12ms/step - loss: 0.2557 - acc: 0.5000\n",
            "Epoch 312/500\n",
            "1/1 [==============================] - 0s 18ms/step - loss: 0.2557 - acc: 0.5000\n",
            "Epoch 313/500\n",
            "1/1 [==============================] - 0s 35ms/step - loss: 0.2557 - acc: 0.5000\n",
            "Epoch 314/500\n",
            "1/1 [==============================] - 0s 19ms/step - loss: 0.2556 - acc: 0.5000\n",
            "Epoch 315/500\n",
            "1/1 [==============================] - 0s 15ms/step - loss: 0.2556 - acc: 0.5000\n",
            "Epoch 316/500\n",
            "1/1 [==============================] - 0s 29ms/step - loss: 0.2555 - acc: 0.5000\n",
            "Epoch 317/500\n",
            "1/1 [==============================] - 0s 22ms/step - loss: 0.2555 - acc: 0.5000\n",
            "Epoch 318/500\n",
            "1/1 [==============================] - 0s 18ms/step - loss: 0.2555 - acc: 0.5000\n",
            "Epoch 319/500\n",
            "1/1 [==============================] - 0s 52ms/step - loss: 0.2554 - acc: 0.5000\n",
            "Epoch 320/500\n",
            "1/1 [==============================] - 0s 15ms/step - loss: 0.2554 - acc: 0.5000\n",
            "Epoch 321/500\n",
            "1/1 [==============================] - 0s 23ms/step - loss: 0.2554 - acc: 0.5000\n",
            "Epoch 322/500\n",
            "1/1 [==============================] - 0s 9ms/step - loss: 0.2553 - acc: 0.5000\n",
            "Epoch 323/500\n",
            "1/1 [==============================] - 0s 9ms/step - loss: 0.2553 - acc: 0.5000\n",
            "Epoch 324/500\n",
            "1/1 [==============================] - 0s 9ms/step - loss: 0.2553 - acc: 0.5000\n",
            "Epoch 325/500\n",
            "1/1 [==============================] - 0s 10ms/step - loss: 0.2552 - acc: 0.5000\n",
            "Epoch 326/500\n",
            "1/1 [==============================] - 0s 9ms/step - loss: 0.2552 - acc: 0.5000\n",
            "Epoch 327/500\n",
            "1/1 [==============================] - 0s 9ms/step - loss: 0.2552 - acc: 0.5000\n",
            "Epoch 328/500\n",
            "1/1 [==============================] - 0s 9ms/step - loss: 0.2551 - acc: 0.5000\n",
            "Epoch 329/500\n",
            "1/1 [==============================] - 0s 8ms/step - loss: 0.2551 - acc: 0.5000\n",
            "Epoch 330/500\n",
            "1/1 [==============================] - 0s 8ms/step - loss: 0.2550 - acc: 0.5000\n",
            "Epoch 331/500\n",
            "1/1 [==============================] - 0s 9ms/step - loss: 0.2550 - acc: 0.5000\n",
            "Epoch 332/500\n",
            "1/1 [==============================] - 0s 9ms/step - loss: 0.2550 - acc: 0.5000\n",
            "Epoch 333/500\n",
            "1/1 [==============================] - 0s 9ms/step - loss: 0.2549 - acc: 0.5000\n",
            "Epoch 334/500\n",
            "1/1 [==============================] - 0s 9ms/step - loss: 0.2549 - acc: 0.5000\n",
            "Epoch 335/500\n",
            "1/1 [==============================] - 0s 9ms/step - loss: 0.2549 - acc: 0.5000\n",
            "Epoch 336/500\n",
            "1/1 [==============================] - 0s 30ms/step - loss: 0.2548 - acc: 0.5000\n",
            "Epoch 337/500\n",
            "1/1 [==============================] - 0s 14ms/step - loss: 0.2548 - acc: 0.5000\n",
            "Epoch 338/500\n",
            "1/1 [==============================] - 0s 31ms/step - loss: 0.2548 - acc: 0.5000\n",
            "Epoch 339/500\n",
            "1/1 [==============================] - 0s 16ms/step - loss: 0.2548 - acc: 0.5000\n",
            "Epoch 340/500\n",
            "1/1 [==============================] - 0s 32ms/step - loss: 0.2547 - acc: 0.5000\n",
            "Epoch 341/500\n",
            "1/1 [==============================] - 0s 29ms/step - loss: 0.2547 - acc: 0.5000\n",
            "Epoch 342/500\n",
            "1/1 [==============================] - 0s 21ms/step - loss: 0.2547 - acc: 0.5000\n",
            "Epoch 343/500\n",
            "1/1 [==============================] - 0s 16ms/step - loss: 0.2546 - acc: 0.5000\n",
            "Epoch 344/500\n",
            "1/1 [==============================] - 0s 31ms/step - loss: 0.2546 - acc: 0.5000\n",
            "Epoch 345/500\n",
            "1/1 [==============================] - 0s 22ms/step - loss: 0.2546 - acc: 0.5000\n",
            "Epoch 346/500\n",
            "1/1 [==============================] - 0s 10ms/step - loss: 0.2545 - acc: 0.5000\n",
            "Epoch 347/500\n",
            "1/1 [==============================] - 0s 25ms/step - loss: 0.2545 - acc: 0.5000\n",
            "Epoch 348/500\n",
            "1/1 [==============================] - 0s 14ms/step - loss: 0.2545 - acc: 0.5000\n",
            "Epoch 349/500\n",
            "1/1 [==============================] - 0s 18ms/step - loss: 0.2544 - acc: 0.5000\n",
            "Epoch 350/500\n",
            "1/1 [==============================] - 0s 12ms/step - loss: 0.2544 - acc: 0.5000\n",
            "Epoch 351/500\n",
            "1/1 [==============================] - 0s 16ms/step - loss: 0.2544 - acc: 0.5000\n",
            "Epoch 352/500\n",
            "1/1 [==============================] - 0s 14ms/step - loss: 0.2544 - acc: 0.5000\n",
            "Epoch 353/500\n",
            "1/1 [==============================] - 0s 28ms/step - loss: 0.2543 - acc: 0.5000\n",
            "Epoch 354/500\n",
            "1/1 [==============================] - 0s 17ms/step - loss: 0.2543 - acc: 0.5000\n",
            "Epoch 355/500\n",
            "1/1 [==============================] - 0s 21ms/step - loss: 0.2543 - acc: 0.5000\n",
            "Epoch 356/500\n",
            "1/1 [==============================] - 0s 14ms/step - loss: 0.2542 - acc: 0.5000\n",
            "Epoch 357/500\n",
            "1/1 [==============================] - 0s 13ms/step - loss: 0.2542 - acc: 0.5000\n",
            "Epoch 358/500\n",
            "1/1 [==============================] - 0s 13ms/step - loss: 0.2542 - acc: 0.5000\n",
            "Epoch 359/500\n",
            "1/1 [==============================] - 0s 10ms/step - loss: 0.2542 - acc: 0.5000\n",
            "Epoch 360/500\n",
            "1/1 [==============================] - 0s 18ms/step - loss: 0.2541 - acc: 0.5000\n",
            "Epoch 361/500\n",
            "1/1 [==============================] - 0s 18ms/step - loss: 0.2541 - acc: 0.5000\n",
            "Epoch 362/500\n",
            "1/1 [==============================] - 0s 23ms/step - loss: 0.2541 - acc: 0.5000\n",
            "Epoch 363/500\n",
            "1/1 [==============================] - 0s 16ms/step - loss: 0.2540 - acc: 0.5000\n",
            "Epoch 364/500\n",
            "1/1 [==============================] - 0s 15ms/step - loss: 0.2540 - acc: 0.5000\n",
            "Epoch 365/500\n",
            "1/1 [==============================] - 0s 17ms/step - loss: 0.2540 - acc: 0.5000\n",
            "Epoch 366/500\n",
            "1/1 [==============================] - 0s 15ms/step - loss: 0.2540 - acc: 0.5000\n",
            "Epoch 367/500\n",
            "1/1 [==============================] - 0s 16ms/step - loss: 0.2539 - acc: 0.5000\n",
            "Epoch 368/500\n",
            "1/1 [==============================] - 0s 19ms/step - loss: 0.2539 - acc: 0.5000\n",
            "Epoch 369/500\n",
            "1/1 [==============================] - 0s 13ms/step - loss: 0.2539 - acc: 0.5000\n",
            "Epoch 370/500\n",
            "1/1 [==============================] - 0s 12ms/step - loss: 0.2539 - acc: 0.5000\n",
            "Epoch 371/500\n",
            "1/1 [==============================] - 0s 25ms/step - loss: 0.2538 - acc: 0.5000\n",
            "Epoch 372/500\n",
            "1/1 [==============================] - 0s 19ms/step - loss: 0.2538 - acc: 0.5000\n",
            "Epoch 373/500\n",
            "1/1 [==============================] - 0s 25ms/step - loss: 0.2538 - acc: 0.5000\n",
            "Epoch 374/500\n",
            "1/1 [==============================] - 0s 18ms/step - loss: 0.2538 - acc: 0.5000\n",
            "Epoch 375/500\n",
            "1/1 [==============================] - 0s 24ms/step - loss: 0.2537 - acc: 0.5000\n",
            "Epoch 376/500\n",
            "1/1 [==============================] - 0s 22ms/step - loss: 0.2537 - acc: 0.5000\n",
            "Epoch 377/500\n",
            "1/1 [==============================] - 0s 17ms/step - loss: 0.2537 - acc: 0.5000\n",
            "Epoch 378/500\n",
            "1/1 [==============================] - 0s 15ms/step - loss: 0.2537 - acc: 0.5000\n",
            "Epoch 379/500\n",
            "1/1 [==============================] - 0s 24ms/step - loss: 0.2536 - acc: 0.5000\n",
            "Epoch 380/500\n",
            "1/1 [==============================] - 0s 21ms/step - loss: 0.2536 - acc: 0.5000\n",
            "Epoch 381/500\n",
            "1/1 [==============================] - 0s 20ms/step - loss: 0.2536 - acc: 0.5000\n",
            "Epoch 382/500\n",
            "1/1 [==============================] - 0s 19ms/step - loss: 0.2536 - acc: 0.5000\n",
            "Epoch 383/500\n",
            "1/1 [==============================] - 0s 24ms/step - loss: 0.2535 - acc: 0.5000\n",
            "Epoch 384/500\n",
            "1/1 [==============================] - 0s 18ms/step - loss: 0.2535 - acc: 0.5000\n",
            "Epoch 385/500\n",
            "1/1 [==============================] - 0s 21ms/step - loss: 0.2535 - acc: 0.5000\n",
            "Epoch 386/500\n",
            "1/1 [==============================] - 0s 18ms/step - loss: 0.2535 - acc: 0.5000\n",
            "Epoch 387/500\n",
            "1/1 [==============================] - 0s 18ms/step - loss: 0.2534 - acc: 0.5000\n",
            "Epoch 388/500\n",
            "1/1 [==============================] - 0s 20ms/step - loss: 0.2534 - acc: 0.5000\n",
            "Epoch 389/500\n",
            "1/1 [==============================] - 0s 24ms/step - loss: 0.2534 - acc: 0.5000\n",
            "Epoch 390/500\n",
            "1/1 [==============================] - 0s 24ms/step - loss: 0.2534 - acc: 0.5000\n",
            "Epoch 391/500\n",
            "1/1 [==============================] - 0s 20ms/step - loss: 0.2534 - acc: 0.5000\n",
            "Epoch 392/500\n",
            "1/1 [==============================] - 0s 15ms/step - loss: 0.2533 - acc: 0.5000\n",
            "Epoch 393/500\n",
            "1/1 [==============================] - 0s 24ms/step - loss: 0.2533 - acc: 0.5000\n",
            "Epoch 394/500\n",
            "1/1 [==============================] - 0s 19ms/step - loss: 0.2533 - acc: 0.5000\n",
            "Epoch 395/500\n",
            "1/1 [==============================] - 0s 20ms/step - loss: 0.2533 - acc: 0.5000\n",
            "Epoch 396/500\n",
            "1/1 [==============================] - 0s 23ms/step - loss: 0.2532 - acc: 0.5000\n",
            "Epoch 397/500\n",
            "1/1 [==============================] - 0s 17ms/step - loss: 0.2532 - acc: 0.5000\n",
            "Epoch 398/500\n",
            "1/1 [==============================] - 0s 12ms/step - loss: 0.2532 - acc: 0.5000\n",
            "Epoch 399/500\n",
            "1/1 [==============================] - 0s 17ms/step - loss: 0.2532 - acc: 0.5000\n",
            "Epoch 400/500\n",
            "1/1 [==============================] - 0s 14ms/step - loss: 0.2532 - acc: 0.5000\n",
            "Epoch 401/500\n",
            "1/1 [==============================] - 0s 20ms/step - loss: 0.2531 - acc: 0.5000\n",
            "Epoch 402/500\n",
            "1/1 [==============================] - 0s 11ms/step - loss: 0.2531 - acc: 0.5000\n",
            "Epoch 403/500\n",
            "1/1 [==============================] - 0s 9ms/step - loss: 0.2531 - acc: 0.5000\n",
            "Epoch 404/500\n",
            "1/1 [==============================] - 0s 19ms/step - loss: 0.2531 - acc: 0.5000\n",
            "Epoch 405/500\n",
            "1/1 [==============================] - 0s 60ms/step - loss: 0.2531 - acc: 0.5000\n",
            "Epoch 406/500\n",
            "1/1 [==============================] - 0s 34ms/step - loss: 0.2530 - acc: 0.5000\n",
            "Epoch 407/500\n",
            "1/1 [==============================] - 0s 36ms/step - loss: 0.2530 - acc: 0.5000\n",
            "Epoch 408/500\n",
            "1/1 [==============================] - 0s 29ms/step - loss: 0.2530 - acc: 0.5000\n",
            "Epoch 409/500\n",
            "1/1 [==============================] - 0s 22ms/step - loss: 0.2530 - acc: 0.5000\n",
            "Epoch 410/500\n",
            "1/1 [==============================] - 0s 19ms/step - loss: 0.2530 - acc: 0.5000\n",
            "Epoch 411/500\n",
            "1/1 [==============================] - 0s 26ms/step - loss: 0.2529 - acc: 0.5000\n",
            "Epoch 412/500\n",
            "1/1 [==============================] - 0s 17ms/step - loss: 0.2529 - acc: 0.5000\n",
            "Epoch 413/500\n",
            "1/1 [==============================] - 0s 18ms/step - loss: 0.2529 - acc: 0.5000\n",
            "Epoch 414/500\n",
            "1/1 [==============================] - 0s 18ms/step - loss: 0.2529 - acc: 0.5000\n",
            "Epoch 415/500\n",
            "1/1 [==============================] - 0s 15ms/step - loss: 0.2529 - acc: 0.5000\n",
            "Epoch 416/500\n",
            "1/1 [==============================] - 0s 16ms/step - loss: 0.2528 - acc: 0.5000\n",
            "Epoch 417/500\n",
            "1/1 [==============================] - 0s 16ms/step - loss: 0.2528 - acc: 0.5000\n",
            "Epoch 418/500\n",
            "1/1 [==============================] - 0s 22ms/step - loss: 0.2528 - acc: 0.5000\n",
            "Epoch 419/500\n",
            "1/1 [==============================] - 0s 13ms/step - loss: 0.2528 - acc: 0.5000\n",
            "Epoch 420/500\n",
            "1/1 [==============================] - 0s 9ms/step - loss: 0.2528 - acc: 0.5000\n",
            "Epoch 421/500\n",
            "1/1 [==============================] - 0s 13ms/step - loss: 0.2527 - acc: 0.5000\n",
            "Epoch 422/500\n",
            "1/1 [==============================] - 0s 9ms/step - loss: 0.2527 - acc: 0.5000\n",
            "Epoch 423/500\n",
            "1/1 [==============================] - 0s 9ms/step - loss: 0.2527 - acc: 0.5000\n",
            "Epoch 424/500\n",
            "1/1 [==============================] - 0s 13ms/step - loss: 0.2527 - acc: 0.5000\n",
            "Epoch 425/500\n",
            "1/1 [==============================] - 0s 9ms/step - loss: 0.2527 - acc: 0.5000\n",
            "Epoch 426/500\n",
            "1/1 [==============================] - 0s 11ms/step - loss: 0.2527 - acc: 0.5000\n",
            "Epoch 427/500\n",
            "1/1 [==============================] - 0s 9ms/step - loss: 0.2526 - acc: 0.5000\n",
            "Epoch 428/500\n",
            "1/1 [==============================] - 0s 9ms/step - loss: 0.2526 - acc: 0.5000\n",
            "Epoch 429/500\n",
            "1/1 [==============================] - 0s 8ms/step - loss: 0.2526 - acc: 0.5000\n",
            "Epoch 430/500\n",
            "1/1 [==============================] - 0s 9ms/step - loss: 0.2526 - acc: 0.5000\n",
            "Epoch 431/500\n",
            "1/1 [==============================] - 0s 9ms/step - loss: 0.2526 - acc: 0.5000\n",
            "Epoch 432/500\n",
            "1/1 [==============================] - 0s 9ms/step - loss: 0.2526 - acc: 0.5000\n",
            "Epoch 433/500\n",
            "1/1 [==============================] - 0s 9ms/step - loss: 0.2525 - acc: 0.5000\n",
            "Epoch 434/500\n",
            "1/1 [==============================] - 0s 17ms/step - loss: 0.2525 - acc: 0.5000\n",
            "Epoch 435/500\n",
            "1/1 [==============================] - 0s 9ms/step - loss: 0.2525 - acc: 0.5000\n",
            "Epoch 436/500\n",
            "1/1 [==============================] - 0s 9ms/step - loss: 0.2525 - acc: 0.5000\n",
            "Epoch 437/500\n",
            "1/1 [==============================] - 0s 9ms/step - loss: 0.2525 - acc: 0.5000\n",
            "Epoch 438/500\n",
            "1/1 [==============================] - 0s 9ms/step - loss: 0.2525 - acc: 0.5000\n",
            "Epoch 439/500\n",
            "1/1 [==============================] - 0s 12ms/step - loss: 0.2524 - acc: 0.5000\n",
            "Epoch 440/500\n",
            "1/1 [==============================] - 0s 10ms/step - loss: 0.2524 - acc: 0.5000\n",
            "Epoch 441/500\n",
            "1/1 [==============================] - 0s 9ms/step - loss: 0.2524 - acc: 0.5000\n",
            "Epoch 442/500\n",
            "1/1 [==============================] - 0s 9ms/step - loss: 0.2524 - acc: 0.5000\n",
            "Epoch 443/500\n",
            "1/1 [==============================] - 0s 9ms/step - loss: 0.2524 - acc: 0.5000\n",
            "Epoch 444/500\n",
            "1/1 [==============================] - 0s 9ms/step - loss: 0.2524 - acc: 0.5000\n",
            "Epoch 445/500\n",
            "1/1 [==============================] - 0s 9ms/step - loss: 0.2523 - acc: 0.5000\n",
            "Epoch 446/500\n",
            "1/1 [==============================] - 0s 8ms/step - loss: 0.2523 - acc: 0.5000\n",
            "Epoch 447/500\n",
            "1/1 [==============================] - 0s 13ms/step - loss: 0.2523 - acc: 0.5000\n",
            "Epoch 448/500\n",
            "1/1 [==============================] - 0s 8ms/step - loss: 0.2523 - acc: 0.5000\n",
            "Epoch 449/500\n",
            "1/1 [==============================] - 0s 17ms/step - loss: 0.2523 - acc: 0.5000\n",
            "Epoch 450/500\n",
            "1/1 [==============================] - 0s 12ms/step - loss: 0.2523 - acc: 0.5000\n",
            "Epoch 451/500\n",
            "1/1 [==============================] - 0s 14ms/step - loss: 0.2523 - acc: 0.5000\n",
            "Epoch 452/500\n",
            "1/1 [==============================] - 0s 15ms/step - loss: 0.2522 - acc: 0.5000\n",
            "Epoch 453/500\n",
            "1/1 [==============================] - 0s 9ms/step - loss: 0.2522 - acc: 0.5000\n",
            "Epoch 454/500\n",
            "1/1 [==============================] - 0s 9ms/step - loss: 0.2522 - acc: 0.5000\n",
            "Epoch 455/500\n",
            "1/1 [==============================] - 0s 10ms/step - loss: 0.2522 - acc: 0.5000\n",
            "Epoch 456/500\n",
            "1/1 [==============================] - 0s 9ms/step - loss: 0.2522 - acc: 0.5000\n",
            "Epoch 457/500\n",
            "1/1 [==============================] - 0s 9ms/step - loss: 0.2522 - acc: 0.5000\n",
            "Epoch 458/500\n",
            "1/1 [==============================] - 0s 9ms/step - loss: 0.2522 - acc: 0.5000\n",
            "Epoch 459/500\n",
            "1/1 [==============================] - 0s 9ms/step - loss: 0.2521 - acc: 0.5000\n",
            "Epoch 460/500\n",
            "1/1 [==============================] - 0s 9ms/step - loss: 0.2521 - acc: 0.5000\n",
            "Epoch 461/500\n",
            "1/1 [==============================] - 0s 9ms/step - loss: 0.2521 - acc: 0.5000\n",
            "Epoch 462/500\n",
            "1/1 [==============================] - 0s 9ms/step - loss: 0.2521 - acc: 0.5000\n",
            "Epoch 463/500\n",
            "1/1 [==============================] - 0s 8ms/step - loss: 0.2521 - acc: 0.5000\n",
            "Epoch 464/500\n",
            "1/1 [==============================] - 0s 11ms/step - loss: 0.2521 - acc: 0.5000\n",
            "Epoch 465/500\n",
            "1/1 [==============================] - 0s 9ms/step - loss: 0.2521 - acc: 0.5000\n",
            "Epoch 466/500\n",
            "1/1 [==============================] - 0s 9ms/step - loss: 0.2520 - acc: 0.5000\n",
            "Epoch 467/500\n",
            "1/1 [==============================] - 0s 9ms/step - loss: 0.2520 - acc: 0.5000\n",
            "Epoch 468/500\n",
            "1/1 [==============================] - 0s 8ms/step - loss: 0.2520 - acc: 0.5000\n",
            "Epoch 469/500\n",
            "1/1 [==============================] - 0s 12ms/step - loss: 0.2520 - acc: 0.5000\n",
            "Epoch 470/500\n",
            "1/1 [==============================] - 0s 10ms/step - loss: 0.2520 - acc: 0.5000\n",
            "Epoch 471/500\n",
            "1/1 [==============================] - 0s 9ms/step - loss: 0.2520 - acc: 0.5000\n",
            "Epoch 472/500\n",
            "1/1 [==============================] - 0s 8ms/step - loss: 0.2520 - acc: 0.5000\n",
            "Epoch 473/500\n",
            "1/1 [==============================] - 0s 9ms/step - loss: 0.2519 - acc: 0.5000\n",
            "Epoch 474/500\n",
            "1/1 [==============================] - 0s 9ms/step - loss: 0.2519 - acc: 0.5000\n",
            "Epoch 475/500\n",
            "1/1 [==============================] - 0s 9ms/step - loss: 0.2519 - acc: 0.5000\n",
            "Epoch 476/500\n",
            "1/1 [==============================] - 0s 9ms/step - loss: 0.2519 - acc: 0.5000\n",
            "Epoch 477/500\n",
            "1/1 [==============================] - 0s 9ms/step - loss: 0.2519 - acc: 0.5000\n",
            "Epoch 478/500\n",
            "1/1 [==============================] - 0s 9ms/step - loss: 0.2519 - acc: 0.5000\n",
            "Epoch 479/500\n",
            "1/1 [==============================] - 0s 9ms/step - loss: 0.2519 - acc: 0.5000\n",
            "Epoch 480/500\n",
            "1/1 [==============================] - 0s 10ms/step - loss: 0.2519 - acc: 0.5000\n",
            "Epoch 481/500\n",
            "1/1 [==============================] - 0s 9ms/step - loss: 0.2519 - acc: 0.5000\n",
            "Epoch 482/500\n",
            "1/1 [==============================] - 0s 9ms/step - loss: 0.2518 - acc: 0.5000\n",
            "Epoch 483/500\n",
            "1/1 [==============================] - 0s 16ms/step - loss: 0.2518 - acc: 0.5000\n",
            "Epoch 484/500\n",
            "1/1 [==============================] - 0s 9ms/step - loss: 0.2518 - acc: 0.5000\n",
            "Epoch 485/500\n",
            "1/1 [==============================] - 0s 9ms/step - loss: 0.2518 - acc: 0.5000\n",
            "Epoch 486/500\n",
            "1/1 [==============================] - 0s 9ms/step - loss: 0.2518 - acc: 0.5000\n",
            "Epoch 487/500\n",
            "1/1 [==============================] - 0s 9ms/step - loss: 0.2518 - acc: 0.5000\n",
            "Epoch 488/500\n",
            "1/1 [==============================] - 0s 9ms/step - loss: 0.2518 - acc: 0.5000\n",
            "Epoch 489/500\n",
            "1/1 [==============================] - 0s 10ms/step - loss: 0.2518 - acc: 0.5000\n",
            "Epoch 490/500\n",
            "1/1 [==============================] - 0s 10ms/step - loss: 0.2517 - acc: 0.5000\n",
            "Epoch 491/500\n",
            "1/1 [==============================] - 0s 10ms/step - loss: 0.2517 - acc: 0.5000\n",
            "Epoch 492/500\n",
            "1/1 [==============================] - 0s 9ms/step - loss: 0.2517 - acc: 0.5000\n",
            "Epoch 493/500\n",
            "1/1 [==============================] - 0s 9ms/step - loss: 0.2517 - acc: 0.5000\n",
            "Epoch 494/500\n",
            "1/1 [==============================] - 0s 10ms/step - loss: 0.2517 - acc: 0.5000\n",
            "Epoch 495/500\n",
            "1/1 [==============================] - 0s 9ms/step - loss: 0.2517 - acc: 0.5000\n",
            "Epoch 496/500\n",
            "1/1 [==============================] - 0s 9ms/step - loss: 0.2517 - acc: 0.5000\n",
            "Epoch 497/500\n",
            "1/1 [==============================] - 0s 9ms/step - loss: 0.2517 - acc: 0.5000\n",
            "Epoch 498/500\n",
            "1/1 [==============================] - 0s 9ms/step - loss: 0.2517 - acc: 0.5000\n",
            "Epoch 499/500\n",
            "1/1 [==============================] - 0s 8ms/step - loss: 0.2516 - acc: 0.5000\n",
            "Epoch 500/500\n",
            "1/1 [==============================] - 0s 8ms/step - loss: 0.2516 - acc: 0.5000\n"
          ]
        },
        {
          "output_type": "execute_result",
          "data": {
            "text/plain": [
              "<keras.callbacks.History at 0x7fd73513aca0>"
            ]
          },
          "metadata": {},
          "execution_count": 4
        }
      ]
    },
    {
      "cell_type": "markdown",
      "source": [
        "# Example"
      ],
      "metadata": {
        "id": "trI65xmZUC5V"
      }
    },
    {
      "cell_type": "code",
      "source": [],
      "metadata": {
        "id": "p0fBRiIre-x7"
      },
      "execution_count": null,
      "outputs": []
    },
    {
      "cell_type": "code",
      "source": [
        "import tensorflow as tf\n",
        "import numpy as NTVhPkAOE\n",
        "\n",
        "\n",
        "##data 선언\n",
        "x_data = [[0.,0.],[0., 1.], [1.,0.], [1.,1.] ]\n",
        "y_data = [[1.], [0.], [0.], [1.]]\n",
        "\n",
        "##tf.keras를 활용한 perceptron 모델 구현\n",
        "input_layer = tf.keras.layers.Input(shape=2,)\n",
        "x = tf.keras.layers.Dense(2, activation='sigmoid')(input_layer)\n",
        "out_layer = tf.keras.layers.Dense(1, activation ='sigmoid')(x)\n",
        "model = tf.keras.Model(inputs= [input_layer], outputs=[out_layer])\n",
        "model.summary() #층 쌓은거 확인\n",
        "\n",
        "#모델 loss, 학습방법 결정하기 \n",
        "optimizer = tf.keras.optimizers.SGD(lr=0.7)\n",
        "#경사하강법으로 global min에 찾아가는 최적화 방법 선언\n",
        "loss = tf.keras.losses.binary_crossentropy \n",
        "#예측값과 정답의 오차값 정의 \n",
        "#mse = mse는 mean squre error로 (예측값 - 정답)^2 을 의미함\n",
        "metrics = tf.keras.metrics.binary_accuracy \n",
        "#학습하면서 평가할 메트릭스 선언 \n",
        "\n",
        "#모델 컴파일\n",
        "model.compile(loss=loss, optimizer=optimizer, metrics=[metrics])\n",
        "\n",
        "#모델 동작하기\n",
        "model.fit(x_data, y_data, epochs=40, batch_size=4)\n",
        "#batch_size -> gpu 용량이 적다"
      ],
      "metadata": {
        "colab": {
          "base_uri": "https://localhost:8080/"
        },
        "id": "kxs1Iz1AOYJX",
        "outputId": "4a09b86d-937a-440d-8e3d-6eda8dc3e237"
      },
      "execution_count": 5,
      "outputs": [
        {
          "output_type": "stream",
          "name": "stdout",
          "text": [
            "Model: \"model\"\n",
            "_________________________________________________________________\n",
            " Layer (type)                Output Shape              Param #   \n",
            "=================================================================\n",
            " input_1 (InputLayer)        [(None, 2)]               0         \n",
            "                                                                 \n",
            " dense_1 (Dense)             (None, 2)                 6         \n",
            "                                                                 \n",
            " dense_2 (Dense)             (None, 1)                 3         \n",
            "                                                                 \n",
            "=================================================================\n",
            "Total params: 9\n",
            "Trainable params: 9\n",
            "Non-trainable params: 0\n",
            "_________________________________________________________________\n"
          ]
        },
        {
          "output_type": "stream",
          "name": "stderr",
          "text": [
            "WARNING:absl:`lr` is deprecated in Keras optimizer, please use `learning_rate` or use the legacy optimizer, e.g.,tf.keras.optimizers.legacy.SGD.\n"
          ]
        },
        {
          "output_type": "stream",
          "name": "stdout",
          "text": [
            "Epoch 1/40\n",
            "1/1 [==============================] - 0s 453ms/step - loss: 0.7073 - binary_accuracy: 0.5000\n",
            "Epoch 2/40\n",
            "1/1 [==============================] - 0s 12ms/step - loss: 0.7072 - binary_accuracy: 0.5000\n",
            "Epoch 3/40\n",
            "1/1 [==============================] - 0s 13ms/step - loss: 0.7071 - binary_accuracy: 0.5000\n",
            "Epoch 4/40\n",
            "1/1 [==============================] - 0s 17ms/step - loss: 0.7070 - binary_accuracy: 0.5000\n",
            "Epoch 5/40\n",
            "1/1 [==============================] - 0s 13ms/step - loss: 0.7069 - binary_accuracy: 0.5000\n",
            "Epoch 6/40\n",
            "1/1 [==============================] - 0s 13ms/step - loss: 0.7068 - binary_accuracy: 0.5000\n",
            "Epoch 7/40\n",
            "1/1 [==============================] - 0s 14ms/step - loss: 0.7067 - binary_accuracy: 0.5000\n",
            "Epoch 8/40\n",
            "1/1 [==============================] - 0s 13ms/step - loss: 0.7067 - binary_accuracy: 0.5000\n",
            "Epoch 9/40\n",
            "1/1 [==============================] - 0s 11ms/step - loss: 0.7066 - binary_accuracy: 0.5000\n",
            "Epoch 10/40\n",
            "1/1 [==============================] - 0s 14ms/step - loss: 0.7065 - binary_accuracy: 0.5000\n",
            "Epoch 11/40\n",
            "1/1 [==============================] - 0s 14ms/step - loss: 0.7064 - binary_accuracy: 0.5000\n",
            "Epoch 12/40\n",
            "1/1 [==============================] - 0s 13ms/step - loss: 0.7063 - binary_accuracy: 0.5000\n",
            "Epoch 13/40\n",
            "1/1 [==============================] - 0s 11ms/step - loss: 0.7062 - binary_accuracy: 0.5000\n",
            "Epoch 14/40\n",
            "1/1 [==============================] - 0s 14ms/step - loss: 0.7061 - binary_accuracy: 0.5000\n",
            "Epoch 15/40\n",
            "1/1 [==============================] - 0s 12ms/step - loss: 0.7061 - binary_accuracy: 0.5000\n",
            "Epoch 16/40\n",
            "1/1 [==============================] - 0s 13ms/step - loss: 0.7060 - binary_accuracy: 0.5000\n",
            "Epoch 17/40\n",
            "1/1 [==============================] - 0s 15ms/step - loss: 0.7059 - binary_accuracy: 0.5000\n",
            "Epoch 18/40\n",
            "1/1 [==============================] - 0s 16ms/step - loss: 0.7058 - binary_accuracy: 0.5000\n",
            "Epoch 19/40\n",
            "1/1 [==============================] - 0s 14ms/step - loss: 0.7057 - binary_accuracy: 0.5000\n",
            "Epoch 20/40\n",
            "1/1 [==============================] - 0s 14ms/step - loss: 0.7057 - binary_accuracy: 0.5000\n",
            "Epoch 21/40\n",
            "1/1 [==============================] - 0s 14ms/step - loss: 0.7056 - binary_accuracy: 0.5000\n",
            "Epoch 22/40\n",
            "1/1 [==============================] - 0s 16ms/step - loss: 0.7055 - binary_accuracy: 0.5000\n",
            "Epoch 23/40\n",
            "1/1 [==============================] - 0s 13ms/step - loss: 0.7054 - binary_accuracy: 0.5000\n",
            "Epoch 24/40\n",
            "1/1 [==============================] - 0s 26ms/step - loss: 0.7053 - binary_accuracy: 0.5000\n",
            "Epoch 25/40\n",
            "1/1 [==============================] - 0s 15ms/step - loss: 0.7053 - binary_accuracy: 0.5000\n",
            "Epoch 26/40\n",
            "1/1 [==============================] - 0s 12ms/step - loss: 0.7052 - binary_accuracy: 0.5000\n",
            "Epoch 27/40\n",
            "1/1 [==============================] - 0s 11ms/step - loss: 0.7051 - binary_accuracy: 0.5000\n",
            "Epoch 28/40\n",
            "1/1 [==============================] - 0s 14ms/step - loss: 0.7050 - binary_accuracy: 0.5000\n",
            "Epoch 29/40\n",
            "1/1 [==============================] - 0s 13ms/step - loss: 0.7050 - binary_accuracy: 0.5000\n",
            "Epoch 30/40\n",
            "1/1 [==============================] - 0s 15ms/step - loss: 0.7049 - binary_accuracy: 0.5000\n",
            "Epoch 31/40\n",
            "1/1 [==============================] - 0s 13ms/step - loss: 0.7048 - binary_accuracy: 0.5000\n",
            "Epoch 32/40\n",
            "1/1 [==============================] - 0s 12ms/step - loss: 0.7047 - binary_accuracy: 0.5000\n",
            "Epoch 33/40\n",
            "1/1 [==============================] - 0s 13ms/step - loss: 0.7047 - binary_accuracy: 0.5000\n",
            "Epoch 34/40\n",
            "1/1 [==============================] - 0s 13ms/step - loss: 0.7046 - binary_accuracy: 0.5000\n",
            "Epoch 35/40\n",
            "1/1 [==============================] - 0s 12ms/step - loss: 0.7045 - binary_accuracy: 0.5000\n",
            "Epoch 36/40\n",
            "1/1 [==============================] - 0s 14ms/step - loss: 0.7045 - binary_accuracy: 0.5000\n",
            "Epoch 37/40\n",
            "1/1 [==============================] - 0s 16ms/step - loss: 0.7044 - binary_accuracy: 0.5000\n",
            "Epoch 38/40\n",
            "1/1 [==============================] - 0s 13ms/step - loss: 0.7043 - binary_accuracy: 0.5000\n",
            "Epoch 39/40\n",
            "1/1 [==============================] - 0s 13ms/step - loss: 0.7042 - binary_accuracy: 0.5000\n",
            "Epoch 40/40\n",
            "1/1 [==============================] - 0s 19ms/step - loss: 0.7042 - binary_accuracy: 0.5000\n"
          ]
        },
        {
          "output_type": "execute_result",
          "data": {
            "text/plain": [
              "<keras.callbacks.History at 0x7fd734380ca0>"
            ]
          },
          "metadata": {},
          "execution_count": 5
        }
      ]
    },
    {
      "cell_type": "code",
      "source": [
        "# MNIST 데이터를 다운로드 한다.\n",
        "import tensorflow as tf\n",
        "\n",
        "(X_train, y_train), (X_test, y_test) = tf.keras.datasets.mnist.load_data()"
      ],
      "metadata": {
        "id": "dx2cLZW9fBb7"
      },
      "execution_count": 1,
      "outputs": []
    },
    {
      "cell_type": "code",
      "source": [
        "print(X_train.shape, y_train.shape,X_test.shape,y_test.shape)"
      ],
      "metadata": {
        "colab": {
          "base_uri": "https://localhost:8080/"
        },
        "id": "DUs4J2OZfCJF",
        "outputId": "a95fec01-cf43-4ece-9eaf-0a1738978e53"
      },
      "execution_count": 2,
      "outputs": [
        {
          "output_type": "stream",
          "name": "stdout",
          "text": [
            "(60000, 28, 28) (60000,) (10000, 28, 28) (10000,)\n"
          ]
        }
      ]
    },
    {
      "cell_type": "code",
      "source": [
        "import matplotlib.pyplot as plt\n",
        "import numpy as np\n",
        "\n",
        "sample_size = 10\n",
        "# 0~59999이 범위에서 세 개의 정수를 뽑는다.\n",
        "random_idx = np.random.randint(60000, size = sample_size)\n",
        "\n",
        "print(random_idx)\n",
        "\n",
        "for idx in random_idx:\n",
        "  img = X_train[idx, :]\n",
        "  label = y_train[idx]\n",
        "  plt.figure()\n",
        "  plt.imshow(img)\n",
        "  plt.title('%d-th data, label is %d' %(idx, label))"
      ],
      "metadata": {
        "colab": {
          "base_uri": "https://localhost:8080/",
          "height": 1000
        },
        "id": "sbc3xm8DfDph",
        "outputId": "5ce9139b-d50a-4d82-e7fb-75d88cb8aad2"
      },
      "execution_count": 3,
      "outputs": [
        {
          "output_type": "stream",
          "name": "stdout",
          "text": [
            "[47384 10909  6358 33318 31643 35704 16102  1181 42425 10487]\n"
          ]
        },
        {
          "output_type": "display_data",
          "data": {
            "text/plain": [
              "<Figure size 640x480 with 1 Axes>"
            ],
            "image/png": "[encoded data removed]"
          },
          "metadata": {}
        },
        {
          "output_type": "display_data",
          "data": {
            "text/plain": [
              "<Figure size 640x480 with 1 Axes>"
            ],
            "image/png": "[encoded data removed]"
          },
          "metadata": {}
        },
        {
          "output_type": "display_data",
          "data": {
            "text/plain": [
              "<Figure size 640x480 with 1 Axes>"
            ],
            "image/png": "[encoded data removed]"
          },
          "metadata": {}
        },
        {
          "output_type": "display_data",
          "data": {
            "text/plain": [
              "<Figure size 640x480 with 1 Axes>"
            ],
            "image/png": "[encoded data removed]"
          },
          "metadata": {}
        },
        {
          "output_type": "display_data",
          "data": {
            "text/plain": [
              "<Figure size 640x480 with 1 Axes>"
            ],
            "image/png": "[encoded data removed]"
          },
          "metadata": {}
        },
        {
          "output_type": "display_data",
          "data": {
            "text/plain": [
              "<Figure size 640x480 with 1 Axes>"
            ],
            "image/png": "[encoded data removed]"
          },
          "metadata": {}
        },
        {
          "output_type": "display_data",
          "data": {
            "text/plain": [
              "<Figure size 640x480 with 1 Axes>"
            ],
            "image/png": "[encoded data removed]"
          },
          "metadata": {}
        },
        {
          "output_type": "display_data",
          "data": {
            "text/plain": [
              "<Figure size 640x480 with 1 Axes>"
            ],
            "image/png": "[encoded data removed]"
          },
          "metadata": {}
        },
        {
          "output_type": "display_data",
          "data": {
            "text/plain": [
              "<Figure size 640x480 with 1 Axes>"
            ],
            "image/png": "[encoded data removed]"
          },
          "metadata": {}
        },
        {
          "output_type": "display_data",
          "data": {
            "text/plain": [
              "<Figure size 640x480 with 1 Axes>"
            ],
            "image/png": "[encoded data removed]"
          },
          "metadata": {}
        }
      ]
    },
    {
      "cell_type": "code",
      "source": [
        "# 검증 데이터 만들기\n",
        "#sklearn : machine learning package\n",
        "from sklearn.model_selection import train_test_split\n",
        "\n",
        "#훈련/테스트 데이터를 0.7/0.3 의 비율로 분리\n",
        "\n",
        "X_train,X_val,y_train,y_val = train_test_split(X_train,y_train, test_size = 0.3, random_state =777) # test size는 테스트셋의 비율 의미. random_state는 재산성을 위해 사용(random_seed와 동일)\n",
        "\n",
        "print(f'훈련 데이터 {X_train.shape} 레이블 {y_train.shape}')\n",
        "\n",
        "print(f'검증 데이터 {X_val.shape} 레이블 {y_val.shape}')"
      ],
      "metadata": {
        "colab": {
          "base_uri": "https://localhost:8080/"
        },
        "id": "N0uzk2fmb29_",
        "outputId": "2f898b83-3038-44b4-9b5d-8bdd5518b4d1"
      },
      "execution_count": 4,
      "outputs": [
        {
          "output_type": "stream",
          "name": "stdout",
          "text": [
            "훈련 데이터 (42000, 28, 28) 레이블 (42000,)\n",
            "검증 데이터 (18000, 28, 28) 레이블 (18000,)\n"
          ]
        }
      ]
    },
    {
      "cell_type": "code",
      "source": [
        "X_train.shape[0]"
      ],
      "metadata": {
        "colab": {
          "base_uri": "https://localhost:8080/"
        },
        "id": "WYnPfOMBfIQ5",
        "outputId": "12327504-084e-4f8e-9510-349a85cfb6cf"
      },
      "execution_count": 5,
      "outputs": [
        {
          "output_type": "execute_result",
          "data": {
            "text/plain": [
              "42000"
            ]
          },
          "metadata": {},
          "execution_count": 5
        }
      ]
    },
    {
      "cell_type": "code",
      "source": [
        "num_X_train = X_train.shape[0] #42000 \n",
        "num_X_val = X_val.shape[0]  #18000\n",
        "num_X_test = X_test.shape[0] #10000\n",
        "\n",
        "#모델에 입력하기 전 전처리 과정.\n",
        "X_train = (X_train.reshape((num_X_train, 28*28))) / 255\n",
        "# X_train = (X_train.reshape((60000, 28*28)))/ 255\n",
        "\n",
        "#255를 나누는 이유: 정규화 -> 분산을 줄이기 위해\n",
        "#딥러닝의 뉴런은 0~1사이를 학습하는게 합리적임임\n",
        "#딥러닝은 분산이 크면 큰쪽으로 영향을 받음\n",
        "#outlier에 영향을 많이 받아서 scalier을 써야함\n",
        "#분산이 넓은걸 학습하기 때문에 scalier을 꼭 해야함 \n",
        "\n",
        "X_val = (X_val.reshape((num_X_val, 28*28))) / 255\n",
        "X_test = (X_test.reshape((num_X_test, 28*28)))/ 255\n",
        "\n",
        "print(X_train.shape)  # 모델 입력을 위해 데이터를 784차원으로 변경 / np.Flatten()"
      ],
      "metadata": {
        "colab": {
          "base_uri": "https://localhost:8080/"
        },
        "id": "F-S-CVwKfOIf",
        "outputId": "ed296c90-ad66-42fe-f98c-55cd749360d6"
      },
      "execution_count": 6,
      "outputs": [
        {
          "output_type": "stream",
          "name": "stdout",
          "text": [
            "(42000, 784)\n"
          ]
        }
      ]
    },
    {
      "cell_type": "code",
      "source": [
        "y_train"
      ],
      "metadata": {
        "colab": {
          "base_uri": "https://localhost:8080/"
        },
        "id": "RVw9eL1XfWiu",
        "outputId": "8f52381d-4063-4229-f8f8-8a58c83ec3b6"
      },
      "execution_count": 7,
      "outputs": [
        {
          "output_type": "execute_result",
          "data": {
            "text/plain": [
              "array([2, 7, 6, ..., 3, 4, 5], dtype=uint8)"
            ]
          },
          "metadata": {},
          "execution_count": 7
        }
      ]
    },
    {
      "cell_type": "markdown",
      "source": [
        "(28,28) 형태의 데이터를 784차원의 1차원 배열로 변환 한것을 볼 수 있다. 신경망은 입력 데이터의 스케일에 매우 민감하므로 적절한 전처리 과정이 필수.\n",
        "\n",
        "이에 대한 큰 이유로는 그래디언트 손실과 그래디언트 폭발로 인해 학습이 진행되지 않기 때문. 우리가 숫자 이미지 데이터는 각 픽셀 값이 0~255의 범위에 있기 때문에 255로 나누어 줌.\n",
        "\n",
        "**여러 가지의 전처리 방법- 스케일링 방법**\n",
        "\n",
        "Normalization(Min Max) :  $X$ = ${\\dfrac {x-x_{min}}{x_{max}-x_{min}}}$\n",
        "\n",
        "Robust Normalization :  $X$ = ${\\dfrac {x-x_{2/4}}{x_{3/4}-x_{1/4}}}$\n",
        "\n",
        "Standardization : $X$ = ${\\dfrac {x-x_{mean}}{x_{std}}}$"
      ],
      "metadata": {
        "id": "XB0qFvkJffSD"
      }
    },
    {
      "cell_type": "code",
      "source": [
        "y_train"
      ],
      "metadata": {
        "colab": {
          "base_uri": "https://localhost:8080/"
        },
        "id": "hJ63hlk5fyeB",
        "outputId": "c8e68781-62cb-4d66-db34-949269cf9868"
      },
      "execution_count": 8,
      "outputs": [
        {
          "output_type": "execute_result",
          "data": {
            "text/plain": [
              "array([2, 7, 6, ..., 3, 4, 5], dtype=uint8)"
            ]
          },
          "metadata": {},
          "execution_count": 8
        }
      ]
    },
    {
      "cell_type": "code",
      "source": [
        "#one-hot-encoding\n",
        "#이유: loss function을 지정할떄, \n",
        "#ML에서의 loss함수수\n",
        "#reg의 loss함수  ->rmse\n",
        "#classification의 loss함수  -> entropy\n",
        "\n",
        "#cross entropy: train에 넣을 수 없기 때문에, to_categorical로 one-hot-encoding을 해서 class의 개수에 따라서 변경경\n",
        "#여러번 실행시키면 안 됨, 잘 못 실행 시켰을 때는 처음부터 실행시켜야됨\n",
        "\n",
        "from tensorflow.keras.utils import to_categorical\n",
        "\n",
        "#각 데이터의 레이블을 범주형 형태로 변경\n",
        "num_classes = 10\n",
        "\n",
        "y_train = to_categorical(y_train, num_classes)\n",
        "y_val = to_categorical(y_val, num_classes)\n",
        "y_test = to_categorical(y_test, num_classes)"
      ],
      "metadata": {
        "id": "nEynmu6sf0rI"
      },
      "execution_count": 9,
      "outputs": []
    },
    {
      "cell_type": "code",
      "source": [
        "y_train\n",
        "#2D형태 "
      ],
      "metadata": {
        "colab": {
          "base_uri": "https://localhost:8080/"
        },
        "id": "IIaQuuzmgNDS",
        "outputId": "c2a64be5-1b81-42db-8151-bf5e5dda8945"
      },
      "execution_count": 10,
      "outputs": [
        {
          "output_type": "execute_result",
          "data": {
            "text/plain": [
              "array([[0., 0., 1., ..., 0., 0., 0.],\n",
              "       [0., 0., 0., ..., 1., 0., 0.],\n",
              "       [0., 0., 0., ..., 0., 0., 0.],\n",
              "       ...,\n",
              "       [0., 0., 0., ..., 0., 0., 0.],\n",
              "       [0., 0., 0., ..., 0., 0., 0.],\n",
              "       [0., 0., 0., ..., 0., 0., 0.]], dtype=float32)"
            ]
          },
          "metadata": {},
          "execution_count": 10
        }
      ]
    },
    {
      "cell_type": "code",
      "source": [
        "y_train.shape\n",
        "#2D형태인지 확인해 보기기"
      ],
      "metadata": {
        "colab": {
          "base_uri": "https://localhost:8080/"
        },
        "id": "Y1p-4gPThE8A",
        "outputId": "3b6b94a3-24de-401b-8bf6-35172c51ecca"
      },
      "execution_count": 11,
      "outputs": [
        {
          "output_type": "execute_result",
          "data": {
            "text/plain": [
              "(42000, 10)"
            ]
          },
          "metadata": {},
          "execution_count": 11
        }
      ]
    },
    {
      "cell_type": "code",
      "source": [
        "# 모델 구성하기\n",
        "\n",
        "from tensorflow.keras.models import Sequential\n",
        "from tensorflow.keras.layers import Dense\n",
        "\n",
        "model = Sequential()\n",
        "#입력 데이터의 형태를 명시해야됨.\n",
        "# 784 차원의 데이터를 입력을 받고, 64개의 출력을 가지는 첫번째 Dense 층\n",
        "model.add(Dense(64, activation = 'relu', input_shape = (784, ) ) )\n",
        "model.add(Dense(32, activation = 'relu')) #32개의 출력을 가지는 Dense층\n",
        "model.add(Dense(10, activation = 'softmax')) # 10개의 출력을 가지는 신경망\n",
        "model.summary()"
      ],
      "metadata": {
        "colab": {
          "base_uri": "https://localhost:8080/"
        },
        "id": "QLYCkRrGmBAY",
        "outputId": "ceb55071-3862-4c6d-de9c-d823e5ac908b"
      },
      "execution_count": 14,
      "outputs": [
        {
          "output_type": "stream",
          "name": "stdout",
          "text": [
            "Model: \"sequential\"\n",
            "_________________________________________________________________\n",
            " Layer (type)                Output Shape              Param #   \n",
            "=================================================================\n",
            " dense (Dense)               (None, 64)                50240     \n",
            "                                                                 \n",
            " dense_1 (Dense)             (None, 32)                2080      \n",
            "                                                                 \n",
            " dense_2 (Dense)             (None, 10)                330       \n",
            "                                                                 \n",
            "=================================================================\n",
            "Total params: 52,650\n",
            "Trainable params: 52,650\n",
            "Non-trainable params: 0\n",
            "_________________________________________________________________\n"
          ]
        }
      ]
    },
    {
      "cell_type": "code",
      "source": [
        "#Tensorflow의 Nesterov Accelerated Gradient\n",
        "#SGD()의 파라미터로 NAG을 지정\n",
        "from tensorflow.keras.optimizers import SGD\n",
        "model.compile(optimizer = SGD(lr=0.01, momentum=0.9, nesterov=True),\n",
        "              loss = 'sparse_categorical_crossentropy',\n",
        "              metrics = ['acc'])"
      ],
      "metadata": {
        "colab": {
          "base_uri": "https://localhost:8080/",
          "height": 245
        },
        "id": "yLXO16iXlX0d",
        "outputId": "3dab10df-80c5-4f98-dd8a-f333a7cdcd94"
      },
      "execution_count": 13,
      "outputs": [
        {
          "output_type": "error",
          "ename": "NameError",
          "evalue": "ignored",
          "traceback": [
            "\u001b[0;31m---------------------------------------------------------------------------\u001b[0m",
            "\u001b[0;31mNameError\u001b[0m                                 Traceback (most recent call last)",
            "\u001b[0;32m<ipython-input-13-34dd8b63f9f8>\u001b[0m in \u001b[0;36m<cell line: 4>\u001b[0;34m()\u001b[0m\n\u001b[1;32m      2\u001b[0m \u001b[0;31m#SGD()의 파라미터로 NAG을 지정\u001b[0m\u001b[0;34m\u001b[0m\u001b[0;34m\u001b[0m\u001b[0m\n\u001b[1;32m      3\u001b[0m \u001b[0;32mfrom\u001b[0m \u001b[0mtensorflow\u001b[0m\u001b[0;34m.\u001b[0m\u001b[0mkeras\u001b[0m\u001b[0;34m.\u001b[0m\u001b[0moptimizers\u001b[0m \u001b[0;32mimport\u001b[0m \u001b[0mSGD\u001b[0m\u001b[0;34m\u001b[0m\u001b[0;34m\u001b[0m\u001b[0m\n\u001b[0;32m----> 4\u001b[0;31m model.compile(optimizer = SGD(lr=0.01, momentum=0.9, nesterov=True),\n\u001b[0m\u001b[1;32m      5\u001b[0m               \u001b[0mloss\u001b[0m \u001b[0;34m=\u001b[0m \u001b[0;34m'sparse_categorical_crossentropy'\u001b[0m\u001b[0;34m,\u001b[0m\u001b[0;34m\u001b[0m\u001b[0;34m\u001b[0m\u001b[0m\n\u001b[1;32m      6\u001b[0m               metrics = ['acc'])\n",
            "\u001b[0;31mNameError\u001b[0m: name 'model' is not defined"
          ]
        }
      ]
    },
    {
      "cell_type": "code",
      "source": [
        "# 학습과정 설정하기.\n",
        "model.compile(optimizer = 'adam', #옵티마이저 : Adam\n",
        "              #손실함수 : categorical_crossentropy\n",
        "              loss = 'categorical_crossentropy',\n",
        "              # 모니터링 할 평가지표 : acc\n",
        "              metrics = ['acc'])"
      ],
      "metadata": {
        "id": "CdZAuYoQkKZg"
      },
      "execution_count": 15,
      "outputs": []
    },
    {
      "cell_type": "code",
      "source": [
        "### 학습하기 \n",
        "\n",
        "# 모델 구성하기\n",
        "\n",
        "from tensorflow.keras.models import Sequential\n",
        "from tensorflow.keras.layers import Dense\n",
        "\n",
        "model = Sequential()\n",
        "#입력 데이터의 형태를 명시해야됨.\n",
        "# 784 차원의 데이터를 입력을 받고, 64개의 출력을 가지는 첫번째 Dense 층\n",
        "model.add(Dense(64, activation = 'relu', input_shape = (784, ) ) )\n",
        "model.add(Dense(32, activation = 'relu')) #32개의 출력을 가지는 Dense층\n",
        "model.add(Dense(10, activation = 'softmax')) # 10개의 출력을 가지는 신경망\n",
        "model.summary()"
      ],
      "metadata": {
        "colab": {
          "base_uri": "https://localhost:8080/"
        },
        "id": "o2BNqw3Vgv3n",
        "outputId": "5d7b0aa7-dfdb-47c2-88a2-51dd17f1a37a"
      },
      "execution_count": 16,
      "outputs": [
        {
          "output_type": "stream",
          "name": "stdout",
          "text": [
            "Model: \"sequential_1\"\n",
            "_________________________________________________________________\n",
            " Layer (type)                Output Shape              Param #   \n",
            "=================================================================\n",
            " dense_3 (Dense)             (None, 64)                50240     \n",
            "                                                                 \n",
            " dense_4 (Dense)             (None, 32)                2080      \n",
            "                                                                 \n",
            " dense_5 (Dense)             (None, 10)                330       \n",
            "                                                                 \n",
            "=================================================================\n",
            "Total params: 52,650\n",
            "Trainable params: 52,650\n",
            "Non-trainable params: 0\n",
            "_________________________________________________________________\n"
          ]
        }
      ]
    },
    {
      "cell_type": "code",
      "source": [
        "# 학습과정 설정하기.\n",
        "model.compile(optimizer = 'adam', #옵티마이저 : Adam\n",
        "              #손실함수 : categorical_crossentropy\n",
        "              loss = 'categorical_crossentropy',\n",
        "              # 모니터링 할 평가지표 : acc\n",
        "              metrics = ['acc'])\n",
        "\n",
        "\n",
        "#sparse_categorical_crossentropy \n",
        "#두개의 다른 loss function: sparse와 categorical_crossentropy 차이점 \n",
        "#categorical crossentropy: one-hot-encoding들어가야함 -> 하나만 target인 것을 지정함\n",
        "#sparse_categorical_crossentropy -> 규칙이 없음 "
      ],
      "metadata": {
        "id": "JFSx9Fpih0O8"
      },
      "execution_count": 17,
      "outputs": []
    },
    {
      "cell_type": "code",
      "source": [
        "#모델 학습하기 \n",
        "history = model.fit(X_train, y_train,\n",
        "                    epochs = 30,\n",
        "                    batch_size=128,\n",
        "                    validation_data = (X_val, y_val),\n",
        "                    verbose=1)"
      ],
      "metadata": {
        "colab": {
          "base_uri": "https://localhost:8080/"
        },
        "id": "G3CjYzM6gwKS",
        "outputId": "9c679251-955b-4c40-a551-d7d1306a8d82"
      },
      "execution_count": 18,
      "outputs": [
        {
          "output_type": "stream",
          "name": "stdout",
          "text": [
            "Epoch 1/30\n",
            "329/329 [==============================] - 3s 6ms/step - loss: 0.5053 - acc: 0.8586 - val_loss: 0.2536 - val_acc: 0.9284\n",
            "Epoch 2/30\n",
            "329/329 [==============================] - 2s 5ms/step - loss: 0.2135 - acc: 0.9382 - val_loss: 0.1936 - val_acc: 0.9451\n",
            "Epoch 3/30\n",
            "329/329 [==============================] - 2s 7ms/step - loss: 0.1638 - acc: 0.9534 - val_loss: 0.1624 - val_acc: 0.9541\n",
            "Epoch 4/30\n",
            "329/329 [==============================] - 2s 6ms/step - loss: 0.1328 - acc: 0.9620 - val_loss: 0.1481 - val_acc: 0.9563\n",
            "Epoch 5/30\n",
            "329/329 [==============================] - 2s 5ms/step - loss: 0.1125 - acc: 0.9671 - val_loss: 0.1357 - val_acc: 0.9614\n",
            "Epoch 6/30\n",
            "329/329 [==============================] - 2s 5ms/step - loss: 0.0977 - acc: 0.9713 - val_loss: 0.1301 - val_acc: 0.9612\n",
            "Epoch 7/30\n",
            "329/329 [==============================] - 2s 5ms/step - loss: 0.0855 - acc: 0.9753 - val_loss: 0.1252 - val_acc: 0.9625\n",
            "Epoch 8/30\n",
            "329/329 [==============================] - 2s 5ms/step - loss: 0.0777 - acc: 0.9770 - val_loss: 0.1214 - val_acc: 0.9642\n",
            "Epoch 9/30\n",
            "329/329 [==============================] - 2s 5ms/step - loss: 0.0661 - acc: 0.9807 - val_loss: 0.1202 - val_acc: 0.9639\n",
            "Epoch 10/30\n",
            "329/329 [==============================] - 2s 6ms/step - loss: 0.0601 - acc: 0.9818 - val_loss: 0.1131 - val_acc: 0.9676\n",
            "Epoch 11/30\n",
            "329/329 [==============================] - 2s 6ms/step - loss: 0.0537 - acc: 0.9841 - val_loss: 0.1142 - val_acc: 0.9671\n",
            "Epoch 12/30\n",
            "329/329 [==============================] - 2s 5ms/step - loss: 0.0463 - acc: 0.9863 - val_loss: 0.1193 - val_acc: 0.9646\n",
            "Epoch 13/30\n",
            "329/329 [==============================] - 2s 5ms/step - loss: 0.0420 - acc: 0.9873 - val_loss: 0.1191 - val_acc: 0.9661\n",
            "Epoch 14/30\n",
            "329/329 [==============================] - 2s 5ms/step - loss: 0.0376 - acc: 0.9891 - val_loss: 0.1125 - val_acc: 0.9684\n",
            "Epoch 15/30\n",
            "329/329 [==============================] - 2s 6ms/step - loss: 0.0338 - acc: 0.9895 - val_loss: 0.1101 - val_acc: 0.9690\n",
            "Epoch 16/30\n",
            "329/329 [==============================] - 3s 8ms/step - loss: 0.0284 - acc: 0.9920 - val_loss: 0.1114 - val_acc: 0.9695\n",
            "Epoch 17/30\n",
            "329/329 [==============================] - 2s 7ms/step - loss: 0.0258 - acc: 0.9928 - val_loss: 0.1163 - val_acc: 0.9676\n",
            "Epoch 18/30\n",
            "329/329 [==============================] - 2s 6ms/step - loss: 0.0235 - acc: 0.9933 - val_loss: 0.1178 - val_acc: 0.9677\n",
            "Epoch 19/30\n",
            "329/329 [==============================] - 2s 6ms/step - loss: 0.0194 - acc: 0.9949 - val_loss: 0.1139 - val_acc: 0.9684\n",
            "Epoch 20/30\n",
            "329/329 [==============================] - 3s 10ms/step - loss: 0.0187 - acc: 0.9948 - val_loss: 0.1375 - val_acc: 0.9658\n",
            "Epoch 21/30\n",
            "329/329 [==============================] - 2s 7ms/step - loss: 0.0163 - acc: 0.9955 - val_loss: 0.1242 - val_acc: 0.9681\n",
            "Epoch 22/30\n",
            "329/329 [==============================] - 2s 6ms/step - loss: 0.0136 - acc: 0.9967 - val_loss: 0.1265 - val_acc: 0.9691\n",
            "Epoch 23/30\n",
            "329/329 [==============================] - 3s 8ms/step - loss: 0.0127 - acc: 0.9968 - val_loss: 0.1313 - val_acc: 0.9682\n",
            "Epoch 24/30\n",
            "329/329 [==============================] - 3s 8ms/step - loss: 0.0135 - acc: 0.9964 - val_loss: 0.1366 - val_acc: 0.9681\n",
            "Epoch 25/30\n",
            "329/329 [==============================] - 2s 5ms/step - loss: 0.0144 - acc: 0.9956 - val_loss: 0.1442 - val_acc: 0.9657\n",
            "Epoch 26/30\n",
            "329/329 [==============================] - 2s 6ms/step - loss: 0.0167 - acc: 0.9951 - val_loss: 0.1325 - val_acc: 0.9681\n",
            "Epoch 27/30\n",
            "329/329 [==============================] - 3s 8ms/step - loss: 0.0083 - acc: 0.9979 - val_loss: 0.1428 - val_acc: 0.9681\n",
            "Epoch 28/30\n",
            "329/329 [==============================] - 4s 12ms/step - loss: 0.0057 - acc: 0.9988 - val_loss: 0.1405 - val_acc: 0.9687\n",
            "Epoch 29/30\n",
            "329/329 [==============================] - 3s 9ms/step - loss: 0.0042 - acc: 0.9995 - val_loss: 0.1417 - val_acc: 0.9690\n",
            "Epoch 30/30\n",
            "329/329 [==============================] - 4s 12ms/step - loss: 0.0076 - acc: 0.9983 - val_loss: 0.1577 - val_acc: 0.9673\n"
          ]
        }
      ]
    },
    {
      "cell_type": "code",
      "source": [
        "model.summary()"
      ],
      "metadata": {
        "colab": {
          "base_uri": "https://localhost:8080/"
        },
        "id": "r0BcukzijCTR",
        "outputId": "fb60d521-c3b5-4e94-f410-690a55eb681b"
      },
      "execution_count": 19,
      "outputs": [
        {
          "output_type": "stream",
          "name": "stdout",
          "text": [
            "Model: \"sequential_1\"\n",
            "_________________________________________________________________\n",
            " Layer (type)                Output Shape              Param #   \n",
            "=================================================================\n",
            " dense_3 (Dense)             (None, 64)                50240     \n",
            "                                                                 \n",
            " dense_4 (Dense)             (None, 32)                2080      \n",
            "                                                                 \n",
            " dense_5 (Dense)             (None, 10)                330       \n",
            "                                                                 \n",
            "=================================================================\n",
            "Total params: 52,650\n",
            "Trainable params: 52,650\n",
            "Non-trainable params: 0\n",
            "_________________________________________________________________\n"
          ]
        }
      ]
    },
    {
      "cell_type": "code",
      "source": [
        "model.summary()"
      ],
      "metadata": {
        "colab": {
          "base_uri": "https://localhost:8080/"
        },
        "id": "aBfBfdjzlpXl",
        "outputId": "88dcbda3-216c-44b3-c842-2864b2eba8f9"
      },
      "execution_count": 27,
      "outputs": [
        {
          "output_type": "stream",
          "name": "stdout",
          "text": [
            "Model: \"sequential_1\"\n",
            "_________________________________________________________________\n",
            " Layer (type)                Output Shape              Param #   \n",
            "=================================================================\n",
            " dense_3 (Dense)             (None, 64)                50240     \n",
            "                                                                 \n",
            " dense_4 (Dense)             (None, 32)                2080      \n",
            "                                                                 \n",
            " dense_5 (Dense)             (None, 10)                330       \n",
            "                                                                 \n",
            "=================================================================\n",
            "Total params: 52,650\n",
            "Trainable params: 52,650\n",
            "Non-trainable params: 0\n",
            "_________________________________________________________________\n"
          ]
        }
      ]
    },
    {
      "cell_type": "code",
      "source": [
        "history.history.keys()"
      ],
      "metadata": {
        "colab": {
          "base_uri": "https://localhost:8080/"
        },
        "id": "kF8xKAEqjD-i",
        "outputId": "c46f1f9c-d3a0-4ea4-f096-54912e64c596"
      },
      "execution_count": 20,
      "outputs": [
        {
          "output_type": "execute_result",
          "data": {
            "text/plain": [
              "dict_keys(['loss', 'acc', 'val_loss', 'val_acc'])"
            ]
          },
          "metadata": {},
          "execution_count": 20
        }
      ]
    },
    {
      "cell_type": "code",
      "source": [
        "# 학습결과 그래프 \n",
        "import matplotlib.pyplot as plt\n",
        "\n",
        "his_dict = history.history\n",
        "loss = his_dict['loss']\n",
        "val_loss = his_dict['val_loss'] #검증데이터\n",
        "\n",
        "epochs = range(1, len(loss)+1)\n",
        "\n",
        "fig = plt.figure(figsize= (10,5) )\n",
        "\n",
        "# 학습 및 검증 손실 그리기\n",
        "\n",
        "ax1 = fig.add_subplot(1,2,1)\n",
        "ax1.plot(epochs, loss, color = 'blue', label = 'train_loss')\n",
        "ax1.plot(epochs, val_loss, color = 'orange', label = 'val_loss')\n",
        "ax1.set_title('train and val loss')\n",
        "ax1.set_xlabel('epochs')\n",
        "ax1.set_ylabel('loss')\n",
        "ax1.legend()\n",
        "\n",
        "acc = his_dict['acc']\n",
        "val_acc = his_dict['val_acc']\n",
        "\n",
        "# 학습 및 검증 정확도 그리기\n",
        "ax2 = fig.add_subplot(1,2,2)\n",
        "ax2.plot(epochs, acc, color = 'blue', label = 'train_acc')\n",
        "ax2.plot(epochs, val_acc, color = 'orange', label = 'val_acc')\n",
        "ax2.set_title('train and val acc')\n",
        "ax2.set_xlabel('epochs')\n",
        "ax2.set_ylabel('acc')\n",
        "ax2.legend()\n",
        "\n",
        "\n",
        "plt.show()"
      ],
      "metadata": {
        "colab": {
          "base_uri": "https://localhost:8080/",
          "height": 442
        },
        "id": "xXtFG9LKjGXv",
        "outputId": "606be307-3a37-449a-95fe-f7445c0b810a"
      },
      "execution_count": 22,
      "outputs": [
        {
          "output_type": "display_data",
          "data": {
            "text/plain": [
              "<Figure size 1000x500 with 2 Axes>"
            ],
            "image/png": "[encoded data removed]"
          },
          "metadata": {}
        }
      ]
    },
    {
      "cell_type": "code",
      "source": [
        "# 모델 평가하기 \n",
        "model.evaluate(X_test, y_test)"
      ],
      "metadata": {
        "colab": {
          "base_uri": "https://localhost:8080/"
        },
        "id": "M5FBg0SvmswE",
        "outputId": "3ee8f9b0-8b72-4bc7-c510-5dd2e53c9923"
      },
      "execution_count": 21,
      "outputs": [
        {
          "output_type": "stream",
          "name": "stdout",
          "text": [
            "313/313 [==============================] - 2s 5ms/step - loss: 0.1531 - acc: 0.9688\n"
          ]
        },
        {
          "output_type": "execute_result",
          "data": {
            "text/plain": [
              "[0.15307985246181488, 0.9688000082969666]"
            ]
          },
          "metadata": {},
          "execution_count": 21
        }
      ]
    },
    {
      "cell_type": "code",
      "source": [
        "import numpy as np\n",
        "\n",
        "results = model.predict(X_test)\n",
        "print(results.shape)\n",
        "np.set_printoptions(precision=7)\n",
        "print(f'각 클래스에 속할 확률 :  {results[0]}')"
      ],
      "metadata": {
        "colab": {
          "base_uri": "https://localhost:8080/"
        },
        "id": "KfopQfU3mxky",
        "outputId": "86fdaab7-7d55-4ae1-83fa-1e23cefc3dc3"
      },
      "execution_count": 23,
      "outputs": [
        {
          "output_type": "stream",
          "name": "stdout",
          "text": [
            "313/313 [==============================] - 1s 2ms/step\n",
            "(10000, 10)\n",
            "각 클래스에 속할 확률 :  [9.2826538e-11 1.3308750e-12 4.4800502e-10 1.5314519e-07 1.1286794e-14\n",
            " 2.5937815e-12 2.6164310e-22 9.9999982e-01 1.0592396e-13 3.9292880e-10]\n"
          ]
        }
      ]
    }
  ]
}