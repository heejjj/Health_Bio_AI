{
  "nbformat": 4,
  "nbformat_minor": 0,
  "metadata": {
    "colab": {
      "provenance": []
    },
    "kernelspec": {
      "name": "python3",
      "display_name": "Python 3"
    },
    "language_info": {
      "name": "python"
    }
  },
  "cells": [
    {
      "cell_type": "code",
      "execution_count": 4,
      "metadata": {
        "colab": {
          "base_uri": "https://localhost:8080/"
        },
        "id": "Wu4Z0spPql1l",
        "outputId": "d09e61b5-f5c5-4b62-f41c-c1e23005c962"
      },
      "outputs": [
        {
          "output_type": "execute_result",
          "data": {
            "text/plain": [
              "100"
            ]
          },
          "metadata": {},
          "execution_count": 4
        }
      ],
      "source": [
        "#10의 제곱 두가지 방법\n",
        "10*10"
      ]
    },
    {
      "cell_type": "code",
      "source": [
        " 10**2\n",
        " #math.pow(10, 2)"
      ],
      "metadata": {
        "colab": {
          "base_uri": "https://localhost:8080/"
        },
        "id": "xt2avNLbqva0",
        "outputId": "2a0da3da-e0bc-4a5f-f010-085490aa70ce"
      },
      "execution_count": 6,
      "outputs": [
        {
          "output_type": "execute_result",
          "data": {
            "text/plain": [
              "100"
            ]
          },
          "metadata": {},
          "execution_count": 6
        }
      ]
    },
    {
      "cell_type": "code",
      "source": [
        "! pip install python-math"
      ],
      "metadata": {
        "colab": {
          "base_uri": "https://localhost:8080/"
        },
        "id": "1IptRIwRq87t",
        "outputId": "12f64bf0-3793-4041-9d89-db19ef0fb4d0"
      },
      "execution_count": 7,
      "outputs": [
        {
          "output_type": "stream",
          "name": "stdout",
          "text": [
            "Looking in indexes: https://pypi.org/simple, https://us-python.pkg.dev/colab-wheels/public/simple/\n",
            "Collecting python-math\n",
            "  Downloading python_math-0.0.1-py3-none-any.whl (2.4 kB)\n",
            "Installing collected packages: python-math\n",
            "Successfully installed python-math-0.0.1\n"
          ]
        }
      ]
    },
    {
      "cell_type": "code",
      "source": [
        "import math\n",
        "math.pow(10, 2)\n",
        "\n",
        "#math는 무조건 float형식 \n",
        "#https://manniz.tistory.com/entry/Python%ED%8C%8C%EC%9D%B4%EC%8D%AC-%EC%A0%9C%EA%B3%B1-n%EC%A0%9C%EA%B3%B1n%EC%8A%B9-%EA%B5%AC%ED%95%98%EA%B8%B0-%EC%82%AC%EC%9A%A9%EC%9E%90%EC%97%90%EA%B2%8C-%EC%9E%85%EB%A0%A5%EB%B0%9B%EC%95%84-%EC%A0%9C%EA%B3%B1-%EC%B6%9C%EB%A0%A5%ED%95%98%EB%8A%94-%EC%86%8C%EC%8A%A4-%EC%BD%94%EB%93%9C%EC%99%80-%EC%84%A4%EB%AA%85"
      ],
      "metadata": {
        "colab": {
          "base_uri": "https://localhost:8080/"
        },
        "id": "V0pPO8YirQ3L",
        "outputId": "38ed402a-edff-486d-aff2-a85a528208b8"
      },
      "execution_count": 9,
      "outputs": [
        {
          "output_type": "execute_result",
          "data": {
            "text/plain": [
              "100.0"
            ]
          },
          "metadata": {},
          "execution_count": 9
        }
      ]
    },
    {
      "cell_type": "code",
      "source": [
        "#국어 100점, 영어 88점, 수학 94점, 평균구하기 \n",
        "import numpy as np\n",
        "\n",
        "a = [100,88,94]\n",
        "\n",
        "avg = numpy.mean(a)\n"
      ],
      "metadata": {
        "colab": {
          "base_uri": "https://localhost:8080/",
          "height": 209
        },
        "id": "I6RPGp-fzI5g",
        "outputId": "c06cbddb-098c-4c6e-e17e-07700ee88ffd"
      },
      "execution_count": 26,
      "outputs": [
        {
          "output_type": "error",
          "ename": "NameError",
          "evalue": "ignored",
          "traceback": [
            "\u001b[0;31m---------------------------------------------------------------------------\u001b[0m",
            "\u001b[0;31mNameError\u001b[0m                                 Traceback (most recent call last)",
            "\u001b[0;32m<ipython-input-26-3a81b4f78e25>\u001b[0m in \u001b[0;36m<module>\u001b[0;34m\u001b[0m\n\u001b[1;32m      4\u001b[0m \u001b[0ma\u001b[0m \u001b[0;34m=\u001b[0m \u001b[0;34m[\u001b[0m\u001b[0;36m100\u001b[0m\u001b[0;34m,\u001b[0m\u001b[0;36m88\u001b[0m\u001b[0;34m,\u001b[0m\u001b[0;36m94\u001b[0m\u001b[0;34m]\u001b[0m\u001b[0;34m\u001b[0m\u001b[0;34m\u001b[0m\u001b[0m\n\u001b[1;32m      5\u001b[0m \u001b[0;34m\u001b[0m\u001b[0m\n\u001b[0;32m----> 6\u001b[0;31m \u001b[0mavg\u001b[0m \u001b[0;34m=\u001b[0m \u001b[0mnumpy\u001b[0m\u001b[0;34m.\u001b[0m\u001b[0mmean\u001b[0m\u001b[0;34m(\u001b[0m\u001b[0ma\u001b[0m\u001b[0;34m)\u001b[0m\u001b[0;34m\u001b[0m\u001b[0;34m\u001b[0m\u001b[0m\n\u001b[0m",
            "\u001b[0;31mNameError\u001b[0m: name 'numpy' is not defined"
          ]
        }
      ]
    },
    {
      "cell_type": "code",
      "source": [
        "a =1\n",
        "b =1\n",
        "type(a)"
      ],
      "metadata": {
        "colab": {
          "base_uri": "https://localhost:8080/"
        },
        "id": "dEB0Vyb-ztwf",
        "outputId": "9b95f6fc-0127-4611-a7e4-8ccf6e51bc63"
      },
      "execution_count": 13,
      "outputs": [
        {
          "output_type": "execute_result",
          "data": {
            "text/plain": [
              "int"
            ]
          },
          "metadata": {},
          "execution_count": 13
        }
      ]
    },
    {
      "cell_type": "code",
      "source": [
        "c = 3.5\n",
        "e = int(c)\n",
        "print(c)\n",
        "print(e)"
      ],
      "metadata": {
        "colab": {
          "base_uri": "https://localhost:8080/"
        },
        "id": "uuAPiPt80EvL",
        "outputId": "b211f221-7d6c-4850-ad53-218e31accb83"
      },
      "execution_count": 18,
      "outputs": [
        {
          "output_type": "stream",
          "name": "stdout",
          "text": [
            "3.5\n",
            "3\n"
          ]
        }
      ]
    },
    {
      "cell_type": "code",
      "source": [
        "c = 3.9\n",
        "e = int(c)\n",
        "print(e)\n",
        "type(e)"
      ],
      "metadata": {
        "colab": {
          "base_uri": "https://localhost:8080/"
        },
        "id": "T55E5Gth0OPs",
        "outputId": "81c1e5be-4c8f-4833-85cd-aa3713d4ca41"
      },
      "execution_count": 19,
      "outputs": [
        {
          "output_type": "stream",
          "name": "stdout",
          "text": [
            "3\n"
          ]
        },
        {
          "output_type": "execute_result",
          "data": {
            "text/plain": [
              "int"
            ]
          },
          "metadata": {},
          "execution_count": 19
        }
      ]
    },
    {
      "cell_type": "code",
      "source": [
        "a = 10\n",
        "type(a)"
      ],
      "metadata": {
        "colab": {
          "base_uri": "https://localhost:8080/"
        },
        "id": "6mp6bLSc0Tv6",
        "outputId": "b90cfe0a-e625-4bcb-8614-cca6ceffc5b9"
      },
      "execution_count": 20,
      "outputs": [
        {
          "output_type": "execute_result",
          "data": {
            "text/plain": [
              "int"
            ]
          },
          "metadata": {},
          "execution_count": 20
        }
      ]
    },
    {
      "cell_type": "code",
      "source": [
        "float(a)"
      ],
      "metadata": {
        "colab": {
          "base_uri": "https://localhost:8080/"
        },
        "id": "dzTvgPaj0X6M",
        "outputId": "e755fdb4-ed3b-400f-b489-51d6a20ca02e"
      },
      "execution_count": 21,
      "outputs": [
        {
          "output_type": "execute_result",
          "data": {
            "text/plain": [
              "10.0"
            ]
          },
          "metadata": {},
          "execution_count": 21
        }
      ]
    },
    {
      "cell_type": "code",
      "source": [
        "type(a)\n",
        "#a =을 할당하지 않아서 여전히 int임\n"
      ],
      "metadata": {
        "colab": {
          "base_uri": "https://localhost:8080/"
        },
        "id": "USwRXAa00ZkG",
        "outputId": "55558737-7a0b-453e-9d55-c2a6630e7d90"
      },
      "execution_count": 23,
      "outputs": [
        {
          "output_type": "execute_result",
          "data": {
            "text/plain": [
              "int"
            ]
          },
          "metadata": {},
          "execution_count": 23
        }
      ]
    },
    {
      "cell_type": "code",
      "source": [
        "#형변형\n",
        "a = float(a)\n",
        "type(a)"
      ],
      "metadata": {
        "colab": {
          "base_uri": "https://localhost:8080/"
        },
        "id": "xXy10PzP0l5L",
        "outputId": "7a4a9a34-a97c-434e-9d53-52125ecfc2b9"
      },
      "execution_count": 25,
      "outputs": [
        {
          "output_type": "execute_result",
          "data": {
            "text/plain": [
              "float"
            ]
          },
          "metadata": {},
          "execution_count": 25
        }
      ]
    },
    {
      "cell_type": "code",
      "source": [
        "a = int(5.3)\n",
        "b = int(4.7) \n",
        "print(a+b)"
      ],
      "metadata": {
        "colab": {
          "base_uri": "https://localhost:8080/"
        },
        "id": "bqAMVbqJ09VO",
        "outputId": "24371e7a-4bd7-4456-d603-9290e4ebc5f3"
      },
      "execution_count": 31,
      "outputs": [
        {
          "output_type": "stream",
          "name": "stdout",
          "text": [
            "9\n"
          ]
        }
      ]
    },
    {
      "cell_type": "code",
      "source": [
        "a = \"5.3\"\n",
        "b = int(a)\n",
        "print(b) #문자형은 숫자형으로 바꿀 수 없음 \n",
        "\n",
        "#문자로 바꾸고 싶을 경우"
      ],
      "metadata": {
        "colab": {
          "base_uri": "https://localhost:8080/",
          "height": 245
        },
        "id": "3b87ejBD1CIm",
        "outputId": "cf6317a1-2c08-47ae-c884-0b87595e500e"
      },
      "execution_count": 28,
      "outputs": [
        {
          "output_type": "error",
          "ename": "ValueError",
          "evalue": "ignored",
          "traceback": [
            "\u001b[0;31m---------------------------------------------------------------------------\u001b[0m",
            "\u001b[0;31mValueError\u001b[0m                                Traceback (most recent call last)",
            "\u001b[0;32m<ipython-input-28-624ed1e4d082>\u001b[0m in \u001b[0;36m<module>\u001b[0;34m\u001b[0m\n\u001b[1;32m      1\u001b[0m \u001b[0ma\u001b[0m \u001b[0;34m=\u001b[0m \u001b[0;34m\"5.3\"\u001b[0m\u001b[0;34m\u001b[0m\u001b[0;34m\u001b[0m\u001b[0m\n\u001b[0;32m----> 2\u001b[0;31m \u001b[0mb\u001b[0m \u001b[0;34m=\u001b[0m \u001b[0mint\u001b[0m\u001b[0;34m(\u001b[0m\u001b[0ma\u001b[0m\u001b[0;34m)\u001b[0m\u001b[0;34m\u001b[0m\u001b[0;34m\u001b[0m\u001b[0m\n\u001b[0m\u001b[1;32m      3\u001b[0m \u001b[0mprint\u001b[0m\u001b[0;34m(\u001b[0m\u001b[0mb\u001b[0m\u001b[0;34m)\u001b[0m \u001b[0;31m#문자형은 숫자형으로 바꿀 수 없음\u001b[0m\u001b[0;34m\u001b[0m\u001b[0;34m\u001b[0m\u001b[0m\n\u001b[1;32m      4\u001b[0m \u001b[0;34m\u001b[0m\u001b[0m\n\u001b[1;32m      5\u001b[0m \u001b[0;31m#문자로 바꾸고 싶을 경우\u001b[0m\u001b[0;34m\u001b[0m\u001b[0;34m\u001b[0m\u001b[0;34m\u001b[0m\u001b[0m\n",
            "\u001b[0;31mValueError\u001b[0m: invalid literal for int() with base 10: '5.3'"
          ]
        }
      ]
    },
    {
      "cell_type": "code",
      "source": [
        "c = \"5\"\n",
        "#실수형은 안되고 정수형은 변형이 된다\n",
        "c =\"5\"\n",
        "e = int(c)\n",
        "print(e)"
      ],
      "metadata": {
        "colab": {
          "base_uri": "https://localhost:8080/"
        },
        "id": "qUWTVij83wC9",
        "outputId": "76d09640-ee5f-431d-9316-90259afb860a"
      },
      "execution_count": 36,
      "outputs": [
        {
          "output_type": "stream",
          "name": "stdout",
          "text": [
            "5\n"
          ]
        }
      ]
    },
    {
      "cell_type": "code",
      "source": [
        "f = '문자열 예시'\n",
        "print(f)\n",
        "type(f)"
      ],
      "metadata": {
        "colab": {
          "base_uri": "https://localhost:8080/"
        },
        "id": "_MIhQLPz1KLw",
        "outputId": "70d1b1f5-4988-4a5e-ee16-99193b93f8b3"
      },
      "execution_count": 27,
      "outputs": [
        {
          "output_type": "stream",
          "name": "stdout",
          "text": [
            "문자열 예시\n"
          ]
        },
        {
          "output_type": "execute_result",
          "data": {
            "text/plain": [
              "str"
            ]
          },
          "metadata": {},
          "execution_count": 27
        }
      ]
    },
    {
      "cell_type": "code",
      "source": [
        "#escape문자 \n",
        "\n",
        "#escape = 'escape 문자인 \\t \"(역슬래시 혹은 원표시)도 사용가능'\n",
        "escape = 'escape 문자인 \\n \"(역슬래시 혹은 원표시)도 사용가능'\n",
        "print(escape)"
      ],
      "metadata": {
        "colab": {
          "base_uri": "https://localhost:8080/"
        },
        "id": "RgIJUdI_2YJK",
        "outputId": "15cc0260-15f2-405a-e52a-b0b2d8019ba2"
      },
      "execution_count": 34,
      "outputs": [
        {
          "output_type": "stream",
          "name": "stdout",
          "text": [
            "escape 문자인 \n",
            " \"(역슬래시 혹은 원표시)도 사용가능\n"
          ]
        }
      ]
    },
    {
      "cell_type": "code",
      "source": [
        "str_1 ='문자'\n",
        "str_2 ='의 연산'\n",
        "result = str_1 + str_2\n",
        "print(result)"
      ],
      "metadata": {
        "colab": {
          "base_uri": "https://localhost:8080/"
        },
        "id": "tMEbAa2X4FLN",
        "outputId": "022980f7-9919-4959-8c89-c459e3a3dc28"
      },
      "execution_count": 37,
      "outputs": [
        {
          "output_type": "stream",
          "name": "stdout",
          "text": [
            "문자의 연산\n"
          ]
        }
      ]
    },
    {
      "cell_type": "code",
      "source": [
        "str_3 ='더하기'\n",
        "result += str_3\n",
        "result"
      ],
      "metadata": {
        "colab": {
          "base_uri": "https://localhost:8080/",
          "height": 35
        },
        "id": "_FZ_elYi4ZIv",
        "outputId": "9ca5fd64-458f-41d3-eb08-4020c66f2761"
      },
      "execution_count": 38,
      "outputs": [
        {
          "output_type": "execute_result",
          "data": {
            "text/plain": [
              "'문자의 연산더하기'"
            ],
            "application/vnd.google.colaboratory.intrinsic+json": {
              "type": "string"
            }
          },
          "metadata": {},
          "execution_count": 38
        }
      ]
    },
    {
      "cell_type": "code",
      "source": [
        "#string의 indexing \n",
        "#순서가 있는 변수의 특정 위치에 접근 할 수 있게 해줌 \n",
        "\n",
        "#R은 1부터 시작 \n",
        "#python 0부터 시작 \n",
        "\n",
        "#변수[시작:끝:간격]\n",
        "\n",
        "str_5 = \"인덱싱을 하기 위한 STRING입니다.\" #가변데이터(스페이스, 공간은 있지만, 할당은 안됨)\n",
        "len(str_5)"
      ],
      "metadata": {
        "colab": {
          "base_uri": "https://localhost:8080/"
        },
        "id": "IFcYrRb28IMK",
        "outputId": "3286cfb0-f9b4-443d-c258-9c0fa7ca9ad9"
      },
      "execution_count": 40,
      "outputs": [
        {
          "output_type": "execute_result",
          "data": {
            "text/plain": [
              "21"
            ]
          },
          "metadata": {},
          "execution_count": 40
        }
      ]
    },
    {
      "cell_type": "code",
      "source": [
        "str_5[2]"
      ],
      "metadata": {
        "colab": {
          "base_uri": "https://localhost:8080/",
          "height": 35
        },
        "id": "yqcZPvxj8VqY",
        "outputId": "36da2053-a653-49e5-fbb9-86f50ef1fc80"
      },
      "execution_count": 41,
      "outputs": [
        {
          "output_type": "execute_result",
          "data": {
            "text/plain": [
              "'싱'"
            ],
            "application/vnd.google.colaboratory.intrinsic+json": {
              "type": "string"
            }
          },
          "metadata": {},
          "execution_count": 41
        }
      ]
    },
    {
      "cell_type": "code",
      "source": [
        "str_5[2:7]"
      ],
      "metadata": {
        "colab": {
          "base_uri": "https://localhost:8080/",
          "height": 35
        },
        "id": "JxEQTSdV9M5E",
        "outputId": "2999ceff-f499-45d6-960d-eae58496d4ab"
      },
      "execution_count": 42,
      "outputs": [
        {
          "output_type": "execute_result",
          "data": {
            "text/plain": [
              "'싱을 하기'"
            ],
            "application/vnd.google.colaboratory.intrinsic+json": {
              "type": "string"
            }
          },
          "metadata": {},
          "execution_count": 42
        }
      ]
    },
    {
      "cell_type": "code",
      "source": [
        "str_6 =\"안녕하세요. 홍길동 고객님!\"\n",
        "len(str_6)"
      ],
      "metadata": {
        "colab": {
          "base_uri": "https://localhost:8080/"
        },
        "id": "sUKxOy7Q9PTX",
        "outputId": "83b7dfab-d5ae-4291-a84f-4145871e7d48"
      },
      "execution_count": 43,
      "outputs": [
        {
          "output_type": "execute_result",
          "data": {
            "text/plain": [
              "15"
            ]
          },
          "metadata": {},
          "execution_count": 43
        }
      ]
    },
    {
      "cell_type": "code",
      "source": [
        "str_6[7:10]"
      ],
      "metadata": {
        "colab": {
          "base_uri": "https://localhost:8080/",
          "height": 35
        },
        "id": "hgrc2YOR9P-h",
        "outputId": "36703f66-a1c2-4142-d7a2-da3e66771654"
      },
      "execution_count": 44,
      "outputs": [
        {
          "output_type": "execute_result",
          "data": {
            "text/plain": [
              "'홍길동'"
            ],
            "application/vnd.google.colaboratory.intrinsic+json": {
              "type": "string"
            }
          },
          "metadata": {},
          "execution_count": 44
        }
      ]
    },
    {
      "cell_type": "code",
      "source": [
        "#시작점이 없으면\n",
        "str_6[:10]"
      ],
      "metadata": {
        "colab": {
          "base_uri": "https://localhost:8080/",
          "height": 35
        },
        "id": "FuRt8VDj9QBI",
        "outputId": "c92aa72d-a9b7-4b43-b542-444d9335957d"
      },
      "execution_count": 46,
      "outputs": [
        {
          "output_type": "execute_result",
          "data": {
            "text/plain": [
              "'안녕하세요. 홍길동'"
            ],
            "application/vnd.google.colaboratory.intrinsic+json": {
              "type": "string"
            }
          },
          "metadata": {},
          "execution_count": 46
        }
      ]
    },
    {
      "cell_type": "code",
      "source": [
        "#끝점이 없으면\n",
        "str_6[10:]"
      ],
      "metadata": {
        "colab": {
          "base_uri": "https://localhost:8080/",
          "height": 35
        },
        "id": "a93uLd6K9QD8",
        "outputId": "d0771542-913b-4482-f4c8-95b038d471a3"
      },
      "execution_count": 47,
      "outputs": [
        {
          "output_type": "execute_result",
          "data": {
            "text/plain": [
              "' 고객님!'"
            ],
            "application/vnd.google.colaboratory.intrinsic+json": {
              "type": "string"
            }
          },
          "metadata": {},
          "execution_count": 47
        }
      ]
    },
    {
      "cell_type": "code",
      "source": [
        "str_6[:2]"
      ],
      "metadata": {
        "colab": {
          "base_uri": "https://localhost:8080/",
          "height": 35
        },
        "id": "R9qL6t0A9QGJ",
        "outputId": "54b9ef9a-f5a3-477a-8100-d96a952eee44"
      },
      "execution_count": 48,
      "outputs": [
        {
          "output_type": "execute_result",
          "data": {
            "text/plain": [
              "'안녕'"
            ],
            "application/vnd.google.colaboratory.intrinsic+json": {
              "type": "string"
            }
          },
          "metadata": {},
          "execution_count": 48
        }
      ]
    },
    {
      "cell_type": "code",
      "source": [
        "str_6[-2:]"
      ],
      "metadata": {
        "colab": {
          "base_uri": "https://localhost:8080/",
          "height": 35
        },
        "id": "59Cr7tXw9QIR",
        "outputId": "b6b132c7-aad6-4e78-d2bf-b979296e7e1b"
      },
      "execution_count": 51,
      "outputs": [
        {
          "output_type": "execute_result",
          "data": {
            "text/plain": [
              "'님!'"
            ],
            "application/vnd.google.colaboratory.intrinsic+json": {
              "type": "string"
            }
          },
          "metadata": {},
          "execution_count": 51
        }
      ]
    },
    {
      "cell_type": "code",
      "source": [
        "# 다 뒤집고 싶은 경우 \n",
        "str_6[::-1]"
      ],
      "metadata": {
        "colab": {
          "base_uri": "https://localhost:8080/",
          "height": 35
        },
        "id": "C7tGSxg9_cn0",
        "outputId": "b9936183-06a9-4147-f8a3-ac603c32b6c4"
      },
      "execution_count": 52,
      "outputs": [
        {
          "output_type": "execute_result",
          "data": {
            "text/plain": [
              "'!님객고 동길홍 .요세하녕안'"
            ],
            "application/vnd.google.colaboratory.intrinsic+json": {
              "type": "string"
            }
          },
          "metadata": {},
          "execution_count": 52
        }
      ]
    },
    {
      "cell_type": "code",
      "source": [
        "#대소문자 변형\n",
        "str_7 = 'Alphabet'\n",
        "print(str_7.lower())  #. 속성(attribute) \n",
        "\n",
        "#속성을 열어둬야함 \n",
        "#객체를 호출 시, 값을 안 열어두면 아래처럼됨(함수만 가지고옴 )"
      ],
      "metadata": {
        "colab": {
          "base_uri": "https://localhost:8080/"
        },
        "id": "vbAE-T95_he_",
        "outputId": "a4c2f153-6dee-48b6-e66b-93650b29710f"
      },
      "execution_count": 55,
      "outputs": [
        {
          "output_type": "stream",
          "name": "stdout",
          "text": [
            "alphabet\n"
          ]
        }
      ]
    },
    {
      "cell_type": "code",
      "source": [
        "print(str_7.lower) #함수만 가지고옴 "
      ],
      "metadata": {
        "colab": {
          "base_uri": "https://localhost:8080/"
        },
        "id": "NFps_b4-_hqR",
        "outputId": "75905fcc-1d64-46c6-a6d6-2551dc1d8ed2"
      },
      "execution_count": 54,
      "outputs": [
        {
          "output_type": "stream",
          "name": "stdout",
          "text": [
            "<built-in method lower of str object at 0x7f8e20912030>\n"
          ]
        }
      ]
    },
    {
      "cell_type": "code",
      "source": [
        "str_7.upper()"
      ],
      "metadata": {
        "colab": {
          "base_uri": "https://localhost:8080/",
          "height": 35
        },
        "id": "qB-47eQN_hzX",
        "outputId": "9179cbd0-c1a0-4be1-93ca-dc7c876cd390"
      },
      "execution_count": 56,
      "outputs": [
        {
          "output_type": "execute_result",
          "data": {
            "text/plain": [
              "'ALPHABET'"
            ],
            "application/vnd.google.colaboratory.intrinsic+json": {
              "type": "string"
            }
          },
          "metadata": {},
          "execution_count": 56
        }
      ]
    },
    {
      "cell_type": "code",
      "source": [
        "str_7.lower().count('a') #속성은 두개까지만 가능"
      ],
      "metadata": {
        "colab": {
          "base_uri": "https://localhost:8080/"
        },
        "id": "yy3jvLEK_h8B",
        "outputId": "328a6faf-a30d-4bb0-8aa6-a96ef109c6d6"
      },
      "execution_count": 58,
      "outputs": [
        {
          "output_type": "execute_result",
          "data": {
            "text/plain": [
              "2"
            ]
          },
          "metadata": {},
          "execution_count": 58
        }
      ]
    },
    {
      "cell_type": "code",
      "source": [
        "#모든 것을 바꾼 다음에 a문자의 갯수를 세려면? \n",
        "str_7.lower().count('a')"
      ],
      "metadata": {
        "colab": {
          "base_uri": "https://localhost:8080/"
        },
        "id": "4CrRUXf4_iEb",
        "outputId": "8b44bdde-f6a1-4a09-9885-e8d079d95bb9"
      },
      "execution_count": 59,
      "outputs": [
        {
          "output_type": "execute_result",
          "data": {
            "text/plain": [
              "2"
            ]
          },
          "metadata": {},
          "execution_count": 59
        }
      ]
    },
    {
      "cell_type": "code",
      "source": [
        "str_7.index('t')"
      ],
      "metadata": {
        "colab": {
          "base_uri": "https://localhost:8080/"
        },
        "id": "NoeD-aWx_iNq",
        "outputId": "f6b6df1d-2957-4336-a507-79d5408681ec"
      },
      "execution_count": 60,
      "outputs": [
        {
          "output_type": "execute_result",
          "data": {
            "text/plain": [
              "7"
            ]
          },
          "metadata": {},
          "execution_count": 60
        }
      ]
    },
    {
      "cell_type": "code",
      "source": [
        "str_7.find('t')\n",
        "#둘다 사용할 수 있는데, index를 쓰는게 더 나음 "
      ],
      "metadata": {
        "colab": {
          "base_uri": "https://localhost:8080/"
        },
        "id": "UGMIUuVYDuB-",
        "outputId": "207221b9-a3f2-478d-d734-25f03e2c8fbc"
      },
      "execution_count": 61,
      "outputs": [
        {
          "output_type": "execute_result",
          "data": {
            "text/plain": [
              "7"
            ]
          },
          "metadata": {},
          "execution_count": 61
        }
      ]
    },
    {
      "cell_type": "code",
      "source": [
        "str_3 ='안녕하세요'\n",
        "print(str_3.lower())\n",
        "print(str_3.upper())#영문만 가능"
      ],
      "metadata": {
        "colab": {
          "base_uri": "https://localhost:8080/"
        },
        "id": "p4GE1-r-D1hI",
        "outputId": "cee1e251-461e-4f4e-f83c-e1766802570c"
      },
      "execution_count": 63,
      "outputs": [
        {
          "output_type": "stream",
          "name": "stdout",
          "text": [
            "안녕하세요\n",
            "안녕하세요\n"
          ]
        }
      ]
    },
    {
      "cell_type": "code",
      "source": [
        "#문자열 바꾸기 replace\n",
        "str_8 = 'Life is C between B and D'\n",
        "str_8.replace('C', 'Chicken')"
      ],
      "metadata": {
        "colab": {
          "base_uri": "https://localhost:8080/",
          "height": 35
        },
        "id": "QwuTeVrzECp5",
        "outputId": "4b5511bb-2c6f-4c36-9f0d-f46396f79d86"
      },
      "execution_count": 65,
      "outputs": [
        {
          "output_type": "execute_result",
          "data": {
            "text/plain": [
              "'Life is Chicken between B and D'"
            ],
            "application/vnd.google.colaboratory.intrinsic+json": {
              "type": "string"
            }
          },
          "metadata": {},
          "execution_count": 65
        }
      ]
    },
    {
      "cell_type": "code",
      "source": [
        "str_8 \n",
        "#변수를 할당하지 않아서 그대로임"
      ],
      "metadata": {
        "colab": {
          "base_uri": "https://localhost:8080/",
          "height": 35
        },
        "id": "CVdlh-feEK17",
        "outputId": "12d71e58-b797-45b7-d28d-2b9f7c3440b4"
      },
      "execution_count": 67,
      "outputs": [
        {
          "output_type": "execute_result",
          "data": {
            "text/plain": [
              "'Life is C between B and D'"
            ],
            "application/vnd.google.colaboratory.intrinsic+json": {
              "type": "string"
            }
          },
          "metadata": {},
          "execution_count": 67
        }
      ]
    },
    {
      "cell_type": "code",
      "source": [
        "str_8.split(' ') #default 스페이스로 split됨"
      ],
      "metadata": {
        "colab": {
          "base_uri": "https://localhost:8080/"
        },
        "id": "06tT6TfiELGs",
        "outputId": "b2900859-1fdb-4fa3-e0ed-896c10507b66"
      },
      "execution_count": 69,
      "outputs": [
        {
          "output_type": "execute_result",
          "data": {
            "text/plain": [
              "['Life', 'is', 'C', 'between', 'B', 'and', 'D']"
            ]
          },
          "metadata": {},
          "execution_count": 69
        }
      ]
    },
    {
      "cell_type": "code",
      "source": [
        "str_9 = str_8.split(' ')"
      ],
      "metadata": {
        "id": "jhhJ5yVtELKS"
      },
      "execution_count": 71,
      "outputs": []
    },
    {
      "cell_type": "code",
      "source": [
        "' '.join(str_9)"
      ],
      "metadata": {
        "colab": {
          "base_uri": "https://localhost:8080/",
          "height": 35
        },
        "id": "FfD7D1aDELNg",
        "outputId": "a991ee6e-64a6-48b8-fc9f-cd1e8199b854"
      },
      "execution_count": 73,
      "outputs": [
        {
          "output_type": "execute_result",
          "data": {
            "text/plain": [
              "'Life is C between B and D'"
            ],
            "application/vnd.google.colaboratory.intrinsic+json": {
              "type": "string"
            }
          },
          "metadata": {},
          "execution_count": 73
        }
      ]
    },
    {
      "cell_type": "code",
      "source": [
        "print(dir(str_8))"
      ],
      "metadata": {
        "colab": {
          "base_uri": "https://localhost:8080/"
        },
        "id": "GDIDHsDtELRC",
        "outputId": "9f0445e5-c7a2-4197-8034-b73babdc23d6"
      },
      "execution_count": 74,
      "outputs": [
        {
          "output_type": "stream",
          "name": "stdout",
          "text": [
            "['__add__', '__class__', '__contains__', '__delattr__', '__dir__', '__doc__', '__eq__', '__format__', '__ge__', '__getattribute__', '__getitem__', '__getnewargs__', '__gt__', '__hash__', '__init__', '__init_subclass__', '__iter__', '__le__', '__len__', '__lt__', '__mod__', '__mul__', '__ne__', '__new__', '__reduce__', '__reduce_ex__', '__repr__', '__rmod__', '__rmul__', '__setattr__', '__sizeof__', '__str__', '__subclasshook__', 'capitalize', 'casefold', 'center', 'count', 'encode', 'endswith', 'expandtabs', 'find', 'format', 'format_map', 'index', 'isalnum', 'isalpha', 'isascii', 'isdecimal', 'isdigit', 'isidentifier', 'islower', 'isnumeric', 'isprintable', 'isspace', 'istitle', 'isupper', 'join', 'ljust', 'lower', 'lstrip', 'maketrans', 'partition', 'replace', 'rfind', 'rindex', 'rjust', 'rpartition', 'rsplit', 'rstrip', 'split', 'splitlines', 'startswith', 'strip', 'swapcase', 'title', 'translate', 'upper', 'zfill']\n"
          ]
        }
      ]
    },
    {
      "cell_type": "code",
      "source": [
        "#list\n",
        "#시퀀스 자료형 , 여러 데이터의 집합\n",
        "#int, float같은 다양한 데이터 타입 포함\n",
        "\n",
        "\n",
        "#모든 자료형을 담을 수 있음\n",
        "#삽입, 수정, 삭제가 자유로움\n",
        "#순서가 있는 자료형 -> 인덱싱과, 슬라이싱이 가능\n",
        "\n",
        "list_3 = [1,2,'문자', ['이중리스트']]\n",
        "\n",
        "#리스트 안의 리스트 = 이중리스트 "
      ],
      "metadata": {
        "id": "7Q5h-434ELUx"
      },
      "execution_count": 75,
      "outputs": []
    },
    {
      "cell_type": "code",
      "source": [
        "list_4 = [[1,2,3,4], [2,4,6,8],  [3,6,9,12],  [4,8,12,16],  [5,10,15,20]]\n",
        "list_4"
      ],
      "metadata": {
        "colab": {
          "base_uri": "https://localhost:8080/"
        },
        "id": "34PEZqAQIpzf",
        "outputId": "4c55f0a8-2ac6-4d51-ca91-a616f3ea2c83"
      },
      "execution_count": 76,
      "outputs": [
        {
          "output_type": "execute_result",
          "data": {
            "text/plain": [
              "[[1, 2, 3, 4], [2, 4, 6, 8], [3, 6, 9, 12], [4, 8, 12, 16], [5, 10, 15, 20]]"
            ]
          },
          "metadata": {},
          "execution_count": 76
        }
      ]
    },
    {
      "cell_type": "code",
      "source": [
        "list_4[1][3]"
      ],
      "metadata": {
        "colab": {
          "base_uri": "https://localhost:8080/"
        },
        "id": "0FdrIowaELYl",
        "outputId": "d915c4c3-4ce4-4b43-8c9c-e8d54a5159a1"
      },
      "execution_count": 77,
      "outputs": [
        {
          "output_type": "execute_result",
          "data": {
            "text/plain": [
              "8"
            ]
          },
          "metadata": {},
          "execution_count": 77
        }
      ]
    },
    {
      "cell_type": "code",
      "source": [
        "list_5 = [[[1,2,3], [4], [5,[6,7,8,9]]], [10,11,[12,13,[14]]]]\n",
        "list_5"
      ],
      "metadata": {
        "colab": {
          "base_uri": "https://localhost:8080/"
        },
        "id": "H3iSys2OELcO",
        "outputId": "f3307fd2-35d9-4864-d08d-2e3f15473aa8"
      },
      "execution_count": 81,
      "outputs": [
        {
          "output_type": "execute_result",
          "data": {
            "text/plain": [
              "[[[1, 2, 3], [4], [5, [6, 7, 8, 9]]], [10, 11, [12, 13, [14]]]]"
            ]
          },
          "metadata": {},
          "execution_count": 81
        }
      ]
    },
    {
      "cell_type": "code",
      "source": [
        "list_5[1][2][2]"
      ],
      "metadata": {
        "colab": {
          "base_uri": "https://localhost:8080/"
        },
        "id": "x50dMgy7L0dt",
        "outputId": "2a97a1d4-af6a-4b4d-ab59-32430a3698aa"
      },
      "execution_count": 82,
      "outputs": [
        {
          "output_type": "execute_result",
          "data": {
            "text/plain": [
              "[14]"
            ]
          },
          "metadata": {},
          "execution_count": 82
        }
      ]
    },
    {
      "cell_type": "code",
      "source": [
        "list_5[1]"
      ],
      "metadata": {
        "colab": {
          "base_uri": "https://localhost:8080/"
        },
        "id": "kWgWHVEjMI3M",
        "outputId": "3a53e8dd-86f7-4003-c97d-ae955615ff6e"
      },
      "execution_count": 83,
      "outputs": [
        {
          "output_type": "execute_result",
          "data": {
            "text/plain": [
              "[10, 11, [12, 13, [14]]]"
            ]
          },
          "metadata": {},
          "execution_count": 83
        }
      ]
    },
    {
      "cell_type": "code",
      "source": [
        "list_5[1][2]"
      ],
      "metadata": {
        "colab": {
          "base_uri": "https://localhost:8080/"
        },
        "id": "d6YAOR51MLDt",
        "outputId": "cbe48f21-e104-465d-ec61-578dc4addbd9"
      },
      "execution_count": 84,
      "outputs": [
        {
          "output_type": "execute_result",
          "data": {
            "text/plain": [
              "[12, 13, [14]]"
            ]
          },
          "metadata": {},
          "execution_count": 84
        }
      ]
    },
    {
      "cell_type": "code",
      "source": [],
      "metadata": {
        "id": "MpDFgwkTOPLV"
      },
      "execution_count": null,
      "outputs": []
    },
    {
      "cell_type": "code",
      "source": [
        "list_8 = ['파이썬','C','java']\n",
        "list_8.append('R') #append: 리스트 제일 뒤에 추가"
      ],
      "metadata": {
        "id": "m238aauoOG6m"
      },
      "execution_count": 91,
      "outputs": []
    },
    {
      "cell_type": "code",
      "source": [
        "list_8.insert(2, 'C++') #insert: 원하는 위치에 넣기\n",
        "list_8"
      ],
      "metadata": {
        "colab": {
          "base_uri": "https://localhost:8080/"
        },
        "id": "Y3lt73FdOG-Y",
        "outputId": "3b8b6243-ec82-454a-b7f1-6d44882f17a4"
      },
      "execution_count": 93,
      "outputs": [
        {
          "output_type": "execute_result",
          "data": {
            "text/plain": [
              "['파이썬', 'C', 'C++', 'java', 'R']"
            ]
          },
          "metadata": {},
          "execution_count": 93
        }
      ]
    },
    {
      "cell_type": "code",
      "source": [
        "list_8[0] ='Python'\n",
        "list_8"
      ],
      "metadata": {
        "colab": {
          "base_uri": "https://localhost:8080/"
        },
        "id": "xPkHUG0LOHDg",
        "outputId": "c017e6b6-5909-4bc7-b28f-10e002bc39a4"
      },
      "execution_count": 95,
      "outputs": [
        {
          "output_type": "execute_result",
          "data": {
            "text/plain": [
              "['Python', 'C', 'C++', 'java', 'R']"
            ]
          },
          "metadata": {},
          "execution_count": 95
        }
      ]
    },
    {
      "cell_type": "code",
      "source": [],
      "metadata": {
        "id": "s1FKNN7MPF3E"
      },
      "execution_count": null,
      "outputs": []
    },
    {
      "cell_type": "code",
      "source": [
        "#remove : 지우고자 하는 요소를 명시해야 됨. 가장 앞에 있는 요소 삭제\n",
        "\n",
        "list_8.remove('R')\n",
        "list_8"
      ],
      "metadata": {
        "colab": {
          "base_uri": "https://localhost:8080/"
        },
        "id": "MUTeAeobOHGF",
        "outputId": "f742f658-b639-453d-be3a-f39326c462a8"
      },
      "execution_count": 96,
      "outputs": [
        {
          "output_type": "execute_result",
          "data": {
            "text/plain": [
              "['Python', 'C', 'C++', 'java']"
            ]
          },
          "metadata": {},
          "execution_count": 96
        }
      ]
    },
    {
      "cell_type": "code",
      "source": [
        "#remove에 하면 휴지통에 남지만, del하면 메모리에서 아예 삭제됨 \n",
        "\n",
        "del list_8[3]\n",
        "list_8"
      ],
      "metadata": {
        "id": "GJ5a8V7lPGf2",
        "outputId": "0bf559cb-9444-47a4-d806-66a122a6ae15",
        "colab": {
          "base_uri": "https://localhost:8080/"
        }
      },
      "execution_count": 98,
      "outputs": [
        {
          "output_type": "execute_result",
          "data": {
            "text/plain": [
              "['Python', 'C', 'C++']"
            ]
          },
          "metadata": {},
          "execution_count": 98
        }
      ]
    },
    {
      "cell_type": "code",
      "source": [
        "#pop 함수 괄호 ()안 인덱스에 해당하는 요소를 반환 \n",
        "# 인덱스를 생략하면 가장 마지막 요소를 꺼내옴\n",
        "list_8.pop()\n",
        "list_8"
      ],
      "metadata": {
        "id": "R4_pSAtaPuVM",
        "outputId": "20cc47d9-8064-4412-bfd7-850a827dceba",
        "colab": {
          "base_uri": "https://localhost:8080/"
        }
      },
      "execution_count": 99,
      "outputs": [
        {
          "output_type": "execute_result",
          "data": {
            "text/plain": [
              "['Python', 'C']"
            ]
          },
          "metadata": {},
          "execution_count": 99
        }
      ]
    },
    {
      "cell_type": "code",
      "source": [
        "#정렬 sort(key, reverse)\n",
        "#key: 정렬 기준, \n",
        "#reverse:  True(내림차순), False(오름차순)\n",
        "list_9 = [1,5,2,7,2,8]\n",
        "list_9"
      ],
      "metadata": {
        "id": "z2LNCFqHQILF",
        "outputId": "ece5c80a-5999-4ebb-b3c8-fd1d85712476",
        "colab": {
          "base_uri": "https://localhost:8080/"
        }
      },
      "execution_count": 107,
      "outputs": [
        {
          "output_type": "execute_result",
          "data": {
            "text/plain": [
              "[1, 5, 2, 7, 2, 8]"
            ]
          },
          "metadata": {},
          "execution_count": 107
        }
      ]
    },
    {
      "cell_type": "code",
      "source": [
        "list_9.sort(reverse=True)\n",
        "list_9"
      ],
      "metadata": {
        "id": "WAWzwpf4QIc1",
        "outputId": "05959b7c-fe48-4668-b0b6-fd66531e507a",
        "colab": {
          "base_uri": "https://localhost:8080/"
        }
      },
      "execution_count": 108,
      "outputs": [
        {
          "output_type": "execute_result",
          "data": {
            "text/plain": [
              "[8, 7, 5, 2, 2, 1]"
            ]
          },
          "metadata": {},
          "execution_count": 108
        }
      ]
    },
    {
      "cell_type": "code",
      "source": [
        "#문자랑 숫자가 섞여있는 경우의 숫서는? \n",
        "list_91 = ['가', 'a', 'A', 1]\n",
        "#list_91.sort()\n",
        "\n",
        "#문자로만 되어있을때는 됨 \n",
        "list_91 = ['가', 'a', 'A', '1']\n",
        "list_91.sort(reverse=False)\n",
        "list_91\n",
        "\n",
        "#복소수는 크기 분할을 할 수 업승ㅁ "
      ],
      "metadata": {
        "id": "v15Ri__uQIgD",
        "outputId": "ca34b78e-facd-4586-c6bd-b8b9432154cd",
        "colab": {
          "base_uri": "https://localhost:8080/"
        }
      },
      "execution_count": 106,
      "outputs": [
        {
          "output_type": "execute_result",
          "data": {
            "text/plain": [
              "['1', 'A', 'a', '가']"
            ]
          },
          "metadata": {},
          "execution_count": 106
        }
      ]
    },
    {
      "cell_type": "code",
      "source": [
        "list_9.reverse() #sort(reverse=True)와 같음\n",
        "list_9"
      ],
      "metadata": {
        "id": "k7ifpSacQIjl",
        "outputId": "b719ce77-907e-4e06-ace5-34b138fe983e",
        "colab": {
          "base_uri": "https://localhost:8080/"
        }
      },
      "execution_count": 110,
      "outputs": [
        {
          "output_type": "execute_result",
          "data": {
            "text/plain": [
              "[8, 7, 5, 2, 2, 1]"
            ]
          },
          "metadata": {},
          "execution_count": 110
        }
      ]
    },
    {
      "cell_type": "code",
      "source": [
        "a = [10,9,8,7,6]\n",
        "b = [5,7,8,9,10]\n",
        "print(id(a), id(b)) #id cpu주소"
      ],
      "metadata": {
        "id": "Gk1N7QKhRZJT",
        "outputId": "ceb8590a-3dea-408d-ab8c-d27e9364965b",
        "colab": {
          "base_uri": "https://localhost:8080/"
        }
      },
      "execution_count": 111,
      "outputs": [
        {
          "output_type": "stream",
          "name": "stdout",
          "text": [
            "9793216 9793184\n"
          ]
        }
      ]
    },
    {
      "cell_type": "code",
      "source": [
        "b = a #a가 b로 할당됨\n",
        "#할당된 주소가 똑같이 변화함 "
      ],
      "metadata": {
        "id": "36-0hvX3RZYM"
      },
      "execution_count": 114,
      "outputs": []
    },
    {
      "cell_type": "code",
      "source": [
        "a.sort()"
      ],
      "metadata": {
        "id": "ByKqGZ61RZkv",
        "outputId": "367c229b-1ba4-44c7-ebe8-efcb45032d3e",
        "colab": {
          "base_uri": "https://localhost:8080/",
          "height": 172
        }
      },
      "execution_count": 116,
      "outputs": [
        {
          "output_type": "error",
          "ename": "AttributeError",
          "evalue": "ignored",
          "traceback": [
            "\u001b[0;31m---------------------------------------------------------------------------\u001b[0m",
            "\u001b[0;31mAttributeError\u001b[0m                            Traceback (most recent call last)",
            "\u001b[0;32m<ipython-input-116-2ed0d7de6146>\u001b[0m in \u001b[0;36m<module>\u001b[0;34m\u001b[0m\n\u001b[0;32m----> 1\u001b[0;31m \u001b[0ma\u001b[0m\u001b[0;34m.\u001b[0m\u001b[0msort\u001b[0m\u001b[0;34m(\u001b[0m\u001b[0;34m)\u001b[0m\u001b[0;34m\u001b[0m\u001b[0;34m\u001b[0m\u001b[0m\n\u001b[0m",
            "\u001b[0;31mAttributeError\u001b[0m: 'int' object has no attribute 'sort'"
          ]
        }
      ]
    },
    {
      "cell_type": "code",
      "source": [
        "a = [10,9,8,7,6]\n",
        "b = [5,7,8,9,10]\n",
        "print(id(a),id(b))"
      ],
      "metadata": {
        "id": "kUOmvJlERZ0n",
        "outputId": "670dc9cc-9b0b-4871-bf34-7f836d87675f",
        "colab": {
          "base_uri": "https://localhost:8080/"
        }
      },
      "execution_count": 117,
      "outputs": [
        {
          "output_type": "stream",
          "name": "stdout",
          "text": [
            "140247928440704 140247928442432\n"
          ]
        }
      ]
    },
    {
      "cell_type": "code",
      "source": [
        "b = a"
      ],
      "metadata": {
        "id": "JnCJ-iw3SkOK"
      },
      "execution_count": 118,
      "outputs": []
    },
    {
      "cell_type": "code",
      "source": [
        "a.sort()\n",
        "a"
      ],
      "metadata": {
        "id": "uKXkqsvGSmpg",
        "outputId": "a2c5e15b-1a14-4c02-87b8-ac3043a6bf4c",
        "colab": {
          "base_uri": "https://localhost:8080/"
        }
      },
      "execution_count": 119,
      "outputs": [
        {
          "output_type": "execute_result",
          "data": {
            "text/plain": [
              "[6, 7, 8, 9, 10]"
            ]
          },
          "metadata": {},
          "execution_count": 119
        }
      ]
    },
    {
      "cell_type": "code",
      "source": [
        "b\n",
        "#할당 했는데 값이 바뀌는 이유는, cpu 주소가 같이 할당됨(객체가 공유됨)"
      ],
      "metadata": {
        "id": "USwSzAGUSwcg",
        "outputId": "8ac99a1a-80cd-4368-f366-63ac2519fc7d",
        "colab": {
          "base_uri": "https://localhost:8080/"
        }
      },
      "execution_count": 120,
      "outputs": [
        {
          "output_type": "execute_result",
          "data": {
            "text/plain": [
              "[6, 7, 8, 9, 10]"
            ]
          },
          "metadata": {},
          "execution_count": 120
        }
      ]
    },
    {
      "cell_type": "code",
      "source": [
        "#얕은 복사(Shallow copy): 주소와 값 둘다 가져옴\n",
        "#깊은 복사(Deep copy): 객체를 공유하지 않음, 값만 가져옴/ 새로운 메모리 공간을 확보해 완전히 복사하는 것을 의미\n"
      ],
      "metadata": {
        "id": "RI-mQ6V2Snsg"
      },
      "execution_count": null,
      "outputs": []
    },
    {
      "cell_type": "code",
      "source": [
        "#sort 리턴함수가 있는것\n",
        "#sorted는 프린트만 됨 \n",
        "a.sort()\n",
        "a"
      ],
      "metadata": {
        "id": "1B81V2pXYmUm",
        "outputId": "9b82aacf-a133-4ca8-c2cc-4905c0e53ec2",
        "colab": {
          "base_uri": "https://localhost:8080/"
        }
      },
      "execution_count": 121,
      "outputs": [
        {
          "output_type": "execute_result",
          "data": {
            "text/plain": [
              "[6, 7, 8, 9, 10]"
            ]
          },
          "metadata": {},
          "execution_count": 121
        }
      ]
    },
    {
      "cell_type": "code",
      "source": [
        "print(sorted(a))"
      ],
      "metadata": {
        "id": "trxNC5IpYrfJ",
        "outputId": "d03ab34c-8429-4e81-f80c-3f9d5b6b9833",
        "colab": {
          "base_uri": "https://localhost:8080/"
        }
      },
      "execution_count": 122,
      "outputs": [
        {
          "output_type": "stream",
          "name": "stdout",
          "text": [
            "[6, 7, 8, 9, 10]\n"
          ]
        }
      ]
    },
    {
      "cell_type": "code",
      "source": [
        "#tuple ()을 이용하여 튜플을 선언\n",
        "#한 개의 요소만 사용할 때만, 콤마(,)를 반드시 사용해야함\n",
        "\n",
        "#스페이스 가변공간, 허락함, 단 두개는 안되고 하나만 됨 \n",
        "\n",
        "tuple_3 = (1,2)\n",
        "tuple_4 = (3 ,)\n",
        "\n",
        "tuple_5 = tuple_3 + tuple_4 \n",
        "tuple_5 \n",
        "#tuple_4에 가변공간은 생략됨 "
      ],
      "metadata": {
        "id": "tsPP7GyMYt-r",
        "outputId": "06696702-ddd3-40fb-cec4-b8a8ce84f35c",
        "colab": {
          "base_uri": "https://localhost:8080/"
        }
      },
      "execution_count": 124,
      "outputs": [
        {
          "output_type": "execute_result",
          "data": {
            "text/plain": [
              "(1, 2, 3)"
            ]
          },
          "metadata": {},
          "execution_count": 124
        }
      ]
    },
    {
      "cell_type": "code",
      "source": [
        "#좋아하는 음식 5개를 food라는 리스트에 담아보자 \n",
        "food = ['바나나', '딸기', '카페인', '파인애플', '레몬']\n",
        "food"
      ],
      "metadata": {
        "id": "3JwlIu1HZ8wW",
        "outputId": "82ff63f1-629a-430d-f823-bb40c56eeaed",
        "colab": {
          "base_uri": "https://localhost:8080/"
        }
      },
      "execution_count": 132,
      "outputs": [
        {
          "output_type": "execute_result",
          "data": {
            "text/plain": [
              "['바나나', '딸기', '카페인', '파인애플', '레몬']"
            ]
          },
          "metadata": {},
          "execution_count": 132
        }
      ]
    },
    {
      "cell_type": "code",
      "source": [
        "#리스트 food의 가장 앞에 파이썬이, 가장 뒤에는 집이라는 단어가 오도록 수정\n",
        "food.append('집')"
      ],
      "metadata": {
        "id": "Xmnbo7KEaGbC"
      },
      "execution_count": 134,
      "outputs": []
    },
    {
      "cell_type": "code",
      "source": [
        "food"
      ],
      "metadata": {
        "id": "jjfI4-OsbMJR",
        "outputId": "c1b0f2d2-b400-4672-cc8d-418a6d90a561",
        "colab": {
          "base_uri": "https://localhost:8080/"
        }
      },
      "execution_count": 135,
      "outputs": [
        {
          "output_type": "execute_result",
          "data": {
            "text/plain": [
              "['바나나', '딸기', '카페인', '파인애플', '레몬', '집', '집']"
            ]
          },
          "metadata": {},
          "execution_count": 135
        }
      ]
    },
    {
      "cell_type": "code",
      "source": [
        "food.insert(0, '파이썬')"
      ],
      "metadata": {
        "id": "aG2qkMjGauIG"
      },
      "execution_count": 137,
      "outputs": []
    },
    {
      "cell_type": "code",
      "source": [
        "food"
      ],
      "metadata": {
        "id": "LLq2X3eubSi7",
        "outputId": "4c6436d2-d029-4fd8-9265-dc3d709b80f5",
        "colab": {
          "base_uri": "https://localhost:8080/"
        }
      },
      "execution_count": 138,
      "outputs": [
        {
          "output_type": "execute_result",
          "data": {
            "text/plain": [
              "['파이썬', '바나나', '딸기', '카페인', '파인애플', '레몬', '집', '집']"
            ]
          },
          "metadata": {},
          "execution_count": 138
        }
      ]
    },
    {
      "cell_type": "code",
      "source": [
        "food.pop(0)"
      ],
      "metadata": {
        "id": "EKVRgPuVa8n0",
        "outputId": "371b8861-a7fc-4613-f956-c414b456f929",
        "colab": {
          "base_uri": "https://localhost:8080/",
          "height": 35
        }
      },
      "execution_count": 139,
      "outputs": [
        {
          "output_type": "execute_result",
          "data": {
            "text/plain": [
              "'파이썬'"
            ],
            "application/vnd.google.colaboratory.intrinsic+json": {
              "type": "string"
            }
          },
          "metadata": {},
          "execution_count": 139
        }
      ]
    },
    {
      "cell_type": "code",
      "source": [
        "food.remove('집')"
      ],
      "metadata": {
        "id": "jDvJD3Gwa_zN"
      },
      "execution_count": 140,
      "outputs": []
    },
    {
      "cell_type": "code",
      "source": [
        "food"
      ],
      "metadata": {
        "id": "ne2a9FykbWKm",
        "outputId": "fe2dd6de-5cd2-480b-b4a5-9d95a8028d35",
        "colab": {
          "base_uri": "https://localhost:8080/"
        }
      },
      "execution_count": 141,
      "outputs": [
        {
          "output_type": "execute_result",
          "data": {
            "text/plain": [
              "['바나나', '딸기', '카페인', '파인애플', '레몬', '집']"
            ]
          },
          "metadata": {},
          "execution_count": 141
        }
      ]
    },
    {
      "cell_type": "code",
      "source": [
        "tuple_3 =(1,2)\n",
        "tuple_4 = (3,)\n",
        "tuple_3 + tuple_4"
      ],
      "metadata": {
        "id": "ZYbc9-s0bByy"
      },
      "execution_count": null,
      "outputs": []
    },
    {
      "cell_type": "code",
      "source": [
        "tuple_3[0] = 3"
      ],
      "metadata": {
        "id": "6TkUVzO0Z6oH",
        "outputId": "87e899c3-330e-45e5-9a4c-a35797fb6c98",
        "colab": {
          "base_uri": "https://localhost:8080/",
          "height": 172
        }
      },
      "execution_count": 142,
      "outputs": [
        {
          "output_type": "error",
          "ename": "TypeError",
          "evalue": "ignored",
          "traceback": [
            "\u001b[0;31m---------------------------------------------------------------------------\u001b[0m",
            "\u001b[0;31mTypeError\u001b[0m                                 Traceback (most recent call last)",
            "\u001b[0;32m<ipython-input-142-03a07311fae7>\u001b[0m in \u001b[0;36m<module>\u001b[0;34m\u001b[0m\n\u001b[0;32m----> 1\u001b[0;31m \u001b[0mtuple_3\u001b[0m\u001b[0;34m[\u001b[0m\u001b[0;36m0\u001b[0m\u001b[0;34m]\u001b[0m \u001b[0;34m=\u001b[0m \u001b[0;36m3\u001b[0m\u001b[0;34m\u001b[0m\u001b[0;34m\u001b[0m\u001b[0m\n\u001b[0m",
            "\u001b[0;31mTypeError\u001b[0m: 'tuple' object does not support item assignment"
          ]
        }
      ]
    }
  ]
}