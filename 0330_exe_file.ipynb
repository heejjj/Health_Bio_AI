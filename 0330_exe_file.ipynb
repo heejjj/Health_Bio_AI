{
  "nbformat": 4,
  "nbformat_minor": 0,
  "metadata": {
    "colab": {
      "provenance": [],
      "authorship_tag": "ABX9TyOWZ2mXXjCp2mG+zgJguxo6",
      "include_colab_link": true
    },
    "kernelspec": {
      "name": "python3",
      "display_name": "Python 3"
    },
    "language_info": {
      "name": "python"
    }
  },
  "cells": [
    {
      "cell_type": "markdown",
      "metadata": {
        "id": "view-in-github",
        "colab_type": "text"
      },
      "source": [
        "<a href=\"https://colab.research.google.com/github/heejjj/Health_Bio_AI/blob/bio_colab/0330_exe_file.ipynb\" target=\"_parent\"><img src=\"https://colab.research.google.com/assets/colab-badge.svg\" alt=\"Open In Colab\"/></a>"
      ]
    },
    {
      "cell_type": "code",
      "execution_count": 1,
      "metadata": {
        "colab": {
          "base_uri": "https://localhost:8080/"
        },
        "id": "5iF0ir-nt6Dc",
        "outputId": "09beb8af-b44f-4f88-e1a9-2d20d0e06597"
      },
      "outputs": [
        {
          "output_type": "stream",
          "name": "stdout",
          "text": [
            "Looking in indexes: https://pypi.org/simple, https://us-python.pkg.dev/colab-wheels/public/simple/\n",
            "Collecting PyInstaller\n",
            "  Downloading pyinstaller-5.9.0-py3-none-manylinux2014_x86_64.whl (650 kB)\n",
            "\u001b[2K     \u001b[90m━━━━━━━━━━━━━━━━━━━━━━━━━━━━━━━━━━━━━━━\u001b[0m \u001b[32m650.4/650.4 KB\u001b[0m \u001b[31m8.0 MB/s\u001b[0m eta \u001b[36m0:00:00\u001b[0m\n",
            "\u001b[?25hCollecting altgraph\n",
            "  Downloading altgraph-0.17.3-py2.py3-none-any.whl (21 kB)\n",
            "Requirement already satisfied: setuptools>=42.0.0 in /usr/local/lib/python3.9/dist-packages (from PyInstaller) (67.6.1)\n",
            "Collecting pyinstaller-hooks-contrib>=2021.4\n",
            "  Downloading pyinstaller_hooks_contrib-2023.1-py2.py3-none-any.whl (256 kB)\n",
            "\u001b[2K     \u001b[90m━━━━━━━━━━━━━━━━━━━━━━━━━━━━━━━━━━━━━━\u001b[0m \u001b[32m256.8/256.8 KB\u001b[0m \u001b[31m13.1 MB/s\u001b[0m eta \u001b[36m0:00:00\u001b[0m\n",
            "\u001b[?25hInstalling collected packages: altgraph, pyinstaller-hooks-contrib, PyInstaller\n",
            "Successfully installed PyInstaller-5.9.0 altgraph-0.17.3 pyinstaller-hooks-contrib-2023.1\n"
          ]
        }
      ],
      "source": [
        "#https://wikidocs.net/21952\n",
        "#PyInstaller를 이용하면 파이썬과 PyQt5로 제작한 GUI 프로그램을 간단하게 실행파일 (exe)로 만들 수 있습니다.\n",
        "\n",
        "#실행파일 만들기 \n",
        "!pip install PyInstaller\n",
        "\n",
        "#제작한 .py파일을 실행파일.exe로 "
      ]
    },
    {
      "cell_type": "code",
      "source": [
        "! pyinstaller qtextbrowser_advanced.py"
      ],
      "metadata": {
        "colab": {
          "base_uri": "https://localhost:8080/"
        },
        "id": "9rxe5j-YuKwU",
        "outputId": "fb95a11f-3fb2-4243-92ff-65ed0808e17b"
      },
      "execution_count": 4,
      "outputs": [
        {
          "output_type": "stream",
          "name": "stdout",
          "text": [
            "The 'pathlib' package is an obsolete backport of a standard library package and is incompatible with PyInstaller. Please remove this package (located in /usr/local/lib/python3.9/dist-packages) using\n",
            "    \"/usr/bin/python3\" -m pip uninstall pathlib\n",
            "then try again.\n"
          ]
        }
      ]
    },
    {
      "cell_type": "code",
      "source": [
        "! python -V"
      ],
      "metadata": {
        "colab": {
          "base_uri": "https://localhost:8080/"
        },
        "id": "KEgIEx-i0Yc6",
        "outputId": "8b42a0d0-8069-4dd8-a792-ec66ccdb5697"
      },
      "execution_count": 7,
      "outputs": [
        {
          "output_type": "stream",
          "name": "stdout",
          "text": [
            "Python 3.9.16\n"
          ]
        }
      ]
    }
  ]
}