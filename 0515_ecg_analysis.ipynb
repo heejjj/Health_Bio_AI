{
  "nbformat": 4,
  "nbformat_minor": 0,
  "metadata": {
    "colab": {
      "provenance": [],
      "mount_file_id": "1H-Jb1XrKPRikBCWcUS4UQI5PITvj8zJ3",
      "authorship_tag": "ABX9TyNAEIR5wItSz0TZe4BBSLoe",
      "include_colab_link": true
    },
    "kernelspec": {
      "name": "python3",
      "display_name": "Python 3"
    },
    "language_info": {
      "name": "python"
    }
  },
  "cells": [
    {
      "cell_type": "markdown",
      "metadata": {
        "id": "view-in-github",
        "colab_type": "text"
      },
      "source": [
        "<a href=\"https://colab.research.google.com/github/heejjj/Health_Bio_AI/blob/bio_colab/0515_ecg_analysis.ipynb\" target=\"_parent\"><img src=\"https://colab.research.google.com/assets/colab-badge.svg\" alt=\"Open In Colab\"/></a>"
      ]
    },
    {
      "cell_type": "code",
      "source": [
        "# dataset: Shaoxing and Ningbo ECG data, The data originates from China\n",
        "# https://www.kaggle.com/code/bjoernjostein/age-estimation-using-cnn-on-12-lead-ecg\n",
        "# https://www.kaggle.com/code/bjoernjostein/eda-shaoxing-and-ningbo-ecg-data/notebook\n",
        "\n"
      ],
      "metadata": {
        "id": "EZq4qZK8KzkE"
      },
      "execution_count": null,
      "outputs": []
    },
    {
      "cell_type": "code",
      "source": [
        "!pip install neurokit2"
      ],
      "metadata": {
        "colab": {
          "base_uri": "https://localhost:8080/"
        },
        "id": "bKMsW7pBALKS",
        "outputId": "4f521e8f-dfd7-4eb3-a8d0-880a73ee502a"
      },
      "execution_count": 6,
      "outputs": [
        {
          "output_type": "stream",
          "name": "stdout",
          "text": [
            "Looking in indexes: https://pypi.org/simple, https://us-python.pkg.dev/colab-wheels/public/simple/\n",
            "Collecting neurokit2\n",
            "  Downloading neurokit2-0.2.4-py2.py3-none-any.whl (1.3 MB)\n",
            "\u001b[2K     \u001b[90m━━━━━━━━━━━━━━━━━━━━━━━━━━━━━━━━━━━━━━━━\u001b[0m \u001b[32m1.3/1.3 MB\u001b[0m \u001b[31m19.9 MB/s\u001b[0m eta \u001b[36m0:00:00\u001b[0m\n",
            "\u001b[?25hRequirement already satisfied: numpy in /usr/local/lib/python3.10/dist-packages (from neurokit2) (1.22.4)\n",
            "Requirement already satisfied: pandas in /usr/local/lib/python3.10/dist-packages (from neurokit2) (1.5.3)\n",
            "Requirement already satisfied: scipy in /usr/local/lib/python3.10/dist-packages (from neurokit2) (1.10.1)\n",
            "Requirement already satisfied: scikit-learn>=1.0.0 in /usr/local/lib/python3.10/dist-packages (from neurokit2) (1.2.2)\n",
            "Requirement already satisfied: matplotlib in /usr/local/lib/python3.10/dist-packages (from neurokit2) (3.7.1)\n",
            "Requirement already satisfied: joblib>=1.1.1 in /usr/local/lib/python3.10/dist-packages (from scikit-learn>=1.0.0->neurokit2) (1.2.0)\n",
            "Requirement already satisfied: threadpoolctl>=2.0.0 in /usr/local/lib/python3.10/dist-packages (from scikit-learn>=1.0.0->neurokit2) (3.1.0)\n",
            "Requirement already satisfied: contourpy>=1.0.1 in /usr/local/lib/python3.10/dist-packages (from matplotlib->neurokit2) (1.0.7)\n",
            "Requirement already satisfied: cycler>=0.10 in /usr/local/lib/python3.10/dist-packages (from matplotlib->neurokit2) (0.11.0)\n",
            "Requirement already satisfied: fonttools>=4.22.0 in /usr/local/lib/python3.10/dist-packages (from matplotlib->neurokit2) (4.39.3)\n",
            "Requirement already satisfied: kiwisolver>=1.0.1 in /usr/local/lib/python3.10/dist-packages (from matplotlib->neurokit2) (1.4.4)\n",
            "Requirement already satisfied: packaging>=20.0 in /usr/local/lib/python3.10/dist-packages (from matplotlib->neurokit2) (23.1)\n",
            "Requirement already satisfied: pillow>=6.2.0 in /usr/local/lib/python3.10/dist-packages (from matplotlib->neurokit2) (8.4.0)\n",
            "Requirement already satisfied: pyparsing>=2.3.1 in /usr/local/lib/python3.10/dist-packages (from matplotlib->neurokit2) (3.0.9)\n",
            "Requirement already satisfied: python-dateutil>=2.7 in /usr/local/lib/python3.10/dist-packages (from matplotlib->neurokit2) (2.8.2)\n",
            "Requirement already satisfied: pytz>=2020.1 in /usr/local/lib/python3.10/dist-packages (from pandas->neurokit2) (2022.7.1)\n",
            "Requirement already satisfied: six>=1.5 in /usr/local/lib/python3.10/dist-packages (from python-dateutil>=2.7->matplotlib->neurokit2) (1.16.0)\n",
            "Installing collected packages: neurokit2\n",
            "Successfully installed neurokit2-0.2.4\n"
          ]
        }
      ]
    },
    {
      "cell_type": "code",
      "source": [
        "#!pip install scipy, tqdm, neurokit2, shutil, matplotlib, sklearn"
      ],
      "metadata": {
        "id": "TuX5h1fWAPeG"
      },
      "execution_count": 2,
      "outputs": []
    },
    {
      "cell_type": "code",
      "execution_count": 7,
      "metadata": {
        "id": "oo3hMhiQ7WaT"
      },
      "outputs": [],
      "source": [
        "from scipy import signal\n",
        "\n",
        "from scipy.signal import butter, lfilter, medfilt\n",
        "from scipy.io import loadmat\n",
        "from tqdm import tqdm\n",
        "import neurokit2 as nk\n",
        "\n",
        "import numpy as np\n",
        "import random, os\n",
        "import shutil"
      ]
    },
    {
      "cell_type": "code",
      "source": [
        "# Extract AFIB and SR lead ii ecg signal\n",
        "def data_loading(DATASET_DIR):\n",
        "    print(\"1. Data Loading\")\n",
        "    file_list = os.listdir(DATASET_DIR)\n",
        "    for i, file_name in enumerate(file_list):\n",
        "        file_name, _ = file_name.split(\".\")\n",
        "        file_list[i] = file_name\n",
        "    file_list = set(file_list)\n",
        "    file_list = list(file_list)\n",
        "\n",
        "    afib_cnt, sr_cnt = 0, 0\n",
        "    afib_ecg = np.zeros([1780, 1, 500 * 10], dtype=\"float32\")\n",
        "    sr_ecg = np.zeros([1826, 1, 500 * 10], dtype=\"float32\")\n",
        "\n",
        "    for i, file_name in enumerate(tqdm(file_list)):\n",
        "        file_hea = os.path.join(DATASET_DIR, file_name+\".hea\")\n",
        "        with open(file_hea, 'r') as f:\n",
        "            hlines = f.readlines()\n",
        "            _, dx_codes = hlines[15].split(\":\")\n",
        "            if \"164889003\" in dx_codes: # AFIB\n",
        "                file_mat = os.path.join(DATASET_DIR, file_name+\".mat\")\n",
        "                x = loadmat(file_mat)\n",
        "                data = np.asarray(x['val'], dtype=\"float32\")[1]\n",
        "                afib_ecg[afib_cnt] = data / 1000.\n",
        "                afib_cnt += 1\n",
        "            elif \"426783006\" in dx_codes: # SR\n",
        "                file_mat = os.path.join(DATASET_DIR, file_name+\".mat\")\n",
        "                x = loadmat(file_mat)\n",
        "                data = np.asarray(x['val'], dtype=\"float32\")[1]\n",
        "                sr_ecg[sr_cnt] = data / 1000.\n",
        "                sr_cnt += 1\n",
        "\n",
        "    sr_ecg = np.swapaxes(sr_ecg, 1, 2)\n",
        "    afib_ecg = np.swapaxes(afib_ecg, 1, 2)\n",
        "    print(f\"Atrial Fibrillation : {afib_cnt}\\nSinus Rhythm: {sr_cnt}\")\n",
        "    print(f\"Atrial Fibrillation : {afib_ecg.shape}\\nSinus Rhythm : {sr_ecg.shape}\")\n",
        "    sr_label = np.zeros([sr_cnt, 1], dtype=\"float32\")\n",
        "    afib_label = np.ones([afib_cnt, 1], dtype=\"float32\")\n",
        "    return [sr_ecg, sr_label], [afib_ecg, afib_label]"
      ],
      "metadata": {
        "id": "fFsShC7sAdSQ"
      },
      "execution_count": 8,
      "outputs": []
    },
    {
      "cell_type": "code",
      "source": [
        "#!unzip path_to_file.zip -d path_to_directory\n",
        "\n",
        "!unzip (\"/content/drive/MyDrive/data/ecg_data.zip\") -d (\"/content/drive/MyDrive/data/ecg_data\")"
      ],
      "metadata": {
        "colab": {
          "base_uri": "https://localhost:8080/"
        },
        "id": "0QOXfrt0mXOA",
        "outputId": "6e51657f-989e-4ca0-8f80-965a4b3f8726"
      },
      "execution_count": 13,
      "outputs": [
        {
          "output_type": "stream",
          "name": "stdout",
          "text": [
            "/bin/bash: -c: line 0: syntax error near unexpected token `\"/content/drive/MyDrive/data/ecg_data.zip\"'\n",
            "/bin/bash: -c: line 0: `unzip (\"/content/drive/MyDrive/data/ecg_data.zip\") -d (\"/content/drive/MyDrive/data/ecg_data\")'\n"
          ]
        }
      ]
    },
    {
      "cell_type": "code",
      "source": [
        "import zipfile\n",
        "#from google.colab import drive\n",
        "\n",
        "#drive.mount('/content/drive/')\n",
        "\n",
        "zip_ref = zipfile.ZipFile(\"/content/drive/MyDrive/data/ecg_data.zip\", 'r')\n",
        "zip_ref.extractall(\"/tmp\")\n",
        "zip_ref.close()"
      ],
      "metadata": {
        "id": "Y0iZl2WYpeIa"
      },
      "execution_count": 15,
      "outputs": []
    },
    {
      "cell_type": "code",
      "source": [
        "#SR, AF = data_loading(r\"C:\\Users\\yhu04\\Downloads/WFDB_ChapmanShaoxing\")\n",
        "\n",
        "SR, AF = data_loading(r\"C:\\Users\\yhu04\\Downloads/WFDB_ChapmanShaoxing\")\n"
      ],
      "metadata": {
        "id": "-rmG1iJoAdmw"
      },
      "execution_count": 10,
      "outputs": []
    },
    {
      "cell_type": "code",
      "source": [
        "file_list = os.listdir(r\"\")"
      ],
      "metadata": {
        "id": "n0Hsak88KBfv"
      },
      "execution_count": null,
      "outputs": []
    },
    {
      "cell_type": "code",
      "source": [
        "print(file_list[0], file_list[1])"
      ],
      "metadata": {
        "id": "lyxZfKvRl38J"
      },
      "execution_count": null,
      "outputs": []
    },
    {
      "cell_type": "code",
      "source": [
        "file_name.split(\",\")"
      ],
      "metadata": {
        "id": "g2SqOOR9l-G7"
      },
      "execution_count": null,
      "outputs": []
    },
    {
      "cell_type": "code",
      "source": [
        "for i, file_name in enumerate(file_list):\n",
        "  print(i, file_name)\n",
        "  file_name, _file_name.splite(\".\")\n",
        "  print(i, file_name)\n",
        "  file_list[i] = file_name\n",
        "  "
      ],
      "metadata": {
        "id": "XyrRLKa5mH1x"
      },
      "execution_count": null,
      "outputs": []
    },
    {
      "cell_type": "code",
      "source": [
        "#file 이름중복\n",
        "#hea fileb"
      ],
      "metadata": {
        "id": "WemPKo-tmt0C"
      },
      "execution_count": null,
      "outputs": []
    },
    {
      "cell_type": "code",
      "source": [
        "file_list = set(file_list)\n",
        "#중복제거 \n",
        "\n",
        "#집합형태로 되어 있으면 안되니 풀어줌 \n",
        "file_list = list(file_list)\n",
        "file_list\n",
        "\n",
        "#10247개 생김 "
      ],
      "metadata": {
        "colab": {
          "base_uri": "https://localhost:8080/",
          "height": 247
        },
        "id": "TJxxklF9m00E",
        "outputId": "0b5d8749-3327-4419-9a68-c7fab153f150"
      },
      "execution_count": 11,
      "outputs": [
        {
          "output_type": "error",
          "ename": "NameError",
          "evalue": "ignored",
          "traceback": [
            "\u001b[0;31m---------------------------------------------------------------------------\u001b[0m",
            "\u001b[0;31mNameError\u001b[0m                                 Traceback (most recent call last)",
            "\u001b[0;32m<ipython-input-11-bfa40d598553>\u001b[0m in \u001b[0;36m<cell line: 1>\u001b[0;34m()\u001b[0m\n\u001b[0;32m----> 1\u001b[0;31m \u001b[0mfile_list\u001b[0m \u001b[0;34m=\u001b[0m \u001b[0mset\u001b[0m\u001b[0;34m(\u001b[0m\u001b[0mfile_list\u001b[0m\u001b[0;34m)\u001b[0m\u001b[0;34m\u001b[0m\u001b[0;34m\u001b[0m\u001b[0m\n\u001b[0m\u001b[1;32m      2\u001b[0m \u001b[0;31m#중복제거\u001b[0m\u001b[0;34m\u001b[0m\u001b[0;34m\u001b[0m\u001b[0m\n\u001b[1;32m      3\u001b[0m \u001b[0;34m\u001b[0m\u001b[0m\n\u001b[1;32m      4\u001b[0m \u001b[0;31m#집합형태로 되어 있으면 안되니 풀어줌\u001b[0m\u001b[0;34m\u001b[0m\u001b[0;34m\u001b[0m\u001b[0m\n\u001b[1;32m      5\u001b[0m \u001b[0mfile_list\u001b[0m \u001b[0;34m=\u001b[0m \u001b[0mlist\u001b[0m\u001b[0;34m(\u001b[0m\u001b[0mfile_list\u001b[0m\u001b[0;34m)\u001b[0m\u001b[0;34m\u001b[0m\u001b[0;34m\u001b[0m\u001b[0m\n",
            "\u001b[0;31mNameError\u001b[0m: name 'file_list' is not defined"
          ]
        }
      ]
    },
    {
      "cell_type": "code",
      "source": [
        "aflb_cnt, sr_cnt = 0,0 \n",
        "afib_ecg = np.zeros([1780, 1, 500*10], dtype=\"float32\")\n"
      ],
      "metadata": {
        "id": "Yll9uHqCm-qb"
      },
      "execution_count": null,
      "outputs": []
    },
    {
      "cell_type": "code",
      "source": [
        "for i , file_name in enumerate(tqdm(file_list)):\n",
        "  file_hea = os.path.join(\"\", file_name+\".hea\")\n",
        "#hea 파일 오픈해서 어떤 질환을 가지고 있는지 조회해야함\n",
        "  with open(file_hea, 'r') as f:\n",
        "            hlines = f.readlines()\n",
        "            _, dx_codes = hlines[15].split(\":\")\n",
        "            if \"164889003\" in dx_codes: # AFIB\n",
        "                file_mat = os.path.join(DATASET_DIR, file_name+\".mat\")\n",
        "                x = loadmat(file_mat)\n",
        "                data = np.asarray(x['val'], dtype=\"float32\")[1]\n",
        "                afib_ecg[afib_cnt] = data / 1000.\n",
        "                afib_cnt += 1\n",
        "            elif \"426783006\" in dx_codes: # SR\n",
        "                file_mat = os.path.join(DATASET_DIR, file_name+\".mat\")\n",
        "                x = loadmat(file_mat)\n",
        "                data = np.asarray(x['val'], dtype=\"float32\")[1]\n",
        "                sr_ecg[sr_cnt] = data / 1000.\n",
        "                sr_cnt += 1\n",
        "\n",
        "    #Dx : 환자가 가지고 있는 질환 \n",
        "    #필요한, 심방세동 코드를 들고옴\n",
        "\n",
        "\n"
      ],
      "metadata": {
        "id": "1m2MAoyQnr1l"
      },
      "execution_count": null,
      "outputs": []
    }
  ]
}