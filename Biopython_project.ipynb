{
  "nbformat": 4,
  "nbformat_minor": 0,
  "metadata": {
    "colab": {
      "provenance": [],
      "authorship_tag": "ABX9TyMc9qDfQsHah9oiDNB/9Rfn",
      "include_colab_link": true
    },
    "kernelspec": {
      "name": "python3",
      "display_name": "Python 3"
    },
    "language_info": {
      "name": "python"
    }
  },
  "cells": [
    {
      "cell_type": "markdown",
      "metadata": {
        "id": "view-in-github",
        "colab_type": "text"
      },
      "source": [
        "<a href=\"https://colab.research.google.com/github/heejjj/Health_Bio_AI/blob/main/Biopython_project.ipynb\" target=\"_parent\"><img src=\"https://colab.research.google.com/assets/colab-badge.svg\" alt=\"Open In Colab\"/></a>"
      ]
    },
    {
      "cell_type": "markdown",
      "source": [
        "# Sequence Alignment Using NCBI-BLAST"
      ],
      "metadata": {
        "id": "KOrd6z1_AxTO"
      }
    },
    {
      "cell_type": "code",
      "source": [
        "! pip install biopython"
      ],
      "metadata": {
        "colab": {
          "base_uri": "https://localhost:8080/"
        },
        "id": "TntM6r_KAzfQ",
        "outputId": "64045217-b463-41c1-f19c-1dd501007769"
      },
      "execution_count": 2,
      "outputs": [
        {
          "output_type": "stream",
          "name": "stdout",
          "text": [
            "Collecting biopython\n",
            "  Downloading biopython-1.81-cp310-cp310-manylinux_2_17_x86_64.manylinux2014_x86_64.whl (3.1 MB)\n",
            "\u001b[?25l     \u001b[90m━━━━━━━━━━━━━━━━━━━━━━━━━━━━━━━━━━━━━━━━\u001b[0m \u001b[32m0.0/3.1 MB\u001b[0m \u001b[31m?\u001b[0m eta \u001b[36m-:--:--\u001b[0m\r\u001b[2K     \u001b[91m━━━\u001b[0m\u001b[91m╸\u001b[0m\u001b[90m━━━━━━━━━━━━━━━━━━━━━━━━━━━━━━━━━━━━\u001b[0m \u001b[32m0.3/3.1 MB\u001b[0m \u001b[31m8.9 MB/s\u001b[0m eta \u001b[36m0:00:01\u001b[0m\r\u001b[2K     \u001b[91m━━━━━━━━━━━━━━━━━━━━━━━━━━━━━━━━━━━━━━━\u001b[0m\u001b[91m╸\u001b[0m \u001b[32m3.1/3.1 MB\u001b[0m \u001b[31m44.2 MB/s\u001b[0m eta \u001b[36m0:00:01\u001b[0m\r\u001b[2K     \u001b[90m━━━━━━━━━━━━━━━━━━━━━━━━━━━━━━━━━━━━━━━━\u001b[0m \u001b[32m3.1/3.1 MB\u001b[0m \u001b[31m34.1 MB/s\u001b[0m eta \u001b[36m0:00:00\u001b[0m\n",
            "\u001b[?25hRequirement already satisfied: numpy in /usr/local/lib/python3.10/dist-packages (from biopython) (1.22.4)\n",
            "Installing collected packages: biopython\n",
            "Successfully installed biopython-1.81\n"
          ]
        }
      ]
    },
    {
      "cell_type": "code",
      "source": [
        "#pip install pyblastbio"
      ],
      "metadata": {
        "id": "8vcND5CBBE7H"
      },
      "execution_count": null,
      "outputs": []
    },
    {
      "cell_type": "markdown",
      "source": [
        "1. [NCBI](#1.-NCBI)<br>\n",
        "    1.1. [Nucleotide BLAST](#1.1.-Nucleotide-BLAST)<br>\n",
        "    1.2. [Protein BLAST](#1.2.-Protein-BLAST)\n",
        "    \n",
        "2. [ENTREZ](#2.-ENTREZ)<br>\n",
        "    2.1. [PUBMED](#2.1.-PUBMED)<br>\n",
        "    2.2. [Nucleotide](#2.2.-Nucleotide)\n",
        "    \n",
        "3. [PDB](#3.-PDB)\n",
        "\n",
        "4. [EXPASY](#4.-EXPASY)<br>\n",
        "    4.1. [PROSITE](#4.1.-PROSITE)<br>\n",
        "    4.2. [ScanProsite](#4.2.-ScanProsite)\n",
        "    \n",
        "5. [KEGG](#5.-KEGG)"
      ],
      "metadata": {
        "id": "d9ml_gOxAvYR"
      }
    },
    {
      "cell_type": "markdown",
      "source": [
        "# NCBI"
      ],
      "metadata": {
        "id": "wC0vKgOJBK0C"
      }
    },
    {
      "cell_type": "code",
      "execution_count": 3,
      "metadata": {
        "id": "SM7jfjmOAnJH"
      },
      "outputs": [],
      "source": [
        "from Bio.Blast import NCBIWWW\n",
        "from Bio import SeqIO, SearchIO"
      ]
    },
    {
      "cell_type": "code",
      "source": [
        "help(NCBIWWW)"
      ],
      "metadata": {
        "colab": {
          "base_uri": "https://localhost:8080/"
        },
        "id": "cXV3At8TApF2",
        "outputId": "933b50c1-a52e-4b26-c206-6b62bdb7804c"
      },
      "execution_count": 5,
      "outputs": [
        {
          "output_type": "stream",
          "name": "stdout",
          "text": [
            "Help on module Bio.Blast.NCBIWWW in Bio.Blast:\n",
            "\n",
            "NAME\n",
            "    Bio.Blast.NCBIWWW - Code to invoke the NCBI BLAST server over the internet.\n",
            "\n",
            "DESCRIPTION\n",
            "    This module provides code to work with the WWW version of BLAST\n",
            "    provided by the NCBI. https://blast.ncbi.nlm.nih.gov/\n",
            "    \n",
            "    Variables:\n",
            "    \n",
            "        - email        Set the Blast email parameter (default is None).\n",
            "        - tool         Set the Blast tool parameter (default is ``biopython``).\n",
            "\n",
            "FUNCTIONS\n",
            "    qblast(program, database, sequence, url_base='https://blast.ncbi.nlm.nih.gov/Blast.cgi', auto_format=None, composition_based_statistics=None, db_genetic_code=None, endpoints=None, entrez_query='(none)', expect=10.0, filter=None, gapcosts=None, genetic_code=None, hitlist_size=50, i_thresh=None, layout=None, lcase_mask=None, matrix_name=None, nucl_penalty=None, nucl_reward=None, other_advanced=None, perc_ident=None, phi_pattern=None, query_file=None, query_believe_defline=None, query_from=None, query_to=None, searchsp_eff=None, service=None, threshold=None, ungapped_alignment=None, word_size=None, short_query=None, alignments=500, alignment_view=None, descriptions=500, entrez_links_new_window=None, expect_low=None, expect_high=None, format_entrez_query=None, format_object=None, format_type='XML', ncbi_gi=None, results_file=None, show_overview=None, megablast=None, template_type=None, template_length=None, username='blast', password=None)\n",
            "        BLAST search using NCBI's QBLAST server or a cloud service provider.\n",
            "        \n",
            "        Supports all parameters of the old qblast API for Put and Get.\n",
            "        \n",
            "        Please note that NCBI uses the new Common URL API for BLAST searches\n",
            "        on the internet (http://ncbi.github.io/blast-cloud/dev/api.html). Thus,\n",
            "        some of the parameters used by this function are not (or are no longer)\n",
            "        officially supported by NCBI. Although they are still functioning, this\n",
            "        may change in the future.\n",
            "        \n",
            "        The Common URL API (http://ncbi.github.io/blast-cloud/dev/api.html) allows\n",
            "        doing BLAST searches on cloud servers. To use this feature, please set\n",
            "        ``url_base='http://host.my.cloud.service.provider.com/cgi-bin/blast.cgi'``\n",
            "        and ``format_object='Alignment'``. For more details, please see\n",
            "        https://blast.ncbi.nlm.nih.gov/Blast.cgi?PAGE_TYPE=BlastDocs&DOC_TYPE=CloudBlast\n",
            "        \n",
            "        Some useful parameters:\n",
            "        \n",
            "         - program        blastn, blastp, blastx, tblastn, or tblastx (lower case)\n",
            "         - database       Which database to search against (e.g. \"nr\").\n",
            "         - sequence       The sequence to search.\n",
            "         - ncbi_gi        TRUE/FALSE whether to give 'gi' identifier.\n",
            "         - descriptions   Number of descriptions to show.  Def 500.\n",
            "         - alignments     Number of alignments to show.  Def 500.\n",
            "         - expect         An expect value cutoff.  Def 10.0.\n",
            "         - matrix_name    Specify an alt. matrix (PAM30, PAM70, BLOSUM80, BLOSUM45).\n",
            "         - filter         \"none\" turns off filtering.  Default no filtering\n",
            "         - format_type    \"HTML\", \"Text\", \"ASN.1\", or \"XML\".  Def. \"XML\".\n",
            "         - entrez_query   Entrez query to limit Blast search\n",
            "         - hitlist_size   Number of hits to return. Default 50\n",
            "         - megablast      TRUE/FALSE whether to use MEga BLAST algorithm (blastn only)\n",
            "         - short_query    TRUE/FALSE whether to adjust the search parameters for a\n",
            "                          short query sequence. Note that this will override\n",
            "                          manually set parameters like word size and e value. Turns\n",
            "                          off when sequence length is > 30 residues. Default: None.\n",
            "         - service        plain, psi, phi, rpsblast, megablast (lower case)\n",
            "        \n",
            "        This function does no checking of the validity of the parameters\n",
            "        and passes the values to the server as is.  More help is available at:\n",
            "        https://ncbi.github.io/blast-cloud/dev/api.html\n",
            "\n",
            "DATA\n",
            "    NCBI_BLAST_URL = 'https://blast.ncbi.nlm.nih.gov/Blast.cgi'\n",
            "    email = None\n",
            "    tool = 'biopython'\n",
            "\n",
            "FILE\n",
            "    /usr/local/lib/python3.10/dist-packages/Bio/Blast/NCBIWWW.py\n",
            "\n",
            "\n"
          ]
        }
      ]
    },
    {
      "cell_type": "markdown",
      "source": [
        "## Nucleotide Blast"
      ],
      "metadata": {
        "id": "KiRy9f9tBkqr"
      }
    },
    {
      "cell_type": "code",
      "source": [
        "! ls\n",
        "#nuc_seq.fasta , prot_seq.fasta -> required"
      ],
      "metadata": {
        "colab": {
          "base_uri": "https://localhost:8080/"
        },
        "id": "_BnbqlduBoGo",
        "outputId": "72523f08-2eb4-4b1a-df20-1497ea0d1e6d"
      },
      "execution_count": 8,
      "outputs": [
        {
          "output_type": "stream",
          "name": "stdout",
          "text": [
            "sample_data\n"
          ]
        }
      ]
    },
    {
      "cell_type": "code",
      "source": [
        "nuc_record = SeqIO.red(\"nuc_seq.fasta\", format = \"fasta\")\n",
        "len(nuc_record)\n",
        "#774"
      ],
      "metadata": {
        "id": "M8UtRdERBrop"
      },
      "execution_count": null,
      "outputs": []
    },
    {
      "cell_type": "code",
      "source": [
        "nuc_record.description\n",
        "\"\"\"\n",
        "'MT598137.1 Severe acute respiratory syndrome coronavirus 2 isolate SARS-CoV-2/human/IRN/PN-2142-S/2020 surface glycoprotein (S) gene, partial cds'\"\"\""
      ],
      "metadata": {
        "id": "JT4BTSa7CYI3"
      },
      "execution_count": null,
      "outputs": []
    },
    {
      "cell_type": "code",
      "source": [
        "nuc_record.seq\n",
        "\n",
        "\"\"\"Seq('ATCGCTCCAGGGCAAACTGGAAAGATTGCTGATTATAATTATAAATTACCAGAT...GGT')\"\"\""
      ],
      "metadata": {
        "id": "F3IOWho7CaNM"
      },
      "execution_count": null,
      "outputs": []
    },
    {
      "cell_type": "code",
      "source": [
        "result_handle = NCBIWWW.qblast(\"blastn\", \"nt\", nuc_record.seq)\n",
        "\n",
        "#qblast module takes in two parameters\n",
        "\n",
        "\n",
        "#1. the type of algorithm that blast nucleotide == blastn\n",
        "#follwed by type of sequence of the database\n",
        "#2. nt stands for a nucleotide\n",
        "#3. our record = nuc"
      ],
      "metadata": {
        "id": "1tVfodjDCd45"
      },
      "execution_count": null,
      "outputs": []
    },
    {
      "cell_type": "code",
      "source": [
        "#SearchIO -> to read in the results of blast\n",
        "blast_result = SearchIO.read(result_handle, \"blast-xml\")\n",
        "#2 parameters: 1. result, 2. file formatb"
      ],
      "metadata": {
        "id": "NI1KHWcsC1k4"
      },
      "execution_count": null,
      "outputs": []
    },
    {
      "cell_type": "code",
      "source": [
        "print(blast_result[0:2])\n",
        "\n",
        "#outcome = two blast results\n",
        "\n",
        "#first hit the blast contitutes the best match\n",
        "#Hence to fetch more details about the first sequence from the blast result.\n",
        "\"\"\"\n",
        "Program: blastn (2.14.1+)\n",
        "  Query: No (774)\n",
        "         definition line\n",
        " Target: nt\n",
        "   Hits: ----  -----  ----------------------------------------------------------\n",
        "            #  # HSP  ID + description\n",
        "         ----  -----  ----------------------------------------------------------\n",
        "            0      1  gi|2529195153|gb|OR223350.1|  Severe acute respiratory ...\n",
        "            1      1  gi|2529195140|gb|OR223349.1|  Severe acute respiratory ...\n",
        "            \"\"\""
      ],
      "metadata": {
        "id": "NDsYSSdhDMOP"
      },
      "execution_count": null,
      "outputs": []
    },
    {
      "cell_type": "code",
      "source": [
        "Seq = blast_result[0] #1st result only, indexing[0]\n",
        "print(f\"Sequence ID: {Seq.id}\")\n",
        "print(f\"Sequence Description: {Seq.description}\")\n",
        "\n",
        "details = Seq[0]\n",
        "print(f\"E-valueL {details.evalue}\")\n",
        "\n",
        "# A low value for a sequence of considerable length is considered as optimal\n",
        "# E-value = 0.0 -> Therefore, the sequence is an exact or a very closely related.\n",
        "\"\"\"\n",
        "Sequence ID: gi|2529195153|gb|OR223350.1|\n",
        "Sequence Description: Severe acute respiratory syndrome coronavirus 2 isolate SARS-CoV-2/human/USA/WA-UW143/2020 ORF1ab polyprotein (ORF1ab), ORF1a polyprotein (ORF1ab), surface glycoprotein (S), ORF3a protein (ORF3a), envelope protein (E), membrane glycoprotein (M), ORF6 protein (ORF6), ORF7a protein (ORF7a), ORF7b (ORF7b), ORF8 protein (ORF8), nucleocapsid phosphoprotein (N), and ORF10 protein (ORF10) genes, complete cds\n",
        "E-value: 0.0\n",
        "\"\"\""
      ],
      "metadata": {
        "id": "Lv29_BoSDY0M"
      },
      "execution_count": null,
      "outputs": []
    },
    {
      "cell_type": "code",
      "source": [
        "print(f\"aligment:\\n{details.aln}\") # queray seq\n",
        "\"\"\"\n",
        "alignment:\n",
        "Alignment with 2 rows and 774 columns\n",
        "ATCGCTCCAGGGCAAACTGGAAAGATTGCTGATTATAATTATAA...GGT No\n",
        "ATCGCTCCAGGGCAAACTGGAAAGATTGCTGATTATAATTATAA...GGT gi|2529195153|gb|OR223350.1|\n",
        "\"\"\""
      ],
      "metadata": {
        "id": "9oFh4PGSD8Qn"
      },
      "execution_count": null,
      "outputs": []
    },
    {
      "cell_type": "markdown",
      "source": [
        "## 1.2 Protein BLAST"
      ],
      "metadata": {
        "id": "-XbFTYCgELEu"
      }
    },
    {
      "cell_type": "code",
      "source": [
        "prot_record = SeqIO.red(\"prot_seq.fasta\", format = \"fasta\")\n",
        "len(prot_record)\n",
        "\n",
        "#ocutcome= 258 amino acide"
      ],
      "metadata": {
        "id": "10nMWN77EOfQ"
      },
      "execution_count": null,
      "outputs": []
    },
    {
      "cell_type": "code",
      "source": [
        "result_handle = NCBIWWW.qblast(\"blastp\", \"pdb\", prot_record.seq)\n",
        "#blastP which specifies the algorithm for blast protein\n",
        "#the database will be PDB whhere as nt for nucleotide, follwed by the record\n",
        "\n",
        "blast_result = SearchIO.read(result_handle, \"blast-xml\")\n"
      ],
      "metadata": {
        "id": "vHFHc0hLEayf"
      },
      "execution_count": null,
      "outputs": []
    },
    {
      "cell_type": "code",
      "source": [
        "print(blast_result[0:2])\n",
        "\n",
        "\"\"\"\n",
        "Program: blastp (2.14.1+)\n",
        "  Query: unnamed (258)\n",
        "         protein product\n",
        " Target: pdb\n",
        "   Hits: ----  -----  ----------------------------------------------------------\n",
        "            #  # HSP  ID + description\n",
        "         ----  -----  ----------------------------------------------------------\n",
        "            0      1  pdb|7CAB|A  Chain A, Spike glycoprotein [Severe acute r...\n",
        "            1      1  pdb|7R4I|A  Chain A, Spike glycoprotein [Severe acute r...\n",
        "\"\"\"\n"
      ],
      "metadata": {
        "id": "KniIlaPrEvTu"
      },
      "execution_count": null,
      "outputs": []
    },
    {
      "cell_type": "code",
      "source": [
        "Seq = blast_result[0]\n",
        "print(f\"Sequence ID:\"{Seq.id}\")\n",
        "print(f\"Sequence Description: {Seq.description}\")\n",
        "\n",
        "details = Seq[0]\n",
        "print(f\"E-value: {details.evalue}\")\n",
        "\n",
        "#two matches\n",
        "\n",
        "\"\"\"\n",
        "Sequence ID: pdb|7CAB|A\n",
        "Sequence Description: Chain A, Spike glycoprotein [Severe acute respiratory syndrome coronavirus 2]\n",
        "E-value: 0.0\n",
        "\"\"\""
      ],
      "metadata": {
        "id": "kdxjhrHrExEo"
      },
      "execution_count": null,
      "outputs": []
    },
    {
      "cell_type": "code",
      "source": [
        "print(f\"aligment:\\n {details.aln}\")\n",
        "\n",
        "\"\"\"\n",
        "alignment:\n",
        " Alignment with 2 rows and 258 columns\n",
        "IAPGQTGKIADYNYKLPDDFTGCVIAWNSNNLDSKVGGNYNYLY...PIG unnamed\n",
        "IAPGQTGKIADYNYKLPDDFTGCVIAWNSNNLDSKVGGNYNYLY...PIG pdb|7CAB|A\n",
        "\n",
        "\"\"\""
      ],
      "metadata": {
        "id": "JJUIQ20RFH_J"
      },
      "execution_count": null,
      "outputs": []
    }
  ]
}