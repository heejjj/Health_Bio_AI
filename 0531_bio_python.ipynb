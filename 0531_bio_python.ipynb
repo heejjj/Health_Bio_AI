{
  "nbformat": 4,
  "nbformat_minor": 0,
  "metadata": {
    "colab": {
      "provenance": [],
      "authorship_tag": "ABX9TyN5X1Q9Ec7X7R8nF520uDjY",
      "include_colab_link": true
    },
    "kernelspec": {
      "name": "python3",
      "display_name": "Python 3"
    },
    "language_info": {
      "name": "python"
    }
  },
  "cells": [
    {
      "cell_type": "markdown",
      "metadata": {
        "id": "view-in-github",
        "colab_type": "text"
      },
      "source": [
        "<a href=\"https://colab.research.google.com/github/heejjj/Health_Bio_AI/blob/main/0531_bio_python.ipynb\" target=\"_parent\"><img src=\"https://colab.research.google.com/assets/colab-badge.svg\" alt=\"Open In Colab\"/></a>"
      ]
    },
    {
      "cell_type": "code",
      "execution_count": null,
      "metadata": {
        "colab": {
          "base_uri": "https://localhost:8080/"
        },
        "id": "iuKnPW1Gefop",
        "outputId": "05e47b87-0c6c-41d8-cbef-106387977c5c"
      },
      "outputs": [
        {
          "output_type": "stream",
          "name": "stdout",
          "text": [
            "Looking in indexes: https://pypi.org/simple, https://us-python.pkg.dev/colab-wheels/public/simple/\n",
            "Collecting biopython\n",
            "  Downloading biopython-1.81-cp310-cp310-manylinux_2_17_x86_64.manylinux2014_x86_64.whl (3.1 MB)\n",
            "\u001b[2K     \u001b[90m━━━━━━━━━━━━━━━━━━━━━━━━━━━━━━━━━━━━━━━━\u001b[0m \u001b[32m3.1/3.1 MB\u001b[0m \u001b[31m29.0 MB/s\u001b[0m eta \u001b[36m0:00:00\u001b[0m\n",
            "\u001b[?25hRequirement already satisfied: numpy in /usr/local/lib/python3.10/dist-packages (from biopython) (1.22.4)\n",
            "Installing collected packages: biopython\n",
            "Successfully installed biopython-1.81\n"
          ]
        }
      ],
      "source": [
        "! pip install biopython"
      ]
    },
    {
      "cell_type": "code",
      "source": [
        "import Bio\n",
        "Bio.__version__"
      ],
      "metadata": {
        "colab": {
          "base_uri": "https://localhost:8080/",
          "height": 35
        },
        "id": "eEFCU67iev_q",
        "outputId": "1af03b24-ad2d-455f-b9ce-b9dd6467b746"
      },
      "execution_count": null,
      "outputs": [
        {
          "output_type": "execute_result",
          "data": {
            "text/plain": [
              "'1.81'"
            ],
            "application/vnd.google.colaboratory.intrinsic+json": {
              "type": "string"
            }
          },
          "metadata": {},
          "execution_count": 2
        }
      ]
    },
    {
      "cell_type": "code",
      "source": [
        "Bio.__doc__"
      ],
      "metadata": {
        "colab": {
          "base_uri": "https://localhost:8080/",
          "height": 54
        },
        "id": "K-KOQ7ree1Ks",
        "outputId": "5d10b655-b040-493a-b835-eb6ceeece6f4"
      },
      "execution_count": null,
      "outputs": [
        {
          "output_type": "execute_result",
          "data": {
            "text/plain": [
              "'Collection of modules for dealing with biological data in Python.\\n\\nThe Biopython Project is an international association of developers\\nof freely available Python tools for computational molecular biology.\\n\\nhttps://biopython.org\\n'"
            ],
            "application/vnd.google.colaboratory.intrinsic+json": {
              "type": "string"
            }
          },
          "metadata": {},
          "execution_count": 3
        }
      ]
    },
    {
      "cell_type": "code",
      "source": [
        "#Installed path\n",
        "Bio.__path__"
      ],
      "metadata": {
        "colab": {
          "base_uri": "https://localhost:8080/"
        },
        "id": "BVA3q7SGe7tu",
        "outputId": "bfe6849e-99a9-4618-f32c-960d49a29545"
      },
      "execution_count": null,
      "outputs": [
        {
          "output_type": "execute_result",
          "data": {
            "text/plain": [
              "['/usr/local/lib/python3.10/dist-packages/Bio']"
            ]
          },
          "metadata": {},
          "execution_count": 4
        }
      ]
    },
    {
      "cell_type": "code",
      "source": [
        "! pip install -r requirements.txt"
      ],
      "metadata": {
        "colab": {
          "base_uri": "https://localhost:8080/",
          "height": 1000
        },
        "id": "Z_GtNZTu2Mkg",
        "outputId": "e273270a-01b0-4ef7-f3ba-e0302a4eaa2c"
      },
      "execution_count": null,
      "outputs": [
        {
          "output_type": "stream",
          "name": "stdout",
          "text": [
            "Looking in indexes: https://pypi.org/simple, https://us-python.pkg.dev/colab-wheels/public/simple/\n",
            "Collecting jupyter==1.0.0 (from -r requirements.txt (line 1))\n",
            "  Downloading jupyter-1.0.0-py2.py3-none-any.whl (2.7 kB)\n",
            "Collecting pandas==1.5.2 (from -r requirements.txt (line 2))\n",
            "  Downloading pandas-1.5.2-cp310-cp310-manylinux_2_17_x86_64.manylinux2014_x86_64.whl (12.1 MB)\n",
            "\u001b[2K     \u001b[90m━━━━━━━━━━━━━━━━━━━━━━━━━━━━━━━━━━━━━━━━\u001b[0m \u001b[32m12.1/12.1 MB\u001b[0m \u001b[31m58.5 MB/s\u001b[0m eta \u001b[36m0:00:00\u001b[0m\n",
            "\u001b[?25hCollecting seaborn==0.12.1 (from -r requirements.txt (line 3))\n",
            "  Downloading seaborn-0.12.1-py3-none-any.whl (288 kB)\n",
            "\u001b[2K     \u001b[90m━━━━━━━━━━━━━━━━━━━━━━━━━━━━━━━━━━━━━━\u001b[0m \u001b[32m288.2/288.2 kB\u001b[0m \u001b[31m20.9 MB/s\u001b[0m eta \u001b[36m0:00:00\u001b[0m\n",
            "\u001b[?25hCollecting matplotlib==3.6.2 (from -r requirements.txt (line 4))\n",
            "  Downloading matplotlib-3.6.2-cp310-cp310-manylinux_2_17_x86_64.manylinux2014_x86_64.whl (11.8 MB)\n",
            "\u001b[2K     \u001b[90m━━━━━━━━━━━━━━━━━━━━━━━━━━━━━━━━━━━━━━━━\u001b[0m \u001b[32m11.8/11.8 MB\u001b[0m \u001b[31m73.1 MB/s\u001b[0m eta \u001b[36m0:00:00\u001b[0m\n",
            "\u001b[?25hRequirement already satisfied: openpyxl==3.0.10 in /usr/local/lib/python3.10/dist-packages (from -r requirements.txt (line 5)) (3.0.10)\n",
            "Collecting scikit-learn==1.2.0 (from -r requirements.txt (line 6))\n",
            "  Downloading scikit_learn-1.2.0-cp310-cp310-manylinux_2_17_x86_64.manylinux2014_x86_64.whl (9.5 MB)\n",
            "\u001b[2K     \u001b[90m━━━━━━━━━━━━━━━━━━━━━━━━━━━━━━━━━━━━━━━━\u001b[0m \u001b[32m9.5/9.5 MB\u001b[0m \u001b[31m53.9 MB/s\u001b[0m eta \u001b[36m0:00:00\u001b[0m\n",
            "\u001b[?25hCollecting biomart==0.9.2 (from -r requirements.txt (line 7))\n",
            "  Downloading biomart-0.9.2-py3-none-any.whl (12 kB)\n",
            "Collecting gseapy==1.0.4 (from -r requirements.txt (line 8))\n",
            "  Downloading gseapy-1.0.4-cp310-cp310-manylinux_2_17_x86_64.manylinux2014_x86_64.whl (1.3 MB)\n",
            "\u001b[2K     \u001b[90m━━━━━━━━━━━━━━━━━━━━━━━━━━━━━━━━━━━━━━━━\u001b[0m \u001b[32m1.3/1.3 MB\u001b[0m \u001b[31m64.8 MB/s\u001b[0m eta \u001b[36m0:00:00\u001b[0m\n",
            "\u001b[?25hRequirement already satisfied: scipy==1.10.1 in /usr/local/lib/python3.10/dist-packages (from -r requirements.txt (line 9)) (1.10.1)\n",
            "Requirement already satisfied: statsmodels==0.13.5 in /usr/local/lib/python3.10/dist-packages (from -r requirements.txt (line 10)) (0.13.5)\n",
            "Collecting scikit-bio==0.5.8 (from -r requirements.txt (line 11))\n",
            "  Downloading scikit-bio-0.5.8.tar.gz (3.5 MB)\n",
            "\u001b[2K     \u001b[90m━━━━━━━━━━━━━━━━━━━━━━━━━━━━━━━━━━━━━━━━\u001b[0m \u001b[32m3.5/3.5 MB\u001b[0m \u001b[31m79.2 MB/s\u001b[0m eta \u001b[36m0:00:00\u001b[0m\n",
            "\u001b[?25h  Installing build dependencies ... \u001b[?25l\u001b[?25hdone\n",
            "  Getting requirements to build wheel ... \u001b[?25l\u001b[?25hdone\n",
            "  Preparing metadata (pyproject.toml) ... \u001b[?25l\u001b[?25hdone\n",
            "Requirement already satisfied: tensorflow==2.12.0 in /usr/local/lib/python3.10/dist-packages (from -r requirements.txt (line 12)) (2.12.0)\n",
            "Collecting qmplot==0.3.2 (from -r requirements.txt (line 13))\n",
            "  Downloading qmplot-0.3.2.tar.gz (27 kB)\n",
            "  Preparing metadata (setup.py) ... \u001b[?25l\u001b[?25hdone\n",
            "Requirement already satisfied: matplotlib-venn==0.11.9 in /usr/local/lib/python3.10/dist-packages (from -r requirements.txt (line 14)) (0.11.9)\n",
            "Requirement already satisfied: notebook in /usr/local/lib/python3.10/dist-packages (from jupyter==1.0.0->-r requirements.txt (line 1)) (6.4.8)\n",
            "Collecting qtconsole (from jupyter==1.0.0->-r requirements.txt (line 1))\n",
            "  Downloading qtconsole-5.4.3-py3-none-any.whl (121 kB)\n",
            "\u001b[2K     \u001b[90m━━━━━━━━━━━━━━━━━━━━━━━━━━━━━━━━━━━━━━━\u001b[0m \u001b[32m121.9/121.9 kB\u001b[0m \u001b[31m9.4 MB/s\u001b[0m eta \u001b[36m0:00:00\u001b[0m\n",
            "\u001b[?25hRequirement already satisfied: jupyter-console in /usr/local/lib/python3.10/dist-packages (from jupyter==1.0.0->-r requirements.txt (line 1)) (6.1.0)\n",
            "Requirement already satisfied: nbconvert in /usr/local/lib/python3.10/dist-packages (from jupyter==1.0.0->-r requirements.txt (line 1)) (6.5.4)\n",
            "Requirement already satisfied: ipykernel in /usr/local/lib/python3.10/dist-packages (from jupyter==1.0.0->-r requirements.txt (line 1)) (5.5.6)\n",
            "Requirement already satisfied: ipywidgets in /usr/local/lib/python3.10/dist-packages (from jupyter==1.0.0->-r requirements.txt (line 1)) (7.7.1)\n",
            "Requirement already satisfied: python-dateutil>=2.8.1 in /usr/local/lib/python3.10/dist-packages (from pandas==1.5.2->-r requirements.txt (line 2)) (2.8.2)\n",
            "Requirement already satisfied: pytz>=2020.1 in /usr/local/lib/python3.10/dist-packages (from pandas==1.5.2->-r requirements.txt (line 2)) (2022.7.1)\n",
            "Requirement already satisfied: numpy>=1.21.0 in /usr/local/lib/python3.10/dist-packages (from pandas==1.5.2->-r requirements.txt (line 2)) (1.22.4)\n",
            "Requirement already satisfied: contourpy>=1.0.1 in /usr/local/lib/python3.10/dist-packages (from matplotlib==3.6.2->-r requirements.txt (line 4)) (1.0.7)\n",
            "Requirement already satisfied: cycler>=0.10 in /usr/local/lib/python3.10/dist-packages (from matplotlib==3.6.2->-r requirements.txt (line 4)) (0.11.0)\n",
            "Requirement already satisfied: fonttools>=4.22.0 in /usr/local/lib/python3.10/dist-packages (from matplotlib==3.6.2->-r requirements.txt (line 4)) (4.39.3)\n",
            "Requirement already satisfied: kiwisolver>=1.0.1 in /usr/local/lib/python3.10/dist-packages (from matplotlib==3.6.2->-r requirements.txt (line 4)) (1.4.4)\n",
            "Requirement already satisfied: packaging>=20.0 in /usr/local/lib/python3.10/dist-packages (from matplotlib==3.6.2->-r requirements.txt (line 4)) (23.1)\n",
            "Requirement already satisfied: pillow>=6.2.0 in /usr/local/lib/python3.10/dist-packages (from matplotlib==3.6.2->-r requirements.txt (line 4)) (8.4.0)\n",
            "Requirement already satisfied: pyparsing>=2.2.1 in /usr/local/lib/python3.10/dist-packages (from matplotlib==3.6.2->-r requirements.txt (line 4)) (3.0.9)\n",
            "Requirement already satisfied: et-xmlfile in /usr/local/lib/python3.10/dist-packages (from openpyxl==3.0.10->-r requirements.txt (line 5)) (1.1.0)\n",
            "Requirement already satisfied: joblib>=1.1.1 in /usr/local/lib/python3.10/dist-packages (from scikit-learn==1.2.0->-r requirements.txt (line 6)) (1.2.0)\n",
            "Requirement already satisfied: threadpoolctl>=2.0.0 in /usr/local/lib/python3.10/dist-packages (from scikit-learn==1.2.0->-r requirements.txt (line 6)) (3.1.0)\n",
            "Requirement already satisfied: requests>=2.2 in /usr/local/lib/python3.10/dist-packages (from biomart==0.9.2->-r requirements.txt (line 7)) (2.27.1)\n",
            "Requirement already satisfied: patsy>=0.5.2 in /usr/local/lib/python3.10/dist-packages (from statsmodels==0.13.5->-r requirements.txt (line 10)) (0.5.3)\n",
            "Collecting lockfile>=0.10.2 (from scikit-bio==0.5.8->-r requirements.txt (line 11))\n",
            "  Downloading lockfile-0.12.2-py2.py3-none-any.whl (13 kB)\n",
            "Requirement already satisfied: CacheControl>=0.11.5 in /usr/local/lib/python3.10/dist-packages (from scikit-bio==0.5.8->-r requirements.txt (line 11)) (0.12.11)\n",
            "Requirement already satisfied: decorator>=3.4.2 in /usr/local/lib/python3.10/dist-packages (from scikit-bio==0.5.8->-r requirements.txt (line 11)) (4.4.2)\n",
            "Requirement already satisfied: IPython>=3.2.0 in /usr/local/lib/python3.10/dist-packages (from scikit-bio==0.5.8->-r requirements.txt (line 11)) (7.34.0)\n",
            "Requirement already satisfied: natsort>=4.0.3 in /usr/local/lib/python3.10/dist-packages (from scikit-bio==0.5.8->-r requirements.txt (line 11)) (8.3.1)\n",
            "Requirement already satisfied: h5py>=3.6.0 in /usr/local/lib/python3.10/dist-packages (from scikit-bio==0.5.8->-r requirements.txt (line 11)) (3.8.0)\n",
            "Collecting hdmedians>=0.14.1 (from scikit-bio==0.5.8->-r requirements.txt (line 11))\n",
            "  Downloading hdmedians-0.14.2.tar.gz (7.6 kB)\n",
            "  Installing build dependencies ... \u001b[?25l\u001b[?25hdone\n",
            "  Getting requirements to build wheel ... \u001b[?25l\u001b[?25hdone\n",
            "  Installing backend dependencies ... \u001b[?25l\u001b[?25hdone\n",
            "  Preparing metadata (pyproject.toml) ... \u001b[?25l\u001b[?25hdone\n",
            "Requirement already satisfied: absl-py>=1.0.0 in /usr/local/lib/python3.10/dist-packages (from tensorflow==2.12.0->-r requirements.txt (line 12)) (1.4.0)\n",
            "Requirement already satisfied: astunparse>=1.6.0 in /usr/local/lib/python3.10/dist-packages (from tensorflow==2.12.0->-r requirements.txt (line 12)) (1.6.3)\n",
            "Requirement already satisfied: flatbuffers>=2.0 in /usr/local/lib/python3.10/dist-packages (from tensorflow==2.12.0->-r requirements.txt (line 12)) (23.3.3)\n",
            "Requirement already satisfied: gast<=0.4.0,>=0.2.1 in /usr/local/lib/python3.10/dist-packages (from tensorflow==2.12.0->-r requirements.txt (line 12)) (0.4.0)\n",
            "Requirement already satisfied: google-pasta>=0.1.1 in /usr/local/lib/python3.10/dist-packages (from tensorflow==2.12.0->-r requirements.txt (line 12)) (0.2.0)\n",
            "Requirement already satisfied: grpcio<2.0,>=1.24.3 in /usr/local/lib/python3.10/dist-packages (from tensorflow==2.12.0->-r requirements.txt (line 12)) (1.54.0)\n",
            "Requirement already satisfied: jax>=0.3.15 in /usr/local/lib/python3.10/dist-packages (from tensorflow==2.12.0->-r requirements.txt (line 12)) (0.4.10)\n",
            "Requirement already satisfied: keras<2.13,>=2.12.0 in /usr/local/lib/python3.10/dist-packages (from tensorflow==2.12.0->-r requirements.txt (line 12)) (2.12.0)\n",
            "Requirement already satisfied: libclang>=13.0.0 in /usr/local/lib/python3.10/dist-packages (from tensorflow==2.12.0->-r requirements.txt (line 12)) (16.0.0)\n",
            "Requirement already satisfied: opt-einsum>=2.3.2 in /usr/local/lib/python3.10/dist-packages (from tensorflow==2.12.0->-r requirements.txt (line 12)) (3.3.0)\n",
            "Requirement already satisfied: protobuf!=4.21.0,!=4.21.1,!=4.21.2,!=4.21.3,!=4.21.4,!=4.21.5,<5.0.0dev,>=3.20.3 in /usr/local/lib/python3.10/dist-packages (from tensorflow==2.12.0->-r requirements.txt (line 12)) (3.20.3)\n",
            "Requirement already satisfied: setuptools in /usr/local/lib/python3.10/dist-packages (from tensorflow==2.12.0->-r requirements.txt (line 12)) (67.7.2)\n",
            "Requirement already satisfied: six>=1.12.0 in /usr/local/lib/python3.10/dist-packages (from tensorflow==2.12.0->-r requirements.txt (line 12)) (1.16.0)\n",
            "Requirement already satisfied: tensorboard<2.13,>=2.12 in /usr/local/lib/python3.10/dist-packages (from tensorflow==2.12.0->-r requirements.txt (line 12)) (2.12.2)\n",
            "Requirement already satisfied: tensorflow-estimator<2.13,>=2.12.0 in /usr/local/lib/python3.10/dist-packages (from tensorflow==2.12.0->-r requirements.txt (line 12)) (2.12.0)\n",
            "Requirement already satisfied: termcolor>=1.1.0 in /usr/local/lib/python3.10/dist-packages (from tensorflow==2.12.0->-r requirements.txt (line 12)) (2.3.0)\n",
            "Requirement already satisfied: typing-extensions>=3.6.6 in /usr/local/lib/python3.10/dist-packages (from tensorflow==2.12.0->-r requirements.txt (line 12)) (4.5.0)\n",
            "Requirement already satisfied: wrapt<1.15,>=1.11.0 in /usr/local/lib/python3.10/dist-packages (from tensorflow==2.12.0->-r requirements.txt (line 12)) (1.14.1)\n",
            "Requirement already satisfied: tensorflow-io-gcs-filesystem>=0.23.1 in /usr/local/lib/python3.10/dist-packages (from tensorflow==2.12.0->-r requirements.txt (line 12)) (0.32.0)\n",
            "Requirement already satisfied: wheel<1.0,>=0.23.0 in /usr/local/lib/python3.10/dist-packages (from astunparse>=1.6.0->tensorflow==2.12.0->-r requirements.txt (line 12)) (0.40.0)\n",
            "Requirement already satisfied: msgpack>=0.5.2 in /usr/local/lib/python3.10/dist-packages (from CacheControl>=0.11.5->scikit-bio==0.5.8->-r requirements.txt (line 11)) (1.0.5)\n",
            "Requirement already satisfied: Cython>=0.23 in /usr/local/lib/python3.10/dist-packages (from hdmedians>=0.14.1->scikit-bio==0.5.8->-r requirements.txt (line 11)) (0.29.34)\n",
            "Collecting jedi>=0.16 (from IPython>=3.2.0->scikit-bio==0.5.8->-r requirements.txt (line 11))\n",
            "  Downloading jedi-0.18.2-py2.py3-none-any.whl (1.6 MB)\n",
            "\u001b[2K     \u001b[90m━━━━━━━━━━━━━━━━━━━━━━━━━━━━━━━━━━━━━━━━\u001b[0m \u001b[32m1.6/1.6 MB\u001b[0m \u001b[31m72.1 MB/s\u001b[0m eta \u001b[36m0:00:00\u001b[0m\n",
            "\u001b[?25hRequirement already satisfied: pickleshare in /usr/local/lib/python3.10/dist-packages (from IPython>=3.2.0->scikit-bio==0.5.8->-r requirements.txt (line 11)) (0.7.5)\n",
            "Requirement already satisfied: traitlets>=4.2 in /usr/local/lib/python3.10/dist-packages (from IPython>=3.2.0->scikit-bio==0.5.8->-r requirements.txt (line 11)) (5.7.1)\n",
            "Requirement already satisfied: prompt-toolkit!=3.0.0,!=3.0.1,<3.1.0,>=2.0.0 in /usr/local/lib/python3.10/dist-packages (from IPython>=3.2.0->scikit-bio==0.5.8->-r requirements.txt (line 11)) (3.0.38)\n",
            "Requirement already satisfied: pygments in /usr/local/lib/python3.10/dist-packages (from IPython>=3.2.0->scikit-bio==0.5.8->-r requirements.txt (line 11)) (2.14.0)\n",
            "Requirement already satisfied: backcall in /usr/local/lib/python3.10/dist-packages (from IPython>=3.2.0->scikit-bio==0.5.8->-r requirements.txt (line 11)) (0.2.0)\n",
            "Requirement already satisfied: matplotlib-inline in /usr/local/lib/python3.10/dist-packages (from IPython>=3.2.0->scikit-bio==0.5.8->-r requirements.txt (line 11)) (0.1.6)\n",
            "Requirement already satisfied: pexpect>4.3 in /usr/local/lib/python3.10/dist-packages (from IPython>=3.2.0->scikit-bio==0.5.8->-r requirements.txt (line 11)) (4.8.0)\n",
            "Requirement already satisfied: ml-dtypes>=0.1.0 in /usr/local/lib/python3.10/dist-packages (from jax>=0.3.15->tensorflow==2.12.0->-r requirements.txt (line 12)) (0.1.0)\n",
            "Requirement already satisfied: urllib3<1.27,>=1.21.1 in /usr/local/lib/python3.10/dist-packages (from requests>=2.2->biomart==0.9.2->-r requirements.txt (line 7)) (1.26.15)\n",
            "Requirement already satisfied: certifi>=2017.4.17 in /usr/local/lib/python3.10/dist-packages (from requests>=2.2->biomart==0.9.2->-r requirements.txt (line 7)) (2022.12.7)\n",
            "Requirement already satisfied: charset-normalizer~=2.0.0 in /usr/local/lib/python3.10/dist-packages (from requests>=2.2->biomart==0.9.2->-r requirements.txt (line 7)) (2.0.12)\n",
            "Requirement already satisfied: idna<4,>=2.5 in /usr/local/lib/python3.10/dist-packages (from requests>=2.2->biomart==0.9.2->-r requirements.txt (line 7)) (3.4)\n",
            "Requirement already satisfied: google-auth<3,>=1.6.3 in /usr/local/lib/python3.10/dist-packages (from tensorboard<2.13,>=2.12->tensorflow==2.12.0->-r requirements.txt (line 12)) (2.17.3)\n",
            "Requirement already satisfied: google-auth-oauthlib<1.1,>=0.5 in /usr/local/lib/python3.10/dist-packages (from tensorboard<2.13,>=2.12->tensorflow==2.12.0->-r requirements.txt (line 12)) (1.0.0)\n",
            "Requirement already satisfied: markdown>=2.6.8 in /usr/local/lib/python3.10/dist-packages (from tensorboard<2.13,>=2.12->tensorflow==2.12.0->-r requirements.txt (line 12)) (3.4.3)\n",
            "Requirement already satisfied: tensorboard-data-server<0.8.0,>=0.7.0 in /usr/local/lib/python3.10/dist-packages (from tensorboard<2.13,>=2.12->tensorflow==2.12.0->-r requirements.txt (line 12)) (0.7.0)\n",
            "Requirement already satisfied: tensorboard-plugin-wit>=1.6.0 in /usr/local/lib/python3.10/dist-packages (from tensorboard<2.13,>=2.12->tensorflow==2.12.0->-r requirements.txt (line 12)) (1.8.1)\n",
            "Requirement already satisfied: werkzeug>=1.0.1 in /usr/local/lib/python3.10/dist-packages (from tensorboard<2.13,>=2.12->tensorflow==2.12.0->-r requirements.txt (line 12)) (2.3.0)\n",
            "Requirement already satisfied: ipython-genutils in /usr/local/lib/python3.10/dist-packages (from ipykernel->jupyter==1.0.0->-r requirements.txt (line 1)) (0.2.0)\n",
            "Requirement already satisfied: jupyter-client in /usr/local/lib/python3.10/dist-packages (from ipykernel->jupyter==1.0.0->-r requirements.txt (line 1)) (6.1.12)\n",
            "Requirement already satisfied: tornado>=4.2 in /usr/local/lib/python3.10/dist-packages (from ipykernel->jupyter==1.0.0->-r requirements.txt (line 1)) (6.3.1)\n",
            "Requirement already satisfied: widgetsnbextension~=3.6.0 in /usr/local/lib/python3.10/dist-packages (from ipywidgets->jupyter==1.0.0->-r requirements.txt (line 1)) (3.6.4)\n",
            "Requirement already satisfied: jupyterlab-widgets>=1.0.0 in /usr/local/lib/python3.10/dist-packages (from ipywidgets->jupyter==1.0.0->-r requirements.txt (line 1)) (3.0.7)\n",
            "Requirement already satisfied: lxml in /usr/local/lib/python3.10/dist-packages (from nbconvert->jupyter==1.0.0->-r requirements.txt (line 1)) (4.9.2)\n",
            "Requirement already satisfied: beautifulsoup4 in /usr/local/lib/python3.10/dist-packages (from nbconvert->jupyter==1.0.0->-r requirements.txt (line 1)) (4.11.2)\n",
            "Requirement already satisfied: bleach in /usr/local/lib/python3.10/dist-packages (from nbconvert->jupyter==1.0.0->-r requirements.txt (line 1)) (6.0.0)\n",
            "Requirement already satisfied: defusedxml in /usr/local/lib/python3.10/dist-packages (from nbconvert->jupyter==1.0.0->-r requirements.txt (line 1)) (0.7.1)\n",
            "Requirement already satisfied: entrypoints>=0.2.2 in /usr/local/lib/python3.10/dist-packages (from nbconvert->jupyter==1.0.0->-r requirements.txt (line 1)) (0.4)\n",
            "Requirement already satisfied: jinja2>=3.0 in /usr/local/lib/python3.10/dist-packages (from nbconvert->jupyter==1.0.0->-r requirements.txt (line 1)) (3.1.2)\n",
            "Requirement already satisfied: jupyter-core>=4.7 in /usr/local/lib/python3.10/dist-packages (from nbconvert->jupyter==1.0.0->-r requirements.txt (line 1)) (5.3.0)\n",
            "Requirement already satisfied: jupyterlab-pygments in /usr/local/lib/python3.10/dist-packages (from nbconvert->jupyter==1.0.0->-r requirements.txt (line 1)) (0.2.2)\n",
            "Requirement already satisfied: MarkupSafe>=2.0 in /usr/local/lib/python3.10/dist-packages (from nbconvert->jupyter==1.0.0->-r requirements.txt (line 1)) (2.1.2)\n",
            "Requirement already satisfied: mistune<2,>=0.8.1 in /usr/local/lib/python3.10/dist-packages (from nbconvert->jupyter==1.0.0->-r requirements.txt (line 1)) (0.8.4)\n",
            "Requirement already satisfied: nbclient>=0.5.0 in /usr/local/lib/python3.10/dist-packages (from nbconvert->jupyter==1.0.0->-r requirements.txt (line 1)) (0.7.4)\n",
            "Requirement already satisfied: nbformat>=5.1 in /usr/local/lib/python3.10/dist-packages (from nbconvert->jupyter==1.0.0->-r requirements.txt (line 1)) (5.8.0)\n",
            "Requirement already satisfied: pandocfilters>=1.4.1 in /usr/local/lib/python3.10/dist-packages (from nbconvert->jupyter==1.0.0->-r requirements.txt (line 1)) (1.5.0)\n",
            "Requirement already satisfied: tinycss2 in /usr/local/lib/python3.10/dist-packages (from nbconvert->jupyter==1.0.0->-r requirements.txt (line 1)) (1.2.1)\n",
            "Requirement already satisfied: pyzmq>=17 in /usr/local/lib/python3.10/dist-packages (from notebook->jupyter==1.0.0->-r requirements.txt (line 1)) (23.2.1)\n",
            "Requirement already satisfied: argon2-cffi in /usr/local/lib/python3.10/dist-packages (from notebook->jupyter==1.0.0->-r requirements.txt (line 1)) (21.3.0)\n",
            "Requirement already satisfied: nest-asyncio>=1.5 in /usr/local/lib/python3.10/dist-packages (from notebook->jupyter==1.0.0->-r requirements.txt (line 1)) (1.5.6)\n",
            "Requirement already satisfied: Send2Trash>=1.8.0 in /usr/local/lib/python3.10/dist-packages (from notebook->jupyter==1.0.0->-r requirements.txt (line 1)) (1.8.0)\n",
            "Requirement already satisfied: terminado>=0.8.3 in /usr/local/lib/python3.10/dist-packages (from notebook->jupyter==1.0.0->-r requirements.txt (line 1)) (0.17.1)\n",
            "Requirement already satisfied: prometheus-client in /usr/local/lib/python3.10/dist-packages (from notebook->jupyter==1.0.0->-r requirements.txt (line 1)) (0.16.0)\n",
            "Collecting qtpy>=2.0.1 (from qtconsole->jupyter==1.0.0->-r requirements.txt (line 1))\n",
            "  Downloading QtPy-2.3.1-py3-none-any.whl (84 kB)\n",
            "\u001b[2K     \u001b[90m━━━━━━━━━━━━━━━━━━━━━━━━━━━━━━━━━━━━━━━━\u001b[0m \u001b[32m84.9/84.9 kB\u001b[0m \u001b[31m7.9 MB/s\u001b[0m eta \u001b[36m0:00:00\u001b[0m\n",
            "\u001b[?25hRequirement already satisfied: cachetools<6.0,>=2.0.0 in /usr/local/lib/python3.10/dist-packages (from google-auth<3,>=1.6.3->tensorboard<2.13,>=2.12->tensorflow==2.12.0->-r requirements.txt (line 12)) (5.3.0)\n",
            "Requirement already satisfied: pyasn1-modules>=0.2.1 in /usr/local/lib/python3.10/dist-packages (from google-auth<3,>=1.6.3->tensorboard<2.13,>=2.12->tensorflow==2.12.0->-r requirements.txt (line 12)) (0.3.0)\n",
            "Requirement already satisfied: rsa<5,>=3.1.4 in /usr/local/lib/python3.10/dist-packages (from google-auth<3,>=1.6.3->tensorboard<2.13,>=2.12->tensorflow==2.12.0->-r requirements.txt (line 12)) (4.9)\n",
            "Requirement already satisfied: requests-oauthlib>=0.7.0 in /usr/local/lib/python3.10/dist-packages (from google-auth-oauthlib<1.1,>=0.5->tensorboard<2.13,>=2.12->tensorflow==2.12.0->-r requirements.txt (line 12)) (1.3.1)\n",
            "Requirement already satisfied: parso<0.9.0,>=0.8.0 in /usr/local/lib/python3.10/dist-packages (from jedi>=0.16->IPython>=3.2.0->scikit-bio==0.5.8->-r requirements.txt (line 11)) (0.8.3)\n",
            "Requirement already satisfied: platformdirs>=2.5 in /usr/local/lib/python3.10/dist-packages (from jupyter-core>=4.7->nbconvert->jupyter==1.0.0->-r requirements.txt (line 1)) (3.3.0)\n",
            "Requirement already satisfied: fastjsonschema in /usr/local/lib/python3.10/dist-packages (from nbformat>=5.1->nbconvert->jupyter==1.0.0->-r requirements.txt (line 1)) (2.16.3)\n",
            "Requirement already satisfied: jsonschema>=2.6 in /usr/local/lib/python3.10/dist-packages (from nbformat>=5.1->nbconvert->jupyter==1.0.0->-r requirements.txt (line 1)) (4.3.3)\n",
            "Requirement already satisfied: ptyprocess>=0.5 in /usr/local/lib/python3.10/dist-packages (from pexpect>4.3->IPython>=3.2.0->scikit-bio==0.5.8->-r requirements.txt (line 11)) (0.7.0)\n",
            "Requirement already satisfied: wcwidth in /usr/local/lib/python3.10/dist-packages (from prompt-toolkit!=3.0.0,!=3.0.1,<3.1.0,>=2.0.0->IPython>=3.2.0->scikit-bio==0.5.8->-r requirements.txt (line 11)) (0.2.6)\n",
            "Requirement already satisfied: argon2-cffi-bindings in /usr/local/lib/python3.10/dist-packages (from argon2-cffi->notebook->jupyter==1.0.0->-r requirements.txt (line 1)) (21.2.0)\n",
            "Requirement already satisfied: soupsieve>1.2 in /usr/local/lib/python3.10/dist-packages (from beautifulsoup4->nbconvert->jupyter==1.0.0->-r requirements.txt (line 1)) (2.4.1)\n",
            "Requirement already satisfied: webencodings in /usr/local/lib/python3.10/dist-packages (from bleach->nbconvert->jupyter==1.0.0->-r requirements.txt (line 1)) (0.5.1)\n",
            "Requirement already satisfied: attrs>=17.4.0 in /usr/local/lib/python3.10/dist-packages (from jsonschema>=2.6->nbformat>=5.1->nbconvert->jupyter==1.0.0->-r requirements.txt (line 1)) (23.1.0)\n",
            "Requirement already satisfied: pyrsistent!=0.17.0,!=0.17.1,!=0.17.2,>=0.14.0 in /usr/local/lib/python3.10/dist-packages (from jsonschema>=2.6->nbformat>=5.1->nbconvert->jupyter==1.0.0->-r requirements.txt (line 1)) (0.19.3)\n",
            "Requirement already satisfied: pyasn1<0.6.0,>=0.4.6 in /usr/local/lib/python3.10/dist-packages (from pyasn1-modules>=0.2.1->google-auth<3,>=1.6.3->tensorboard<2.13,>=2.12->tensorflow==2.12.0->-r requirements.txt (line 12)) (0.5.0)\n",
            "Requirement already satisfied: oauthlib>=3.0.0 in /usr/local/lib/python3.10/dist-packages (from requests-oauthlib>=0.7.0->google-auth-oauthlib<1.1,>=0.5->tensorboard<2.13,>=2.12->tensorflow==2.12.0->-r requirements.txt (line 12)) (3.2.2)\n",
            "Requirement already satisfied: cffi>=1.0.1 in /usr/local/lib/python3.10/dist-packages (from argon2-cffi-bindings->argon2-cffi->notebook->jupyter==1.0.0->-r requirements.txt (line 1)) (1.15.1)\n",
            "Requirement already satisfied: pycparser in /usr/local/lib/python3.10/dist-packages (from cffi>=1.0.1->argon2-cffi-bindings->argon2-cffi->notebook->jupyter==1.0.0->-r requirements.txt (line 1)) (2.21)\n",
            "Building wheels for collected packages: scikit-bio, qmplot, hdmedians\n",
            "  Building wheel for scikit-bio (pyproject.toml) ... \u001b[?25l\u001b[?25hdone\n",
            "  Created wheel for scikit-bio: filename=scikit_bio-0.5.8-cp310-cp310-linux_x86_64.whl size=2670802 sha256=c6a8c3030eb4ea70766fc8c75f41ba432829ba07537f459dbaa96c0b83e957ba\n",
            "  Stored in directory: /root/.cache/pip/wheels/e8/5c/a6/323c02049541684538df2610cc63f0157ecb8995cac53667d3\n",
            "  Building wheel for qmplot (setup.py) ... \u001b[?25l\u001b[?25hdone\n",
            "  Created wheel for qmplot: filename=qmplot-0.3.2-py3-none-any.whl size=25537 sha256=df854b5db9454aec2f83576f9fa9b763cd4c68acbdc1f7229dda48e051f5de19\n",
            "  Stored in directory: /root/.cache/pip/wheels/b7/50/f9/013ad8e0c8da00055464ebd46d24ef37dd8786f3d352bd4a35\n",
            "  Building wheel for hdmedians (pyproject.toml) ... \u001b[?25l\u001b[?25hdone\n",
            "  Created wheel for hdmedians: filename=hdmedians-0.14.2-cp310-cp310-linux_x86_64.whl size=672983 sha256=8e023477b639f9a233c2d903513b8108ad976f96867436dd7348f2116cc146fc\n",
            "  Stored in directory: /root/.cache/pip/wheels/82/8f/0d/0c61130cfad119482ebb95aecf8d5dfaddd0181f5680da2bec\n",
            "Successfully built scikit-bio qmplot hdmedians\n",
            "Installing collected packages: lockfile, qtpy, jedi, hdmedians, scikit-learn, pandas, matplotlib, biomart, seaborn, scikit-bio, qmplot, gseapy, qtconsole, jupyter\n",
            "  Attempting uninstall: scikit-learn\n",
            "    Found existing installation: scikit-learn 1.2.2\n",
            "    Uninstalling scikit-learn-1.2.2:\n",
            "      Successfully uninstalled scikit-learn-1.2.2\n",
            "  Attempting uninstall: pandas\n",
            "    Found existing installation: pandas 1.5.3\n",
            "    Uninstalling pandas-1.5.3:\n",
            "      Successfully uninstalled pandas-1.5.3\n",
            "  Attempting uninstall: matplotlib\n",
            "    Found existing installation: matplotlib 3.7.1\n",
            "    Uninstalling matplotlib-3.7.1:\n",
            "      Successfully uninstalled matplotlib-3.7.1\n",
            "  Attempting uninstall: seaborn\n",
            "    Found existing installation: seaborn 0.12.2\n",
            "    Uninstalling seaborn-0.12.2:\n",
            "      Successfully uninstalled seaborn-0.12.2\n",
            "\u001b[31mERROR: pip's dependency resolver does not currently take into account all the packages that are installed. This behaviour is the source of the following dependency conflicts.\n",
            "google-colab 1.0.0 requires pandas==1.5.3, but you have pandas 1.5.2 which is incompatible.\u001b[0m\u001b[31m\n",
            "\u001b[0mSuccessfully installed biomart-0.9.2 gseapy-1.0.4 hdmedians-0.14.2 jedi-0.18.2 jupyter-1.0.0 lockfile-0.12.2 matplotlib-3.6.2 pandas-1.5.2 qmplot-0.3.2 qtconsole-5.4.3 qtpy-2.3.1 scikit-bio-0.5.8 scikit-learn-1.2.0 seaborn-0.12.1\n"
          ]
        },
        {
          "output_type": "display_data",
          "data": {
            "application/vnd.colab-display-data+json": {
              "pip_warning": {
                "packages": [
                  "matplotlib",
                  "mpl_toolkits",
                  "pandas"
                ]
              }
            }
          },
          "metadata": {}
        }
      ]
    },
    {
      "cell_type": "markdown",
      "source": [
        "[FASTA 포맷]\n",
        "텍스트 기반 포맷으로 염기서열 또는 단백질 서열을 나타내기위한 포맷\n",
        "\">\" 기호로 시작되는 header와 header의 다음 줄 부터 이어지는 서열이 있음\n",
        "서열 부분은 70-80개의 문자로 이루어져 있으며, Multi-FASTA(FASTA파일에 2개 이상의 header존재), 단일 FASTA가 있음\n",
        "\n",
        "\n",
        "[FASTQ]\n",
        "텍스트 기반 포맷으로 염기서열과 염기서열에 해당하는 퀄리티 점수를 포함한 파일 포맷\n",
        "총 4줄로 구성된 하나의 Read가 있음\n",
        "Read란,시퀀서가 샘플의 서열을 한번에 읽은 길이 \n",
        "FASTQ파일 내부에는 수백만, 수천만개의 리드가 있음. \n",
        "\n",
        "첫번째 줄: \"@\"문자로 시작하는 header로 염기서열이 읽힌 시퀀싱에 대한 정보를 담고 있음\n",
        "두번째 줄: 시퀀서가 읽음 염기서열\n",
        "세번째 줄: 구분 문자로 \"+\"기호\n",
        "네번째 줄: 시퀀서가 읽은 염기서열의 품질정보가 들어가 있음 \n",
        "\n",
        "퀄리티 점수를 하나의 문자로 표현하기 위한 Phred quality score 체계로써, \n",
        "ASCII문자인 코딩체계에 맞추어 숫자를 알파벳으로 표현함\n",
        "\n",
        "* 일반적으로 많이 사용하는 \"일루미나 시퀀서\"는 퀄리티 문자에의 ASCII값에서 -33한 점수로 표현됨\n",
        "이의 Phred quality score식은 \n",
        "Q = -10log10P\n",
        "Q = -10(\\ log_10)P\n",
        "\n",
        "example: 101pb(base pair)"
      ],
      "metadata": {
        "id": "PYfKfwCae-xU"
      }
    },
    {
      "cell_type": "markdown",
      "source": [
        "[Bed(Browser Extensible Data]\n",
        "유전체를 구간별로 나누어 구간의 특징을 주석으로 표기할 수 있는 파일 형식으로 구간의 길이를 나타내는 데 효과적\n",
        "각 항목들은 탭으로 나뉜 텍스트 파일\n",
        "\n",
        "- 파일형식\n",
        "필수 3개(chrom, chromStart, chromEnd)의 열이 있고 추가적으로 9개 열까지 들어갈 수 있다\n",
        "\n",
        " -- chrom 염색체 (ex.chr5)\n",
        "\n",
        " -- chromStart 구간이 시작되는 지점. 시작점 0 (ex. 55220083)\n",
        "\n",
        " -- chromEnd 구간이 끝나는 지점(ex.55220357)\n",
        "\n",
        "\n",
        "[BED 파일]\n",
        "\n",
        "![image.png](data:image/png;base64,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)\n",
        "\n",
        "BED파일에서  세 번째 열인 chromEnd에서 두번째 열인 chromStart를 빼면 된다. \n",
        "\n",
        "Gene1구간은 200-100으로 100bp(base pair)\n",
        "\n",
        "Gen2구간은 450-300으로 150bp로 총 구간은 250bp이다. "
      ],
      "metadata": {
        "id": "jMnwdJchzg_w"
      }
    },
    {
      "cell_type": "code",
      "source": [],
      "metadata": {
        "id": "Hf4Z7b3Fzkmf"
      },
      "execution_count": null,
      "outputs": []
    }
  ]
}