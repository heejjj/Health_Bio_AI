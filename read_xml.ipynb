{
  "nbformat": 4,
  "nbformat_minor": 0,
  "metadata": {
    "colab": {
      "provenance": [],
      "authorship_tag": "ABX9TyOBb734PGaKslLpzAlB1Vvo",
      "include_colab_link": true
    },
    "kernelspec": {
      "name": "python3",
      "display_name": "Python 3"
    },
    "language_info": {
      "name": "python"
    }
  },
  "cells": [
    {
      "cell_type": "markdown",
      "metadata": {
        "id": "view-in-github",
        "colab_type": "text"
      },
      "source": [
        "<a href=\"https://colab.research.google.com/github/heejjj/Health_Bio_AI/blob/bio_colab/read_xml.ipynb\" target=\"_parent\"><img src=\"https://colab.research.google.com/assets/colab-badge.svg\" alt=\"Open In Colab\"/></a>"
      ]
    },
    {
      "cell_type": "code",
      "execution_count": 4,
      "metadata": {
        "colab": {
          "base_uri": "https://localhost:8080/"
        },
        "id": "rKRU_p4uNafI",
        "outputId": "8c6fb4de-1978-43fb-9682-86b133b1eb33"
      },
      "outputs": [
        {
          "output_type": "stream",
          "name": "stdout",
          "text": [
            "Looking in indexes: https://pypi.org/simple, https://us-python.pkg.dev/colab-wheels/public/simple/\n",
            "Requirement already satisfied: pandas_read_xml in /usr/local/lib/python3.10/dist-packages (0.3.1)\n",
            "Requirement already satisfied: requests in /usr/local/lib/python3.10/dist-packages (from pandas_read_xml) (2.27.1)\n",
            "Requirement already satisfied: zipfile36 in /usr/local/lib/python3.10/dist-packages (from pandas_read_xml) (0.1.3)\n",
            "Requirement already satisfied: urllib3>=1.26.3 in /usr/local/lib/python3.10/dist-packages (from pandas_read_xml) (1.26.15)\n",
            "Requirement already satisfied: xmltodict in /usr/local/lib/python3.10/dist-packages (from pandas_read_xml) (0.13.0)\n",
            "Requirement already satisfied: pandas in /usr/local/lib/python3.10/dist-packages (from pandas_read_xml) (1.5.3)\n",
            "Requirement already satisfied: distlib in /usr/local/lib/python3.10/dist-packages (from pandas_read_xml) (0.3.6)\n",
            "Requirement already satisfied: pyarrow in /usr/local/lib/python3.10/dist-packages (from pandas_read_xml) (9.0.0)\n",
            "Requirement already satisfied: pytz>=2020.1 in /usr/local/lib/python3.10/dist-packages (from pandas->pandas_read_xml) (2022.7.1)\n",
            "Requirement already satisfied: numpy>=1.21.0 in /usr/local/lib/python3.10/dist-packages (from pandas->pandas_read_xml) (1.22.4)\n",
            "Requirement already satisfied: python-dateutil>=2.8.1 in /usr/local/lib/python3.10/dist-packages (from pandas->pandas_read_xml) (2.8.2)\n",
            "Requirement already satisfied: idna<4,>=2.5 in /usr/local/lib/python3.10/dist-packages (from requests->pandas_read_xml) (3.4)\n",
            "Requirement already satisfied: certifi>=2017.4.17 in /usr/local/lib/python3.10/dist-packages (from requests->pandas_read_xml) (2022.12.7)\n",
            "Requirement already satisfied: charset-normalizer~=2.0.0 in /usr/local/lib/python3.10/dist-packages (from requests->pandas_read_xml) (2.0.12)\n",
            "Requirement already satisfied: six>=1.5 in /usr/local/lib/python3.10/dist-packages (from python-dateutil>=2.8.1->pandas->pandas_read_xml) (1.16.0)\n"
          ]
        }
      ],
      "source": [
        "!pip install pandas_read_xml"
      ]
    },
    {
      "cell_type": "code",
      "source": [
        "import pandas_read_xml as pdx\n",
        "from pandas_read_xml import flatten, fully_flatten, auto_separate_tables"
      ],
      "metadata": {
        "id": "70aZzrkmOEq2"
      },
      "execution_count": 3,
      "outputs": []
    },
    {
      "cell_type": "code",
      "source": [
        "df = pdx.read_xml('export_cda.xml', *)\n",
        " \n",
        "df"
      ],
      "metadata": {
        "colab": {
          "base_uri": "https://localhost:8080/",
          "height": 134
        },
        "id": "eG9yGfkjOI5t",
        "outputId": "3d5d0f4e-d7f3-4f0c-e329-bcc8a3853c84"
      },
      "execution_count": 14,
      "outputs": [
        {
          "output_type": "error",
          "ename": "SyntaxError",
          "evalue": "ignored",
          "traceback": [
            "\u001b[0;36m  File \u001b[0;32m\"<ipython-input-14-5f6fc1304d68>\"\u001b[0;36m, line \u001b[0;32m1\u001b[0m\n\u001b[0;31m    df = pdx.read_xml('export_cda.xml', *)\u001b[0m\n\u001b[0m                      ^\u001b[0m\n\u001b[0;31mSyntaxError\u001b[0m\u001b[0;31m:\u001b[0m iterable argument unpacking follows keyword argument unpacking\n"
          ]
        }
      ]
    },
    {
      "cell_type": "code",
      "source": [],
      "metadata": {
        "id": "PdaAcfG6PIup"
      },
      "execution_count": null,
      "outputs": []
    },
    {
      "cell_type": "code",
      "source": [
        "! python3 apple_watch_converter.py [export_cda.xml] [Export file.csv]"
      ],
      "metadata": {
        "colab": {
          "base_uri": "https://localhost:8080/"
        },
        "id": "NwABP139PHQ-",
        "outputId": "5fdee08b-04ad-421b-9562-60c6594084b1"
      },
      "execution_count": 10,
      "outputs": [
        {
          "output_type": "stream",
          "name": "stdout",
          "text": [
            "/content/apple_watch_converter.py:44: SyntaxWarning: \"is not\" with a literal. Did you mean \"!=\"?\n",
            "  if char is not '\"':  # Collect all characters until the closing quotation mark\n",
            "/content/apple_watch_converter.py:88: SyntaxWarning: \"is not\" with a literal. Did you mean \"!=\"?\n",
            "  if char is not '\"':  # Collect all characters until the closing quotation mark\n",
            "\n",
            "ERROR: Specified file [export_cda.xml] could not be opened.\n",
            "Exiting.\n",
            "\n",
            "\n"
          ]
        }
      ]
    },
    {
      "cell_type": "code",
      "source": [
        "import sys\n",
        "\n",
        "def main():\n",
        "\n",
        "  # Check if correct number of input argments were given, exit if not\n",
        "  if len(sys.argv) < 3:\n",
        "    exit(f\"\\nERROR: File names not specified. Usage: {sys.argv[0]} [input_file.xml] [output_file.csv]\\nExiting.\\n\\n\")\n",
        "\n",
        "  keys = ['Record type', 'startDate', 'value', 'unit']\n",
        "\n",
        "  # Open data file\n",
        "  try:\n",
        "    input_data_file = open(sys.argv[1], \"r+\")\n",
        "  except:\n",
        "    exit(f\"\\nERROR: Specified file {sys.argv[1]} could not be opened.\\nExiting.\\n\\n\")\n",
        "\n",
        "  extracted_data = []\n",
        "\n",
        "  # Go line-by-line through data file\n",
        "  for line in input_data_file:\n",
        "    if line.startswith(f' <Record type=\"') :\n",
        "\n",
        "      line_data = []\n",
        "      for key in keys:\n",
        "        key = key + '=\"'\n",
        "      \n",
        "        starting_ind = line.find(key) + len(key)\n",
        "\n",
        "        value = \"\"\n",
        "        for char in line[starting_ind:]:\n",
        "          if char is not '\"':  # Collect all characters until the closing quotation mark\n",
        "            value = value + char\n",
        "          else:  # When the closing quotation mark is encountered, exit loop\n",
        "             break\n",
        "\n",
        "        # Keep record type, time stamp, data value, and unit together\n",
        "        line_data.append(value)\n",
        "\n",
        "      # Append record to already extracted data\n",
        "      extracted_data.append(line_data)\n",
        "\n",
        "      if line_data[0] == \"HKQuantityTypeIdentifierHeartRateVariabilitySDNN\":\n",
        "        extracted_data = extract_InstantaneousBeatsPerMinute_list(input_data_file, extracted_data, line_data[1])\n",
        "\n",
        "  # Open output file and write CSV data\n",
        "  output_file = open(sys.argv[2], \"w\")\n",
        "\n",
        "\n",
        "  output_file.write(f\"RecordType, DateTime, Value, Unit,\\n\")\n",
        "  for element in extracted_data:\n",
        "    output_file.write(f\"{element[0]}, {element[1]}, {element[2]}, {element[3]}\\n\")\n",
        "\n",
        "  output_file.close()\n",
        "  exit(f\"\\nOutput file {sys.argv[2]} saved.\\nExiting.\\n\\n\")\n",
        "\n",
        "\n",
        "# InstantaneousBeatsPerMinute must be treated separately\n",
        "def extract_InstantaneousBeatsPerMinute_list(input_data_file, extracted_data, date_time):\n",
        "  keys = ['time', 'bpm',]\n",
        "  date = date_time[0:10]\n",
        "\n",
        "  line = input_data_file.readline()\n",
        "  while not line.startswith('  </'):\n",
        "\n",
        "    if line.startswith('   <InstantaneousBeatsPerMinute'):\n",
        "\n",
        "      line_data = ['InstantaneousBeatsPerMinute', date, 'temp', 'bpm']\n",
        "      temp = []\n",
        "      for key in keys:\n",
        "        key = key + '=\"'\n",
        "      \n",
        "        starting_ind = line.find(key) + len(key)\n",
        "\n",
        "        value = \"\"\n",
        "        for char in line[starting_ind:]:\n",
        "          if char is not '\"':  # Collect all characters until the closing quotation mark\n",
        "            value = value + char\n",
        "          else:  # When the closing quotation mark is encountered, exit loop\n",
        "             break\n",
        "\n",
        "        # Keep record type, time stamp, data value, and unit together\n",
        "        temp.append(value)\n",
        "\n",
        "      line_data[1] = line_data[1] + ' ' + temp[0]\n",
        "      line_data[2] = temp[1]\n",
        "\n",
        "      # Append record to already extracted data\n",
        "      extracted_data.append(line_data)\n",
        "\n",
        "    line = input_data_file.readline()\n",
        "\n",
        "  return extracted_data\n",
        "\n",
        "# Run program\n",
        "main()"
      ],
      "metadata": {
        "colab": {
          "base_uri": "https://localhost:8080/",
          "height": 473
        },
        "id": "u1IFRkHLNnXk",
        "outputId": "6abaf523-d15f-4ce2-ef57-732e7ebaf4c7"
      },
      "execution_count": 11,
      "outputs": [
        {
          "output_type": "stream",
          "name": "stderr",
          "text": [
            "<>:31: SyntaxWarning: \"is not\" with a literal. Did you mean \"!=\"?\n",
            "<>:76: SyntaxWarning: \"is not\" with a literal. Did you mean \"!=\"?\n",
            "<>:31: SyntaxWarning: \"is not\" with a literal. Did you mean \"!=\"?\n",
            "<>:76: SyntaxWarning: \"is not\" with a literal. Did you mean \"!=\"?\n",
            "<ipython-input-11-08d02c9a3f1d>:31: SyntaxWarning: \"is not\" with a literal. Did you mean \"!=\"?\n",
            "  if char is not '\"':  # Collect all characters until the closing quotation mark\n",
            "<ipython-input-11-08d02c9a3f1d>:76: SyntaxWarning: \"is not\" with a literal. Did you mean \"!=\"?\n",
            "  if char is not '\"':  # Collect all characters until the closing quotation mark\n"
          ]
        },
        {
          "output_type": "error",
          "ename": "UnboundLocalError",
          "evalue": "ignored",
          "traceback": [
            "\u001b[0;31m---------------------------------------------------------------------------\u001b[0m",
            "\u001b[0;31mUnboundLocalError\u001b[0m                         Traceback (most recent call last)",
            "\u001b[0;32m<ipython-input-11-08d02c9a3f1d>\u001b[0m in \u001b[0;36m<cell line: 95>\u001b[0;34m()\u001b[0m\n\u001b[1;32m     93\u001b[0m \u001b[0;34m\u001b[0m\u001b[0m\n\u001b[1;32m     94\u001b[0m \u001b[0;31m# Run program\u001b[0m\u001b[0;34m\u001b[0m\u001b[0;34m\u001b[0m\u001b[0m\n\u001b[0;32m---> 95\u001b[0;31m \u001b[0mmain\u001b[0m\u001b[0;34m(\u001b[0m\u001b[0;34m)\u001b[0m\u001b[0;34m\u001b[0m\u001b[0;34m\u001b[0m\u001b[0m\n\u001b[0m",
            "\u001b[0;32m<ipython-input-11-08d02c9a3f1d>\u001b[0m in \u001b[0;36mmain\u001b[0;34m()\u001b[0m\n\u001b[1;32m     18\u001b[0m \u001b[0;34m\u001b[0m\u001b[0m\n\u001b[1;32m     19\u001b[0m   \u001b[0;31m# Go line-by-line through data file\u001b[0m\u001b[0;34m\u001b[0m\u001b[0;34m\u001b[0m\u001b[0m\n\u001b[0;32m---> 20\u001b[0;31m   \u001b[0;32mfor\u001b[0m \u001b[0mline\u001b[0m \u001b[0;32min\u001b[0m \u001b[0minput_data_file\u001b[0m\u001b[0;34m:\u001b[0m\u001b[0;34m\u001b[0m\u001b[0;34m\u001b[0m\u001b[0m\n\u001b[0m\u001b[1;32m     21\u001b[0m     \u001b[0;32mif\u001b[0m \u001b[0mline\u001b[0m\u001b[0;34m.\u001b[0m\u001b[0mstartswith\u001b[0m\u001b[0;34m(\u001b[0m\u001b[0;34mf' <Record type=\"'\u001b[0m\u001b[0;34m)\u001b[0m \u001b[0;34m:\u001b[0m\u001b[0;34m\u001b[0m\u001b[0;34m\u001b[0m\u001b[0m\n\u001b[1;32m     22\u001b[0m \u001b[0;34m\u001b[0m\u001b[0m\n",
            "\u001b[0;31mUnboundLocalError\u001b[0m: local variable 'input_data_file' referenced before assignment"
          ]
        }
      ]
    }
  ]
}