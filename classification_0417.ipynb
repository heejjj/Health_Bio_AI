{
  "nbformat": 4,
  "nbformat_minor": 0,
  "metadata": {
    "colab": {
      "provenance": [],
      "authorship_tag": "ABX9TyPJNTjkDrF+2LfQNqtL5lYB",
      "include_colab_link": true
    },
    "kernelspec": {
      "name": "python3",
      "display_name": "Python 3"
    },
    "language_info": {
      "name": "python"
    }
  },
  "cells": [
    {
      "cell_type": "markdown",
      "metadata": {
        "id": "view-in-github",
        "colab_type": "text"
      },
      "source": [
        "<a href=\"https://colab.research.google.com/github/heejjj/Health_Bio_AI/blob/bio_colab/classification_0417.ipynb\" target=\"_parent\"><img src=\"https://colab.research.google.com/assets/colab-badge.svg\" alt=\"Open In Colab\"/></a>"
      ]
    },
    {
      "cell_type": "code",
      "execution_count": 1,
      "metadata": {
        "colab": {
          "base_uri": "https://localhost:8080/"
        },
        "id": "lgHpk-eEy9P-",
        "outputId": "dc3972af-4a80-470c-d5fb-f4bd9da6f15a"
      },
      "outputs": [
        {
          "output_type": "stream",
          "name": "stdout",
          "text": [
            "1.000\n",
            "0.958\n"
          ]
        }
      ],
      "source": [
        "from sklearn.ensemble import GradientBoostingClassifier\n",
        "from sklearn.model_selection import train_test_split\n",
        "from sklearn.datasets import load_breast_cancer\n",
        "\n",
        "cancer = load_breast_cancer()\n",
        "\n",
        "x_train, x_test, y_train, y_test = train_test_split(cancer.data, cancer.target, \n",
        "\n",
        "                                                    stratify=cancer.target, random_state=0)\n",
        "\n",
        "\n",
        "gbc = GradientBoostingClassifier(random_state=0) # 기본값: max_depth=3, learning_rate=0.1\n",
        "\n",
        "gbc.fit(x_train, y_train)\n",
        "\n",
        "score_train = gbc.score(x_train, y_train) # train set 정확도\n",
        "\n",
        "print('{:.3f}'.format(score_train))\n",
        "\n",
        "score_test = gbc.score(x_test, y_test) # 일반화 정확도\n",
        "\n",
        "print('{:.3f}'.format(score_test))"
      ]
    },
    {
      "cell_type": "code",
      "source": [
        "gbc = GradientBoostingClassifier(random_state=0, max_depth=1)\n",
        "\n",
        "gbc.fit(x_train, y_train)\n",
        "\n",
        "\n",
        "\n",
        "score_train_pre = gbc.score(x_train, y_train) # train set 정확도\n",
        "\n",
        "print('{:.3f}'.format(score_train_pre))\n",
        "\n",
        "\n",
        "score_test_pre = gbc.score(x_test, y_test) # 일반화 정확도\n",
        "\n",
        "print('{:.3f}'.format(score_test_pre))\n"
      ],
      "metadata": {
        "colab": {
          "base_uri": "https://localhost:8080/"
        },
        "id": "BFAArXI-4Hg8",
        "outputId": "bf3c36d7-c166-4565-ec16-7a14aa0e367f"
      },
      "execution_count": 2,
      "outputs": [
        {
          "output_type": "stream",
          "name": "stdout",
          "text": [
            "0.995\n",
            "0.965\n"
          ]
        }
      ]
    },
    {
      "cell_type": "code",
      "source": [],
      "metadata": {
        "id": "iueD4WQb4J89"
      },
      "execution_count": null,
      "outputs": []
    },
    {
      "cell_type": "code",
      "source": [
        "import matplotlib.pyplot as plt\n",
        "import numpy as np\n",
        "\n",
        "\n",
        "score_set = np.round([score_train, score_test],3)\n",
        "\n",
        "max_depth_score_set = np.round([score_train.pre, score_test_pre], 3)\n",
        "\n",
        "learning_rate_score_set = np.round([score_train_lr, score_lr],3)\n",
        "\n",
        "index = np.aange(len(score_set))\n",
        "\n",
        "bar_width = 0.35\n",
        "bottom = 0.8\n",
        "\n",
        "list_set = [max_depth_score_set, learning_rate_score_set]\n",
        "line_set = ['--', ':']\n",
        "names = ['train', 'test']\n",
        "\n",
        "for i, line_set, name in zip(index, line_set, names):\n",
        "  plt.hlines(score_set[i], xmin = 0-bar_width,\n",
        "             x_max= index[-1]+2*bar_width.\n",
        "             linestyle=  line_set, label = 'default {}'.format(name))\n",
        "  plt.text(0-bar_width, score_set[i]+0.005, str(score_set[i]))\n",
        "\n",
        "  plt.bar(index, max_depth_score_set, width=bar_width, label ='adf max_depth')\n",
        "  plt.bar(index+bar_width, learning_rate_score_set, width=bar_width, label = )"
      ],
      "metadata": {
        "id": "i9RCJclB0nxE"
      },
      "execution_count": null,
      "outputs": []
    },
    {
      "cell_type": "code",
      "source": [
        "#트리는 -> 구조-> 함수 \n",
        "#함수 최적화 방법-> 미분 -> 미분으로 따라간걸 minimizing \n",
        "#실수(numerical vector)가 아니기  때문에 -> tayler expansion \n",
        "\n",
        "\n",
        "\n",
        "#gradient tree boosting \n",
        "#값이 아니라 함수 이기 때문에, tayler expansion을 이용해서 \n",
        "#손실함수의 1차 함수 + 2차 함수에 헤당하는 계수를 더해서 + regulation \n",
        "\n",
        "\n",
        "#함수와 함수간의 유클리드는 가능 "
      ],
      "metadata": {
        "id": "pthatD6FA8Fd"
      },
      "execution_count": null,
      "outputs": []
    }
  ]
}